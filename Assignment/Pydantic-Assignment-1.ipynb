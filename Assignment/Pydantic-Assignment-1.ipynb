{
 "cells": [
  {
   "cell_type": "markdown",
   "id": "93d06980",
   "metadata": {},
   "source": [
    "### **Pydantic**\n",
    "#### ***Assignment-1***\n",
    "\n",
    "Create a simple assistant that uses any LLM and should be Pydantic, When we ask about any product, It should give you two information. `\"Product Name\"` and `\"Prodcut Details\"` along with tentative price(integer) in `\"USD\"`. Use Both `\"Chat Prompt Template\"` and `\"Prompt Teamplate\"`."
   ]
  },
  {
   "cell_type": "code",
   "execution_count": 1,
   "id": "297def72",
   "metadata": {},
   "outputs": [],
   "source": [
    "from langchain_google_genai import ChatGoogleGenerativeAI\n",
    "from langchain_core.prompts import ChatPromptTemplate, PromptTemplate\n",
    "from langchain_core.output_parsers import PydanticOutputParser, StrOutputParser\n",
    "from pydantic import BaseModel, Field "
   ]
  },
  {
   "cell_type": "code",
   "execution_count": 2,
   "id": "4305c150",
   "metadata": {},
   "outputs": [
    {
     "name": "stdout",
     "output_type": "stream",
     "text": [
      "Hi there! How can I help you today?\n"
     ]
    }
   ],
   "source": [
    "model= ChatGoogleGenerativeAI(model=\"gemini-1.5-flash\")\n",
    "response= model.invoke(\"Hi\")\n",
    "print(response.content)"
   ]
  },
  {
   "cell_type": "code",
   "execution_count": 3,
   "id": "89fec980",
   "metadata": {},
   "outputs": [],
   "source": [
    "class Product(BaseModel):\n",
    "    product_name: str = Field(description=\"Product Name\")\n",
    "    product_details: str = Field(description=\"Prodcut's detail\")"
   ]
  },
  {
   "cell_type": "code",
   "execution_count": 4,
   "id": "d6d33883",
   "metadata": {},
   "outputs": [],
   "source": [
    "parser= PydanticOutputParser(pydantic_object=Product)"
   ]
  },
  {
   "cell_type": "code",
   "execution_count": 5,
   "id": "d16affb0",
   "metadata": {},
   "outputs": [],
   "source": [
    "output_parser= parser.get_format_instructions()"
   ]
  },
  {
   "cell_type": "code",
   "execution_count": 32,
   "id": "d967a9bc",
   "metadata": {},
   "outputs": [
    {
     "data": {
      "text/plain": [
       "'The output should be formatted as a JSON instance that conforms to the JSON schema below.\\n\\nAs an example, for the schema {\"properties\": {\"foo\": {\"title\": \"Foo\", \"description\": \"a list of strings\", \"type\": \"array\", \"items\": {\"type\": \"string\"}}}, \"required\": [\"foo\"]}\\nthe object {\"foo\": [\"bar\", \"baz\"]} is a well-formatted instance of the schema. The object {\"properties\": {\"foo\": [\"bar\", \"baz\"]}} is not well-formatted.\\n\\nHere is the output schema:\\n```\\n{\"properties\": {\"product_name\": {\"description\": \"Product Name\", \"title\": \"Product Name\", \"type\": \"string\"}, \"product_details\": {\"description\": \"Prodcut\\'s detail\", \"title\": \"Product Details\", \"type\": \"string\"}}, \"required\": [\"product_name\", \"product_details\"]}\\n```'"
      ]
     },
     "execution_count": 32,
     "metadata": {},
     "output_type": "execute_result"
    }
   ],
   "source": [
    "output_parser"
   ]
  },
  {
   "cell_type": "code",
   "execution_count": 6,
   "id": "6f51fca9",
   "metadata": {},
   "outputs": [
    {
     "name": "stdout",
     "output_type": "stream",
     "text": [
      "product_name='Samsung Mobile' product_details='This refers to a wide range of Samsung mobile phones.  To give you a more accurate price, please specify the model (e.g., Galaxy S23, Galaxy A54, Galaxy Z Fold4). Prices vary greatly depending on the model, storage capacity, and retailer.  Tentative prices range from around $200 for budget models to over $1000 for flagship devices.'\n"
     ]
    }
   ],
   "source": [
    "prompt= PromptTemplate(\n",
    "    template=\"\"\"You are a smart AI assistant, {format_instructions}\\n Based on user's input provide details along with tentative price in USD\n",
    "    \n",
    "    user_input {question}\"\"\",\n",
    "    input_variables=[\"question\"],\n",
    "    partial_variables={\"format_instructions\": parser.get_format_instructions()}\n",
    ")\n",
    "\n",
    "chain= prompt | model | parser\n",
    "response= chain.invoke({\"question\": \"Samsung Mobile\"})\n",
    "print(response)"
   ]
  },
  {
   "cell_type": "code",
   "execution_count": 11,
   "id": "415b1984",
   "metadata": {},
   "outputs": [],
   "source": [
    "response= chain.invoke({\"question\": \"iPhone Mobile\"})"
   ]
  },
  {
   "cell_type": "code",
   "execution_count": 14,
   "id": "7dbc3fb6",
   "metadata": {},
   "outputs": [
    {
     "name": "stdout",
     "output_type": "stream",
     "text": [
      "product_name='iPhone Mobile' product_details=\"Apple iPhones are a popular series of smartphones known for their sleek design, powerful performance, and high-quality cameras.  Specific details depend on the model (e.g., iPhone 14, iPhone 13, iPhone SE). Features often include a large, vibrant display, advanced processors, long battery life, and access to a vast app ecosystem.  They typically run on Apple's iOS operating system.\"\n"
     ]
    }
   ],
   "source": [
    "print(response)"
   ]
  },
  {
   "cell_type": "code",
   "execution_count": null,
   "id": "d728af45",
   "metadata": {},
   "outputs": [
    {
     "name": "stdout",
     "output_type": "stream",
     "text": [
      "```json\n",
      "{\n",
      "  \"product_name\": \"Samsung Galaxy S23 Ultra\",\n",
      "  \"product_details\": \"The Samsung Galaxy S23 Ultra boasts a stunning 6.8-inch Dynamic AMOLED 2X display with a 120Hz adaptive refresh rate.  It's powered by a Snapdragon 8 Gen 2 processor and offers a versatile camera system, including a 200MP main sensor, a 12MP ultrawide lens, and two 10MP telephoto lenses (one with 3x optical zoom and one with 10x optical zoom).  It also features a built-in S Pen for note-taking and drawing, and a long-lasting battery with fast charging capabilities. Available in various colors and storage options.\"\n",
      "}\n",
      "```\n"
     ]
    }
   ],
   "source": [
    "prompt= ChatPromptTemplate(\n",
    "    [\n",
    "        (\"ai\", \"You are a smart assistant, {format_instructions}\\nBased on user's input provide details along with tentative price in USD\\n user_input {question}\"),\n",
    "        (\"human\", \"{question}\"),\n",
    "    ]\n",
    ")\n",
    "\n",
    "chain= prompt | model\n",
    "response= chain.invoke({\n",
    "    \"format_instructions\": parser.get_format_instructions(),\n",
    "    \"question\": \"Samsung Mobile\"\n",
    "    }\n",
    ")\n",
    "print(response.content)"
   ]
  },
  {
   "cell_type": "code",
   "execution_count": 16,
   "id": "8181b15b",
   "metadata": {},
   "outputs": [
    {
     "name": "stdout",
     "output_type": "stream",
     "text": [
      "```json\n",
      "{\n",
      "  \"product_name\": \"iPhone 14 Pro Max\",\n",
      "  \"product_details\": \"The iPhone 14 Pro Max boasts a stunning 6.7-inch Super Retina XDR display with ProMotion technology for smooth scrolling and a responsive touch.  It's powered by the A16 Bionic chip, delivering exceptional performance and efficiency.  The advanced camera system features a 48MP Main camera, a 12MP Ultra Wide camera, and a 12MP Telephoto camera, allowing you to capture breathtaking photos and videos.  Other features include a durable Ceramic Shield front cover, long battery life, and Emergency SOS via satellite.\"\n",
      "}\n",
      "```\n"
     ]
    }
   ],
   "source": [
    "response= chain.invoke({\n",
    "    \"format_instructions\": parser.get_format_instructions(),\n",
    "    \"question\": \"iPhone Mobile\"\n",
    "    }\n",
    ")\n",
    "print(response.content)"
   ]
  }
 ],
 "metadata": {
  "kernelspec": {
   "display_name": "Python 3",
   "language": "python",
   "name": "python3"
  },
  "language_info": {
   "codemirror_mode": {
    "name": "ipython",
    "version": 3
   },
   "file_extension": ".py",
   "mimetype": "text/x-python",
   "name": "python",
   "nbconvert_exporter": "python",
   "pygments_lexer": "ipython3",
   "version": "3.13.2"
  }
 },
 "nbformat": 4,
 "nbformat_minor": 5
}
