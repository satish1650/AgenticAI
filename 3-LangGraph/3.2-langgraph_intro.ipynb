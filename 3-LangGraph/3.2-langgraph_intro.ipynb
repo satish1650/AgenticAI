{
 "cells": [
  {
   "cell_type": "markdown",
   "id": "af938130",
   "metadata": {},
   "source": [
    "### LangGraph\n",
    "**LangGraph** is built for developers who want to build powerful, adaptable AI agents.<br>\n",
    "    -   **Reliability and controllability.** Steer agent actions with moderation checks and human-in-the-loop approvals. LangGraph persists context for long-running workflows, keeping your agents on course.<br>\n",
    "    -   **Low-level and extensible.** Build custom agents with fully descriptive, low-level primitives free from rigid abstractions that limit customization. Design scalable multi-agent systems, with each agent serving a specific role tailored to your use case.<br>\n",
    "    -   **First-class streaming support.** With token-by-token streaming and streaming of intermediate steps, LangGraph gives users clear visibility into agent reasoning and actions as they unfold in real time.\n",
    "\n",
    "https://langchain-ai.github.io/langgraph/concepts/why-langgraph/"
   ]
  },
  {
   "cell_type": "code",
   "execution_count": 1,
   "id": "5314c7ac",
   "metadata": {},
   "outputs": [],
   "source": [
    "def function1(input1):\n",
    "    return input1+ \" from first function\""
   ]
  },
  {
   "cell_type": "code",
   "execution_count": 2,
   "id": "d7e9d8a9",
   "metadata": {},
   "outputs": [],
   "source": [
    "def function2(input2):\n",
    "    return input2+ \" Kumar Tiwari from second function\""
   ]
  },
  {
   "cell_type": "code",
   "execution_count": 3,
   "id": "f3c095ac",
   "metadata": {},
   "outputs": [],
   "source": [
    "def function3(input3):\n",
    "    pass"
   ]
  },
  {
   "cell_type": "code",
   "execution_count": 4,
   "id": "82ddad9a",
   "metadata": {},
   "outputs": [
    {
     "data": {
      "text/plain": [
       "'Satish from first function'"
      ]
     },
     "execution_count": 4,
     "metadata": {},
     "output_type": "execute_result"
    }
   ],
   "source": [
    "function1(\"Satish\")"
   ]
  },
  {
   "cell_type": "code",
   "execution_count": 7,
   "id": "50223408",
   "metadata": {},
   "outputs": [
    {
     "data": {
      "text/plain": [
       "'Satish Kumar Tiwari from second function'"
      ]
     },
     "execution_count": 7,
     "metadata": {},
     "output_type": "execute_result"
    }
   ],
   "source": [
    "function2(\"Satish\")"
   ]
  },
  {
   "cell_type": "code",
   "execution_count": 5,
   "id": "cccf0fc1",
   "metadata": {},
   "outputs": [
    {
     "data": {
      "text/plain": [
       "'Satish from first function Kumar Tiwari from second function'"
      ]
     },
     "execution_count": 5,
     "metadata": {},
     "output_type": "execute_result"
    }
   ],
   "source": [
    "function2(function1(\"Satish\"))"
   ]
  },
  {
   "cell_type": "code",
   "execution_count": 8,
   "id": "c96b674a",
   "metadata": {},
   "outputs": [],
   "source": [
    "from langgraph.graph import Graph"
   ]
  },
  {
   "cell_type": "code",
   "execution_count": 11,
   "id": "789f23a4",
   "metadata": {},
   "outputs": [
    {
     "data": {
      "text/plain": [
       "<langgraph.graph.graph.Graph at 0x1b1addbe990>"
      ]
     },
     "execution_count": 11,
     "metadata": {},
     "output_type": "execute_result"
    }
   ],
   "source": [
    "Graph()"
   ]
  },
  {
   "cell_type": "code",
   "execution_count": 25,
   "id": "686f2b3a",
   "metadata": {},
   "outputs": [],
   "source": [
    "workflow= Graph()"
   ]
  },
  {
   "cell_type": "code",
   "execution_count": 26,
   "id": "6c156bf6",
   "metadata": {},
   "outputs": [
    {
     "data": {
      "text/plain": [
       "<langgraph.graph.graph.Graph at 0x1b1af5379d0>"
      ]
     },
     "execution_count": 26,
     "metadata": {},
     "output_type": "execute_result"
    }
   ],
   "source": [
    "workflow.add_node(\"fun1\", function1)"
   ]
  },
  {
   "cell_type": "code",
   "execution_count": 27,
   "id": "e93a10c0",
   "metadata": {},
   "outputs": [
    {
     "data": {
      "text/plain": [
       "<langgraph.graph.graph.Graph at 0x1b1af5379d0>"
      ]
     },
     "execution_count": 27,
     "metadata": {},
     "output_type": "execute_result"
    }
   ],
   "source": [
    "workflow.add_node(\"fun2\", function2)"
   ]
  },
  {
   "cell_type": "code",
   "execution_count": 28,
   "id": "1a273008",
   "metadata": {},
   "outputs": [
    {
     "data": {
      "text/plain": [
       "<langgraph.graph.graph.Graph at 0x1b1af5379d0>"
      ]
     },
     "execution_count": 28,
     "metadata": {},
     "output_type": "execute_result"
    }
   ],
   "source": [
    "workflow.add_edge(\"fun1\", \"fun2\")"
   ]
  },
  {
   "cell_type": "code",
   "execution_count": 29,
   "id": "554d6805",
   "metadata": {},
   "outputs": [
    {
     "data": {
      "text/plain": [
       "<langgraph.graph.graph.Graph at 0x1b1af5379d0>"
      ]
     },
     "execution_count": 29,
     "metadata": {},
     "output_type": "execute_result"
    }
   ],
   "source": [
    "workflow.set_entry_point(\"fun1\")"
   ]
  },
  {
   "cell_type": "code",
   "execution_count": 30,
   "id": "f8a13cd9",
   "metadata": {},
   "outputs": [
    {
     "data": {
      "text/plain": [
       "<langgraph.graph.graph.Graph at 0x1b1af5379d0>"
      ]
     },
     "execution_count": 30,
     "metadata": {},
     "output_type": "execute_result"
    }
   ],
   "source": [
    "workflow.set_finish_point(\"fun2\")"
   ]
  },
  {
   "cell_type": "code",
   "execution_count": 31,
   "id": "816fb8d4",
   "metadata": {},
   "outputs": [
    {
     "data": {
      "image/png": "[encoded data removed]",
      "text/plain": [
       "<langgraph.graph.graph.CompiledGraph object at 0x000001B1AF537D90>"
      ]
     },
     "execution_count": 31,
     "metadata": {},
     "output_type": "execute_result"
    }
   ],
   "source": [
    "workflow.compile()"
   ]
  },
  {
   "cell_type": "code",
   "execution_count": 32,
   "id": "0903e4c4",
   "metadata": {},
   "outputs": [],
   "source": [
    "app= workflow.compile()"
   ]
  },
  {
   "cell_type": "code",
   "execution_count": 33,
   "id": "79c0f03c",
   "metadata": {},
   "outputs": [
    {
     "data": {
      "text/plain": [
       "Graph(nodes={'fun1': Node(id='fun1', name='fun1', data=fun1(tags=None, recurse=True, explode_args=False, func_accepts_config=False, func_accepts={}), metadata=None), 'fun2': Node(id='fun2', name='fun2', data=fun2(tags=None, recurse=True, explode_args=False, func_accepts_config=False, func_accepts={}), metadata=None), '__start__': Node(id='__start__', name='__start__', data=None, metadata=None), '__end__': Node(id='__end__', name='__end__', data=None, metadata=None)}, edges=[Edge(source='__start__', target='fun1', data=None, conditional=False), Edge(source='fun1', target='fun2', data=None, conditional=False), Edge(source='fun2', target='__end__', data=None, conditional=False)])"
      ]
     },
     "execution_count": 33,
     "metadata": {},
     "output_type": "execute_result"
    }
   ],
   "source": [
    "app.get_graph()"
   ]
  },
  {
   "cell_type": "code",
   "execution_count": 38,
   "id": "900226dd",
   "metadata": {},
   "outputs": [],
   "source": [
    "from IPython.display import Image, display"
   ]
  },
  {
   "cell_type": "code",
   "execution_count": 41,
   "id": "99f37306",
   "metadata": {},
   "outputs": [
    {
     "data": {
      "image/png": "[encoded data removed]",
      "text/plain": [
       "<IPython.core.display.Image object>"
      ]
     },
     "metadata": {},
     "output_type": "display_data"
    }
   ],
   "source": [
    "display(Image(app.get_graph().draw_mermaid_png()))"
   ]
  },
  {
   "cell_type": "code",
   "execution_count": 42,
   "id": "c31f91e5",
   "metadata": {},
   "outputs": [
    {
     "data": {
      "text/plain": [
       "'Hi This is Satish from first function Kumar Tiwari from second function'"
      ]
     },
     "execution_count": 42,
     "metadata": {},
     "output_type": "execute_result"
    }
   ],
   "source": [
    "app.invoke(\"Hi This is Satish\")"
   ]
  },
  {
   "cell_type": "code",
   "execution_count": 43,
   "id": "23c16039",
   "metadata": {},
   "outputs": [
    {
     "name": "stdout",
     "output_type": "stream",
     "text": [
      "here is output from fun1\n",
      "_______\n",
      "hi this is rohit from first function\n",
      "\n",
      "\n",
      "here is output from fun2\n",
      "_______\n",
      "hi this is rohit from first function Kumar Tiwari from second function\n",
      "\n",
      "\n"
     ]
    }
   ],
   "source": [
    "for output in app.stream(\"hi this is rohit\"):\n",
    "    for key,value in output.items():\n",
    "        print(f\"here is output from {key}\")\n",
    "        print(\"_______\")\n",
    "        print(value)\n",
    "        print(\"\\n\")"
   ]
  },
  {
   "cell_type": "code",
   "execution_count": 46,
   "id": "846ae33f",
   "metadata": {},
   "outputs": [],
   "source": [
    "from langchain_google_genai import ChatGoogleGenerativeAI\n",
    "\n",
    "model= ChatGoogleGenerativeAI(model='gemini-1.5-flash')"
   ]
  },
  {
   "cell_type": "code",
   "execution_count": 50,
   "id": "8e4f6ff1",
   "metadata": {},
   "outputs": [
    {
     "data": {
      "text/plain": [
       "'Hi there! How can I help you today?'"
      ]
     },
     "execution_count": 50,
     "metadata": {},
     "output_type": "execute_result"
    }
   ],
   "source": [
    "model.invoke(\"Hi\").content"
   ]
  },
  {
   "cell_type": "code",
   "execution_count": 94,
   "id": "0621860d",
   "metadata": {},
   "outputs": [],
   "source": [
    "def llm(input):\n",
    "    from langchain_google_genai import ChatGoogleGenerativeAI\n",
    "    model= ChatGoogleGenerativeAI(model='gemini-1.5-flash')\n",
    "    output= model.invoke(input)\n",
    "    return output.content"
   ]
  },
  {
   "cell_type": "code",
   "execution_count": 96,
   "id": "fc0c784d",
   "metadata": {},
   "outputs": [
    {
     "data": {
      "text/plain": [
       "'Hi there! How can I help you today?'"
      ]
     },
     "execution_count": 96,
     "metadata": {},
     "output_type": "execute_result"
    }
   ],
   "source": [
    "llm(\"Hi\")"
   ]
  },
  {
   "cell_type": "code",
   "execution_count": 95,
   "id": "5c1eb74b",
   "metadata": {},
   "outputs": [],
   "source": [
    "def token_counter(input):\n",
    "    token= input.split()\n",
    "    token_number= len(token)\n",
    "    return f\"total token number in the generated answer is {token_number}\""
   ]
  },
  {
   "cell_type": "code",
   "execution_count": 97,
   "id": "5bcfab4a",
   "metadata": {},
   "outputs": [
    {
     "data": {
      "text/plain": [
       "'total token number in the generated answer is 8'"
      ]
     },
     "execution_count": 97,
     "metadata": {},
     "output_type": "execute_result"
    }
   ],
   "source": [
    "token_counter(llm(\"Hi\"))"
   ]
  },
  {
   "cell_type": "code",
   "execution_count": 98,
   "id": "db7ce874",
   "metadata": {},
   "outputs": [],
   "source": [
    "from langgraph.graph import Graph"
   ]
  },
  {
   "cell_type": "code",
   "execution_count": 99,
   "id": "9c240261",
   "metadata": {},
   "outputs": [],
   "source": [
    "workflow2= Graph()"
   ]
  },
  {
   "cell_type": "code",
   "execution_count": 100,
   "id": "0b474722",
   "metadata": {},
   "outputs": [
    {
     "data": {
      "text/plain": [
       "<langgraph.graph.graph.Graph at 0x1b1b58bbed0>"
      ]
     },
     "execution_count": 100,
     "metadata": {},
     "output_type": "execute_result"
    }
   ],
   "source": [
    "workflow2.add_node(\"My_LLM\", llm)"
   ]
  },
  {
   "cell_type": "code",
   "execution_count": 101,
   "id": "58ebd94b",
   "metadata": {},
   "outputs": [
    {
     "data": {
      "text/plain": [
       "<langgraph.graph.graph.Graph at 0x1b1b58bbed0>"
      ]
     },
     "execution_count": 101,
     "metadata": {},
     "output_type": "execute_result"
    }
   ],
   "source": [
    "workflow2.add_node(\"LLM_Output_Token_Counter\", token_counter)"
   ]
  },
  {
   "cell_type": "code",
   "execution_count": 102,
   "id": "8c8f503a",
   "metadata": {},
   "outputs": [
    {
     "data": {
      "text/plain": [
       "<langgraph.graph.graph.Graph at 0x1b1b58bbed0>"
      ]
     },
     "execution_count": 102,
     "metadata": {},
     "output_type": "execute_result"
    }
   ],
   "source": [
    "workflow2.add_edge(\"My_LLM\", \"LLM_Output_Token_Counter\")"
   ]
  },
  {
   "cell_type": "code",
   "execution_count": 103,
   "id": "7ac4b0c0",
   "metadata": {},
   "outputs": [
    {
     "data": {
      "text/plain": [
       "<langgraph.graph.graph.Graph at 0x1b1b58bbed0>"
      ]
     },
     "execution_count": 103,
     "metadata": {},
     "output_type": "execute_result"
    }
   ],
   "source": [
    "workflow2.set_entry_point(\"My_LLM\")"
   ]
  },
  {
   "cell_type": "code",
   "execution_count": 104,
   "id": "0e5a6dc2",
   "metadata": {},
   "outputs": [
    {
     "data": {
      "text/plain": [
       "<langgraph.graph.graph.Graph at 0x1b1b58bbed0>"
      ]
     },
     "execution_count": 104,
     "metadata": {},
     "output_type": "execute_result"
    }
   ],
   "source": [
    "workflow2.set_finish_point(\"LLM_Output_Token_Counter\")"
   ]
  },
  {
   "cell_type": "code",
   "execution_count": 72,
   "id": "69d3bb72",
   "metadata": {},
   "outputs": [
    {
     "data": {
      "image/png": "[encoded data removed]",
      "text/plain": [
       "<langgraph.graph.graph.CompiledGraph object at 0x000001B1B59D4E90>"
      ]
     },
     "execution_count": 72,
     "metadata": {},
     "output_type": "execute_result"
    }
   ],
   "source": [
    "workflow2.compile()"
   ]
  },
  {
   "cell_type": "code",
   "execution_count": 82,
   "id": "d993c45d",
   "metadata": {},
   "outputs": [],
   "source": [
    "from IPython.display import Image, display"
   ]
  },
  {
   "cell_type": "code",
   "execution_count": 107,
   "id": "d0f9017c",
   "metadata": {},
   "outputs": [],
   "source": [
    "app= workflow2.compile()"
   ]
  },
  {
   "cell_type": "code",
   "execution_count": 108,
   "id": "40bbbd35",
   "metadata": {},
   "outputs": [
    {
     "data": {
      "text/plain": [
       "Graph(nodes={'My_LLM': Node(id='My_LLM', name='My_LLM', data=My_LLM(tags=None, recurse=True, explode_args=False, func_accepts_config=False, func_accepts={}), metadata=None), 'LLM_Output_Token_Counter': Node(id='LLM_Output_Token_Counter', name='LLM_Output_Token_Counter', data=LLM_Output_Token_Counter(tags=None, recurse=True, explode_args=False, func_accepts_config=False, func_accepts={}), metadata=None), '__start__': Node(id='__start__', name='__start__', data=None, metadata=None), '__end__': Node(id='__end__', name='__end__', data=None, metadata=None)}, edges=[Edge(source='__start__', target='My_LLM', data=None, conditional=False), Edge(source='My_LLM', target='LLM_Output_Token_Counter', data=None, conditional=False), Edge(source='LLM_Output_Token_Counter', target='__end__', data=None, conditional=False)])"
      ]
     },
     "execution_count": 108,
     "metadata": {},
     "output_type": "execute_result"
    }
   ],
   "source": [
    "app.get_graph()"
   ]
  },
  {
   "cell_type": "code",
   "execution_count": 90,
   "id": "7563f4a9",
   "metadata": {},
   "outputs": [
    {
     "data": {
      "text/plain": [
       "b'\\x89PNG\\r\\n\\x1a\\n\\x00\\x00\\x00\\rIHDR\\x00\\x00\\x00\\xfb\\x00\\x00\\x01M\\x08\\x02\\x00\\x00\\x00I\\xf4\\x8e-\\x00\\x00\\x00\\x01sRGB\\x00\\xae\\xce\\x1c\\xe9\\x00\\x00 \\x00IDATx\\x9c\\xed\\xddyXTe\\xdf\\x07\\xf0{\\xf6\\x19f\\xd8\\xb7\\x19@\\x04\\x04QD6G\\xdc0YT44\\xb7\\xb2(\\xad4+\\xb4^__\\x97Js_*\\x97\\\\zr\\xa1\\xb4\\x9eJ{\\xa4RsC\\x14DM-\\xd0Q\\x90\\xd5\\x05Aeg\\xd8gg\\xe6\\xcc\\xbc\\x7f\\x9c\\x1e$\\x18\\x16\\x95\\x99\\x03\\xde\\xbf\\xcf\\xd5\\xe5\\xc5\\x9c\\xf5;\\xd3\\x973g\\x0e\\xe7\\x9c\\xa1\\x19\\x0c\\x06\\x04\\x006\\xe8T\\x07\\x00\\xc0\\xac\\xa0\\xf1\\x00/\\xd0x\\x80\\x17h<\\xc0\\x0b4\\x1e\\xe0\\x05\\x1a\\x0f\\xf0\\xc2\\xa4:@\\xcfUQ\\xa4V\\xc8t\\xcaF\\x82\\xd0\\x194*=\\xd5q:\\xc7\\xb1\\xa03\\x184\\x0b+\\x86\\x85\\x15K\\xe4\\xc1\\xa1:N\\x0fE\\x83\\xe3\\xf1\\xad\\xe4_k,\\xccQ\\x14\\xe5(\\xbc\\x06\\xf3i4da\\xc9\\xb4qb7\\xa9\\x08\\xaasu\\x8e\\xc3\\xa3\\xd7Ui\\x952\\x1dB\\xb4\\xfb\\xd9r\\xafA|O\\x7f\\xfe\\xc0P+\\xaas\\xf5,\\xd0\\xf8\\xc7n\\xfdQ\\x9f\\x9eT\\xdb/@\\xe0\\xe9\\xcf\\xf7\\xf2\\xe7S\\x1d\\xe7\\x99\\x18\\x0c\\xa8(GQ\\x98#\\xbf\\x9f%\\x1f\\xf1\\xa2C\\xc0hk\\xaa\\x13\\xf5\\x14\\xd0x\\x84\\x10\\xaax\\xa8>\\xfbc\\x85\\xd7`\\xc1\\xa8\\xc9\\xf6t\\x06\\x8d\\xea8\\xdd\\x89\\xd0\\x1a\\xae\\x9e\\xac~\\x90\\xaf\\x9c0[\\xe8\\xe4\\x0e\\xbb:\\xd0x\\x84r\\xffj\\xcc\\xbb\\xd6\\x183Wda\\xc9\\xa0:\\x8b\\xa9(e\\xc4\\xa9\\xfde\\xfe#\\xad\\xfd\\x86\\xe1\\xbe\\x93\\x83{\\xe3\\xefe\\xcaK\\xee*#f:Q\\x1d\\xc4\\x1cR\\x13\\xaa\\xfa\\x0e\\xe4\\xf7\\x0b\\xe8\\xdd;l\\xcf\\x08\\xeb\\xc6_;[+\\xab\\xd3E\\xbd\\x86E\\xddI)?W\\xda8\\xb2\\xc5\\xe3l\\xa9\\x0eB\\x19|\\x8f\\xc7\\x17f+\\xaa\\xcb4X\\xd5\\x1d!4\\xf6u\\xe7\\x8aG\\xea\\xa2\\\\\\x05\\xd5A(\\x83i\\xe3\\x1b\\xabuw$\\xb2\\x17\\xe7\\x88\\xa8\\x0eB\\x81I\\xef\\x88\\xf2\\xae5\\xca\\xeatT\\x07\\xa1\\x06\\xa6\\x8d\\xbfrR\\xea+\\xb6\\xa4:\\x05e|\\x83-\\xaf\\x9e\\xa8\\xa6:\\x055pl|\\xe5#\\x8d\\xbcA\\xe75\\x18\\xdf\\x0fp\\xdeA\\x82\\x86j\\xad\\xb4DCu\\x10\\n\\xe0\\xd8\\xf8\\xbc\\xb4\\x86\\xb0\\x97\\x1c\\xa9NA\\xb1\\xb0)\\x0e\\xb9\\x7f5R\\x9d\\x82\\x02\\xd85^\\xab\\xd1\\xdf\\xcd\\x90\\xb9xq\\xcd\\xb9\\xd2\\x84\\x84\\x845k\\xd6<\\xc5\\x8cc\\xc7\\x8e---5A\"\\xe4\\xea\\xcd\\xcb\\x974\\xea\\xb4\\xd8\\x1d\\xa9\\xc3\\xae\\xf1\\x859\\n/\\x7f\\x81\\x99W\\x9a\\x9b\\x9b\\xfb\\x14s\\x95\\x94\\x94\\xd4\\xd7\\xd7\\x9b \\xce\\xdf\\xbc\\xfc\\xf9E9\\xd8\\x1d\\xb4\\xc1\\xeex\\xfc\\xa5#\\xd2\\xbe\\x03\\xf9\\x1e~\\x16\\xa6Xxaaa||\\xbcD\"a0\\x18\\x01\\x01\\x01\\xb3g\\xcf\\x0e\\x0c\\x0c|\\xe7\\x9dwn\\xdd\\xbaENp\\xf8\\xf0aoo\\xef\\x84\\x84\\x84\\xcb\\x97/\\xe7\\xe4\\xe4p8\\x1c\\xb1X\\xfc\\xc1\\x07\\x1f\\xb8\\xb8\\xb8 \\x84\\x96.]\\xcaf\\xb3\\x9d\\x9d\\x9d\\x7f\\xfa\\xe9\\xa7\\xf7\\xde{\\xef\\x9bo\\xbe!\\xe7\\x8a\\x8c\\x8c\\xdc\\xb2eK\\xb7\\xa7-\\xcaU\\x16\\xdfU\\xbc0\\r\\xaf\\x1d<\\xec\\xb6\\xf1\\xe5E*\\x81\\x8dI\\xce\\x91njj\\x8a\\x8b\\x8bc\\xb3\\xd9\\xf1\\xf1\\xf1\\xff\\xfa\\xd7\\xbf\\x10B\\x8b\\x17/\\xd6h4\\x07\\x0e\\x1c\\xf0\\xf7\\xf7\\x8f\\x89\\x89\\x91H$\\xde\\xde\\xde7n\\xdc\\xd8\\xbaukpp\\xf0\\xb6m\\xdb\\xd6\\xad[WYY\\xb9j\\xd5*r\\t,\\x16+//\\xef\\xfe\\xfd\\xfb;v\\xec\\x989s\\xe6\\xce\\x9d;\\x11B\\xc7\\x8f\\x1f7E\\xdd\\x11B|+Fy\\x91\\xda\\x14K\\xee\\xc9\\xb0;?^\\xd1H\\xf0\\xadLr\\xfe\\xcc\\xc3\\x87\\x0fkkkccc\\xbd\\xbd\\xbd\\x11B\\x9b7o\\xce\\xc8\\xc8\\xd0\\xe9t\\x1c\\xce?\\xce\\xdf\\n\\n\\nJHH\\xf0\\xf0\\xf0`0\\x18\\x08!\\xb5Z\\xbdt\\xe9R\\xb9\\\\.\\x10\\x08\\x18\\x0c\\x86T*MHHh5\\x8b\\x89\\xf0\\xad\\x98\\xcaF\\xec\\x8e\\xca\\xe3\\xd5x\\x83\\x01\\xa9\\x14\\x04O`\\x92\\xc6\\xbb\\xbb\\xbb\\xdb\\xda\\xda\\xae^\\xbd:&&f\\xc8\\x90!\\x01\\x01\\x01b\\xb1\\xb8\\xedd\\x0c\\x06\\xa3\\xb8\\xb8x\\xdb\\xb6myyy\\n\\xc5\\xdf\\xbb\\xd1\\xb5\\xb5\\xb5\\x02\\x81\\x00!\\xe4\\xe9\\xe9i\\x9e\\xba\\x93\\xdbxEc/8\\xef\\xbf{a\\xb6W\\xa3Gl\\x8e\\xa9\\x9e2\\x87\\xc3\\xf9\\xf6\\xdbo\\xc3\\xc2\\xc2\\x0e\\x1d:4w\\xee\\xdci\\xd3\\xa6%%%\\xb5\\x9d,55u\\xe9\\xd2\\xa5\\x81\\x81\\x81\\x07\\x0e\\x1c\\x90H$\\xe4\\xaeK\\xcb\\x85\\x98(\\x9e\\x114\\xc4d\\xd3\\x10^\\x9f\\xe30k<\\x8d\\x81\\xe8\\x0c\\xa4V\\x98j\\xc3\\xe6\\xe1\\xe1\\xb1h\\xd1\\xa2S\\xa7Nm\\xdb\\xb6\\xcd\\xcb\\xcbk\\xe5\\xca\\x95w\\xef\\xdem5\\xcd\\xb1c\\xc7\\x82\\x83\\x83\\xe3\\xe2\\xe2\\xc8\\x9d\\x1f\\xb9\\\\n\\xa20\\x9dR\\xca\\x086\\x87\\x8e\\x9e\\xab\\xcb\\x01:\\x87W\\xe3\\xc9\\x9dW\\x13\\xbd\\x95\\x17\\x15\\x15\\x9d<y\\x12!\\xc4\\xe5r\\xc3\\xc3\\xc37o\\xdeL\\xa7\\xd3o\\xdf\\xbe\\xddj\\xb2\\x86\\x86\\x06G\\xc7\\xc7\\x87GRSSM\\x11\\xa6+\\x14\\x8d:\\x0b+\\xbcvkql\\xbc\\xc8\\x93g\\xa2\\x8fkuuu\\xeb\\xd6\\xad\\xdb\\xb9sgIIIaa\\xe1w\\xdf}\\xa7\\xd7\\xeb\\x03\\x02\\x02\\x10B}\\xfa\\xf4\\xc9\\xcb\\xcb\\x93H$uuu\\xfd\\xfb\\xf7\\xbfv\\xed\\xda\\xcd\\x9b7u:\\xdd\\xc1\\x83\\x07\\xc9\\xcf\\xaf\\x15\\x15\\x15m\\x17\\xe8\\xe1\\xe1\\x81\\x10JIIy\\xba\\xc3\\xf9\\x9dR6\\x12.\\x9e<S,\\xb9\\'\\xc3\\xae\\xf1N}8\\xf72M\\xb2#\\x11\\x12\\x12\\xb2b\\xc5\\x8a3g\\xceL\\x9d:u\\xe6\\xcc\\x99YYY\\xf1\\xf1\\xf1dk\\xa7O\\x9fn0\\x18\\x16,Xp\\xff\\xfe\\xfd\\x0f?\\xfc044t\\xd1\\xa2E#F\\x8c\\xa8\\xae\\xae^\\xbbv\\xad\\xaf\\xaf\\xef\\x82\\x05\\x0b\\xdan\\xec\\xdd\\xdc\\xdc&O\\x9e\\xbcw\\xef\\xde\\xdd\\xbbw\\x9b\"\\xf0\\xbdL\\x99S\\x1f\\xec\\xae\\x03\\xc4\\xee/Pj\\x85\\xfe\\xe0\\xe7\\x0f\\xe6m\\xf4\\xa2:\\x08\\xf5\\xbeYQ\\xf8\\xd6*\\x0f\\x0e\\x0f\\xaf\\xad\\x1e^\\xcf\\x16!\\xc4\\xe5\\xd3=\\x06\\t*\\x1f\\xe1x\\xda`K\\x15\\x0f\\xd4\\xfd\\x02\\x04\\xb8\\xd5\\x1d\\xbb\\xe3\\xf1\\xa4\\x01C-\\xff<U=m\\x81k{\\x13\\xcc\\x9f????\\xbf\\xedp\\x9dN\\x87\\x10b2\\x8d\\xbfh\\xa7N\\x9d\"\\x8f\\xa9w\\xbb\\xac\\xac\\xac\\x85\\x0b\\x17\\x1a\\x1d\\xa5\\xd3\\xe9\\xda\\xcb\\x83\\x10\\xbap\\xe1\\x02\\x8df\\xfcX\\xcc\\xd5S\\xd5#^t\\xe8\\xbe\\x8c\\xbd\\x06v{5\\xa4\\xe3\\xf1e\\xc1\\xe16\\xee\\xbe\\xc6\\xcf\\xae\\x91J\\xa5Z\\xad\\xd6\\xe8(\\x8dF\\xd3\\xde!s\\xf2\\xdc\\x18\\x13)++{\\x8a\\xb9\\xda\\x8b\\xf40_\\x99u\\xa5~\\xf2\\xbb&\\x0c\\xdcca\\xda\\xf8\\xea\\xb2\\xa6\\x8c\\x0bu\\xe3\\xdep\\xa6:\\x085\\xce\\x1d\\xac\\x14\\x8f\\xb5\\xb5\\x13\\xb2\\xa9\\x0eB\\x01\\xecv\\xe3H\\x0e.l7\\x1f\\xde\\xf9\\xc3UT\\x07\\xa1@\\xf2\\xa1J\\xf7\\x01\\x16x\\xd6\\x1d\\xdf\\xc6#\\x84\\x06\\x86Z\\xb1\\xb9t\\xdc.\\xf7\\xbc\\xf2{\\xb5\\x85%c\\x00\\xc6\\xd7\\xf8b\\xbaW\\xd3,\\xfbJ\\x83\\xac^7r\\x92=\\xd5A\\xcc\\xe1\\xea\\x89j\\x1bG\\xd6\\xa0\\x11X\\xdf\\x83\\x12\\xdfm<ip\\x985\\x9bK?\\xb5\\xbf\\xcc\\xd0\\x0bn\\x97\\xfd\\xf4\\xf4\\x04:\\xf9M\\x19\\x97\\xcf\\xc0\\xbc\\xee\\xb0\\x8d\\xff\\xdb\\x83\\\\\\xc5\\xd9\\x9f*B\\xa2l\\x87\\x8e\\xb3\\xa3:K\\xf7\\xbbv\\xae\\xf6\\xd6\\xa5\\xfa\\xf1\\xb3\\x84}\\x07\\x9a\\xe4\\xca\\xaf\\xde\\x05\\x1a\\xffX\\xda\\x99\\x9a\\x9c\\xab\\r\\x03\\x87Yy\\xf9\\x0bD\\x9ef\\xbd\\xf4\\xdb\\x14\\xca\\x0b\\xd5\\x859\\xf2\\x9c\\xbf\\x1a\\x83\\xc6\\xd8\\x0c\\x8b\\xb6\\xc3\\xed\\x1c\\xc9\\xf6@\\xe3\\xffA\\xab1d\\xffY_\\x94\\xad\\xa8\\xabj\\xf2\\xf4\\x17\\xd0\\x19\\x88o\\xc9\\xb4r`\\xe9\\x9az\\xc1N\\x0f\\x8bEo\\xa8\\xd1*d:\\x83\\x1e\\xdd\\xcf\\x92\\xdb\\t\\xd9^\\xfe\\x82\\xc1a\\xd6L\\x16\\x94\\xfd1h\\xbcqj\\x85\\xbe\\xfc\\x81Z\\xd1\\xa0U\\xca\\x08\\x83\\x01\\xa9d\\xddy\\x82\\xb1\\xc1`HLL\\x8c\\x89\\x89\\xe9\\xc6e\"\\x84x\\x96\\x0c\\x1a\\rYX2\\xf8\\xd6,\\x17O.\\xc7\\x02\\xf7\\x0fiFA\\xe3)@\\x10\\xc4\\xc8\\x91#\\xd3\\xd3\\xd3\\xa9\\x0e\\x82#\\xd8\\x0c\\x00\\xbc@\\xe3\\x01^\\xa0\\xf1\\x00/\\xd0x\\x80\\x17h<\\xc0\\x0b4\\x1e\\xe0\\x05\\x1a\\x0f\\xf0\\x02\\x8d\\x07x\\x81\\xc6\\x03\\xbc@\\xe3\\x01^\\xa0\\xf1\\x00/\\xd0x\\x80\\x17h<\\xc0\\x0b4\\x1e\\xe0\\x05\\x1a\\x0f\\xf0\\x02\\x8d\\x07x\\x81\\xc6\\x03\\xbc@\\xe3\\x01^\\xa0\\xf1\\x00/\\xd0x\\x80\\x17h<\\xc0\\x0b4\\x1e\\xe0\\x05\\x1a\\x0f\\xf0\\x02\\x8d\\xa7\\x00\\x8dF3\\xd1\\xf7\\xe7\\x80NA\\xe3)`0\\x18(\\xfc\\xaan\\xccA\\xe3\\x01^\\xa0\\xf1\\x00/\\xd0x\\x80\\x17h<\\xc0\\x0b4\\x1e\\xe0\\x05\\x1a\\x0f\\xf0\\x02\\x8d\\x07x\\x81\\xc6\\x03\\xbc@\\xe3\\x01^\\xa0\\xf1\\x00/\\xd0x\\x80\\x17h<\\xc0\\x0b4\\x1e\\xe0\\x05\\x1a\\x0f\\xf0\\x02\\x8d\\x07x\\x81o06\\xab\\xe0\\xe0`\\x1a\\xed\\x1f\\xdf\\x19o0\\x18222\\xa8K\\x84\\x1d\\xd8\\xc6\\x9b\\x95\\xab\\xab+\\xfd\\x9f\\\\\\\\\\\\\\xa8\\x0e\\x85\\x17h\\xbcY\\x05\\x07\\x07\\xeb\\xf5\\xfa\\xe6\\x87\\x04A\\x84\\x84\\x84P\\x9a\\x08;\\xd0x\\xb3\\x8a\\x8d\\x8d\\x15\\x89D\\xcd\\x0f]]]g\\xcd\\x9aEi\"\\xec@\\xe3\\xcd\\xca\\xcf\\xcf\\xaf\\xe5F=((\\xc8\\xd7\\xd7\\x97\\xd2D\\xd8\\x81\\xc6\\x9b[ll\\xacP(D\\x089;;\\xbf\\xf5\\xd6[T\\xc7\\xc1\\x0e4\\xde\\xdc\\xfc\\xfc\\xfc\\x02\\x03\\x03\\x11Bb\\xb1\\xd8\\xc7\\xc7\\x87\\xea8\\xd8\\xc1\\xf7\\xe8d\\xc5\\x03uME\\x93R\\xa63\\xff\\xaa\\xa5RibbbLL\\x8c\\x83\\x83\\x83\\xf9\\xd7na\\xc9\\xb4\\x17\\xb1\\x85}\\xb9\\xe6_uO\\x80c\\xe3\\xd5\\n\\xe2\\xf87\\xe5\\x08!G7.\\x93\\x85\\xdd\\xbb\\x9c\\xaeI/-Q\\xd3h\\xe8\\xa5\\xf7]\\xb8\\x16\\xd8=}\\xec\\x1a\\xaf\\x94\\x11\\x89\\xdfW\\x0c\\x8dv\\xb4\\x13\\xb2\\xa9\\xceB\\xa5\\x9a2\\x8d$\\xb9:f\\xae\\x88\\'\\xc0\\xab\\xf4x=[\\x84\\xd0\\xd1\\xafK\\x86\\xc78a^w\\x84\\x90\\xbd\\x0bg\\xd8D\\xc7\\xa3\\xbbK\\xa8\\x0ebnx5\\xbe0[a/\\xe2Z;\\xb0\\xa8\\x0e\\xd2#\\xd88\\xb1m\\x1c\\xd9E9J\\xaa\\x83\\x98\\x15^\\x8d\\xaf*V[\\xd9C\\xdd\\x1f\\xb3\\xb2gW\\x95\\xa8\\xa9NaVx5^)\\'\\xb8\\x02&\\xd5)z\\x10\\x9e\\x80\\xa1\\x92\\x11T\\xa70+\\xbc\\x1a\\x0f\\x004\\x1e\\xe0\\x05\\x1a\\x0f\\xf0\\x02\\x8d\\x07x\\x81\\xc6\\x03\\xbc@\\xe3\\x01^\\xa0\\xf1\\x00/\\xd0x\\x80\\x17h<\\xc0\\x0b4\\x1e\\xe0\\x05\\x1a\\x0f\\xf0\\x02\\x8d\\x07x\\x81\\xc6wb\\xe5\\xea%\\x11Q\\xe2_~=\\xd8jxmmMD\\x948j\\\\\\xe8\\xb3,\\xf9\\xfd8\\xe3\\xb7\\xee\\xe8`\\xd4\\xe4)\\xe1\\x11Q\\xe2;w\\xf3[\\rON9\\x13\\x11%^\\xb2t\\xfeS\\xe7\\xc1\\x044\\xbesL&399\\xb1\\xd5\\xc0\\xb3\\xe7N1\\x99\\xd4\\x9c\\x86\\xc9d2\\xcf%\\x9fn5\\xf0|j\\x12Uyz\\x17h|\\xe7BBB\\x0b\\xee\\xdf-,,h905\\xf5\\xac\\xff\\xa0@\\xaa\\xf2\\xa4\\xa6\\x9e\\xd5\\xe9\\x1e_\\x93^__\\'\\x91\\xa4Q\\x95\\xa7w\\x81\\xc6w\\xce\\xd6\\xd6\\xce\\xdd\\xdd\\xa3\\xe5f\\xf5\\xc1\\x83\\xc2\\x82\\xfbw\\x87\\x0e\\x1dA>\\xfcv\\xff\\xd7/M\\x89hY\\xc1_~=\\x18=q\\xa4J\\xa52E\\x1e\\xffA\\x812Y\\xa3D\\x92\\xd6<\\xe4\\xc2\\xc5dG\\x07\\'77wS\\xac\\xee9\\x03\\x8d\\xef\\x04\\r\\xd1t:\\xdd\\x84\\xe8\\xc9IgO6_\\x05\\x7f.\\xf9\\xb4\\x9f\\xdf`\\'\\'!\\xf9p\\xd2\\xa4\\xe92\\xb9\\xec\\xcf\\xbf\\xfeh\\x9e\\xeb\\xe2\\xa5\\x941c\\xc6\\xf2x\\xbc\\xee\\x0fd@\\xb6\\xb6vb\\xf1\\xf0\\x96\\xbf\\x81\\xc9)\\x89\\x91\\x91\\xd1\\xdd\\xbf\\xae\\xe7\\x114\\xbeK\"#\\xa2\\x1b\\x1a\\xea\\xaf]\\xff\\x8b\\xbc\\xffu\\xca\\xf93\\x91\\xe1\\xe3\\x9b\\xc7\\x8a\\x84.CBBSS\\xcf\\x92\\x0fkj\\xaa\\xf3\\xf3s&Nx\\xc9\\x84y\\xc2\\xc7_\\xfd\\xf3\\x92R\\xa9D\\x08\\x95\\x96\\x95\\xe4\\xe7\\xe7D\\xb4\\xc8\\x03:\\x00\\x8d\\xef\\x84\\x01\\x19h\\x089;\\x0b\\x07\\x0f\\x0eJNID\\x08\\xdd\\xbauS*\\xad\\n\\x0f\\x1f\\xd7r\\xb2\\x17_\\x9c\\xda\\\\\\xc1\\xd4\\x0bg\\x85\\xce\\xa2\\xe0 \\xb1I\\x02\\xd1\\x10Bh\\xcc\\x98\\xb1\\xe4\\x8a\\x10B\\xc9\\xc9\\x89..n\\xde\\xde\\xfdM\\xb2\\xba\\xe7\\x0e4\\xbe\\xab\"#\\xa2/_NU*\\x95)\\xe7\\xcf\\x04\\x07\\x89\\xed\\xed\\xffq;\\xb1\\x17FG\\xf2\\xf9\\x82\\x0b\\x17\\xcf!\\x84.\\xfdq~\\xe2\\xc4)&\\r\\xc3\\xe1pF\\x8ex\\x81\\xfc\\rLN>=n\\xec\\x8b&]\\xdd\\xf3\\x04\\x1a\\xdfU\\x11\\xe1\\xe3\\x08\\x82HK\\xbfr\\xf9\\xca\\x85V\\x1bx\\xf2\\x88a\\xf4\\xf8I\\xe7\\x92O\\xd7\\xd6\\xd6\\xe4\\xe6fM\\x88\\x9el\\xea<QQ\\x13\\xb2\\xb22n\\xdc\\xbcVV^\\x1a\\x19\\x01\\xbb4]\\x05\\x8d\\xef*kk\\x1b\\xb1x\\xf8\\xa1\\x9f\\xbfS(\\xe4c^\\x88j;\\xc1\\xa4\\x98iYY\\x19\\t\\xbf\\xfc4l\\xd8(\\'\\'gS\\xe7\\x19\\x16:J\\xc0\\x17\\xec\\xd9\\xbb\\xdd\\xc7\\xdb\\xd7\\xdd\\xdd\\xc3\\xd4\\xab{n\\xc0\\xdf,\\x9e@\\xc4\\x98q_lY\\x1b:t\\x84\\xb5\\xb5M\\xdb\\xb1}\\xfa\\xf4\\r\\n\\x1cr\\xf4\\xd8\\xe1\\x15\\xcb7tq\\x81J\\x952#S\\xd2rH_wO;;\\xfb\\x8eG\\x91X,VXXD\\xd2\\xd9\\x93\\xef\\xce\\xfb\\xf0i\\x9f\\x10\\x8e\\xa0\\xf1O`\\xf4\\xe8\\xc8m\\xdb7\\xb6\\xdd\\xa5i6b\\xc4\\xe8\\xc2\\xa2\\x82\\xd1a\\x11]\\\\`I\\xc9\\xa3\\xc5K\\xe2Z\\x0e\\xf9t\\xc5\\xc6\\xb1Q\\x13:\\x1e\\xd5,22:\\xe9\\xec\\xc9\\xa8\\xc8\\x7f\\x0c\\x04\\x1d\\xc3\\xebN\\xab\\xa9\\xbfTY;r\\xfb\\x87X\\x99h\\xf9\\x1f\\x7f\\xf2?\\x9e\\x9e\\xdeq\\xef\\xff\\xaf\\x89\\x96\\xdf\\xed\\xeeH\\x1a\\xe4\\xb5M\\xe1\\xaf8R\\x1d\\xc4|`\\x1b\\xdf\\rdrYA\\xc1\\x9d\\x8c\\x8c\\xebw\\xee\\xe6\\x7f\\xb4l\\r\\xd5q@G\\xa0\\xf1\\xdd\\xa0\\xa8\\xb0`\\xf1\\x928gg\\xe1\\xda\\xd5\\x9b[\\x1e\\xb5\\x9c:},\\xa13\\xfe\\x8d\\x0c+\\x96o\\x181b\\xb4\\x193\\x82\\xbfA\\xe3\\xbbA@@\\xf0\\x85\\xf3\\x92\\xb6\\xc3\\xf7\\xee\\xf9\\xb1\\xbdYlm\\xecL\\x1c\\n\\x18\\x07\\x8d7!\\x91\\x10\\xbe\\x9d\\xb8\\xc7\\x81\\xe3\\xf1\\x00/\\xd0x\\x80\\x17h<\\xc0\\x0b4\\x1e\\xe0\\x05\\x1a\\x0f\\xf0\\x02\\x8d\\x07x\\x81\\xc6\\x03\\xbc@\\xe3\\x01^\\xa0\\xf1\\x00/x5\\xde\\xc2\\x92Ih\\xf4T\\xa7\\xe8A\\xb4M\\x06\\x0b+\\x06\\xd5)\\xcc\\n\\xaf\\xc6\\xdb\\x8b\\xd8U\\xa5x}ao\\xc7\\xaaKT\\xf6\"\\x0e\\xd5)\\xcc\\n\\xaf\\xc6\\xfb\\x04\\n\\xa4%j\\x8d\\x12\\xaf\\xef\\xecm\\x8fJN\\xd4Vh\\xfa\\r\\xe6S\\x1d\\xc4\\xac\\xf0j<\\xa2\\xa1\\xa9\\xf3]/\\xfdV\\x01\\xa5W\\xc9\\x89\\xcbG+\\xa6\\xcew%o\\x07\\x82\\x0f\\xbc\\xae\\x81\"\\xd5K\\xb5\\xc7\\xf6\\x94:\\xbaq\\x1d\\xddx,6f\\xff\\xc3\\x11j\\xd2\\xe8\\xabK\\xd5\\xd2b\\xf5\\xf4\\x0f]\\xad\\x1dXT\\xc717\\x1c\\x1b\\x8f\\x10B\\x06t\\xef\\x96\\xbc\\xb6\\xbcI\\xd1h\\xfc\\x8a\\r\\xd3\\xae\\xdc`8w\\xee\\\\t45\\xf7\\xcd\\xb3\\xb0b8\\x888\\xdeA\\x02J\\xd6N9\\\\\\x1bO)\\x82 F\\x8e\\x1c\\x99\\x9e\\x9eNu\\x10\\x1ca\\xb6\\x1f\\x0f\\xb0\\x07\\x8d\\x07x\\x81\\xc6\\x03\\xbc@\\xe3\\x01^\\xa0\\xf1\\x00/\\xd0x\\x80\\x17h<\\xc0\\x0b4\\x1e\\xe0\\x05\\x1a\\x0f\\xf0\\x02\\x8d\\x07x\\x81\\xc6\\x03\\xbc@\\xe3\\x01^\\xa0\\xf1\\x00/\\xd0x\\x80\\x17h<\\xc0\\x0b4\\x1e\\xe0\\x05\\x1a\\x0f\\xf0\\x02\\x8d\\x07x\\x81\\xc6\\x03\\xbc@\\xe3\\x01^\\xa0\\xf1\\x00/\\xd0x\\x80\\x17h<\\xc0\\x0b4\\x9e\\x024\\x1aM \\xc0\\xf4\\x06I\\x94\\x83\\xc6S\\xc0`0\\xc8\\xe5r\\xaaS`\\n\\x1a\\x0f\\xf0\\x02\\x8d\\x07x\\x81\\xc6\\x03\\xbc@\\xe3\\x01^\\xa0\\xf1\\x00/\\xd0x\\x80\\x17h<\\xc0\\x0b4\\x1e\\xe0\\x05\\x1a\\x0f\\xf0\\x02\\x8d\\x07x\\x81\\xc6\\x03\\xbc@\\xe3\\x01^\\xa0\\xf1\\x00/\\xd0x\\x80\\x17h<\\xc0\\x0b|\\x83\\xb1Y\\x85\\x84\\x84\\xd0h4\\x83\\xc1@\\xfeK\\x0e\\xbcy\\xf3&\\xd5\\xb90\\x02\\xdbx\\xb3\\x12\\x89D4\\x1a\\x8dN\\xa7\\x93\\xff\\xd2\\xe9t\\x91HDu(\\xbc@\\xe3\\xcd*$$D\\xaf\\xd77?$\\x08\"$$\\x84\\xd2D\\xd8\\x81\\xc6\\x9bUlll\\xcb\\x8d\\xba\\xab\\xab\\xeb\\xacY\\xb3(M\\x84\\x1dh\\xbcY\\xf9\\xf9\\xf9\\xb5\\xdc\\xa8\\x07\\x05\\x05\\xf9\\xfa\\xfaR\\x9a\\x08;\\xd0xs\\x8b\\x8d\\x8d\\x15\\n\\x85\\x08!gg\\xe7\\xd9\\xb3gS\\x1d\\x07;\\xd0xs\\xf3\\xf3\\xf3\\x0b\\x0c\\x0cD\\x08\\x89\\xc5b\\xd8\\xc0\\x9b_\\xe7G\\'+\\x1fij\\xca5\\x8aF\\x9d\\xb9\"=\\xff\\xa4RibbbLL\\x8c\\x83\\x83\\x03\\xd5Y\\x9e\\x1f|+\\xa6\\x83\\x88\\xe3\\xe4\\xce\\xe9x\\xb2\\x8e\\x1a\\xafk2\\x1c\\x8f/\\xd3\\xeb\\r\\xd6\\x8e\\x1c\\xae\\x05\\xc3\\x04!\\x01\\xe86j\\x85\\xae\\xa1F\\xcb`\\xa0)\\xef\\xb90X\\xb4\\xf6&k\\xb7\\xf1\\xda&\\xc3\\xf1}\\xa5\\x81c\\xec\\x85\\x1e<S\\xe6\\x04\\xa0;U\\x14\\xa9n\\xfdQ;u\\xbe\\x0b\\xb3\\x9d\\xd2\\xb7\\xbb\\x1f\\x7f|_ip\\x84\\x03\\xd4\\x1d\\xf4.BO^\\xe0\\x18\\xbb\\x13\\xf1e\\xedM`\\xbc\\xf1e\\xf7UL\\x16\\xdd\\xc9\\x9dk\\xcal\\x00\\x98\\x84\\xd0\\x83\\x87h\\xb4\\x8a\"\\xb5\\xd1\\xb1\\xc6\\x1b_]\\xde$\\xb0e\\x998\\x18\\x00\\xa6bi\\xcb\\xaa.\\xd7\\x18\\x1de\\xbc\\xf1*\\x19\\x01\\x1fUA\\xef\\xc5\\xe53\\x942\\xc2\\xe8(8\\x1e\\x0f\\xf0\\x02\\x8d\\x07x\\x81\\xc6\\x03\\xbc@\\xe3\\x01^\\xa0\\xf1\\x00/\\xd0x\\x80\\x17h<\\xc0\\x0b4\\x1e\\xe0\\x05\\x1a\\x0f\\xf0\\x02\\x8d\\x07x\\x81\\xc6\\x03\\xbc@\\xe3\\x01^\\x98\\xdd\\xb5\\xa0\\x95\\xab\\x97H\\xab*\\xe3\\xf7\\x1dl;j\\xf2\\x94\\xf0\\x89\\x13\\xa6,\\x98\\xff\\x7fFG\\xc9\\xe5\\xf2}{\\x7f\\xf2\\xed?\\xb0\\xe5\\xf0\\xe4\\x943\\x9f}\\xbe*$x\\xe8\\x97\\xdb\\xf6ve\\xedW\\xaf^\\xbap)\\xf9\\xce\\x9d\\xbc\\xfa\\xba\\xda\\x01\\x03\\x06\\x05\\x06\\x0e\\x99:ef\\x8f\\xfa&\\xf8W^\\x9dX]-5:\\xea\\xa7\\x1f\\x8e\\xba\\xb9\\xb9\\xb7\\x1d~\\xe4\\xe8\\xe1={\\xb7\\x9fO\\xbef\\xfat\\x08!TTt\\xff\\xf8\\x89_\\xf3\\xf3s\\x1e\\x15?pv\\x16\\x85\\x04\\x0f\\x9d>=\\xd6\\xcd\\xb5\\x8fy\\xd6n6\\xdd\\xd6\\xf8\\xa7O\\xc0d\\x9eK>\\xdd\\xaa\\xf1\\xe7S\\x93\\x98\\xcc.eS\\xab\\xd5k\\xd6}t\\xfd\\xfa_S\\xa7\\xce\\x9c\\xfd\\xc6;VV\\xd6\\x0f\\x1f\\x15\\x1d\\xfb=!)\\xe9\\xc4\\xf6/\\xe3\\x9d\\x9c\\x9c;\\x9e\\xbd\\xb0\\xb0`\\xc5\\xcaE\\x87\\x7f>\\xf5,Oa\\xea\\xf4\\xb1{v\\xff\\xe0\"r\\xed`\\x9a5\\xab\\xbe\\xd0\\xea\\xb4\\x08\\xa1\\x9a\\x9a\\xeaM\\x9f\\xad|=\\xf6m\\xb1x89\\xca\\xc1\\xc1\\xe9Y\\xd6\\xde-\\x0e\\xfd\\xfc\\xfd\\xfe\\x03\\xbb\\x87\\r\\x1b5y\\xf2\\x0c\\x07{\\xc7\\xdbw\\xf2N\\x9c\\xfc-\\xe5|\\xd2\\xae\\x1d\\xdfzz\\xf63\\xc5\\x1a\\xbb\\xf2\\xa2\\x99\\x02\\xf5\\x8d\\x0f\\t\\tMM=;\\xff\\xfdE\\xcd\\x15\\xaf\\xaf\\xaf\\x93H\\xd2\\x06\\xfb\\x07ue\\xf6\\x9f\\x0e\\xee\\xbfv\\xed\\xcf\\xf5\\xeb\\xb6\\x8e\\x0e\\x8b \\x87\\x0c\\x1f\\x1e6!z\\xf2\\x07\\x1f\\xbe\\xbdz\\xcd\\xd2\\xbd{~\\xa4\\xd1\\xda\\xbd\\xe4\\x11!\\x94\\x7f;\\xe7\\x19\\xf3\\x97\\x96\\x9544\\xd4w:\\x99\\xbf\\x7f \\xf9CYy)B\\xc8\\xbd\\x8fGp\\x90\\xf8\\x19W\\xdd]rrn\\xed?\\xb0;:z\\xd2\\xc7\\xcb\\xd6\\x90/\\xd7\\xf0\\xe1a3f\\xc4.^\\xfc\\xfe\\x96\\xad\\xeb\\xf6\\xee\\xf9\\xb1\\xdb\\xd7\\xd8\\xc5\\x17\\xcd\\x14\\xa8\\xdf\\x8f\\xf7\\x1f\\x14(\\x935J$i\\xcdC.\\\\Lvtp2\\xfaF\\xdf\\xd6\\xf9\\xd4\\xa4\\xd0\\xd0\\x91\\xcdu\\'Y[\\xdb\\xcc\\x9d\\xbb\\xe0\\xce\\xdd\\xfc\\x1b7\\xaf!\\x84>\\xfa\\xf8\\xc3\\xe5\\x9f.j\\x1e\\x9bx\\xe6xD\\x94X\\xa3\\xd1\\xec?\\xb0{\\xdb\\x97\\x1b+++\"\\xa2\\xc4G\\x8e\\x1e\\xce\\xcb\\xcf\\x89\\x88\\x12\\xffq9u\\xee\\xbcW#\\xa2\\xc4/\\xcf\\x9c\\xb0w\\xdfNr\\x96C?\\x7f?1&\\xacy\\te\\xe5\\xa5\\x11Q\\xe2\\xb4\\xb4+\\xd7%i\\xb3fOE\\x08\\xbd1k\\xca\\x9a\\xb5\\x1f=\\xdd+\\xa0T*7~\\xb6\\xf2\\xe5\\x99\\x13\\xa2\\'\\x8e|?n\\xd6\\xf1\\x13\\xbf\\xb5\\x9d\\x86 \\x88\\xa5\\xcb\\x16\\xcczs\\x9a\\\\.G\\x08egg.]\\xb6`\\xf2K\\xe1o\\xcdyy\\xef\\xbe\\x9d*\\x95\\x8a\\x9c\\xec\\xc8\\x91\\xff\\xccx%\\xfa\\xe1\\xc3\\xa2\\xb7\\xe6\\xbc\\x1c\\x11%~\\xe7\\xdd\\xd7\\xce\\x9e\\xed\\xfc\\xed+\\xf5\\xc2Y&\\x93\\xb9`\\xfe\\xe2\\x96[\\x07K\\x81\\xe5\\x92%+\\x17.\\xfc\\xb8\\xe3\\x90\\xb9\\xb9Y\\x11Q\\xe2\\xfc\\xdb\\xb9\\xcd3\\xbe\\xf6\\xfa\\xa4\\xf8o\\xbe\\xea L\\xdb\\x17\\xad\\xbaZ\\xba~\\xc3\\xf2Wcc\\xa6N\\x1f\\xfb\\xd9\\x17\\xabK\\xcbJ\\xc8E\\xdd+\\xb8C\\xbe\\xce3^\\x89>\\x9c\\xd0=\\xbfxT7\\xde\\x80lm\\xed\\xc4\\xe2\\xe1\\xe7\\x92O7\\x0fKNI\\x8c\\x8c\\x8c\\xee\\xca\\xdcUU\\x95\\x95\\x95\\x15\\xc3BG\\xb5\\x1d5j\\xe4\\x18\\x1a\\x8d\\x96\\x9d\\x9d\\xd1\\xc1\\xec\\xf3\\xde\\xf9\\xe0\\xb5W\\xdftv\\x16^8/\\x991\\xfd5\\x0e\\x9b\\x83\\x10:t\\xe8\\xbb\\xcf6\\xeeLJ\\xbc:?\\xee\\xff\\x8e\\x1e;\\xdcqc\\x86\\x8a\\x87\\x7f\\xbei\\'B\\xe8\\xd0\\xc1\\xe3\\xeb\\xd6n\\xe9J\\xe6\\xb6>Y\\xb1\\xb0\\xbc\\xbct\\xd3\\xc6\\x1d\\t\\xff9=jT\\xf8\\xce]_\\xdc\\xbdw\\xbb\\xd54[\\xb6\\xad/\\xb8\\x7fw\\xcb\\xe6\\xaf\\x05\\x02\\xc1\\xa3G\\x0f>\\xfa\\xe4C\\xadN\\xbbg\\xf7\\x0fkV}q\\xef\\xde\\xed\\xc5K\\xe3\\xc8\\xdbY\\xb2\\xd8l\\x99\\xacq\\xd7W\\x9b?\\xf9hmj\\xca\\xf5\\xb0Q\\xe1[\\xbf\\xdc\\xd0\\xde\\xe7\\x87f\\xb9\\xb9Y\\x81\\x01!V\\x96V\\xad\\x86\\x0f\\xf0\\xf5\\x1b8`P\\xd7C\\xb6\\xd2^\\x98V/\\x9aN\\xa7[\\xbc4.;\\'s\\xe9\\x92U\\xdf\\x1f\\xf8\\xc5\\xd2\\xd2j\\xfe\\xfc\\xd9\\xe5\\x15e\\x08!6\\x8b\\x8d\\x10\\xda\\xff\\xdd\\xee\\xd7^}3\"|\\xfc\\x93\\xbf\\xb4FP\\xddx\\x84\\x10B\\x91\\xe1\\xe3\\xaf\\xfeyI\\xa9T\\x92\\xefw\\xf9\\xf99]|zRi%B\\xc8\\xd9I\\xd8v\\x14\\x87\\xc3\\xb1\\xb3\\xb3\\xaf\\xac\\xac\\xe8z\\x0cr\\x0b\\xf7\\xc2\\x0bQB\\xa1\\x88\\xc3\\xe1DEF\\x0f\\x192\\xec|j\\xd2\\x93<\\x95\\'\\x96\\x96~5;;\\xf3\\xe3ek|\\xfb\\x0f\\xb4\\xb1\\xb1}s\\xf6<?\\xbf\\xc1\\x07\\x0f\\x1eh9\\xcd\\x0f?~{\\xe1\\xc2\\xb9\\xcf?\\xdbE\\xee\\xf5\\xa6\\x9c?\\xc3b\\xb2\\xd6\\xaf\\xdd\\xda\\xa7O_//\\xef%KV\\xde\\xbe\\x9d\\xfb\\xe7_\\x7f \\x84\\xe8t\\xbaV\\xab\\x9d\\xf3v\\xdc\\xc0\\x81\\xfe4\\x1am\\xfc\\xf8I\\x04A\\x14\\x14\\xdc\\xe98\\x83\\xb4\\xba\\xca\\xc9\\xd8k\\xf8D!\\xdb\\xeab\\x98[Y7\\x8b\\x8b\\x1f.\\xffd\\xfdP\\xf1p[[\\xbb\\x0f\\xe6/\\x16\\x08,\\x8f\\x1c\\xf9\\x0fB\\x88\\xc1`\\x90\\x1b\\xafW^~\\xc3\\xd9\\xb9\\xa3\\x84]Gu\\xe3i\\x08!4f\\xccX\\xf2\\xbd\\x15!\\x94\\x9c\\x9c\\xe8\\xe2\\xe2\\xe6\\xed\\xdd\\xbf\\x1b\\x96\\xdd\\xe1\\x1e|{\\xfay\\xf94\\xff\\xec\\xea\\xda\\xe7Q\\xf1\\x83gO\\xd2\\x81\\xa2\\xa2\\x02\\x0b\\x0b\\x0bww\\x8f\\xe6!\\xbe\\xfd\\x07\\xde\\xbd\\x97O\\xe6\\xa7\\xd1h)\\xe7\\x93\\xfe\\xfdC\\xfc\\x8a\\xe5\\x1b\\x9a7\\xb799\\xb7\\x06\\x0c\\x18dmm\\xf3wH\\x177\\xa1\\xb3\\xe8\\xd6\\xad\\xc77\\xa1\\x1f\\xf0\\xdf)--\\xad\\x10Br\\x85\\xdct!;\\xd5i\\x98\\xec\\xecL\\x16\\x8b\\x15\\x12<\\x94|H\\xa7\\xd3\\x03\\x02CZ\\xbe9\\xf7\\xf7\\x19\\x88\\xba\\x0f\\xf5\\x9f\\\\\\xc9\\xed\\xf1\\xc8\\x11/$\\xa7$N\\x8a\\x99\\x96\\x9c|z\\xdc\\xb8\\x98.\\xceH\\x1e\\xe5\\xa8\\xac2\\xb2!\\xd7j\\xb5\\xb5\\xb55B\\xe1\\x13\\xdf\\x9d\\x9d\\xcb}|\\xc3\\x12.\\x87\\xab\\x90?k]:VSS\\xcd\\xe3Y\\xb4\\x1c\\xc2\\xe3Y(\\x15\\n\\x84\\x90\\xc1` \\x08\\xe2\\x8b\\xcdk\\x10B\\x02\\x81e\\xf3\\x04r\\xb9\\x8c\\xdc\\xc1m9W]]M\\xf3\\xcfO\\xfa\\xab\\xee\\xe8\\xe0TYY\\xfet!;\\xd5i\\x18\\xb9\\\\\\xa6\\xd5j[=\\x1d{\\xfb\\xc7wkcs:\\xb9\\xcd\\xd8\\x13\\xe9\\x11\\x8dG\\x08EEMX\\xb5z\\xe9\\x8d\\x9b\\xd7\\xca\\xcaK##\\xba\\xba\\xc7\\xe6\\xec,tttJK\\xbb<}\\xda\\xab\\xadFI$iz\\xbd>0pH\\xdb\\xb9Z\\xde\\xc1\\xbd-\\xb9\\\\\\xd6\\xfc\\xb3Z\\xa3\\xe6\\xf2\\x8c\\xdc\\xb1GO\\x18\\xbfj\\xf8)\\xf0\\xf9|\\xa5\\xf2\\x1f\\xd5Q*\\x15\\xf6\\x0e\\x8e\\xcd\\x0f\\x97,\\xfe4\\xf3\\xd6\\x8d\\xcf\\xbfX}\\xe0\\xdb\\xc366\\xb6\\x08!;{\\x87\\xc1<\\xde\\x9c\\xb7\\xe3Z\\xceeme\\xf3\\xd4\\x19\\x06\\r\\n8y\\xeah}}\\x1d\\xb9\\xfcfw\\xee\\xe6\\xdf\\xbe\\x9d\\xfb\\xd2\\xe4\\x19\\x9d\\x86l\\x89x\\xc2\\x17\\xc7\\xde\\xde\\x81\\xc7\\xe3m\\xda\\xb8\\xa3\\xe5@&\\xc3T\\xcd\\xa4z\\xaf\\xe6\\xbf\\x86\\x85\\x8e\\x12\\xf0\\x05{\\xf6n\\xf7\\xf1\\xf6m\\xf9\\xee\\xd9\\xa9\\x99\\xaf\\xcc\\xba.I\\xbbx)\\xa5\\xe5@\\x85B\\xb1\\xff\\xbb\\xdd\\x03|\\xfd\\xc8#\\x80l\\x0eG\\xa5R6\\x8f}\\xf4\\xa8\\xa3\\x1d\\x95\\xcc[7\\x9a\\x7f\\xbew\\xef\\xb6\\xa7G?\\x84\\x10\\x9b\\xcdnjj\\xd2\\xe9\\xfe\\xbe\\xf9\\xe6\\xc3\\x87EO\\xf2\\xe4:\\xe2\\xdb\\xdfO\\xa5R\\x15\\x16\\x164\\x0f\\xc9\\xcb\\xcb&WJ\\xbe\\xc5O\\x9c\\xf0\\xd2\\xa2\\x85\\x9fp9\\xdc\\xcd[\\xd7\\x91\\x03\\xfby\\xf9TK\\xab\\x82\\x02\\x87\\x04\\x07\\x89\\xc9\\xfflm\\xec\\x9e\\xe8Eke\\xf2\\xa4\\x19\\x08\\xa1]_mn\\xb9-P*\\x95\\xdb\\xb7o:q\\xf27\\x82 :\\x08\\xc9b\\xb3\\x11Bj\\xf5\\xdf\\x07\\x8b\\x1ae\\x8d\\xb5\\xb55\\xc6V\\xd2.//\\x1f\\x95J%\\x14\\xba4?\\x1d\\'\\'\\xa1\\xb7\\xb7\\xa9\\xeeA\\xdb\\x9d\\x8dW\\xaa\\x94\\x19\\x99\\x92\\x96\\xff5?y\\xa9\\xb4\\xb2\\xd5(\\xadV\\xdbr^\\x16\\x8b\\x15\\x16\\x16QXX\\x10\\x1e>\\xee\\x89V\\xfa\\xf2\\x8c\\xd7\\xa3\\xa3\\'\\xad\\xdf\\xb0|\\xf7\\x9e\\xed\\x92\\x1b\\xe9\\x19\\x99\\x92\\xb3gO\\xbd?\\x7f\\x96V\\xab\\xdd\\xb0\\xfeKr\\x9aA~\\x01\\xb7o\\xe7>xPH\\x1e\\x1a#?\\xe4\\x91\\xdc\\xdc\\xdckj\\xaa\\xaf^\\xbdTR\\xf2\\x88\\x1cr]\\xf2\\xd7uI\\x1aB\\xe8\\xd2\\x1f\\xe7\\xb3\\xb33\\xa3\"\\' \\x84\\x06\\r\\n\\xd4\\xeb\\xf5\\xc9)\\x89\\x08\\xa1\\x8a\\x8a\\xf2\\xc3\\xbf<>R\\xd6\\xc7\\xdd\\x03!t\\xe9RJ\\xcb#t]\\x17\\x1a:\\xd2E\\xe4\\xbam\\xfb\\xc6\\xdbw\\xf2jkk\\xbe\\xdd\\xff\\xf5\\xdd{\\xb7_\\x9e\\xf1z\\xcbix<\\xde\\x8a\\xe5\\x1b\\xd2\\xd3\\xaf\\x1e=\\x96\\x80\\x10\\x9a9s\\xb6\\x8e\\xd0}\\xbd\\xe7K\\xb5Z\\xfd\\xe8\\xd1\\x83}\\xf1\\xbb\\xe6\\xce{\\xf5Y~\\t==\\xfb}\\xb4l\\xcd\\xc5K)\\x8b\\x97\\xc6]\\xb9z1#S\\xf2\\xdb\\x91\\x9f\\xdf|{\\xfa\\xa3\\xe2\\x07\\x8b\\x17\\xad`2\\x99\\x1d\\x84\\xf4\\xe8\\xebe)\\xb0<{\\xee\\x14BH\\xa7\\xd3}\\xb1y\\x8de\\x9bc>m\\xb5|\\xd1\\x86\\x85\\x8e\\x0c\\r\\x1d\\xb9u\\xeb\\xfa\\xca\\xca\\x8a\\xfa\\xfa\\xba\\xa3\\xc7\\x12\\xe2\\xe2f\\x91\\x0b4\\x85\\xee|\\xef()y\\xb4x\\xc9?\\xdej?]\\xb1ql\\xd4\\x04\\x84\\xd0\\xc5K)\\xad6\\xc3\\xbf\\xfd\\x92\\xd4r_\\r!\\x14\\x19\\x19\\x9dt\\xf6$\\xd9\\xb0\\'\\xf2\\xf1\\xb25\\xe2!\\xc3\\xaf^\\xbd\\xb8c\\xc7g\\r\\x8d\\xf5\\x03\\x07\\xf8\\xbf8q\\xca\\xb4\\xa9\\xaf\\xf2\\xfe\\xbbC2m\\xea\\xab\\xc5\\xc5\\x0f\\xe7\\xbd\\x17K\\x10\\xc4\\xd8\\xa8\\to\\xbc>g\\xcb\\xd6\\xf5\\xe4\\r7\\x87\\x0f\\x0b\\x1b\\xec\\x1f\\xb4r\\xf5\\x929o\\xc7\\x85\\x8d\\nG\\x08\\xbd\\xfe\\xda\\xdb\\xfb\\xe2w~\\xf4q\\x01\\x83\\xc1 \\x7f\\x9d\\x10B~\\x03\\xfd\\xe7\\xc7-\\xda\\xbbw\\xc7\\x96\\xad\\xeb\\xfd\\xfd\\x03\\xe7\\xce\\x99\\xdf\\xfcL]]\\xdc&DO\\xfe\\xee\\xfb\\xbd\\x81\\x01!\\xdb\\xb6\\xeey\\xd2\\xf0L&s\\xe3\\x86\\xed\\xfb\\xe2w.\\xf8\\xe0-\\x0e\\x87\\xe3\\xe5\\xe5\\xb3i\\xc3v?\\xbf\\xc1\\xad&\\x1b4(\\xe0\\xcd\\xd9\\xf3\\xe2\\xbf\\xd9%\\x1e2\\xcc\\xdd\\xdd\\xe3\\xc0\\xfe\\x84\\xc3\\x87\\x7f\\x98\\xf7^lii\\xf1\\x80\\x01\\x83>^\\xb6\\xa6_?\\x9fv\\xd6\\xd0%\\xe3\\xc6N\\xec\\xdb\\xd7\\xf3\\xf4\\xe9c\\xdf\\xff{_Q\\xd1}\\x01_\\xe0\\xe33\\xe0\\xbd\\xf7\\x16\\x92\\x7f\\x0b\\xef $\\x9b\\xcd^\\xb5\\xea\\xf3]_m\\x8e\\x88\\x12;::\\xc5\\xbd\\xbf\\xa8\\xb6\\xa6\\xba\\xd3\\x1bV\\xb7z\\xd1>\\xdf\\xb4\\xf3\\xc4\\xc9#\\xeb7.\\xcf\\xcb\\xcbvw\\xf7\\x988q\\xca\\xd4)\\xaf<\\xcb\\xd3\\xe9\\x80\\xf1;\\xad\\xa6\\x9f\\xa9\\xd5jQ\\xe0\\x18;\\x13\\xad\\xb5g*,,x\\xe7\\xdd\\xd7v\\xed\\xf86  \\x98\\xea,\\xe0\\x99d^\\xac\\xe5pQh\\xb4\\x91\\x02\\xf7\\x94\\xfdx\\x00\\xcc\\xa3\\xa7\\x1c\\xabiOnn\\xd6\\'\\xcb\\x17\\xb67\\xf6??\\x9f\\xea9\\'H&\\xfc\\xf2S{\\x7f\\x94\\xf1\\xf4\\xf2\\xfej\\xe7~\\xb3\\'zl\\xea\\xf4\\xb1\\x84\\xce\\xf8w^\\xacX\\xbea\\xc4\\x88\\xd1fOD\\x99^\\xb0WC\\xfe\\xc1\\xd9(\\x91\\xd0\\xc5\\xbcY:\"\\x93\\xcbZ\\x1e\\xd9l\\x89\\xc5d9\\xb4s,\\xcf<:x\\rmm\\xec\\xb8\\xdc\\xe7\\xed&\\xd2\\x1d\\xec\\xd5\\xf4\\xf4m|O\\xabu\\x07,\\x05\\x96\\x96-\\xfeN\\xd4\\xa3\\xf4\\x96\\xd7\\xd0\\x0c`?\\x1e\\xe0\\x05\\x1a\\x0f\\xf0\\x02\\x8d\\x07x\\x81\\xc6\\x03\\xbc@\\xe3\\x01^\\xa0\\xf1\\x00/\\xd0x\\x80\\x17h<\\xc0\\x0b4\\x1e\\xe0\\xc5x\\xe3\\xb9\\x02:Att\\xa1\\x10\\x00=\\x19\\xa13\\xf0\\x04\\xc6\\xbf\\x9e\\xd5x\\xe3\\xedE\\x9c\\xea\\x12\\xe3_\\x00\\x0b@\\xcf\\'-Q\\xd9\\x8b\\x8c_\\x1dk\\xbc\\xf1n\\xde\\xbc&\\x15\\xd1P\\xad5:\\x16\\x80\\x9e\\xac\\xbe\\xaa\\x89\\xd0\\x19\\\\\\xbc\\x8c\\x9f\\x1e\\xd7\\xee~\\xfcKq\\xaei\\xa7\\xabd\\xb5Pz\\xd0\\x9b4\\xd6h\\xd3\\xcfH_z\\xaf\\xdd3\\xe7\\x8c\\x9f-LR4\\x12G\\xbe*\\xb1w\\xe5\\xda:\\xb2\\xb9|\\xf8\\xd2z\\xd0\\xa3\\xa9\\xe4DC\\xb5\\xa6\\xa6L3c\\xa1\\x9b\\x85e\\xbbu\\xed\\xa8\\xf1\\xa4\\xfbY\\x8a\\xea2\\x8d\\xa2\\xc1\\xf8\\xf5\\x04\\xe0)\\x18\\x0c\\x86s\\xe7\\xceEGw\\xe9N\\x83\\xa0\\x8b\\xf8VLG7\\x8e\\xd7`~\\xc7\\x93u\\xdex\\xd0\\xed\\x08\\x82\\x189rdzz:\\xd5Ap\\x04\\xc7\\xe3\\x01^\\xa0\\xf1\\x00/\\xd0x\\x80\\x17h<\\xc0\\x0b4\\x1e\\xe0\\x05\\x1a\\x0f\\xf0\\x02\\x8d\\x07x\\x81\\xc6\\x03\\xbc@\\xe3\\x01^\\xa0\\xf1\\x00/\\xd0x\\x80\\x17h<\\xc0\\x0b4\\x1e\\xe0\\x05\\x1a\\x0f\\xf0\\x02\\x8d\\x07x\\x81\\xc6\\x03\\xbc@\\xe3\\x01^\\xa0\\xf1\\x00/\\xd0x\\x80\\x17h<\\xc0\\x0b4\\x1e\\xe0\\x05\\x1a\\x0f\\xf0\\x02\\x8d\\x07x\\x81\\xc6S\\x80F\\xa3\\xf5\\x9c\\xaf\\x1a\\xc7\\r4\\x9e\\x02\\x06\\x83A.\\x97S\\x9d\\x02S\\xd0x\\x80\\x17h<\\xc0\\x0b4\\x1e\\xe0\\x05\\x1a\\x0f\\xf0\\x02\\x8d\\x07x\\x81\\xc6\\x03\\xbc@\\xe3\\x01^\\xa0\\xf1\\x00/\\xd0x\\x80\\x17h<\\xc0\\x0b4\\x1e\\xe0\\x05\\x1a\\x0f\\xf0\\x02\\x8d\\x07x\\x81\\xc6\\x03\\xbc@\\xe3\\x01^\\xe0\\x1b\\x8c\\xcd*$$\\x84F\\xa3\\x19\\x0c\\x06\\xf2_r\\xe0\\xcd\\x9b7\\xa9\\xce\\x85\\x11\\xd8\\xc6\\x9b\\x95H$\\xa2\\xd1ht:\\x9d\\xfc\\x97N\\xa7\\x8bD\"\\xaaC\\xe1\\x05\\x1aoV!!!z\\xbd\\xbe\\xf9\\xa1^\\xaf\\x0f\\x0e\\x0e\\xa64\\x11v\\xa0\\xf1f\\x15\\x1b\\x1b\\xdbr\\xa3\\xee\\xe2\\xe22{\\xf6lJ\\x13a\\x07\\x1aoV~~~!!!\\xcd\\x0f\\x83\\x82\\x82|}})M\\x84\\x1dh\\xbc\\xb9\\xc5\\xc6\\xc6\\n\\x85B\\x84\\x90\\xb3\\xb33l\\xe0\\xcd\\x0f\\x1aon~~~\\x81\\x81\\x81\\x08!\\xb1X\\x0c\\x1bx\\xf3\\x83\\xa3\\x93\\x9d\\xa8\\xad\\xd4*\\x1bu\\xf2\\x06]\\x93Z\\xafQ\\x11\\xdd\\xb2L\\xa9Tz\\xe6\\xcc\\x99\\x89\\x13\\':::v\\xcb\\x029<\\x06\\x87G\\xe7[1\\xf9VL[gV\\xb7,\\xf3y\\x05\\x8d7\\xee\\xd1\\x1d\\xe5\\xbdLEQ\\x8e\\\\`\\xc7mR\\x13\\x0c6\\x93\\xcde\\xb58\\xca\\xd2\\xb3\\xd0\\x18H\\xa7\\xd2\\xea\\x9atl.CQ\\xa7\\xf1\\x18\\xc4\\xef\\x1f\\xcc\\xef\\xd3\\xdf\\x82\\xea\\\\=\\x114\\xbe\\xb5\\x87\\xf9\\xcaK\\xc7\\xaa\\xd9<6\\x8b\\xcf\\xb1r\\xe4\\xb3\\xb8\\x0c\\xaa\\x13=\\x19\\xadZ\\xd7(U6)4:u\\xd3\\x98i\\x0e\\xee\\x03\\xa0\\xf7\\xff\\x00\\x8d\\x7f\\xcc\\xa0G\\xc7\\xbf\\xa9h\\xac#\\x9c\\xfa\\xd9q-\\xd9T\\xc7yVjYS\\xd5\\xfdZk{\\xc6K\\xef\\ni4\\xaa\\xd3\\xf4\\x18\\xd0\\xf8\\xbfIK4\\t\\xdb\\x8b\\xbd\\x86\\xbaX\\xd8p\\xa8\\xce\\xd2\\x9d\\x94\\xf5\\x9a\\xc2\\xebe\\xb1\\xcb\\xfa\\xd8\\x8b\\x9e\\xab\\xe7\\xf5\\xd4\\xa0\\xf1\\x08!TW\\xa9\\xfd=\\xbe\\xdcs\\xa8+\\xd5AL\\xa5\\xf0Z\\xc9\\xf4\\x0f\\\\l\\x1c\\xe0C-4\\x1e\\xa1\\xe2{\\xca\\xf3\\x87k<\\xc4.T\\x071\\xad\"I\\xe9\\xf8XGWo\\x1e\\xd5A(\\x86\\xfb\\xf1x\\x95\\x9cH\\xfc\\xae\\xe2\\xb9\\xaf;B\\xc8S\\xeczr\\x7f\\xb9F\\xd9S\\x8f7\\x99\\x0b\\xee\\xdb\\xf8_w\\x95\\xd9y81\\xd8X|\\xb2\\xd35\\x11\\xf5\\x0f\\xab_^\\xf8\\xfc\\xffzw\\x00\\xebm\\xfc\\xb5suz\\x1a\\x0b\\x93\\xba#\\x84\\x98l\\x86\\xce\\xc0\\x92\\xa4\\xd4Q\\x1d\\x84Jx7>\\xa9\\xc6\\xd9\\xc7\\x8e\\xea\\x14f\\xe5\\xecc\\x97~\\xa6\\x86\\xea\\x14T\\xc2\\xb7\\xf1\\xd7\\x93\\xeb\\\\\\x07\\xdaS\\x9d\\xa2]\\xbf\\x1e\\xff\\xfc\\xcb\\xdd\\xb3\\xba}\\xb14\\x1ar\\x19`/I\\xa9\\xef\\xf6%\\xf7\\x16\\xf86>/\\xbd\\xd1\\xc2\\x16\\xc7\\x03\\x17<\\x1bn\\xfe\\xb5F\\xaaSP\\x06\\xd3\\xc6\\xd7K\\xb5:-\\xe2\\xf0q<>\\xcd\\x15\\xb05j}c\\xad\\x8e\\xea \\xd4`R\\x1d\\x80\\x1a\\x0f\\xf3\\x15\\xd6B\\x13~\\xdb^\\xfa\\x8d\\x13\\xe9\\x92\\xdf+*\\xef\\x8b\\x84>A\\x83\\xc7\\x8d\\x1e\\xf1*9|\\xd5\\xa6\\xb1\\x13\\xc7\\xcd\\x97\\xc9j\\x92/\\x1e\\xe0r\\xf8\\xbe>#\\xa6\\xbc\\xb8\\xd8\\xca\\xd2\\x1e!\\xa4\\xd1(\\x0f\\xfd\\xb6\\xba\\xa0P\"r\\xf6\\x1e5\\xece\\xd3eC\\x08\\xd9\\x88,\\x1f\\xe4)\\x02\\xc2\\xacM\\xba\\x96\\x9e\\t\\xd3m|UI\\x13\\x9di\\xaaS\\xc4nd\\x9e\\xf9\\xf5\\xf7Mn.\\x03W,\\xf9=:\\xf2\\xbdKW\\x0f\\x9d8\\xb3\\x8b\\x1c\\xc5bqR\\xff\\xf8\\x91\\xc5\\xe2lX\\x91\\xb2laB\\xe1\\x83\\x8c\\xe4\\x8b\\x07\\xc8Q\\xbf\\xfc\\xbe\\xa9\\xba\\xa6x\\xfe\\xdc=o\\xc5n.-\\xbf{\\xb7 \\xcdD\\xf1\\x10Bt\\x06\\xbd\\xaa\\xa4\\xc9t\\xcb\\xef\\xc90m\\xbc\\xa2\\x91`qL\\xd5\\xf84\\xc9\\xef^}\\x83\\xa7O^&\\xe0\\xdb\\xf6\\xf7\\x0e\\x1d\\x171\\xefJZ\\x82BA~X\\xa499\\xb8G\\xbe\\xf0\\x16\\x8fgim\\xe5\\xd8\\xbf_hi\\xd9\\x1d\\x84PC\\xa3\\xf4VNJD\\xd8\\xec>\\xae~V\\x96\\xf6\\x93\\xa2\\xff\\x87\\xc90\\xe1\\xa9l\\x1f\\x99u8\\x00\\x00\\x03\\xc2IDATL\\x0eS\\xd9\\x88\\xe9^\\r\\xa6\\x8dW6\\xea\\x98l\\x934\\x9e t\\x0f\\x8b\\xb3\\xfb\\xfb\\x0ck\\x1e\\xe2\\xe3%\\xd6\\xeb\\x89\\xa2\\x87\\xb7\\xc8\\x87n\\xae\\x03\\x9bG\\xf1xV*\\xb5\\x0c!T[W\\x8a\\x10rv\\xf2$\\x87\\xd3h47\\x97\\x01\\xa6\\x88Gb\\xb2\\x19JY\\xf7\\\\\\xdd\\xd2\\xeb`\\xba\\x1f\\xcf`\\xd1i\\xa69\\x83\\xb6I\\xab\\xd6\\xeb\\x89\\xa4\\x94}I)\\xfbZ\\x0e\\x97)j\\xff\\xfb\\xa3\\x91\\xf5*\\x94\\r\\x08!.\\xe7\\xf1G\\x0b6\\xdb\\x84\\xc7\\x91ht\\x1a\\x83\\x89\\xcb\\xdf\\xddZ\\xc1\\xb4\\xf1l.M\\xdbDpM\\xb0d\\x1eW\\xc0fq\\xc5\\xc1\\x93\\x02\\x06E\\xb6\\x1c\\xee`\\xef\\xd6\\xc1\\\\|\\x0bk\\x84\\x90V\\xa7i\\x1e\\xa2\\xd6(L\\x90\\xeeoZ\\x8d\\x8e\\xcd\\xc5\\xf4\\xed\\x1d\\xd3\\xc6\\x0b\\xac\\x99r\\xa5\\xa9vdEB\\x9f&\\xad\\xca\\xdbk\\x08\\xf9P\\xabk\\xaa\\xab+\\xb7\\xb1v\\xee`\\x16[\\x1b\\x17\\x84\\xd0\\xc3\\xe2lWQ\\x7f\\x84PS\\x93\\xba\\xa0Pbe\\xd5=W\\xc1\\xb6\\xa5\\xd3\\x10\\xd6\\xd6\\xbd\\xec\\xda\\xae\\xee\\x82\\xe9/\\xba\\x83\\x0b\\x9bN3\\xd5)t1\\xe3?\\xc8\\xcaMM\\xbfq\\x82 \\x88\\xc2\\x07\\x19?%\\xac\\x88\\xff\\xf7\\x87Z]G\\xc7Fl\\xac\\x9d<\\xdc\\x03\\x93R\\xf6U\\xd7\\x14k\\xb5\\x9aC\\xbf\\xae\\xa2\\xd1M\\xf8\\xbf\\x86N38\\xb8\\xf4\\xfa\\x8b\\xbc\\x9e\\x0e\\xa6\\x8dw\\xf3\\xe1\\xd5\\x97\\xcbL\\xb4p/\\x8f\\xe0Eq?\\x14=\\xc8\\\\\\xfbE\\xf4\\xb7?\\xfe\\xafF\\xa3\\x9c\\xf3\\xc6V\\x16\\xb3\\x93\\x86\\xc5\\xceX\\xe3\\xe6:p\\xfb\\xeeY\\x9fn\\x8c\\xb0\\x14\\xd8\\x8b\\x83b\\x90\\xc9Nk\\xad/\\x97\\xb9\\xf9`z\\xfd+\\xbeg\\x0b\\x1fX]\\xe4\\x1e\\xec\\xda\\xeb.\\xdc~vM*]iV\\xf9\\x9c\\xb5\\x1eT\\x07\\xa1\\x06\\xa6\\xdbx\\x84\\x90\\xdfpky\\xad\\x8a\\xea\\x14\\x14P\\xd6\\xa9\\x06\\x0e\\xb3\\xa2:\\x05e0\\xfd\\xe4\\x8a\\x10\\n\\x1ec\\xf3\\xc3\\xc6\\x07\\xb6.\\xed\\x9ek\\xf0\\xe7\\xb5#\\x89\\xc9{\\x8c\\x8e\"\\x08-\\x83a\\xfc\\x9c\\x9c\\xd7g\\xac\\xf3\\x1b\\x10\\xd6]!/^9\\x98r\\xe9{\\xa3\\xa3x\\\\+\\x95\\xda\\xf8\\ta\\xf3f\\xef\\xf0p\\x0fho\\x99\\x15\\xf7j_|\\x03\\xd3\\r<\\xd6{5\\x08\\xa1\\xcb\\xbfWK\\xa5t;7\\xe3\\xa7\\x97\\xa8\\xd4r\\x95\\xcax\\xa5\\x94*\\x99\\x05\\xcf\\xd2\\xe8(\\x01\\xdf\\x8e\\xcd\\xee\\xb6\\xc3\\x9e*\\x95\\x8c\\xfc\\x13U[Z\\xad\\x86\\xc52~{\\x02K\\x81}{\\xa3j\\x1f\\xd5;\\xbb\\x18FMv\\xe8\\xae\\x84\\xbd\\x0e\\xd6\\x8d\\xd7\\x13\\xe8\\xb7\\x7f\\x95:\\xf9\\n\\xa9\\x0eb>\\x95\\xb7+f.r\\xc5\\xf9\\xf65\\xf8\\xee\\xc7#\\x84\\xe8\\x0c4f\\xba\\xc3\\xa3\\x8c2\\xaa\\x83\\x98\\xc9\\xc3\\x1b\\xa5\\x91\\xaf8\\xe0\\\\w\\xdc\\x1b\\x8f\\x10rv\\xe7\\x84\\x84[\\x95\\xe4TQ\\x1d\\xc4\\xe4Js*\\x87\\x8e\\xb3qt\\xc3\\xfd>MX\\xef\\xd54\\xbb\\x9b\\xa9JK\\xaaw\\x0ft\\xa2:\\x88\\xa9<\\xcc\\xac\\x1c=\\xd9\\xd6\\xcb\\x1f\\xc7k\\xbeZ\\xc1}\\x1bO\\xea\\x1f\\xc4\\x1b\\x1a%\\xb8\\x9fVBh\\x9f\\xb7\\xdb\\xb9\\x10Z}\\xc1_%\\xc3\\xc7[A\\xddI\\xb0\\x8d\\x7f\\xac\\xb6\\xa2\\xe9\\xdc\\xa1*\\x06\\x97\\xed\\xe0aO\\xeb\\xfd\\x9b\\x02\\x83\\xdeP]TK4i\\'\\xccv\\xb2q\\xc4\\xf1\\xfaF\\xa3\\xa0\\xf1\\xade^\\xaa\\xbfz\\xb2Z\\xe4c\\xcb\\x16p\\x05v\\xa68\\xbd\\xd2\\xe4\\xe4\\xb5*\\xad\\\\]^\\xd00j\\xb2}\\xe0\\x0b6T\\xc7\\xe9Y\\xa0\\xf1\\xc6e_i\\xb8\\x9b!\\xaf*V;yYj5\\x88\\xc1b\\xb0x,\\xd3\\x9d\\xe8\\xf2\\x8ch\\x88\\xa6Qi\\xf5:\\x82\\xcdA\\x15\\xf7e\\xc2\\xbe\\xdc\\xfe\\xc1\\x96\\xfe\\xa3\\xf0\\xfd\\xc3j\\x07\\xa0\\xf1\\x1d\\xd16\\x19J\\n\\x94\\xb2Z\\x9d\\xbc^\\xa7V!\\x95\\xbc\\x87^)\\xc7\\xe33\\xb8\\x164K\\x1b\\xa6\\xc0\\x96\\xd9\\xa7\\xbf\\x05\\x93\\x85\\xf7\\x01\\xc8\\x0eA\\xe3\\x01^z\\xff\\x074\\x00\\x9e\\x044\\x1e\\xe0\\x05\\x1a\\x0f\\xf0\\x02\\x8d\\x07x\\x81\\xc6\\x03\\xbc@\\xe3\\x01^\\xa0\\xf1\\x00/\\xff\\x0f\\x84\\xa7\\xe53mmx\\xdc\\x00\\x00\\x00\\x00IEND\\xaeB`\\x82'"
      ]
     },
     "execution_count": 90,
     "metadata": {},
     "output_type": "execute_result"
    }
   ],
   "source": [
    "app.get_graph().draw_mermaid_png()"
   ]
  },
  {
   "cell_type": "code",
   "execution_count": 91,
   "id": "11ef9ec5",
   "metadata": {},
   "outputs": [
    {
     "data": {
      "image/png": "[encoded data removed]",
      "text/plain": [
       "<IPython.core.display.Image object>"
      ]
     },
     "execution_count": 91,
     "metadata": {},
     "output_type": "execute_result"
    }
   ],
   "source": [
    "Image(app.get_graph().draw_mermaid_png())"
   ]
  },
  {
   "cell_type": "code",
   "execution_count": 92,
   "id": "6385686a",
   "metadata": {},
   "outputs": [
    {
     "data": {
      "image/png": "[encoded data removed]",
      "text/plain": [
       "<IPython.core.display.Image object>"
      ]
     },
     "metadata": {},
     "output_type": "display_data"
    }
   ],
   "source": [
    "display(Image(app.get_graph().draw_mermaid_png()))"
   ]
  },
  {
   "cell_type": "code",
   "execution_count": 109,
   "id": "af2d3e4f",
   "metadata": {},
   "outputs": [
    {
     "data": {
      "text/plain": [
       "'total token number in the generated answer is 8'"
      ]
     },
     "execution_count": 109,
     "metadata": {},
     "output_type": "execute_result"
    }
   ],
   "source": [
    "app.invoke(\"Hi\")"
   ]
  },
  {
   "cell_type": "code",
   "execution_count": 110,
   "id": "33b097b9",
   "metadata": {},
   "outputs": [
    {
     "data": {
      "text/plain": [
       "'total token number in the generated answer is 123'"
      ]
     },
     "execution_count": 110,
     "metadata": {},
     "output_type": "execute_result"
    }
   ],
   "source": [
    "app.invoke(\"can you tell me about the india's capital?\")"
   ]
  },
  {
   "cell_type": "code",
   "execution_count": 111,
   "id": "0aa33e2f",
   "metadata": {},
   "outputs": [
    {
     "data": {
      "text/plain": [
       "'total token number in the generated answer is 781'"
      ]
     },
     "execution_count": 111,
     "metadata": {},
     "output_type": "execute_result"
    }
   ],
   "source": [
    "app.invoke(\"tell me about the tata enterpirse in very detail.\")"
   ]
  },
  {
   "cell_type": "code",
   "execution_count": 112,
   "id": "b9605c5d",
   "metadata": {},
   "outputs": [
    {
     "name": "stdout",
     "output_type": "stream",
     "text": [
      "here is output from My_LLM\n",
      "_______\n",
      "Tata Enterprises is not a single entity, but rather a vast and complex conglomerate, officially known as the Tata Group.  It's a multinational conglomerate headquartered in Mumbai, India, with operations spanning numerous sectors globally.  Understanding its entirety requires breaking it down into several key aspects:\n",
      "\n",
      "**I. History and Structure:**\n",
      "\n",
      "* **Origins:** The group's roots trace back to 1868 with the establishment of a trading company by Jamsetji Tata.  His vision extended beyond mere profit, encompassing social responsibility and nation-building, a philosophy that continues to shape the group today.\n",
      "* **Structure:** The Tata Group isn't a single company but a network of independent operating companies, trusts, and philanthropic organizations.  These entities are linked through shared ownership, a common brand identity, and the overarching Tata Sons, the group's holding company.  This decentralized structure allows for greater autonomy and specialization within individual businesses.\n",
      "* **Trust Structure:**  A unique feature is the significant role of philanthropic trusts.  These trusts own substantial shares in Tata Sons and other group companies, ensuring the long-term sustainability of the group and directing a portion of its profits towards social causes. This structure minimizes the influence of any single individual or family and promotes a commitment to societal impact.\n",
      "* **Leadership:**  The group is led by a chairman and board of directors.  The selection of leadership involves a rigorous process emphasizing competence and alignment with the group's values.  Succession planning is a crucial aspect of the group's governance.\n",
      "\n",
      "**II. Key Sectors and Businesses:**\n",
      "\n",
      "The Tata Group's reach is exceptionally broad, encompassing a diverse range of industries.  Some of the most prominent include:\n",
      "\n",
      "* **Automotive:** Tata Motors is a global automotive manufacturer, producing passenger vehicles, commercial vehicles, and electric vehicles.  Jaguar Land Rover is a significant subsidiary acquired by Tata Motors.\n",
      "* **Steel:** Tata Steel is a major global steel producer, with operations in India and other countries.\n",
      "* **IT Services:** Tata Consultancy Services (TCS) is one of the world's largest IT services companies, providing a range of services to clients globally.  Tata Elxsi and Tata Technologies are other key players in the IT sector.\n",
      "* **Consumer Goods:** Tata Consumer Products offers a wide range of food and beverage products, including tea, coffee, salt, and other staples.\n",
      "* **Chemicals:** Tata Chemicals produces a variety of chemicals and fertilizers.\n",
      "* **Energy:** Tata Power is a major player in the Indian power sector, involved in generation, transmission, and distribution.\n",
      "* **Telecommunications:** Tata Teleservices previously operated in the telecom sector but has undergone restructuring.\n",
      "* **Hospitality:** Indian Hotels Company Limited (IHCL), which operates the Taj Hotels, is a leading hospitality brand.\n",
      "* **Aerospace:** Tata Advanced Systems is involved in aerospace and defense manufacturing.\n",
      "* **Retail:** Tata Group has a presence in retail through various ventures, though it's not as dominant as in other sectors.\n",
      "\n",
      "**III. Global Presence:**\n",
      "\n",
      "The Tata Group operates in numerous countries across the globe, with significant presence in India, the UK, the US, and other regions. This global footprint reflects its ambition and adaptability in international markets.\n",
      "\n",
      "**IV. Corporate Social Responsibility (CSR):**\n",
      "\n",
      "CSR is deeply embedded in the Tata Group's DNA.  The trusts' involvement ensures that a significant portion of profits is reinvested in social initiatives.  These initiatives encompass various areas, including education, healthcare, rural development, and environmental sustainability.\n",
      "\n",
      "**V. Challenges and Future Outlook:**\n",
      "\n",
      "Despite its success, the Tata Group faces challenges like:\n",
      "\n",
      "* **Global competition:** Intense competition in various sectors requires continuous innovation and adaptation.\n",
      "* **Economic fluctuations:** Global economic downturns can impact the group's performance.\n",
      "* **Regulatory changes:**  Navigating evolving regulatory landscapes in different countries requires strategic planning.\n",
      "* **Sustainability concerns:**  Meeting growing demands for sustainable practices across its operations is a crucial focus.\n",
      "\n",
      "The Tata Group's future outlook is tied to its ability to navigate these challenges while maintaining its commitment to innovation, social responsibility, and long-term value creation.  Its diversified portfolio, strong brands, and commitment to ethical business practices position it for continued growth and influence in the global economy.  However, maintaining its decentralized structure effectively and ensuring consistent leadership are crucial for long-term success.\n",
      "\n",
      "\n",
      "here is output from LLM_Output_Token_Counter\n",
      "_______\n",
      "total token number in the generated answer is 669\n",
      "\n",
      "\n"
     ]
    }
   ],
   "source": [
    "for output in app.stream(\"tell me about the tata enterpirse in very detail.\"):\n",
    "    for key,value in output.items():\n",
    "        print(f\"here is output from {key}\")\n",
    "        print(\"_______\")\n",
    "        print(value)\n",
    "        print(\"\\n\")"
   ]
  }
 ],
 "metadata": {
  "kernelspec": {
   "display_name": "Python 3",
   "language": "python",
   "name": "python3"
  },
  "language_info": {
   "codemirror_mode": {
    "name": "ipython",
    "version": 3
   },
   "file_extension": ".py",
   "mimetype": "text/x-python",
   "name": "python",
   "nbconvert_exporter": "python",
   "pygments_lexer": "ipython3",
   "version": "3.13.2"
  }
 },
 "nbformat": 4,
 "nbformat_minor": 5
}
