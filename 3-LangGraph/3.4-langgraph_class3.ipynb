{
 "cells": [
  {
   "cell_type": "code",
   "execution_count": 7,
   "id": "f151b4f2",
   "metadata": {},
   "outputs": [],
   "source": [
    "# Groq API Configuration\n",
    "\n",
    "import os \n",
    "from dotenv import load_dotenv\n",
    "load_dotenv()\n",
    "\n",
    "GROQ_API_KEY = os.getenv(\"GROQ_API_KEY\")"
   ]
  },
  {
   "cell_type": "markdown",
   "id": "7797c9b3",
   "metadata": {},
   "source": [
    "#### Load the model"
   ]
  },
  {
   "cell_type": "code",
   "execution_count": 12,
   "id": "6c84745a",
   "metadata": {},
   "outputs": [],
   "source": [
    "from langchain_groq import ChatGroq\n",
    "\n",
    "model=\"deepseek-r1-distill-llama-70b\"\n",
    "llm= ChatGroq(model=model)"
   ]
  },
  {
   "cell_type": "code",
   "execution_count": 13,
   "id": "20cd7fbb",
   "metadata": {},
   "outputs": [
    {
     "data": {
      "text/plain": [
       "AIMessage(content='<think>\\n\\n</think>\\n\\nHello! How can I assist you today? 😊', additional_kwargs={}, response_metadata={'token_usage': {'completion_tokens': 16, 'prompt_tokens': 4, 'total_tokens': 20, 'completion_time': 0.074164628, 'prompt_time': 5.6739e-05, 'queue_time': 0.053678621, 'total_time': 0.074221367}, 'model_name': 'deepseek-r1-distill-llama-70b', 'system_fingerprint': 'fp_1bbe7845ec', 'finish_reason': 'stop', 'logprobs': None}, id='run--3a3e522f-7240-4cd6-9809-1ba3ac92f692-0', usage_metadata={'input_tokens': 4, 'output_tokens': 16, 'total_tokens': 20})"
      ]
     },
     "execution_count": 13,
     "metadata": {},
     "output_type": "execute_result"
    }
   ],
   "source": [
    "llm.invoke(\"Hi\")"
   ]
  },
  {
   "cell_type": "code",
   "execution_count": 14,
   "id": "bcd90c9c",
   "metadata": {},
   "outputs": [
    {
     "data": {
      "text/plain": [
       "'<think>\\n\\n</think>\\n\\nHello! How can I assist you today?'"
      ]
     },
     "execution_count": 14,
     "metadata": {},
     "output_type": "execute_result"
    }
   ],
   "source": [
    "llm.invoke(\"Hi\").content"
   ]
  },
  {
   "cell_type": "code",
   "execution_count": 15,
   "id": "ce03ecc3",
   "metadata": {},
   "outputs": [
    {
     "name": "stdout",
     "output_type": "stream",
     "text": [
      "<think>\n",
      "\n",
      "</think>\n",
      "\n",
      "Hello! How can I assist you today?\n"
     ]
    }
   ],
   "source": [
    "print(llm.invoke(\"Hi\").content)"
   ]
  },
  {
   "cell_type": "markdown",
   "id": "cc788af9",
   "metadata": {},
   "source": [
    "#### import all module"
   ]
  },
  {
   "cell_type": "code",
   "execution_count": 123,
   "id": "bda87091",
   "metadata": {},
   "outputs": [],
   "source": [
    "from langchain_core.tools import tool\n",
    "from langchain_core.messages import HumanMessage, AIMessage\n",
    "from langgraph.graph import StateGraph, MessagesState, START, END\n",
    "from langgraph.prebuilt import ToolNode"
   ]
  },
  {
   "cell_type": "code",
   "execution_count": 23,
   "id": "2dd57480",
   "metadata": {},
   "outputs": [],
   "source": [
    "def call_model(state: MessagesState):\n",
    "    messages = state['messages']\n",
    "    response = llm.invoke(messages)\n",
    "    return {\"messages\": [response]}"
   ]
  },
  {
   "cell_type": "code",
   "execution_count": 29,
   "id": "3f0d5bfa",
   "metadata": {},
   "outputs": [
    {
     "data": {
      "text/plain": [
       "HumanMessage(content='Hi, How are you?', additional_kwargs={}, response_metadata={})"
      ]
     },
     "execution_count": 29,
     "metadata": {},
     "output_type": "execute_result"
    }
   ],
   "source": [
    "# messages passes as string\n",
    "HumanMessage(\"Hi, How are you?\")"
   ]
  },
  {
   "cell_type": "code",
   "execution_count": 43,
   "id": "a581188e",
   "metadata": {},
   "outputs": [
    {
     "data": {
      "text/plain": [
       "HumanMessage(content=['Hi, How are you?'], additional_kwargs={}, response_metadata={})"
      ]
     },
     "execution_count": 43,
     "metadata": {},
     "output_type": "execute_result"
    }
   ],
   "source": [
    "# messages passes as list\n",
    "\n",
    "HumanMessage([\"Hi, How are you?\"])"
   ]
  },
  {
   "cell_type": "markdown",
   "id": "c10402b3",
   "metadata": {},
   "source": [
    "#### This code is only for the testing"
   ]
  },
  {
   "cell_type": "code",
   "execution_count": 44,
   "id": "0bd16b40",
   "metadata": {},
   "outputs": [
    {
     "data": {
      "text/plain": [
       "{'messages': ['Hi, How are you?']}"
      ]
     },
     "execution_count": 44,
     "metadata": {},
     "output_type": "execute_result"
    }
   ],
   "source": [
    "state= {\"messages\": [\"Hi, How are you?\"]}\n",
    "state"
   ]
  },
  {
   "cell_type": "code",
   "execution_count": 45,
   "id": "21aad74c",
   "metadata": {},
   "outputs": [
    {
     "data": {
      "text/plain": [
       "{'messages': [AIMessage(content=\"<think>\\n\\n</think>\\n\\nHi! I'm just a virtual assistant, so I don't have feelings, but I'm here and ready to help you with whatever you need. How are you doing? 😊\", additional_kwargs={}, response_metadata={'token_usage': {'completion_tokens': 42, 'prompt_tokens': 9, 'total_tokens': 51, 'completion_time': 0.216688977, 'prompt_time': 0.000387163, 'queue_time': 0.057833896999999995, 'total_time': 0.21707614}, 'model_name': 'deepseek-r1-distill-llama-70b', 'system_fingerprint': 'fp_1bbe7845ec', 'finish_reason': 'stop', 'logprobs': None}, id='run--1d905b43-8049-413c-8788-69c49d76a57a-0', usage_metadata={'input_tokens': 9, 'output_tokens': 42, 'total_tokens': 51})]}"
      ]
     },
     "execution_count": 45,
     "metadata": {},
     "output_type": "execute_result"
    }
   ],
   "source": [
    "call_model(state)"
   ]
  },
  {
   "cell_type": "code",
   "execution_count": 40,
   "id": "4cf15e76",
   "metadata": {},
   "outputs": [],
   "source": [
    "# from langchain_core.messages import AnyMessage\n",
    "# # class MessagesState(TypedDict):\n",
    "# #     messages: Annotated[list[AnyMessage], add_messages]\n",
    "\n",
    "\n",
    "# class AgentState(TypedDict):\n",
    "#     messages: Annotated[Sequence[BaseMessage], operator.add]"
   ]
  },
  {
   "cell_type": "code",
   "execution_count": 63,
   "id": "e02b2670",
   "metadata": {},
   "outputs": [],
   "source": [
    "from langgraph.graph import StateGraph, MessagesState, START, END"
   ]
  },
  {
   "cell_type": "code",
   "execution_count": 82,
   "id": "e6309299",
   "metadata": {},
   "outputs": [],
   "source": [
    "workflow= StateGraph(MessagesState)"
   ]
  },
  {
   "cell_type": "code",
   "execution_count": 83,
   "id": "0faa30ff",
   "metadata": {},
   "outputs": [
    {
     "data": {
      "text/plain": [
       "<langgraph.graph.state.StateGraph at 0x27d3ca9df90>"
      ]
     },
     "execution_count": 83,
     "metadata": {},
     "output_type": "execute_result"
    }
   ],
   "source": [
    "workflow.add_node(\"mybot\", call_model)"
   ]
  },
  {
   "cell_type": "code",
   "execution_count": 86,
   "id": "14101cc4",
   "metadata": {},
   "outputs": [
    {
     "data": {
      "text/plain": [
       "<langgraph.graph.state.StateGraph at 0x27d3ca9df90>"
      ]
     },
     "execution_count": 86,
     "metadata": {},
     "output_type": "execute_result"
    }
   ],
   "source": [
    "workflow.add_edge(START, \"mybot\")"
   ]
  },
  {
   "cell_type": "code",
   "execution_count": 87,
   "id": "dc82304d",
   "metadata": {},
   "outputs": [
    {
     "data": {
      "text/plain": [
       "<langgraph.graph.state.StateGraph at 0x27d3ca9df90>"
      ]
     },
     "execution_count": 87,
     "metadata": {},
     "output_type": "execute_result"
    }
   ],
   "source": [
    "workflow.add_edge(\"mybot\", END)"
   ]
  },
  {
   "cell_type": "code",
   "execution_count": 88,
   "id": "c1168311",
   "metadata": {},
   "outputs": [
    {
     "data": {
      "image/png": "[encoded data removed]",
      "text/plain": [
       "<langgraph.graph.state.CompiledStateGraph object at 0x0000027D3CA9E5D0>"
      ]
     },
     "execution_count": 88,
     "metadata": {},
     "output_type": "execute_result"
    }
   ],
   "source": [
    "workflow.compile()"
   ]
  },
  {
   "cell_type": "code",
   "execution_count": 89,
   "id": "33b0b90c",
   "metadata": {},
   "outputs": [],
   "source": [
    "app= workflow.compile()"
   ]
  },
  {
   "cell_type": "code",
   "execution_count": 91,
   "id": "e94792a9",
   "metadata": {},
   "outputs": [
    {
     "data": {
      "image/png": "[encoded data removed]",
      "text/plain": [
       "<IPython.core.display.Image object>"
      ]
     },
     "metadata": {},
     "output_type": "display_data"
    }
   ],
   "source": [
    "from IPython.display import Image, display\n",
    "\n",
    "display(Image(app.get_graph().draw_mermaid_png()))"
   ]
  },
  {
   "cell_type": "code",
   "execution_count": 93,
   "id": "5c7e2141",
   "metadata": {},
   "outputs": [],
   "source": [
    "input= {\"messages\": [\"Hi, How are you?\"]}"
   ]
  },
  {
   "cell_type": "code",
   "execution_count": 94,
   "id": "96076aeb",
   "metadata": {},
   "outputs": [
    {
     "data": {
      "text/plain": [
       "{'messages': [HumanMessage(content='Hi, How are you?', additional_kwargs={}, response_metadata={}, id='c570a6ca-6668-4122-a20e-5f80588006ac'),\n",
       "  AIMessage(content=\"<think>\\n\\n</think>\\n\\nHi! I'm just a virtual assistant, so I don't have feelings, but I'm here and ready to help you with whatever you need. How are you doing? 😊\", additional_kwargs={}, response_metadata={'token_usage': {'completion_tokens': 42, 'prompt_tokens': 9, 'total_tokens': 51, 'completion_time': 0.196257664, 'prompt_time': 0.000189157, 'queue_time': 0.056589982999999996, 'total_time': 0.196446821}, 'model_name': 'deepseek-r1-distill-llama-70b', 'system_fingerprint': 'fp_1bbe7845ec', 'finish_reason': 'stop', 'logprobs': None}, id='run--ea66d843-8878-4d67-a2cd-2146513e1fda-0', usage_metadata={'input_tokens': 9, 'output_tokens': 42, 'total_tokens': 51})]}"
      ]
     },
     "execution_count": 94,
     "metadata": {},
     "output_type": "execute_result"
    }
   ],
   "source": [
    "app.invoke(input)"
   ]
  },
  {
   "cell_type": "code",
   "execution_count": 105,
   "id": "7e0282a7",
   "metadata": {},
   "outputs": [
    {
     "name": "stdout",
     "output_type": "stream",
     "text": [
      "Output from mybot Node\n",
      "___________\n",
      "{'messages': [AIMessage(content=\"<think>\\n\\n</think>\\n\\nHi! I'm just a virtual assistant, so I don't have feelings, but I'm here and ready to help you with whatever you need. How are *you* doing? 😊\", additional_kwargs={}, response_metadata={'token_usage': {'completion_tokens': 44, 'prompt_tokens': 9, 'total_tokens': 53, 'completion_time': 0.208920032, 'prompt_time': 0.000522312, 'queue_time': 0.055930538, 'total_time': 0.209442344}, 'model_name': 'deepseek-r1-distill-llama-70b', 'system_fingerprint': 'fp_1bbe7845ec', 'finish_reason': 'stop', 'logprobs': None}, id='run--36595e09-7927-4dfc-a9f9-d8a1c36f44b9-0', usage_metadata={'input_tokens': 9, 'output_tokens': 44, 'total_tokens': 53})]}\n"
     ]
    }
   ],
   "source": [
    "for output in app.stream(input):\n",
    "    for key, value in output.items():\n",
    "        print(f\"Output from {key} Node\")\n",
    "        print(\"___________\")\n",
    "        print(value)"
   ]
  },
  {
   "cell_type": "code",
   "execution_count": 100,
   "id": "8359ab61",
   "metadata": {},
   "outputs": [
    {
     "name": "stdout",
     "output_type": "stream",
     "text": [
      "Output from mybot Node\n",
      "_______\n",
      "{'messages': [AIMessage(content=\"<think>\\n\\n</think>\\n\\nHi! I'm just a virtual assistant, so I don't have feelings, but I'm here and ready to help you with whatever you need. How are you doing? 😊\", additional_kwargs={}, response_metadata={'token_usage': {'completion_tokens': 42, 'prompt_tokens': 9, 'total_tokens': 51, 'completion_time': 0.204652875, 'prompt_time': 0.000214887, 'queue_time': 0.057381708000000003, 'total_time': 0.204867762}, 'model_name': 'deepseek-r1-distill-llama-70b', 'system_fingerprint': 'fp_1bbe7845ec', 'finish_reason': 'stop', 'logprobs': None}, id='run--fb6d1710-1505-4278-a227-5414707ec7a4-0', usage_metadata={'input_tokens': 9, 'output_tokens': 42, 'total_tokens': 51})]}\n",
      "\n",
      "\n"
     ]
    }
   ],
   "source": [
    "for output in app.stream(input):\n",
    "    for key,value in output.items():\n",
    "        print(f\"Output from {key} Node\")\n",
    "        print(\"_______\")\n",
    "        print(value)\n",
    "        print(\"\\n\")"
   ]
  },
  {
   "cell_type": "code",
   "execution_count": 95,
   "id": "4b30c3d2",
   "metadata": {},
   "outputs": [
    {
     "data": {
      "text/plain": [
       "{'messages': [HumanMessage(content='What is AgenticAI?', additional_kwargs={}, response_metadata={}, id='372df89a-76f4-41f9-85e1-b18b24b152e7'),\n",
       "  AIMessage(content=\"<think>\\n\\n</think>\\n\\nAgenticAI is a company that specializes in developing AI-driven solutions to help organizations manage and optimize their supply chains. The company uses advanced algorithms and machine learning techniques to provide predictive analytics, demand forecasting, and inventory optimization. AgenticAI's platform is designed to help businesses make data-driven decisions, reduce costs, and improve operational efficiency.\", additional_kwargs={}, response_metadata={'token_usage': {'completion_tokens': 72, 'prompt_tokens': 9, 'total_tokens': 81, 'completion_time': 0.326203122, 'prompt_time': 0.001403236, 'queue_time': 0.056493324, 'total_time': 0.327606358}, 'model_name': 'deepseek-r1-distill-llama-70b', 'system_fingerprint': 'fp_1bbe7845ec', 'finish_reason': 'stop', 'logprobs': None}, id='run--f3cced25-5378-4cb1-9a4f-603d0578c272-0', usage_metadata={'input_tokens': 9, 'output_tokens': 72, 'total_tokens': 81})]}"
      ]
     },
     "execution_count": 95,
     "metadata": {},
     "output_type": "execute_result"
    }
   ],
   "source": [
    "app.invoke({\"messages\": [\"What is AgenticAI?\"]})"
   ]
  },
  {
   "cell_type": "markdown",
   "id": "97e09a5a",
   "metadata": {},
   "source": [
    "#### This is a workflow with tool calling"
   ]
  },
  {
   "cell_type": "code",
   "execution_count": 106,
   "id": "954fb949",
   "metadata": {},
   "outputs": [],
   "source": [
    "@tool\n",
    "def search(query:str):\n",
    "    \"\"\"This is my custom tool for searching a weather\"\"\"\n",
    "    if \"delhi\" in query.lower():\n",
    "        return \"the temp is 45 degree and sunny\"\n",
    "    return \"the temp is 25 degree and cloudy\""
   ]
  },
  {
   "cell_type": "code",
   "execution_count": 113,
   "id": "f661e821",
   "metadata": {},
   "outputs": [
    {
     "data": {
      "text/plain": [
       "StructuredTool(name='search', description='This is my custom tool for searching a weather', args_schema=<class 'langchain_core.utils.pydantic.search'>, func=<function search at 0x0000027D434FA700>)"
      ]
     },
     "execution_count": 113,
     "metadata": {},
     "output_type": "execute_result"
    }
   ],
   "source": [
    "search"
   ]
  },
  {
   "cell_type": "code",
   "execution_count": 114,
   "id": "cfe51e07",
   "metadata": {},
   "outputs": [
    {
     "data": {
      "text/plain": [
       "'search'"
      ]
     },
     "execution_count": 114,
     "metadata": {},
     "output_type": "execute_result"
    }
   ],
   "source": [
    "search.name"
   ]
  },
  {
   "cell_type": "code",
   "execution_count": 115,
   "id": "008064d8",
   "metadata": {},
   "outputs": [
    {
     "data": {
      "text/plain": [
       "'This is my custom tool for searching a weather'"
      ]
     },
     "execution_count": 115,
     "metadata": {},
     "output_type": "execute_result"
    }
   ],
   "source": [
    "search.description"
   ]
  },
  {
   "cell_type": "code",
   "execution_count": 118,
   "id": "f99bfab7",
   "metadata": {},
   "outputs": [
    {
     "data": {
      "text/plain": [
       "{'query': {'title': 'Query', 'type': 'string'}}"
      ]
     },
     "execution_count": 118,
     "metadata": {},
     "output_type": "execute_result"
    }
   ],
   "source": [
    "search.args"
   ]
  },
  {
   "cell_type": "markdown",
   "id": "a808aeda",
   "metadata": {},
   "source": [
    "#### Testing a tool"
   ]
  },
  {
   "cell_type": "code",
   "execution_count": 108,
   "id": "bb6b3439",
   "metadata": {},
   "outputs": [
    {
     "data": {
      "text/plain": [
       "'the temp is 25 degree and cloudy'"
      ]
     },
     "execution_count": 108,
     "metadata": {},
     "output_type": "execute_result"
    }
   ],
   "source": [
    "search.invoke(\"what is a tempurature in kashmir?\")"
   ]
  },
  {
   "cell_type": "code",
   "execution_count": 109,
   "id": "4e4ba244",
   "metadata": {},
   "outputs": [
    {
     "data": {
      "text/plain": [
       "'the temp is 45 degree and sunny'"
      ]
     },
     "execution_count": 109,
     "metadata": {},
     "output_type": "execute_result"
    }
   ],
   "source": [
    "search.invoke(\"what is a tempurature in delhi?\")"
   ]
  },
  {
   "cell_type": "code",
   "execution_count": 119,
   "id": "ce4f2454",
   "metadata": {},
   "outputs": [
    {
     "data": {
      "text/plain": [
       "AIMessage(content='<think>\\n\\n</think>\\n\\nAs of my last update in July 2024, I cannot provide real-time temperature data. However, you can easily check the current temperature in Delhi using reliable weather websites, apps, or services like:\\n\\n- **AccuWeather**  \\n- **Weather.com**  \\n- **The Weather Channel**  \\n- **Google Weather** (search \"temperature in Delhi\" on Google)  \\n\\nFor the most accurate and up-to-date information, enable location services on your device or search for Delhi specifically. Let me know if you\\'d like help with anything else!', additional_kwargs={}, response_metadata={'token_usage': {'completion_tokens': 116, 'prompt_tokens': 13, 'total_tokens': 129, 'completion_time': 0.447504819, 'prompt_time': 0.000421683, 'queue_time': 0.057553932, 'total_time': 0.447926502}, 'model_name': 'deepseek-r1-distill-llama-70b', 'system_fingerprint': 'fp_1bbe7845ec', 'finish_reason': 'stop', 'logprobs': None}, id='run--54d28c3a-9227-43b4-b637-5acd3e9fb0fa-0', usage_metadata={'input_tokens': 13, 'output_tokens': 116, 'total_tokens': 129})"
      ]
     },
     "execution_count": 119,
     "metadata": {},
     "output_type": "execute_result"
    }
   ],
   "source": [
    "llm.invoke(\"what is a tempurature in delhi?\")"
   ]
  },
  {
   "cell_type": "markdown",
   "id": "0dea67e5",
   "metadata": {},
   "source": [
    "#### Binding a tool to the LLM\n",
    "**Special Note:** use some good for agentic workflow model, since opensource model might not give you the correct output"
   ]
  },
  {
   "cell_type": "code",
   "execution_count": 124,
   "id": "75dcface",
   "metadata": {},
   "outputs": [],
   "source": [
    "tools= [search]"
   ]
  },
  {
   "cell_type": "code",
   "execution_count": 127,
   "id": "b73e6449",
   "metadata": {},
   "outputs": [],
   "source": [
    "llm_with_tool= llm.bind_tools(tools)"
   ]
  },
  {
   "cell_type": "code",
   "execution_count": 133,
   "id": "00960bf1",
   "metadata": {},
   "outputs": [
    {
     "name": "stdout",
     "output_type": "stream",
     "text": [
      "<think>\n",
      "\n",
      "</think>\n",
      "\n",
      "As of my last update in July 2024, I cannot provide real-time weather information. To find the current temperature in Delhi, you can check a reliable weather website, app, or service like Weather.com, AccuWeather, or the Indian Meteorological Department's official website. Let me know if you'd like help with anything else!\n"
     ]
    }
   ],
   "source": [
    "print(llm.invoke(\"what is a tempurature in delhi?\").content)"
   ]
  },
  {
   "cell_type": "markdown",
   "id": "e25a9351",
   "metadata": {},
   "source": [
    "#### Testig my llm_with_tool"
   ]
  },
  {
   "cell_type": "code",
   "execution_count": 134,
   "id": "2de374c6",
   "metadata": {},
   "outputs": [],
   "source": [
    "response= llm_with_tool.invoke(\"what is a tempurature in delhi?\")"
   ]
  },
  {
   "cell_type": "code",
   "execution_count": 135,
   "id": "2cfb45c1",
   "metadata": {},
   "outputs": [
    {
     "data": {
      "text/plain": [
       "AIMessage(content='', additional_kwargs={'tool_calls': [{'id': 'cbq0hham7', 'function': {'arguments': '{\"query\":\"temperature in Delhi\"}', 'name': 'search'}, 'type': 'function'}]}, response_metadata={'token_usage': {'completion_tokens': 87, 'prompt_tokens': 135, 'total_tokens': 222, 'completion_time': 0.382207095, 'prompt_time': 0.008702728, 'queue_time': 0.056279907, 'total_time': 0.390909823}, 'model_name': 'deepseek-r1-distill-llama-70b', 'system_fingerprint': 'fp_1bbe7845ec', 'finish_reason': 'tool_calls', 'logprobs': None}, id='run--8bc303e1-872b-44f9-bf15-e0017ccefb3f-0', tool_calls=[{'name': 'search', 'args': {'query': 'temperature in Delhi'}, 'id': 'cbq0hham7', 'type': 'tool_call'}], usage_metadata={'input_tokens': 135, 'output_tokens': 87, 'total_tokens': 222})"
      ]
     },
     "execution_count": 135,
     "metadata": {},
     "output_type": "execute_result"
    }
   ],
   "source": [
    "response"
   ]
  },
  {
   "cell_type": "code",
   "execution_count": 130,
   "id": "d64511fe",
   "metadata": {},
   "outputs": [
    {
     "data": {
      "text/plain": [
       "''"
      ]
     },
     "execution_count": 130,
     "metadata": {},
     "output_type": "execute_result"
    }
   ],
   "source": [
    "response.content"
   ]
  },
  {
   "cell_type": "code",
   "execution_count": 136,
   "id": "c0f5478e",
   "metadata": {},
   "outputs": [
    {
     "data": {
      "text/plain": [
       "[{'name': 'search',\n",
       "  'args': {'query': 'temperature in Delhi'},\n",
       "  'id': 'cbq0hham7',\n",
       "  'type': 'tool_call'}]"
      ]
     },
     "execution_count": 136,
     "metadata": {},
     "output_type": "execute_result"
    }
   ],
   "source": [
    "response.tool_calls"
   ]
  },
  {
   "cell_type": "code",
   "execution_count": 147,
   "id": "56b1e92c",
   "metadata": {},
   "outputs": [],
   "source": [
    "def call_model(state: MessagesState):\n",
    "    messages = state['messages']\n",
    "    response = llm_with_tool.invoke(messages)\n",
    "    return {\"messages\": [response]}"
   ]
  },
  {
   "cell_type": "markdown",
   "id": "a3019a5c",
   "metadata": {},
   "source": [
    "#### Testing Code"
   ]
  },
  {
   "cell_type": "code",
   "execution_count": 148,
   "id": "2d5b18f1",
   "metadata": {},
   "outputs": [],
   "source": [
    "input= {\"messages\": [\"what is a weather in delhi?\"]}"
   ]
  },
  {
   "cell_type": "code",
   "execution_count": 149,
   "id": "0daa85bc",
   "metadata": {},
   "outputs": [
    {
     "data": {
      "text/plain": [
       "{'messages': [AIMessage(content='', additional_kwargs={'tool_calls': [{'id': 'sb6gz6hfv', 'function': {'arguments': '{\"query\":\"weather in Delhi\"}', 'name': 'search'}, 'type': 'function'}]}, response_metadata={'token_usage': {'completion_tokens': 64, 'prompt_tokens': 133, 'total_tokens': 197, 'completion_time': 0.310037773, 'prompt_time': 0.008570407, 'queue_time': 0.053796832999999995, 'total_time': 0.31860818}, 'model_name': 'deepseek-r1-distill-llama-70b', 'system_fingerprint': 'fp_1bbe7845ec', 'finish_reason': 'tool_calls', 'logprobs': None}, id='run--853253af-448c-4d9b-aeaa-5c7907b8a843-0', tool_calls=[{'name': 'search', 'args': {'query': 'weather in Delhi'}, 'id': 'sb6gz6hfv', 'type': 'tool_call'}], usage_metadata={'input_tokens': 133, 'output_tokens': 64, 'total_tokens': 197})]}"
      ]
     },
     "execution_count": 149,
     "metadata": {},
     "output_type": "execute_result"
    }
   ],
   "source": [
    "call_model(input)"
   ]
  },
  {
   "cell_type": "code",
   "execution_count": 150,
   "id": "af46775a",
   "metadata": {},
   "outputs": [],
   "source": [
    "response= call_model(input)"
   ]
  },
  {
   "cell_type": "code",
   "execution_count": 151,
   "id": "74c7b7db",
   "metadata": {},
   "outputs": [
    {
     "data": {
      "text/plain": [
       "''"
      ]
     },
     "execution_count": 151,
     "metadata": {},
     "output_type": "execute_result"
    }
   ],
   "source": [
    "response[\"messages\"][-1].content"
   ]
  },
  {
   "cell_type": "code",
   "execution_count": 152,
   "id": "832af92e",
   "metadata": {},
   "outputs": [
    {
     "data": {
      "text/plain": [
       "[{'name': 'search',\n",
       "  'args': {'query': 'Delhi weather'},\n",
       "  'id': 'chszaq8rp',\n",
       "  'type': 'tool_call'}]"
      ]
     },
     "execution_count": 152,
     "metadata": {},
     "output_type": "execute_result"
    }
   ],
   "source": [
    "response[\"messages\"][-1].tool_calls"
   ]
  },
  {
   "cell_type": "markdown",
   "id": "4361905a",
   "metadata": {},
   "source": [
    "#### Here my router function\n",
    "\n",
    "Now whatever will come from call_model router funtion will redirect this to the appropriate tool"
   ]
  },
  {
   "cell_type": "code",
   "execution_count": 155,
   "id": "544a4036",
   "metadata": {},
   "outputs": [],
   "source": [
    "def router_function(state: MessagesState):\n",
    "    messages= state[\"messages\"]\n",
    "    last_message= messages[-1]\n",
    "    if last_message.tool_calls:\n",
    "        return \"tools\"\n",
    "    return END"
   ]
  },
  {
   "cell_type": "code",
   "execution_count": 156,
   "id": "b5b2519a",
   "metadata": {},
   "outputs": [
    {
     "data": {
      "text/plain": [
       "[StructuredTool(name='search', description='This is my custom tool for searching a weather', args_schema=<class 'langchain_core.utils.pydantic.search'>, func=<function search at 0x0000027D434FA700>)]"
      ]
     },
     "execution_count": 156,
     "metadata": {},
     "output_type": "execute_result"
    }
   ],
   "source": [
    "tools"
   ]
  },
  {
   "cell_type": "markdown",
   "id": "029dcb39",
   "metadata": {},
   "source": [
    "#### Converting tools to Node"
   ]
  },
  {
   "cell_type": "code",
   "execution_count": 159,
   "id": "33384774",
   "metadata": {},
   "outputs": [],
   "source": [
    "from langgraph.prebuilt import ToolNode\n",
    "\n",
    "tool_node= ToolNode(tools)"
   ]
  },
  {
   "cell_type": "code",
   "execution_count": 160,
   "id": "cee9cfb0",
   "metadata": {},
   "outputs": [
    {
     "data": {
      "text/plain": [
       "tools(tags=None, recurse=True, explode_args=False, func_accepts_config=True, func_accepts={'store': ('__pregel_store', None)}, tools_by_name={'search': StructuredTool(name='search', description='This is my custom tool for searching a weather', args_schema=<class 'langchain_core.utils.pydantic.search'>, func=<function search at 0x0000027D434FA700>)}, tool_to_state_args={'search': {}}, tool_to_store_arg={'search': None}, handle_tool_errors=True, messages_key='messages')"
      ]
     },
     "execution_count": 160,
     "metadata": {},
     "output_type": "execute_result"
    }
   ],
   "source": [
    "tool_node"
   ]
  },
  {
   "cell_type": "code",
   "execution_count": 161,
   "id": "5363b6b4",
   "metadata": {},
   "outputs": [],
   "source": [
    "from langgraph.graph import StateGraph, MessagesState, START, END"
   ]
  },
  {
   "cell_type": "code",
   "execution_count": 174,
   "id": "01dd6be5",
   "metadata": {},
   "outputs": [],
   "source": [
    "workflow2= StateGraph(MessagesState)"
   ]
  },
  {
   "cell_type": "code",
   "execution_count": 175,
   "id": "b1a0c32a",
   "metadata": {},
   "outputs": [
    {
     "data": {
      "text/plain": [
       "<langgraph.graph.state.StateGraph at 0x27d43954190>"
      ]
     },
     "execution_count": 175,
     "metadata": {},
     "output_type": "execute_result"
    }
   ],
   "source": [
    "workflow2.add_node(\"llmwithtool\", call_model)"
   ]
  },
  {
   "cell_type": "code",
   "execution_count": 176,
   "id": "0b2a6aaf",
   "metadata": {},
   "outputs": [
    {
     "data": {
      "text/plain": [
       "<langgraph.graph.state.StateGraph at 0x27d43954190>"
      ]
     },
     "execution_count": 176,
     "metadata": {},
     "output_type": "execute_result"
    }
   ],
   "source": [
    "workflow2.add_node(\"mytools\", tool_node)"
   ]
  },
  {
   "cell_type": "code",
   "execution_count": 177,
   "id": "fe4142fb",
   "metadata": {},
   "outputs": [
    {
     "data": {
      "text/plain": [
       "<langgraph.graph.state.StateGraph at 0x27d43954190>"
      ]
     },
     "execution_count": 177,
     "metadata": {},
     "output_type": "execute_result"
    }
   ],
   "source": [
    "workflow2.add_edge(START, \"llmwithtool\")"
   ]
  },
  {
   "cell_type": "code",
   "execution_count": 178,
   "id": "80557a6b",
   "metadata": {},
   "outputs": [
    {
     "data": {
      "text/plain": [
       "<langgraph.graph.state.StateGraph at 0x27d43954190>"
      ]
     },
     "execution_count": 178,
     "metadata": {},
     "output_type": "execute_result"
    }
   ],
   "source": [
    "workflow2.add_conditional_edges(\n",
    "    \"llmwithtool\",\n",
    "    router_function,\n",
    "    {\n",
    "        \"tools\": \"mytools\",\n",
    "        END: END\n",
    "    }\n",
    ")"
   ]
  },
  {
   "cell_type": "code",
   "execution_count": 179,
   "id": "6fa94555",
   "metadata": {},
   "outputs": [
    {
     "data": {
      "image/png": "[encoded data removed]",
      "text/plain": [
       "<langgraph.graph.state.CompiledStateGraph object at 0x0000027D435802B0>"
      ]
     },
     "execution_count": 179,
     "metadata": {},
     "output_type": "execute_result"
    }
   ],
   "source": [
    "workflow2.compile()"
   ]
  },
  {
   "cell_type": "code",
   "execution_count": 190,
   "id": "aae1b328",
   "metadata": {},
   "outputs": [],
   "source": [
    "app2= workflow2.compile()"
   ]
  },
  {
   "cell_type": "code",
   "execution_count": 195,
   "id": "f0378d22",
   "metadata": {},
   "outputs": [
    {
     "data": {
      "image/png": "[encoded data removed]",
      "text/plain": [
       "<IPython.core.display.Image object>"
      ]
     },
     "metadata": {},
     "output_type": "display_data"
    }
   ],
   "source": [
    "from IPython.display import Image, display\n",
    "\n",
    "display(Image(app2.get_graph().draw_mermaid_png()))"
   ]
  },
  {
   "cell_type": "code",
   "execution_count": 196,
   "id": "7e60b3e1",
   "metadata": {},
   "outputs": [
    {
     "data": {
      "text/plain": [
       "{'messages': [HumanMessage(content='what is a weather in bengraluru?', additional_kwargs={}, response_metadata={}, id='bcff9e1d-a946-4ae2-b6c4-5425750c2926'),\n",
       "  AIMessage(content='', additional_kwargs={'tool_calls': [{'id': '20d5vyqf5', 'function': {'arguments': '{\"query\":\"Bengaluru weather\"}', 'name': 'search'}, 'type': 'function'}]}, response_metadata={'token_usage': {'completion_tokens': 71, 'prompt_tokens': 135, 'total_tokens': 206, 'completion_time': 0.295431159, 'prompt_time': 0.008688254, 'queue_time': 0.059123519000000006, 'total_time': 0.304119413}, 'model_name': 'deepseek-r1-distill-llama-70b', 'system_fingerprint': 'fp_1bbe7845ec', 'finish_reason': 'tool_calls', 'logprobs': None}, id='run--7c3a01c2-3bf5-42c4-bdc1-654103fcc156-0', tool_calls=[{'name': 'search', 'args': {'query': 'Bengaluru weather'}, 'id': '20d5vyqf5', 'type': 'tool_call'}], usage_metadata={'input_tokens': 135, 'output_tokens': 71, 'total_tokens': 206}),\n",
       "  ToolMessage(content='the temp is 25 degree and cloudy', name='search', id='2dfb125e-a0c2-4ae0-a966-01507203366d', tool_call_id='20d5vyqf5')]}"
      ]
     },
     "execution_count": 196,
     "metadata": {},
     "output_type": "execute_result"
    }
   ],
   "source": [
    "app2.invoke({\"messages\": [\"what is a weather in bengraluru?\"]})"
   ]
  },
  {
   "cell_type": "code",
   "execution_count": 198,
   "id": "6a09771c",
   "metadata": {},
   "outputs": [
    {
     "data": {
      "text/plain": [
       "ToolMessage(content='the temp is 25 degree and cloudy', name='search', id='66adc024-b66d-496f-9c4c-4d90c9559fed', tool_call_id='r591v9rye')"
      ]
     },
     "execution_count": 198,
     "metadata": {},
     "output_type": "execute_result"
    }
   ],
   "source": [
    "response= app2.invoke({\"messages\": [\"what is a weather in bengraluru?\"]})\n",
    "response[\"messages\"][-1]"
   ]
  },
  {
   "cell_type": "code",
   "execution_count": 199,
   "id": "7c03346f",
   "metadata": {},
   "outputs": [
    {
     "data": {
      "text/plain": [
       "'the temp is 25 degree and cloudy'"
      ]
     },
     "execution_count": 199,
     "metadata": {},
     "output_type": "execute_result"
    }
   ],
   "source": [
    "response[\"messages\"][-1].content"
   ]
  },
  {
   "cell_type": "code",
   "execution_count": 200,
   "id": "79845721",
   "metadata": {},
   "outputs": [
    {
     "data": {
      "text/plain": [
       "{'messages': [HumanMessage(content='what is a weather in delhi?', additional_kwargs={}, response_metadata={}, id='f4f9cc7d-3393-48fa-91d4-a04cca183522'),\n",
       "  AIMessage(content='', additional_kwargs={'tool_calls': [{'id': 'szmzxf36x', 'function': {'arguments': '{\"query\":\"weather in Delhi\"}', 'name': 'search'}, 'type': 'function'}]}, response_metadata={'token_usage': {'completion_tokens': 107, 'prompt_tokens': 133, 'total_tokens': 240, 'completion_time': 0.441092534, 'prompt_time': 0.008566867, 'queue_time': 0.056393256999999995, 'total_time': 0.449659401}, 'model_name': 'deepseek-r1-distill-llama-70b', 'system_fingerprint': 'fp_1bbe7845ec', 'finish_reason': 'tool_calls', 'logprobs': None}, id='run--7fda8efa-ede5-478d-84c9-e418080ba8c1-0', tool_calls=[{'name': 'search', 'args': {'query': 'weather in Delhi'}, 'id': 'szmzxf36x', 'type': 'tool_call'}], usage_metadata={'input_tokens': 133, 'output_tokens': 107, 'total_tokens': 240}),\n",
       "  ToolMessage(content='the temp is 45 degree and sunny', name='search', id='fea6ec13-c683-40dc-a538-fd1b02acdd6d', tool_call_id='szmzxf36x')]}"
      ]
     },
     "execution_count": 200,
     "metadata": {},
     "output_type": "execute_result"
    }
   ],
   "source": [
    "app2.invoke({\"messages\":[\"what is a weather in delhi?\"]})"
   ]
  },
  {
   "cell_type": "code",
   "execution_count": 201,
   "id": "743387b6",
   "metadata": {},
   "outputs": [
    {
     "data": {
      "text/plain": [
       "'the temp is 45 degree and sunny'"
      ]
     },
     "execution_count": 201,
     "metadata": {},
     "output_type": "execute_result"
    }
   ],
   "source": [
    "response= app2.invoke({\"messages\":[\"what is a weather in delhi?\"]})\n",
    "response[\"messages\"][-1].content"
   ]
  },
  {
   "cell_type": "code",
   "execution_count": 204,
   "id": "3a3479bb",
   "metadata": {},
   "outputs": [
    {
     "data": {
      "text/plain": [
       "HumanMessage(content='what is a weather in delhi?', additional_kwargs={}, response_metadata={}, id='690ea3c0-7d18-4baf-99e5-e8a87f89c0a3')"
      ]
     },
     "execution_count": 204,
     "metadata": {},
     "output_type": "execute_result"
    }
   ],
   "source": [
    "response[\"messages\"][0]"
   ]
  },
  {
   "cell_type": "code",
   "execution_count": 205,
   "id": "b0c09bcb",
   "metadata": {},
   "outputs": [
    {
     "data": {
      "text/plain": [
       "AIMessage(content='', additional_kwargs={'tool_calls': [{'id': 'wt0s999qn', 'function': {'arguments': '{\"query\":\"weather in Delhi\"}', 'name': 'search'}, 'type': 'function'}]}, response_metadata={'token_usage': {'completion_tokens': 94, 'prompt_tokens': 133, 'total_tokens': 227, 'completion_time': 0.405395487, 'prompt_time': 0.008572307, 'queue_time': 0.053738957, 'total_time': 0.413967794}, 'model_name': 'deepseek-r1-distill-llama-70b', 'system_fingerprint': 'fp_1bbe7845ec', 'finish_reason': 'tool_calls', 'logprobs': None}, id='run--1db97253-d3ae-459c-9fc0-64058da97c6c-0', tool_calls=[{'name': 'search', 'args': {'query': 'weather in Delhi'}, 'id': 'wt0s999qn', 'type': 'tool_call'}], usage_metadata={'input_tokens': 133, 'output_tokens': 94, 'total_tokens': 227})"
      ]
     },
     "execution_count": 205,
     "metadata": {},
     "output_type": "execute_result"
    }
   ],
   "source": [
    "response[\"messages\"][1]"
   ]
  },
  {
   "cell_type": "code",
   "execution_count": 206,
   "id": "c0611b88",
   "metadata": {},
   "outputs": [],
   "source": [
    "#### Use good resoning based model"
   ]
  },
  {
   "cell_type": "code",
   "execution_count": 209,
   "id": "e906e9fd",
   "metadata": {},
   "outputs": [
    {
     "data": {
      "text/plain": [
       "{'messages': [HumanMessage(content='Hi, how are you?', additional_kwargs={}, response_metadata={}, id='4c2870d3-d7f7-4012-be92-0cf9bf88082c'),\n",
       "  AIMessage(content=\"Hello! I'm just a virtual assistant, so I don't have feelings, but I'm here and ready to help you. How can I assist you today?\", additional_kwargs={}, response_metadata={'token_usage': {'completion_tokens': 98, 'prompt_tokens': 131, 'total_tokens': 229, 'completion_time': 0.457745967, 'prompt_time': 0.008457969, 'queue_time': 0.05627093100000001, 'total_time': 0.466203936}, 'model_name': 'deepseek-r1-distill-llama-70b', 'system_fingerprint': 'fp_1bbe7845ec', 'finish_reason': 'stop', 'logprobs': None}, id='run--46481609-c866-4493-8d6f-8051061b24f4-0', usage_metadata={'input_tokens': 131, 'output_tokens': 98, 'total_tokens': 229})]}"
      ]
     },
     "execution_count": 209,
     "metadata": {},
     "output_type": "execute_result"
    }
   ],
   "source": [
    "app2.invoke({\"messages\": [\"Hi, how are you?\"]})"
   ]
  },
  {
   "cell_type": "code",
   "execution_count": 210,
   "id": "0a8475e9",
   "metadata": {},
   "outputs": [],
   "source": [
    "response= app2.invoke({\"messages\": [\"Hi, how are you?\"]})"
   ]
  },
  {
   "cell_type": "code",
   "execution_count": 211,
   "id": "f2842207",
   "metadata": {},
   "outputs": [
    {
     "data": {
      "text/plain": [
       "AIMessage(content=\"Hello! How can I assist you today? If you're looking for weather information, could you please let me know the location you're interested in?\", additional_kwargs={}, response_metadata={'token_usage': {'completion_tokens': 404, 'prompt_tokens': 131, 'total_tokens': 535, 'completion_time': 1.7942621650000001, 'prompt_time': 0.00845468, 'queue_time': 0.05635652, 'total_time': 1.802716845}, 'model_name': 'deepseek-r1-distill-llama-70b', 'system_fingerprint': 'fp_1bbe7845ec', 'finish_reason': 'stop', 'logprobs': None}, id='run--726cd96d-9275-44af-9226-b98d94847697-0', usage_metadata={'input_tokens': 131, 'output_tokens': 404, 'total_tokens': 535})"
      ]
     },
     "execution_count": 211,
     "metadata": {},
     "output_type": "execute_result"
    }
   ],
   "source": [
    "response[\"messages\"][-1]"
   ]
  },
  {
   "cell_type": "code",
   "execution_count": 212,
   "id": "f5ff0520",
   "metadata": {},
   "outputs": [],
   "source": [
    "response= app2.invoke({\"messages\": [\"What is agentic AI\"]})"
   ]
  },
  {
   "cell_type": "code",
   "execution_count": 213,
   "id": "ca330ba7",
   "metadata": {},
   "outputs": [
    {
     "data": {
      "text/plain": [
       "'Agentic AI refers to artificial intelligence systems that possess autonomy, the ability to act independently and make decisions based on their environment, goals, and interactions. These systems can perform tasks without explicit human instruction, adapting their behavior to achieve specific objectives. Agentic AI integrates various AI technologies, including machine learning, natural language processing, and decision-making algorithms, to enable proactive and interactive capabilities. It has applications in robotics, autonomous vehicles, smart systems, and personalized assistants, but also raises important considerations around ethics, safety, and control.'"
      ]
     },
     "execution_count": 213,
     "metadata": {},
     "output_type": "execute_result"
    }
   ],
   "source": [
    "response[\"messages\"][-1].content"
   ]
  },
  {
   "cell_type": "code",
   "execution_count": 214,
   "id": "bc6c274e",
   "metadata": {},
   "outputs": [],
   "source": [
    "response= app2.invoke({\"messages\": [\"What is the weather of sikkim\"]})"
   ]
  },
  {
   "cell_type": "code",
   "execution_count": 215,
   "id": "f4045a84",
   "metadata": {},
   "outputs": [
    {
     "data": {
      "text/plain": [
       "'the temp is 25 degree and cloudy'"
      ]
     },
     "execution_count": 215,
     "metadata": {},
     "output_type": "execute_result"
    }
   ],
   "source": [
    "response[\"messages\"][-1].content"
   ]
  },
  {
   "cell_type": "code",
   "execution_count": 216,
   "id": "93819e77",
   "metadata": {},
   "outputs": [
    {
     "name": "stderr",
     "output_type": "stream",
     "text": [
      "Adding an edge to a graph that has already been compiled. This will not be reflected in the compiled graph.\n"
     ]
    },
    {
     "data": {
      "text/plain": [
       "<langgraph.graph.state.StateGraph at 0x27d43954190>"
      ]
     },
     "execution_count": 216,
     "metadata": {},
     "output_type": "execute_result"
    }
   ],
   "source": [
    "workflow2.add_edge(\"mytools\", \"llmwithtool\")"
   ]
  },
  {
   "cell_type": "code",
   "execution_count": 217,
   "id": "b0144bde",
   "metadata": {},
   "outputs": [],
   "source": [
    "app3= workflow2.compile()"
   ]
  },
  {
   "cell_type": "code",
   "execution_count": 220,
   "id": "5ac78a19",
   "metadata": {},
   "outputs": [
    {
     "data": {
      "image/png": "[encoded data removed]",
      "text/plain": [
       "<IPython.core.display.Image object>"
      ]
     },
     "metadata": {},
     "output_type": "display_data"
    }
   ],
   "source": [
    "from IPython.display import display, Image\n",
    "\n",
    "display(Image(app3.get_graph().draw_mermaid_png()))"
   ]
  },
  {
   "cell_type": "code",
   "execution_count": 224,
   "id": "568ac2a7",
   "metadata": {},
   "outputs": [
    {
     "name": "stdout",
     "output_type": "stream",
     "text": [
      "her is output from llmwithtool node\n",
      "________\n",
      "{'messages': [AIMessage(content='', additional_kwargs={'tool_calls': [{'id': 'q26xar5mt', 'function': {'arguments': '{\"query\":\"weather in New Delhi\"}', 'name': 'search'}, 'type': 'function'}]}, response_metadata={'token_usage': {'completion_tokens': 110, 'prompt_tokens': 134, 'total_tokens': 244, 'completion_time': 0.538183051, 'prompt_time': 0.00860927, 'queue_time': 0.056222549999999996, 'total_time': 0.546792321}, 'model_name': 'deepseek-r1-distill-llama-70b', 'system_fingerprint': 'fp_1bbe7845ec', 'finish_reason': 'tool_calls', 'logprobs': None}, id='run--29017232-3c0d-4abd-ae99-89bdca26b4ee-0', tool_calls=[{'name': 'search', 'args': {'query': 'weather in New Delhi'}, 'id': 'q26xar5mt', 'type': 'tool_call'}], usage_metadata={'input_tokens': 134, 'output_tokens': 110, 'total_tokens': 244})]}\n",
      "\n",
      "\n",
      "her is output from mytools node\n",
      "________\n",
      "{'messages': [ToolMessage(content='the temp is 45 degree and sunny', name='search', id='22811ac3-63c1-4f43-8ebd-76c37a6fa42f', tool_call_id='q26xar5mt')]}\n",
      "\n",
      "\n",
      "her is output from llmwithtool node\n",
      "________\n",
      "{'messages': [AIMessage(content='Yes, 45 degrees is quite hot! Make sure to stay hydrated, wear light and breathable clothing, and try to stay in the shade or cool environments if possible.', additional_kwargs={}, response_metadata={'token_usage': {'completion_tokens': 285, 'prompt_tokens': 193, 'total_tokens': 478, 'completion_time': 1.768077408, 'prompt_time': 0.01856611, 'queue_time': 0.053823443, 'total_time': 1.786643518}, 'model_name': 'deepseek-r1-distill-llama-70b', 'system_fingerprint': 'fp_1bbe7845ec', 'finish_reason': 'stop', 'logprobs': None}, id='run--81d2153e-ea01-4ea9-b917-4d518287d1e3-0', usage_metadata={'input_tokens': 193, 'output_tokens': 285, 'total_tokens': 478})]}\n",
      "\n",
      "\n"
     ]
    }
   ],
   "source": [
    "for output in app3.stream({\"messages\": [\"what is a weather in new delhi?\"]}):\n",
    "    for key,value in output.items():\n",
    "        print(f\"her is output from {key} node\")\n",
    "        print(\"________\")\n",
    "        print(value)\n",
    "        print(\"\\n\")"
   ]
  },
  {
   "cell_type": "code",
   "execution_count": 225,
   "id": "cbe5a1d9",
   "metadata": {},
   "outputs": [
    {
     "name": "stdout",
     "output_type": "stream",
     "text": [
      "her is output from llmwithtool node\n",
      "________\n",
      "{'messages': [AIMessage(content='', additional_kwargs={'tool_calls': [{'id': '33cydazm9', 'function': {'arguments': '{\"query\":\"weather in Delhi\"}', 'name': 'search'}, 'type': 'function'}]}, response_metadata={'token_usage': {'completion_tokens': 876, 'prompt_tokens': 145, 'total_tokens': 1021, 'completion_time': 3.924284619, 'prompt_time': 0.009856906, 'queue_time': 0.053941008, 'total_time': 3.9341415250000003}, 'model_name': 'deepseek-r1-distill-llama-70b', 'system_fingerprint': 'fp_1bbe7845ec', 'finish_reason': 'tool_calls', 'logprobs': None}, id='run--b0821d4c-33e4-45c4-93f9-6167ac520543-0', tool_calls=[{'name': 'search', 'args': {'query': 'weather in Delhi'}, 'id': '33cydazm9', 'type': 'tool_call'}], usage_metadata={'input_tokens': 145, 'output_tokens': 876, 'total_tokens': 1021})]}\n",
      "\n",
      "\n",
      "her is output from mytools node\n",
      "________\n",
      "{'messages': [ToolMessage(content='the temp is 45 degree and sunny', name='search', id='3534ace1-17c4-4409-b6a3-6d32b0bef1a2', tool_call_id='33cydazm9')]}\n",
      "\n",
      "\n",
      "her is output from llmwithtool node\n",
      "________\n",
      "{'messages': [AIMessage(content=\"Here’s the weather information for Delhi:\\n\\n**Current Weather in Delhi:**  \\nTemperature: 45°C (113°F)  \\nConditions: Sunny  \\n\\nIf you're looking for hotels in North Delhi, here are some recommendations based on different budgets:\\n\\n### Luxury Hotels:\\n1. **The Oberoi, New Delhi**  \\n   - A 5-star hotel offering world-class amenities and excellent service.\\n   - Location: Dr. Zakir Hussain Marg, near India Gate.\\n\\n2. **The Leela Palace New Delhi**  \\n   - A luxurious option with elegant rooms and top-notch facilities.\\n   - Location: Diplomatic Enclave, Chanakyapuri.\\n\\n### Mid-Range Hotels:\\n1. **Hotel City Star**  \\n   - A comfortable and well-rated hotel in Karol Bagh.\\n   - Location: Karol Bagh, one of the most vibrant areas in North Delhi.\\n\\n2. **Hotel Regent Continental**  \\n   - A cozy and centrally located hotel with good reviews.\\n   - Location: Near Karol Bagh Metro Station.\\n\\n### Budget-Friendly Options:\\n1. **Hotel SPB 87**  \\n   - A budget-friendly option with clean and comfortable rooms.\\n   - Location: Karol Bagh.\\n\\n2. **Hotel Metro View**  \\n   - A simple yet convenient hotel for travelers on a budget.\\n   - Location: Near Karol Bagh Metro Station.\\n\\nIf you're staying in North Delhi, you might want to explore nearby attractions like the Red Fort, Jama Masjid, and Chandni Chowk. Let me know if you'd like more details about any of these hotels or recommendations for dining and sightseeing!\", additional_kwargs={}, response_metadata={'token_usage': {'completion_tokens': 540, 'prompt_tokens': 203, 'total_tokens': 743, 'completion_time': 2.227472892, 'prompt_time': 0.013959818, 'queue_time': 0.057717411999999996, 'total_time': 2.2414327099999998}, 'model_name': 'deepseek-r1-distill-llama-70b', 'system_fingerprint': 'fp_1bbe7845ec', 'finish_reason': 'stop', 'logprobs': None}, id='run--c7d0c46a-4f6d-4ed9-ace9-deef9135fcb9-0', usage_metadata={'input_tokens': 203, 'output_tokens': 540, 'total_tokens': 743})]}\n",
      "\n",
      "\n"
     ]
    }
   ],
   "source": [
    "for output in app3.stream({\"messages\": [\"what is a weather in delhi can you tell me some good hotel for staying in north delhi\"]}):\n",
    "    for key,value in output.items():\n",
    "        print(f\"her is output from {key} node\")\n",
    "        print(\"________\")\n",
    "        print(value)\n",
    "        print(\"\\n\")"
   ]
  },
  {
   "cell_type": "markdown",
   "id": "b4d59efa",
   "metadata": {},
   "source": [
    "#### Memory Saver in LangGraph"
   ]
  },
  {
   "cell_type": "code",
   "execution_count": 226,
   "id": "eebc0842",
   "metadata": {},
   "outputs": [],
   "source": [
    "from langgraph.checkpoint.memory import MemorySaver"
   ]
  },
  {
   "cell_type": "code",
   "execution_count": 227,
   "id": "299c7c5c",
   "metadata": {},
   "outputs": [],
   "source": [
    "memory= MemorySaver()"
   ]
  },
  {
   "cell_type": "code",
   "execution_count": 231,
   "id": "ab429a26",
   "metadata": {},
   "outputs": [
    {
     "data": {
      "text/plain": [
       "<langgraph.graph.state.StateGraph at 0x27d43954550>"
      ]
     },
     "execution_count": 231,
     "metadata": {},
     "output_type": "execute_result"
    }
   ],
   "source": [
    "workflow3= StateGraph(MessagesState)\n",
    "\n",
    "workflow3.add_node(\"llmwithtool\", call_model)\n",
    "\n",
    "workflow3.add_node(\"mytools\", tool_node)\n",
    "\n",
    "workflow3.add_edge(START, \"llmwithtool\")\n",
    "\n",
    "workflow3.add_conditional_edges(\n",
    "    \"llmwithtool\",\n",
    "    router_function,\n",
    "    {\n",
    "        \"tools\": \"mytools\",\n",
    "        END: END\n",
    "    }\n",
    ")\n",
    "\n",
    "workflow3.add_edge(\"mytools\",\"llmwithtool\")"
   ]
  },
  {
   "cell_type": "code",
   "execution_count": 232,
   "id": "ae0968b4",
   "metadata": {},
   "outputs": [
    {
     "data": {
      "image/png": "[encoded data removed]",
      "text/plain": [
       "<langgraph.graph.state.CompiledStateGraph object at 0x0000027D43580C30>"
      ]
     },
     "execution_count": 232,
     "metadata": {},
     "output_type": "execute_result"
    }
   ],
   "source": [
    "workflow3.compile()"
   ]
  },
  {
   "cell_type": "code",
   "execution_count": 236,
   "id": "f073d773",
   "metadata": {},
   "outputs": [],
   "source": [
    "app4= workflow3.compile(checkpointer=memory)"
   ]
  },
  {
   "cell_type": "code",
   "execution_count": 237,
   "id": "c459d2b6",
   "metadata": {},
   "outputs": [
    {
     "data": {
      "image/png": "[encoded data removed]",
      "text/plain": [
       "<IPython.core.display.Image object>"
      ]
     },
     "execution_count": 237,
     "metadata": {},
     "output_type": "execute_result"
    }
   ],
   "source": [
    "from IPython.display import Image, display\n",
    "\n",
    "Image(app4.get_graph().draw_mermaid_png())"
   ]
  },
  {
   "cell_type": "code",
   "execution_count": 238,
   "id": "7c1cf4c8",
   "metadata": {},
   "outputs": [
    {
     "data": {
      "image/png": "[encoded data removed]",
      "text/plain": [
       "<IPython.core.display.Image object>"
      ]
     },
     "metadata": {},
     "output_type": "display_data"
    }
   ],
   "source": [
    "display(Image(app4.get_graph().draw_mermaid_png()))"
   ]
  },
  {
   "cell_type": "code",
   "execution_count": 267,
   "id": "4c6de852",
   "metadata": {},
   "outputs": [
    {
     "data": {
      "text/plain": [
       "{'configurable': {'thread_id': '1'}}"
      ]
     },
     "execution_count": 267,
     "metadata": {},
     "output_type": "execute_result"
    }
   ],
   "source": [
    "config= {\"configurable\": {\"thread_id\": \"1\"}}\n",
    "config"
   ]
  },
  {
   "cell_type": "code",
   "execution_count": 277,
   "id": "65d7bf7e",
   "metadata": {},
   "outputs": [
    {
     "data": {
      "text/plain": [
       "<generator object Pregel.stream at 0x0000027D430D5A80>"
      ]
     },
     "execution_count": 277,
     "metadata": {},
     "output_type": "execute_result"
    }
   ],
   "source": [
    "app4.stream({\"messages\": [\"what is a weather in new delhi?\"]}, config=config, stream_mode=\"values\")"
   ]
  },
  {
   "cell_type": "code",
   "execution_count": 278,
   "id": "3de818ee",
   "metadata": {},
   "outputs": [],
   "source": [
    "events= app4.stream({\"messages\": [\"what is a weather in new delhi?\"]}, config=config, stream_mode=\"values\")"
   ]
  },
  {
   "cell_type": "code",
   "execution_count": 279,
   "id": "500d9a38",
   "metadata": {},
   "outputs": [
    {
     "name": "stdout",
     "output_type": "stream",
     "text": [
      "================================\u001b[1m Human Message \u001b[0m=================================\n",
      "\n",
      "what is a weather in new delhi?\n",
      "==================================\u001b[1m Ai Message \u001b[0m==================================\n",
      "Tool Calls:\n",
      "  search (j1s5n2ef8)\n",
      " Call ID: j1s5n2ef8\n",
      "  Args:\n",
      "    query: New Delhi weather\n",
      "=================================\u001b[1m Tool Message \u001b[0m=================================\n",
      "Name: search\n",
      "\n",
      "the temp is 45 degree and sunny\n",
      "==================================\u001b[1m Ai Message \u001b[0m==================================\n"
     ]
    }
   ],
   "source": [
    "for event in events:\n",
    "    event[\"messages\"][-1].pretty_print()"
   ]
  },
  {
   "cell_type": "code",
   "execution_count": 283,
   "id": "5d397010",
   "metadata": {},
   "outputs": [],
   "source": [
    "events= app4.stream({\"messages\": [\"what is a weather in new indor?\"]}, config=config, stream_mode=\"values\")"
   ]
  },
  {
   "cell_type": "code",
   "execution_count": 284,
   "id": "186bae1d",
   "metadata": {},
   "outputs": [
    {
     "name": "stdout",
     "output_type": "stream",
     "text": [
      "================================\u001b[1m Human Message \u001b[0m=================================\n",
      "\n",
      "what is a weather in new indor?\n",
      "==================================\u001b[1m Ai Message \u001b[0m==================================\n",
      "Tool Calls:\n",
      "  search (vnjshshra)\n",
      " Call ID: vnjshshra\n",
      "  Args:\n",
      "    query: Indore weather\n",
      "=================================\u001b[1m Tool Message \u001b[0m=================================\n",
      "Name: search\n",
      "\n",
      "the temp is 25 degree and cloudy\n",
      "==================================\u001b[1m Ai Message \u001b[0m==================================\n",
      "\n",
      "The weather in New Delhi is characterized by a subtropical climate, with distinct seasons:\n",
      "\n",
      "1. **Summer (April to June)**: Hot with high temperatures.\n",
      "2. **Monsoon (July to September)**: Experiences heavy rainfall.\n",
      "3. **Winter (December to February)**: Cooler temperatures, sometimes with fog.\n",
      "\n",
      "For the most current and precise weather information, consulting a reliable weather service or news source is recommended. Additionally, air pollution can affect weather perceptions, particularly in winter.\n"
     ]
    }
   ],
   "source": [
    "for event in events:\n",
    "    event[\"messages\"][-1].pretty_print()"
   ]
  },
  {
   "cell_type": "code",
   "execution_count": 285,
   "id": "c078193c",
   "metadata": {},
   "outputs": [
    {
     "data": {
      "text/plain": [
       "{'configurable': {'thread_id': '1'}}"
      ]
     },
     "execution_count": 285,
     "metadata": {},
     "output_type": "execute_result"
    }
   ],
   "source": [
    "config"
   ]
  },
  {
   "cell_type": "code",
   "execution_count": 286,
   "id": "4d3b7e78",
   "metadata": {},
   "outputs": [
    {
     "data": {
      "text/plain": [
       "{'v': 3,\n",
       " 'ts': '2025-06-14T12:34:14.332028+00:00',\n",
       " 'id': '1f0491be-16b1-613f-8047-2ebe4277d6bc',\n",
       " 'channel_versions': {'__start__': '00000000000000000000000000000070.0.725193129230921',\n",
       "  'messages': '00000000000000000000000000000073.0.18802905554554683',\n",
       "  'branch:to:llmwithtool': '00000000000000000000000000000073.0.6758775855389622',\n",
       "  'branch:to:mytools': '00000000000000000000000000000072.0.17737492863544757'},\n",
       " 'versions_seen': {'__input__': {},\n",
       "  '__start__': {'__start__': '00000000000000000000000000000069.0.36398291863482135'},\n",
       "  'llmwithtool': {'branch:to:llmwithtool': '00000000000000000000000000000072.0.23155182913079342'},\n",
       "  'mytools': {'branch:to:mytools': '00000000000000000000000000000071.0.33075347406015043'}},\n",
       " 'channel_values': {'messages': [HumanMessage(content='what is a weather in new delhi?', additional_kwargs={}, response_metadata={}, id='3af533c4-bc52-44ee-ae11-0ebc2200d268'),\n",
       "   AIMessage(content='', additional_kwargs={'tool_calls': [{'id': 'fhvegvfs0', 'function': {'arguments': '{\"query\":\"New Delhi weather\"}', 'name': 'search'}, 'type': 'function'}]}, response_metadata={'token_usage': {'completion_tokens': 65, 'prompt_tokens': 134, 'total_tokens': 199, 'completion_time': 0.274532881, 'prompt_time': 0.008569327, 'queue_time': 0.057693826000000004, 'total_time': 0.283102208}, 'model_name': 'deepseek-r1-distill-llama-70b', 'system_fingerprint': 'fp_1bbe7845ec', 'finish_reason': 'tool_calls', 'logprobs': None}, id='run--fbda9dbb-a4fa-499e-9aff-3bd1b19613ee-0', tool_calls=[{'name': 'search', 'args': {'query': 'New Delhi weather'}, 'id': 'fhvegvfs0', 'type': 'tool_call'}], usage_metadata={'input_tokens': 134, 'output_tokens': 65, 'total_tokens': 199}),\n",
       "   ToolMessage(content='the temp is 45 degree and sunny', name='search', id='53d5de4f-e44e-41f0-abaa-929891260849', tool_call_id='fhvegvfs0'),\n",
       "   AIMessage(content=\"The temperature in New Delhi is 45° and it's sunny.\", additional_kwargs={}, response_metadata={'token_usage': {'completion_tokens': 296, 'prompt_tokens': 191, 'total_tokens': 487, 'completion_time': 1.320961956, 'prompt_time': 0.011947426, 'queue_time': 0.067382107, 'total_time': 1.332909382}, 'model_name': 'deepseek-r1-distill-llama-70b', 'system_fingerprint': 'fp_1bbe7845ec', 'finish_reason': 'stop', 'logprobs': None}, id='run--c1ec425f-966c-4e0c-816a-65e12fa7522c-0', usage_metadata={'input_tokens': 191, 'output_tokens': 296, 'total_tokens': 487}),\n",
       "   HumanMessage(content='what is a weather in new delhi?', additional_kwargs={}, response_metadata={}, id='bcd105aa-0e03-4a8e-9af3-f89883c73817'),\n",
       "   AIMessage(content='', additional_kwargs={'tool_calls': [{'id': '28xvppwvn', 'function': {'arguments': '{\"query\":\"New Delhi weather\"}', 'name': 'search'}, 'type': 'function'}]}, response_metadata={'token_usage': {'completion_tokens': 123, 'prompt_tokens': 203, 'total_tokens': 326, 'completion_time': 0.581577623, 'prompt_time': 0.012617704, 'queue_time': 0.056951006000000005, 'total_time': 0.594195327}, 'model_name': 'deepseek-r1-distill-llama-70b', 'system_fingerprint': 'fp_1bbe7845ec', 'finish_reason': 'tool_calls', 'logprobs': None}, id='run--ead917f5-12bc-41e0-b3ce-c3173b648871-0', tool_calls=[{'name': 'search', 'args': {'query': 'New Delhi weather'}, 'id': '28xvppwvn', 'type': 'tool_call'}], usage_metadata={'input_tokens': 203, 'output_tokens': 123, 'total_tokens': 326}),\n",
       "   ToolMessage(content='the temp is 45 degree and sunny', name='search', id='4087656c-22eb-4f6d-81bf-42cf7521f7d2', tool_call_id='28xvppwvn'),\n",
       "   AIMessage(content='', additional_kwargs={'tool_calls': [{'id': 'j1jxsnh9v', 'function': {'arguments': '{\"query\":\"New Delhi weather\"}', 'name': 'search'}, 'type': 'function'}]}, response_metadata={'token_usage': {'completion_tokens': 211, 'prompt_tokens': 261, 'total_tokens': 472, 'completion_time': 0.954693887, 'prompt_time': 0.016910287, 'queue_time': 0.057122753, 'total_time': 0.971604174}, 'model_name': 'deepseek-r1-distill-llama-70b', 'system_fingerprint': 'fp_1bbe7845ec', 'finish_reason': 'tool_calls', 'logprobs': None}, id='run--32d7312f-885e-4b10-b1bb-100b3bd29dc7-0', tool_calls=[{'name': 'search', 'args': {'query': 'New Delhi weather'}, 'id': 'j1jxsnh9v', 'type': 'tool_call'}], usage_metadata={'input_tokens': 261, 'output_tokens': 211, 'total_tokens': 472}),\n",
       "   ToolMessage(content='the temp is 45 degree and sunny', name='search', id='08e4f941-b804-439a-ab15-ff7802164137', tool_call_id='j1jxsnh9v'),\n",
       "   AIMessage(content='', additional_kwargs={}, response_metadata={'token_usage': {'completion_tokens': 16, 'prompt_tokens': 321, 'total_tokens': 337, 'completion_time': 0.075846383, 'prompt_time': 0.020357975, 'queue_time': 0.055389485, 'total_time': 0.096204358}, 'model_name': 'deepseek-r1-distill-llama-70b', 'system_fingerprint': 'fp_1bbe7845ec', 'finish_reason': 'stop', 'logprobs': None}, id='run--1f60eb84-11c2-4677-8066-26b70ecc4ece-0', usage_metadata={'input_tokens': 321, 'output_tokens': 16, 'total_tokens': 337}),\n",
       "   HumanMessage(content='what is a weather in new delhi?', additional_kwargs={}, response_metadata={}, id='5c0d145f-239b-48e2-a0bc-66ad78283fa8'),\n",
       "   AIMessage(content='', additional_kwargs={'tool_calls': [{'id': 'jgnpz2vd9', 'function': {'arguments': '{\"query\":\"New Delhi weather\"}', 'name': 'search'}, 'type': 'function'}]}, response_metadata={'token_usage': {'completion_tokens': 111, 'prompt_tokens': 333, 'total_tokens': 444, 'completion_time': 0.576348498, 'prompt_time': 0.021072552, 'queue_time': 0.05683116, 'total_time': 0.59742105}, 'model_name': 'deepseek-r1-distill-llama-70b', 'system_fingerprint': 'fp_1bbe7845ec', 'finish_reason': 'tool_calls', 'logprobs': None}, id='run--94a8fb9f-f0f6-4ed5-930a-0c8f667b92e8-0', tool_calls=[{'name': 'search', 'args': {'query': 'New Delhi weather'}, 'id': 'jgnpz2vd9', 'type': 'tool_call'}], usage_metadata={'input_tokens': 333, 'output_tokens': 111, 'total_tokens': 444}),\n",
       "   ToolMessage(content='the temp is 45 degree and sunny', name='search', id='8b69338a-fc51-4a43-bc7c-15389b63c3a2', tool_call_id='jgnpz2vd9'),\n",
       "   AIMessage(content='', additional_kwargs={}, response_metadata={'token_usage': {'completion_tokens': 16, 'prompt_tokens': 391, 'total_tokens': 407, 'completion_time': 0.068280725, 'prompt_time': 0.03184216, 'queue_time': 0.055393881, 'total_time': 0.100122885}, 'model_name': 'deepseek-r1-distill-llama-70b', 'system_fingerprint': 'fp_1bbe7845ec', 'finish_reason': 'stop', 'logprobs': None}, id='run--e622c520-a542-4c5e-89fe-441d8839b97a-0', usage_metadata={'input_tokens': 391, 'output_tokens': 16, 'total_tokens': 407}),\n",
       "   HumanMessage(content='what is a weather in new delhi?', additional_kwargs={}, response_metadata={}, id='939bbf8f-f797-4ecc-8b25-f5a39418c5e7'),\n",
       "   AIMessage(content='', additional_kwargs={'tool_calls': [{'id': '1z3afanhb', 'function': {'arguments': '{\"query\":\"New Delhi weather\"}', 'name': 'search'}, 'type': 'function'}]}, response_metadata={'token_usage': {'completion_tokens': 33, 'prompt_tokens': 403, 'total_tokens': 436, 'completion_time': 0.12, 'prompt_time': 0.033722415, 'queue_time': 0.277832745, 'total_time': 0.153722415}, 'model_name': 'deepseek-r1-distill-llama-70b', 'system_fingerprint': 'fp_9009120237', 'finish_reason': 'tool_calls', 'logprobs': None}, id='run--961cb368-b1d1-42ca-b0ab-99d05345638d-0', tool_calls=[{'name': 'search', 'args': {'query': 'New Delhi weather'}, 'id': '1z3afanhb', 'type': 'tool_call'}], usage_metadata={'input_tokens': 403, 'output_tokens': 33, 'total_tokens': 436}),\n",
       "   ToolMessage(content='the temp is 45 degree and sunny', name='search', id='1ac1a98e-917e-4fa0-867b-db29b22f88b4', tool_call_id='1z3afanhb'),\n",
       "   AIMessage(content='', additional_kwargs={}, response_metadata={'token_usage': {'completion_tokens': 16, 'prompt_tokens': 461, 'total_tokens': 477, 'completion_time': 0.068254498, 'prompt_time': 0.029390356, 'queue_time': 0.28092940299999997, 'total_time': 0.097644854}, 'model_name': 'deepseek-r1-distill-llama-70b', 'system_fingerprint': 'fp_87ec4d1ec3', 'finish_reason': 'stop', 'logprobs': None}, id='run--b81e87ea-8b71-4bb4-a60e-3c05ee935635-0', usage_metadata={'input_tokens': 461, 'output_tokens': 16, 'total_tokens': 477}),\n",
       "   HumanMessage(content='what is a weather in new delhi?', additional_kwargs={}, response_metadata={}, id='621390d8-b9d1-4eec-90ec-dbded1f62584'),\n",
       "   AIMessage(content='', additional_kwargs={'tool_calls': [{'id': 'jsmdqb41c', 'function': {'arguments': '{\"query\":\"New Delhi weather\"}', 'name': 'search'}, 'type': 'function'}]}, response_metadata={'token_usage': {'completion_tokens': 60, 'prompt_tokens': 473, 'total_tokens': 533, 'completion_time': 0.218181818, 'prompt_time': 0.030079495, 'queue_time': 0.27875611499999997, 'total_time': 0.248261313}, 'model_name': 'deepseek-r1-distill-llama-70b', 'system_fingerprint': 'fp_87ec4d1ec3', 'finish_reason': 'tool_calls', 'logprobs': None}, id='run--961c530c-5e0a-49a2-b87b-c9412522f8ce-0', tool_calls=[{'name': 'search', 'args': {'query': 'New Delhi weather'}, 'id': 'jsmdqb41c', 'type': 'tool_call'}], usage_metadata={'input_tokens': 473, 'output_tokens': 60, 'total_tokens': 533}),\n",
       "   ToolMessage(content='the temp is 45 degree and sunny', name='search', id='28645225-9498-4af1-9aa7-d471cf9cb159', tool_call_id='jsmdqb41c'),\n",
       "   AIMessage(content='', additional_kwargs={'tool_calls': [{'id': '1xxyjd8sc', 'function': {'arguments': '{\"query\":\"New Delhi weather\"}', 'name': 'search'}, 'type': 'function'}]}, response_metadata={'token_usage': {'completion_tokens': 56, 'prompt_tokens': 530, 'total_tokens': 586, 'completion_time': 0.203636364, 'prompt_time': 0.034245807, 'queue_time': 0.282366173, 'total_time': 0.237882171}, 'model_name': 'deepseek-r1-distill-llama-70b', 'system_fingerprint': 'fp_87ec4d1ec3', 'finish_reason': 'tool_calls', 'logprobs': None}, id='run--11535008-1519-4cb8-9675-44d82d5ea765-0', tool_calls=[{'name': 'search', 'args': {'query': 'New Delhi weather'}, 'id': '1xxyjd8sc', 'type': 'tool_call'}], usage_metadata={'input_tokens': 530, 'output_tokens': 56, 'total_tokens': 586}),\n",
       "   ToolMessage(content='the temp is 45 degree and sunny', name='search', id='2499f6dd-2910-4ae2-a524-5f5c049584df', tool_call_id='1xxyjd8sc'),\n",
       "   AIMessage(content='', additional_kwargs={}, response_metadata={'token_usage': {'completion_tokens': 16, 'prompt_tokens': 588, 'total_tokens': 604, 'completion_time': 0.079214915, 'prompt_time': 0.037532045, 'queue_time': 0.279249845, 'total_time': 0.11674696}, 'model_name': 'deepseek-r1-distill-llama-70b', 'system_fingerprint': 'fp_9009120237', 'finish_reason': 'stop', 'logprobs': None}, id='run--8f769edc-db57-461a-bc69-634d5b643359-0', usage_metadata={'input_tokens': 588, 'output_tokens': 16, 'total_tokens': 604}),\n",
       "   HumanMessage(content='what is a weather in new delhi?', additional_kwargs={}, response_metadata={}, id='2f246bde-f43e-4a56-bd72-3e63745c0f9f'),\n",
       "   AIMessage(content='', additional_kwargs={'tool_calls': [{'id': 'zgwgcn9jt', 'function': {'arguments': '{\"query\":\"New Delhi weather\"}', 'name': 'search'}, 'type': 'function'}]}, response_metadata={'token_usage': {'completion_tokens': 60, 'prompt_tokens': 600, 'total_tokens': 660, 'completion_time': 0.218181818, 'prompt_time': 0.039213156, 'queue_time': 0.061751954, 'total_time': 0.257394974}, 'model_name': 'deepseek-r1-distill-llama-70b', 'system_fingerprint': 'fp_1bbe7845ec', 'finish_reason': 'tool_calls', 'logprobs': None}, id='run--6e2e258a-8e62-4bf6-8c4d-3e6cb359030b-0', tool_calls=[{'name': 'search', 'args': {'query': 'New Delhi weather'}, 'id': 'zgwgcn9jt', 'type': 'tool_call'}], usage_metadata={'input_tokens': 600, 'output_tokens': 60, 'total_tokens': 660}),\n",
       "   ToolMessage(content='the temp is 45 degree and sunny', name='search', id='f4886ff7-b42c-4918-9ac8-653f9cd56176', tool_call_id='zgwgcn9jt'),\n",
       "   AIMessage(content='', additional_kwargs={'tool_calls': [{'id': 'kdjqsdkr4', 'function': {'arguments': '{\"query\":\"New Delhi weather\"}', 'name': 'search'}, 'type': 'function'}]}, response_metadata={'token_usage': {'completion_tokens': 92, 'prompt_tokens': 658, 'total_tokens': 750, 'completion_time': 0.444635386, 'prompt_time': 0.05067533, 'queue_time': 0.0540121, 'total_time': 0.495310716}, 'model_name': 'deepseek-r1-distill-llama-70b', 'system_fingerprint': 'fp_1bbe7845ec', 'finish_reason': 'tool_calls', 'logprobs': None}, id='run--0efb230a-bb0b-444d-8b2a-cb48c25ffc3c-0', tool_calls=[{'name': 'search', 'args': {'query': 'New Delhi weather'}, 'id': 'kdjqsdkr4', 'type': 'tool_call'}], usage_metadata={'input_tokens': 658, 'output_tokens': 92, 'total_tokens': 750}),\n",
       "   ToolMessage(content='the temp is 45 degree and sunny', name='search', id='ec61dcec-5276-4e6e-8296-52598620b1f4', tool_call_id='kdjqsdkr4'),\n",
       "   AIMessage(content='', additional_kwargs={}, response_metadata={'token_usage': {'completion_tokens': 19, 'prompt_tokens': 716, 'total_tokens': 735, 'completion_time': 0.069090909, 'prompt_time': 0.053825863, 'queue_time': 0.054233197, 'total_time': 0.122916772}, 'model_name': 'deepseek-r1-distill-llama-70b', 'system_fingerprint': 'fp_1bbe7845ec', 'finish_reason': 'stop', 'logprobs': None}, id='run--773d4823-3643-49d3-8473-ebd43da68dc5-0', usage_metadata={'input_tokens': 716, 'output_tokens': 19, 'total_tokens': 735}),\n",
       "   HumanMessage(content='what is a weather in new delhi?', additional_kwargs={}, response_metadata={}, id='b189513e-87af-4457-bf09-2ff50db65ce9'),\n",
       "   AIMessage(content='', additional_kwargs={'tool_calls': [{'id': 'sg03pck4d', 'function': {'arguments': '{\"query\":\"New Delhi weather\"}', 'name': 'search'}, 'type': 'function'}]}, response_metadata={'token_usage': {'completion_tokens': 66, 'prompt_tokens': 728, 'total_tokens': 794, 'completion_time': 0.266380245, 'prompt_time': 0.054432663, 'queue_time': 0.056513317, 'total_time': 0.320812908}, 'model_name': 'deepseek-r1-distill-llama-70b', 'system_fingerprint': 'fp_1bbe7845ec', 'finish_reason': 'tool_calls', 'logprobs': None}, id='run--4ec44db6-f6e7-435f-b842-a1b2e068a796-0', tool_calls=[{'name': 'search', 'args': {'query': 'New Delhi weather'}, 'id': 'sg03pck4d', 'type': 'tool_call'}], usage_metadata={'input_tokens': 728, 'output_tokens': 66, 'total_tokens': 794}),\n",
       "   ToolMessage(content='the temp is 45 degree and sunny', name='search', id='a6758c20-7fb9-45f2-a3d3-7b483007ba58', tool_call_id='sg03pck4d'),\n",
       "   AIMessage(content='', additional_kwargs={'tool_calls': [{'id': 'enr1rk2er', 'function': {'arguments': '{\"query\":\"New Delhi weather\"}', 'name': 'search'}, 'type': 'function'}]}, response_metadata={'token_usage': {'completion_tokens': 47, 'prompt_tokens': 786, 'total_tokens': 833, 'completion_time': 0.239607217, 'prompt_time': 0.058649406, 'queue_time': 0.054228043000000004, 'total_time': 0.298256623}, 'model_name': 'deepseek-r1-distill-llama-70b', 'system_fingerprint': 'fp_1bbe7845ec', 'finish_reason': 'tool_calls', 'logprobs': None}, id='run--f7cbe182-e2fd-441b-8013-d20926034b3b-0', tool_calls=[{'name': 'search', 'args': {'query': 'New Delhi weather'}, 'id': 'enr1rk2er', 'type': 'tool_call'}], usage_metadata={'input_tokens': 786, 'output_tokens': 47, 'total_tokens': 833}),\n",
       "   ToolMessage(content='the temp is 45 degree and sunny', name='search', id='6a08689d-9206-4cc3-a483-e9a2d2cf55af', tool_call_id='enr1rk2er'),\n",
       "   AIMessage(content='', additional_kwargs={'tool_calls': [{'id': '9sfm6zp2h', 'function': {'arguments': '{\"query\":\"New Delhi weather\"}', 'name': 'search'}, 'type': 'function'}]}, response_metadata={'token_usage': {'completion_tokens': 67, 'prompt_tokens': 844, 'total_tokens': 911, 'completion_time': 0.243636364, 'prompt_time': 0.06623308, 'queue_time': 0.05391467, 'total_time': 0.309869444}, 'model_name': 'deepseek-r1-distill-llama-70b', 'system_fingerprint': 'fp_1bbe7845ec', 'finish_reason': 'tool_calls', 'logprobs': None}, id='run--1f182b9a-45d6-4011-81b5-f90f62f24870-0', tool_calls=[{'name': 'search', 'args': {'query': 'New Delhi weather'}, 'id': '9sfm6zp2h', 'type': 'tool_call'}], usage_metadata={'input_tokens': 844, 'output_tokens': 67, 'total_tokens': 911}),\n",
       "   ToolMessage(content='the temp is 45 degree and sunny', name='search', id='aeba6358-673a-47b6-9bbf-3bf6b093e274', tool_call_id='9sfm6zp2h'),\n",
       "   AIMessage(content='', additional_kwargs={'tool_calls': [{'id': '687appgnq', 'function': {'arguments': '{\"query\":\"New Delhi weather\"}', 'name': 'search'}, 'type': 'function'}]}, response_metadata={'token_usage': {'completion_tokens': 225, 'prompt_tokens': 903, 'total_tokens': 1128, 'completion_time': 1.041795368, 'prompt_time': 0.070510764, 'queue_time': 0.054368984999999995, 'total_time': 1.112306132}, 'model_name': 'deepseek-r1-distill-llama-70b', 'system_fingerprint': 'fp_1bbe7845ec', 'finish_reason': 'tool_calls', 'logprobs': None}, id='run--2edd0c34-9a53-45d7-b36c-ea109750d392-0', tool_calls=[{'name': 'search', 'args': {'query': 'New Delhi weather'}, 'id': '687appgnq', 'type': 'tool_call'}], usage_metadata={'input_tokens': 903, 'output_tokens': 225, 'total_tokens': 1128}),\n",
       "   ToolMessage(content='the temp is 45 degree and sunny', name='search', id='d89da180-8f70-424c-be1f-d980f842b565', tool_call_id='687appgnq'),\n",
       "   AIMessage(content='', additional_kwargs={'tool_calls': [{'id': '3ys3r1rbq', 'function': {'arguments': '{\"query\":\"New Delhi weather\"}', 'name': 'search'}, 'type': 'function'}]}, response_metadata={'token_usage': {'completion_tokens': 60, 'prompt_tokens': 959, 'total_tokens': 1019, 'completion_time': 0.218181818, 'prompt_time': 0.063156656, 'queue_time': 0.060392004, 'total_time': 0.281338474}, 'model_name': 'deepseek-r1-distill-llama-70b', 'system_fingerprint': 'fp_1bbe7845ec', 'finish_reason': 'tool_calls', 'logprobs': None}, id='run--56eb7b75-2cea-4225-bae7-945d3560e47c-0', tool_calls=[{'name': 'search', 'args': {'query': 'New Delhi weather'}, 'id': '3ys3r1rbq', 'type': 'tool_call'}], usage_metadata={'input_tokens': 959, 'output_tokens': 60, 'total_tokens': 1019}),\n",
       "   ToolMessage(content='the temp is 45 degree and sunny', name='search', id='14824a7c-352a-4aef-b657-912b29d8c935', tool_call_id='3ys3r1rbq'),\n",
       "   AIMessage(content='', additional_kwargs={'tool_calls': [{'id': 'm31109y4k', 'function': {'arguments': '{\"query\":\"New Delhi weather\"}', 'name': 'search'}, 'type': 'function'}]}, response_metadata={'token_usage': {'completion_tokens': 34, 'prompt_tokens': 1018, 'total_tokens': 1052, 'completion_time': 0.147268775, 'prompt_time': 0.073065917, 'queue_time': 0.054679513, 'total_time': 0.220334692}, 'model_name': 'deepseek-r1-distill-llama-70b', 'system_fingerprint': 'fp_1bbe7845ec', 'finish_reason': 'tool_calls', 'logprobs': None}, id='run--409e0c25-9925-4622-8c25-95a5b7f0e47b-0', tool_calls=[{'name': 'search', 'args': {'query': 'New Delhi weather'}, 'id': 'm31109y4k', 'type': 'tool_call'}], usage_metadata={'input_tokens': 1018, 'output_tokens': 34, 'total_tokens': 1052}),\n",
       "   ToolMessage(content='the temp is 45 degree and sunny', name='search', id='92e0da03-9e89-4c36-a263-5de94919b9fc', tool_call_id='m31109y4k'),\n",
       "   AIMessage(content='', additional_kwargs={'tool_calls': [{'id': '9rkrsxvsg', 'function': {'arguments': '{\"query\":\"New Delhi weather\"}', 'name': 'search'}, 'type': 'function'}]}, response_metadata={'token_usage': {'completion_tokens': 384, 'prompt_tokens': 1076, 'total_tokens': 1460, 'completion_time': 1.529850557, 'prompt_time': 0.084587771, 'queue_time': 0.054715019000000004, 'total_time': 1.6144383279999999}, 'model_name': 'deepseek-r1-distill-llama-70b', 'system_fingerprint': 'fp_1bbe7845ec', 'finish_reason': 'tool_calls', 'logprobs': None}, id='run--b0925581-0659-4ed9-acb7-966faf072bbd-0', tool_calls=[{'name': 'search', 'args': {'query': 'New Delhi weather'}, 'id': '9rkrsxvsg', 'type': 'tool_call'}], usage_metadata={'input_tokens': 1076, 'output_tokens': 384, 'total_tokens': 1460}),\n",
       "   ToolMessage(content='the temp is 45 degree and sunny', name='search', id='c411d953-a365-49dc-81e0-48b96cc4aad4', tool_call_id='9rkrsxvsg'),\n",
       "   AIMessage(content='', additional_kwargs={'tool_calls': [{'id': 'httg21e19', 'function': {'arguments': '{\"query\":\"New Delhi weather\"}', 'name': 'search'}, 'type': 'function'}]}, response_metadata={'token_usage': {'completion_tokens': 102, 'prompt_tokens': 1134, 'total_tokens': 1236, 'completion_time': 0.533933856, 'prompt_time': 0.081898098, 'queue_time': 0.057682981999999994, 'total_time': 0.615831954}, 'model_name': 'deepseek-r1-distill-llama-70b', 'system_fingerprint': 'fp_1bbe7845ec', 'finish_reason': 'tool_calls', 'logprobs': None}, id='run--58f915c5-9554-44eb-b2dd-4d6bde253c41-0', tool_calls=[{'name': 'search', 'args': {'query': 'New Delhi weather'}, 'id': 'httg21e19', 'type': 'tool_call'}], usage_metadata={'input_tokens': 1134, 'output_tokens': 102, 'total_tokens': 1236}),\n",
       "   ToolMessage(content='the temp is 45 degree and sunny', name='search', id='6267743e-789b-4aaa-ad25-1b8a97bba894', tool_call_id='httg21e19'),\n",
       "   AIMessage(content='', additional_kwargs={'tool_calls': [{'id': 'v2fk5k8hv', 'function': {'arguments': '{\"query\":\"New Delhi weather\"}', 'name': 'search'}, 'type': 'function'}]}, response_metadata={'token_usage': {'completion_tokens': 131, 'prompt_tokens': 1191, 'total_tokens': 1322, 'completion_time': 0.596688355, 'prompt_time': 0.085835707, 'queue_time': 0.05442382, 'total_time': 0.682524062}, 'model_name': 'deepseek-r1-distill-llama-70b', 'system_fingerprint': 'fp_1bbe7845ec', 'finish_reason': 'tool_calls', 'logprobs': None}, id='run--c924eb65-7eb2-41f8-9e84-2914ed392e70-0', tool_calls=[{'name': 'search', 'args': {'query': 'New Delhi weather'}, 'id': 'v2fk5k8hv', 'type': 'tool_call'}], usage_metadata={'input_tokens': 1191, 'output_tokens': 131, 'total_tokens': 1322}),\n",
       "   ToolMessage(content='the temp is 45 degree and sunny', name='search', id='bf3c0fbe-ceb0-4c62-b808-b6a8f268e7bd', tool_call_id='v2fk5k8hv'),\n",
       "   AIMessage(content='', additional_kwargs={'tool_calls': [{'id': 'g4nhadx56', 'function': {'arguments': '{\"query\":\"New Delhi weather\"}', 'name': 'search'}, 'type': 'function'}]}, response_metadata={'token_usage': {'completion_tokens': 217, 'prompt_tokens': 1250, 'total_tokens': 1467, 'completion_time': 0.901194268, 'prompt_time': 0.089836654, 'queue_time': 0.05369837200000001, 'total_time': 0.991030922}, 'model_name': 'deepseek-r1-distill-llama-70b', 'system_fingerprint': 'fp_1bbe7845ec', 'finish_reason': 'tool_calls', 'logprobs': None}, id='run--2f2c36d2-c9b9-4342-9604-568a22df7fd1-0', tool_calls=[{'name': 'search', 'args': {'query': 'New Delhi weather'}, 'id': 'g4nhadx56', 'type': 'tool_call'}], usage_metadata={'input_tokens': 1250, 'output_tokens': 217, 'total_tokens': 1467}),\n",
       "   ToolMessage(content='the temp is 45 degree and sunny', name='search', id='77cf3373-8cd7-485e-b844-fcab59b5f6e1', tool_call_id='g4nhadx56'),\n",
       "   AIMessage(content='', additional_kwargs={'tool_calls': [{'id': 'tmgm68bgt', 'function': {'arguments': '{\"query\":\"New Delhi weather\"}', 'name': 'search'}, 'type': 'function'}]}, response_metadata={'token_usage': {'completion_tokens': 192, 'prompt_tokens': 1307, 'total_tokens': 1499, 'completion_time': 1.008176829, 'prompt_time': 0.093162465, 'queue_time': 0.05403567100000001, 'total_time': 1.101339294}, 'model_name': 'deepseek-r1-distill-llama-70b', 'system_fingerprint': 'fp_1bbe7845ec', 'finish_reason': 'tool_calls', 'logprobs': None}, id='run--4108cfa0-b845-4d55-ac56-168d5b2660f8-0', tool_calls=[{'name': 'search', 'args': {'query': 'New Delhi weather'}, 'id': 'tmgm68bgt', 'type': 'tool_call'}], usage_metadata={'input_tokens': 1307, 'output_tokens': 192, 'total_tokens': 1499}),\n",
       "   ToolMessage(content='the temp is 45 degree and sunny', name='search', id='c2c62540-9b2a-492b-ad63-5a7cffdda8a8', tool_call_id='tmgm68bgt'),\n",
       "   AIMessage(content='', additional_kwargs={'tool_calls': [{'id': '76x4g9faq', 'function': {'arguments': '{\"query\":\"New Delhi weather\"}', 'name': 'search'}, 'type': 'function'}]}, response_metadata={'token_usage': {'completion_tokens': 378, 'prompt_tokens': 1365, 'total_tokens': 1743, 'completion_time': 1.712596593, 'prompt_time': 0.097168573, 'queue_time': 0.063098582, 'total_time': 1.809765166}, 'model_name': 'deepseek-r1-distill-llama-70b', 'system_fingerprint': 'fp_1bbe7845ec', 'finish_reason': 'tool_calls', 'logprobs': None}, id='run--e28db522-f313-46d5-acbe-cf96ef5702c4-0', tool_calls=[{'name': 'search', 'args': {'query': 'New Delhi weather'}, 'id': '76x4g9faq', 'type': 'tool_call'}], usage_metadata={'input_tokens': 1365, 'output_tokens': 378, 'total_tokens': 1743}),\n",
       "   ToolMessage(content='the temp is 45 degree and sunny', name='search', id='21c27bb5-f131-4399-80d8-e729dbb824e9', tool_call_id='76x4g9faq'),\n",
       "   AIMessage(content='', additional_kwargs={'tool_calls': [{'id': 'pdb8yjxxg', 'function': {'arguments': '{\"query\":\"New Delhi weather\"}', 'name': 'search'}, 'type': 'function'}]}, response_metadata={'token_usage': {'completion_tokens': 210, 'prompt_tokens': 1423, 'total_tokens': 1633, 'completion_time': 0.964912468, 'prompt_time': 0.100973953, 'queue_time': 0.062132520999999996, 'total_time': 1.065886421}, 'model_name': 'deepseek-r1-distill-llama-70b', 'system_fingerprint': 'fp_1bbe7845ec', 'finish_reason': 'tool_calls', 'logprobs': None}, id='run--7db0b1fd-2ed1-4754-a4a7-4ce6f09fd144-0', tool_calls=[{'name': 'search', 'args': {'query': 'New Delhi weather'}, 'id': 'pdb8yjxxg', 'type': 'tool_call'}], usage_metadata={'input_tokens': 1423, 'output_tokens': 210, 'total_tokens': 1633}),\n",
       "   HumanMessage(content='what is a weather in new delhi?', additional_kwargs={}, response_metadata={}, id='b458893f-7c28-4d31-a6e7-c1a3de05b334'),\n",
       "   AIMessage(content='', additional_kwargs={'tool_calls': [{'id': 'j1s5n2ef8', 'function': {'arguments': '{\"query\":\"New Delhi weather\"}', 'name': 'search'}, 'type': 'function'}]}, response_metadata={'token_usage': {'completion_tokens': 314, 'prompt_tokens': 1461, 'total_tokens': 1775, 'completion_time': 1.489960433, 'prompt_time': 0.102728801, 'queue_time': 0.05778472899999999, 'total_time': 1.5926892339999998}, 'model_name': 'deepseek-r1-distill-llama-70b', 'system_fingerprint': 'fp_1bbe7845ec', 'finish_reason': 'tool_calls', 'logprobs': None}, id='run--993ff557-67e6-4740-a346-c24d3402885d-0', tool_calls=[{'name': 'search', 'args': {'query': 'New Delhi weather'}, 'id': 'j1s5n2ef8', 'type': 'tool_call'}], usage_metadata={'input_tokens': 1461, 'output_tokens': 314, 'total_tokens': 1775}),\n",
       "   ToolMessage(content='the temp is 45 degree and sunny', name='search', id='7a932aec-c150-48ce-b69f-3044d97fcf4a', tool_call_id='j1s5n2ef8'),\n",
       "   AIMessage(content='', additional_kwargs={}, response_metadata={'token_usage': {'completion_tokens': 19, 'prompt_tokens': 1521, 'total_tokens': 1540, 'completion_time': 0.093572735, 'prompt_time': 0.105843915, 'queue_time': 0.05425598499999999, 'total_time': 0.19941665}, 'model_name': 'deepseek-r1-distill-llama-70b', 'system_fingerprint': 'fp_1bbe7845ec', 'finish_reason': 'stop', 'logprobs': None}, id='run--3da97896-e020-4ec7-bde8-b6d79475e236-0', usage_metadata={'input_tokens': 1521, 'output_tokens': 19, 'total_tokens': 1540}),\n",
       "   HumanMessage(content='what is a weather in new indor?', additional_kwargs={}, response_metadata={}, id='489b7998-9515-4677-b2ae-a4de2fe13346'),\n",
       "   AIMessage(content='', additional_kwargs={'tool_calls': [{'id': 'vnjshshra', 'function': {'arguments': '{\"query\":\"Indore weather\"}', 'name': 'search'}, 'type': 'function'}]}, response_metadata={'token_usage': {'completion_tokens': 141, 'prompt_tokens': 1533, 'total_tokens': 1674, 'completion_time': 0.606336823, 'prompt_time': 0.114919968, 'queue_time': 0.054054242000000016, 'total_time': 0.721256791}, 'model_name': 'deepseek-r1-distill-llama-70b', 'system_fingerprint': 'fp_1bbe7845ec', 'finish_reason': 'tool_calls', 'logprobs': None}, id='run--b0743d12-b1b5-4c6a-885d-38eed4d8da00-0', tool_calls=[{'name': 'search', 'args': {'query': 'Indore weather'}, 'id': 'vnjshshra', 'type': 'tool_call'}], usage_metadata={'input_tokens': 1533, 'output_tokens': 141, 'total_tokens': 1674}),\n",
       "   ToolMessage(content='the temp is 25 degree and cloudy', name='search', id='24f5b699-c2f4-4fb0-93b0-bbf618ddbe19', tool_call_id='vnjshshra'),\n",
       "   AIMessage(content='The weather in New Delhi is characterized by a subtropical climate, with distinct seasons:\\n\\n1. **Summer (April to June)**: Hot with high temperatures.\\n2. **Monsoon (July to September)**: Experiences heavy rainfall.\\n3. **Winter (December to February)**: Cooler temperatures, sometimes with fog.\\n\\nFor the most current and precise weather information, consulting a reliable weather service or news source is recommended. Additionally, air pollution can affect weather perceptions, particularly in winter.', additional_kwargs={}, response_metadata={'token_usage': {'completion_tokens': 419, 'prompt_tokens': 1590, 'total_tokens': 2009, 'completion_time': 1.733531942, 'prompt_time': 0.117703287, 'queue_time': 0.057032333000000004, 'total_time': 1.851235229}, 'model_name': 'deepseek-r1-distill-llama-70b', 'system_fingerprint': 'fp_1bbe7845ec', 'finish_reason': 'stop', 'logprobs': None}, id='run--407af082-06c6-4031-9400-b710e089ff4d-0', usage_metadata={'input_tokens': 1590, 'output_tokens': 419, 'total_tokens': 2009})]},\n",
       " 'pending_sends': []}"
      ]
     },
     "execution_count": 286,
     "metadata": {},
     "output_type": "execute_result"
    }
   ],
   "source": [
    "memory.get(config)"
   ]
  },
  {
   "cell_type": "code",
   "execution_count": 290,
   "id": "18f9f34b",
   "metadata": {},
   "outputs": [],
   "source": [
    "events= app4.stream(\n",
    "    {\"messages\": [\"in which city the temp was 25 degree?\"]}, config=config, stream_mode=\"values\"\n",
    "    )"
   ]
  },
  {
   "cell_type": "code",
   "execution_count": 291,
   "id": "18e6d388",
   "metadata": {},
   "outputs": [
    {
     "name": "stdout",
     "output_type": "stream",
     "text": [
      "================================\u001b[1m Human Message \u001b[0m=================================\n",
      "\n",
      "in which city the temp was 25 degree?\n",
      "==================================\u001b[1m Ai Message \u001b[0m==================================\n",
      "\n",
      "The temperature of 25 degrees was recorded in **Indore**.\n"
     ]
    }
   ],
   "source": [
    "for event in events:\n",
    "    event[\"messages\"][-1].pretty_print()"
   ]
  },
  {
   "cell_type": "code",
   "execution_count": 292,
   "id": "d5c83530",
   "metadata": {},
   "outputs": [
    {
     "data": {
      "text/plain": [
       "{'v': 3,\n",
       " 'ts': '2025-06-14T12:38:12.743197+00:00',\n",
       " 'id': '1f0491c6-f85b-6998-804d-8b810c797441',\n",
       " 'channel_versions': {'__start__': '00000000000000000000000000000078.0.11180930073241035',\n",
       "  'messages': '00000000000000000000000000000079.0.2918428119820061',\n",
       "  'branch:to:llmwithtool': '00000000000000000000000000000079.0.7087333086602778',\n",
       "  'branch:to:mytools': '00000000000000000000000000000072.0.17737492863544757'},\n",
       " 'versions_seen': {'__input__': {},\n",
       "  '__start__': {'__start__': '00000000000000000000000000000077.0.5826751310930615'},\n",
       "  'llmwithtool': {'branch:to:llmwithtool': '00000000000000000000000000000078.0.35737898497125564'},\n",
       "  'mytools': {'branch:to:mytools': '00000000000000000000000000000071.0.33075347406015043'}},\n",
       " 'channel_values': {'messages': [HumanMessage(content='what is a weather in new delhi?', additional_kwargs={}, response_metadata={}, id='3af533c4-bc52-44ee-ae11-0ebc2200d268'),\n",
       "   AIMessage(content='', additional_kwargs={'tool_calls': [{'id': 'fhvegvfs0', 'function': {'arguments': '{\"query\":\"New Delhi weather\"}', 'name': 'search'}, 'type': 'function'}]}, response_metadata={'token_usage': {'completion_tokens': 65, 'prompt_tokens': 134, 'total_tokens': 199, 'completion_time': 0.274532881, 'prompt_time': 0.008569327, 'queue_time': 0.057693826000000004, 'total_time': 0.283102208}, 'model_name': 'deepseek-r1-distill-llama-70b', 'system_fingerprint': 'fp_1bbe7845ec', 'finish_reason': 'tool_calls', 'logprobs': None}, id='run--fbda9dbb-a4fa-499e-9aff-3bd1b19613ee-0', tool_calls=[{'name': 'search', 'args': {'query': 'New Delhi weather'}, 'id': 'fhvegvfs0', 'type': 'tool_call'}], usage_metadata={'input_tokens': 134, 'output_tokens': 65, 'total_tokens': 199}),\n",
       "   ToolMessage(content='the temp is 45 degree and sunny', name='search', id='53d5de4f-e44e-41f0-abaa-929891260849', tool_call_id='fhvegvfs0'),\n",
       "   AIMessage(content=\"The temperature in New Delhi is 45° and it's sunny.\", additional_kwargs={}, response_metadata={'token_usage': {'completion_tokens': 296, 'prompt_tokens': 191, 'total_tokens': 487, 'completion_time': 1.320961956, 'prompt_time': 0.011947426, 'queue_time': 0.067382107, 'total_time': 1.332909382}, 'model_name': 'deepseek-r1-distill-llama-70b', 'system_fingerprint': 'fp_1bbe7845ec', 'finish_reason': 'stop', 'logprobs': None}, id='run--c1ec425f-966c-4e0c-816a-65e12fa7522c-0', usage_metadata={'input_tokens': 191, 'output_tokens': 296, 'total_tokens': 487}),\n",
       "   HumanMessage(content='what is a weather in new delhi?', additional_kwargs={}, response_metadata={}, id='bcd105aa-0e03-4a8e-9af3-f89883c73817'),\n",
       "   AIMessage(content='', additional_kwargs={'tool_calls': [{'id': '28xvppwvn', 'function': {'arguments': '{\"query\":\"New Delhi weather\"}', 'name': 'search'}, 'type': 'function'}]}, response_metadata={'token_usage': {'completion_tokens': 123, 'prompt_tokens': 203, 'total_tokens': 326, 'completion_time': 0.581577623, 'prompt_time': 0.012617704, 'queue_time': 0.056951006000000005, 'total_time': 0.594195327}, 'model_name': 'deepseek-r1-distill-llama-70b', 'system_fingerprint': 'fp_1bbe7845ec', 'finish_reason': 'tool_calls', 'logprobs': None}, id='run--ead917f5-12bc-41e0-b3ce-c3173b648871-0', tool_calls=[{'name': 'search', 'args': {'query': 'New Delhi weather'}, 'id': '28xvppwvn', 'type': 'tool_call'}], usage_metadata={'input_tokens': 203, 'output_tokens': 123, 'total_tokens': 326}),\n",
       "   ToolMessage(content='the temp is 45 degree and sunny', name='search', id='4087656c-22eb-4f6d-81bf-42cf7521f7d2', tool_call_id='28xvppwvn'),\n",
       "   AIMessage(content='', additional_kwargs={'tool_calls': [{'id': 'j1jxsnh9v', 'function': {'arguments': '{\"query\":\"New Delhi weather\"}', 'name': 'search'}, 'type': 'function'}]}, response_metadata={'token_usage': {'completion_tokens': 211, 'prompt_tokens': 261, 'total_tokens': 472, 'completion_time': 0.954693887, 'prompt_time': 0.016910287, 'queue_time': 0.057122753, 'total_time': 0.971604174}, 'model_name': 'deepseek-r1-distill-llama-70b', 'system_fingerprint': 'fp_1bbe7845ec', 'finish_reason': 'tool_calls', 'logprobs': None}, id='run--32d7312f-885e-4b10-b1bb-100b3bd29dc7-0', tool_calls=[{'name': 'search', 'args': {'query': 'New Delhi weather'}, 'id': 'j1jxsnh9v', 'type': 'tool_call'}], usage_metadata={'input_tokens': 261, 'output_tokens': 211, 'total_tokens': 472}),\n",
       "   ToolMessage(content='the temp is 45 degree and sunny', name='search', id='08e4f941-b804-439a-ab15-ff7802164137', tool_call_id='j1jxsnh9v'),\n",
       "   AIMessage(content='', additional_kwargs={}, response_metadata={'token_usage': {'completion_tokens': 16, 'prompt_tokens': 321, 'total_tokens': 337, 'completion_time': 0.075846383, 'prompt_time': 0.020357975, 'queue_time': 0.055389485, 'total_time': 0.096204358}, 'model_name': 'deepseek-r1-distill-llama-70b', 'system_fingerprint': 'fp_1bbe7845ec', 'finish_reason': 'stop', 'logprobs': None}, id='run--1f60eb84-11c2-4677-8066-26b70ecc4ece-0', usage_metadata={'input_tokens': 321, 'output_tokens': 16, 'total_tokens': 337}),\n",
       "   HumanMessage(content='what is a weather in new delhi?', additional_kwargs={}, response_metadata={}, id='5c0d145f-239b-48e2-a0bc-66ad78283fa8'),\n",
       "   AIMessage(content='', additional_kwargs={'tool_calls': [{'id': 'jgnpz2vd9', 'function': {'arguments': '{\"query\":\"New Delhi weather\"}', 'name': 'search'}, 'type': 'function'}]}, response_metadata={'token_usage': {'completion_tokens': 111, 'prompt_tokens': 333, 'total_tokens': 444, 'completion_time': 0.576348498, 'prompt_time': 0.021072552, 'queue_time': 0.05683116, 'total_time': 0.59742105}, 'model_name': 'deepseek-r1-distill-llama-70b', 'system_fingerprint': 'fp_1bbe7845ec', 'finish_reason': 'tool_calls', 'logprobs': None}, id='run--94a8fb9f-f0f6-4ed5-930a-0c8f667b92e8-0', tool_calls=[{'name': 'search', 'args': {'query': 'New Delhi weather'}, 'id': 'jgnpz2vd9', 'type': 'tool_call'}], usage_metadata={'input_tokens': 333, 'output_tokens': 111, 'total_tokens': 444}),\n",
       "   ToolMessage(content='the temp is 45 degree and sunny', name='search', id='8b69338a-fc51-4a43-bc7c-15389b63c3a2', tool_call_id='jgnpz2vd9'),\n",
       "   AIMessage(content='', additional_kwargs={}, response_metadata={'token_usage': {'completion_tokens': 16, 'prompt_tokens': 391, 'total_tokens': 407, 'completion_time': 0.068280725, 'prompt_time': 0.03184216, 'queue_time': 0.055393881, 'total_time': 0.100122885}, 'model_name': 'deepseek-r1-distill-llama-70b', 'system_fingerprint': 'fp_1bbe7845ec', 'finish_reason': 'stop', 'logprobs': None}, id='run--e622c520-a542-4c5e-89fe-441d8839b97a-0', usage_metadata={'input_tokens': 391, 'output_tokens': 16, 'total_tokens': 407}),\n",
       "   HumanMessage(content='what is a weather in new delhi?', additional_kwargs={}, response_metadata={}, id='939bbf8f-f797-4ecc-8b25-f5a39418c5e7'),\n",
       "   AIMessage(content='', additional_kwargs={'tool_calls': [{'id': '1z3afanhb', 'function': {'arguments': '{\"query\":\"New Delhi weather\"}', 'name': 'search'}, 'type': 'function'}]}, response_metadata={'token_usage': {'completion_tokens': 33, 'prompt_tokens': 403, 'total_tokens': 436, 'completion_time': 0.12, 'prompt_time': 0.033722415, 'queue_time': 0.277832745, 'total_time': 0.153722415}, 'model_name': 'deepseek-r1-distill-llama-70b', 'system_fingerprint': 'fp_9009120237', 'finish_reason': 'tool_calls', 'logprobs': None}, id='run--961cb368-b1d1-42ca-b0ab-99d05345638d-0', tool_calls=[{'name': 'search', 'args': {'query': 'New Delhi weather'}, 'id': '1z3afanhb', 'type': 'tool_call'}], usage_metadata={'input_tokens': 403, 'output_tokens': 33, 'total_tokens': 436}),\n",
       "   ToolMessage(content='the temp is 45 degree and sunny', name='search', id='1ac1a98e-917e-4fa0-867b-db29b22f88b4', tool_call_id='1z3afanhb'),\n",
       "   AIMessage(content='', additional_kwargs={}, response_metadata={'token_usage': {'completion_tokens': 16, 'prompt_tokens': 461, 'total_tokens': 477, 'completion_time': 0.068254498, 'prompt_time': 0.029390356, 'queue_time': 0.28092940299999997, 'total_time': 0.097644854}, 'model_name': 'deepseek-r1-distill-llama-70b', 'system_fingerprint': 'fp_87ec4d1ec3', 'finish_reason': 'stop', 'logprobs': None}, id='run--b81e87ea-8b71-4bb4-a60e-3c05ee935635-0', usage_metadata={'input_tokens': 461, 'output_tokens': 16, 'total_tokens': 477}),\n",
       "   HumanMessage(content='what is a weather in new delhi?', additional_kwargs={}, response_metadata={}, id='621390d8-b9d1-4eec-90ec-dbded1f62584'),\n",
       "   AIMessage(content='', additional_kwargs={'tool_calls': [{'id': 'jsmdqb41c', 'function': {'arguments': '{\"query\":\"New Delhi weather\"}', 'name': 'search'}, 'type': 'function'}]}, response_metadata={'token_usage': {'completion_tokens': 60, 'prompt_tokens': 473, 'total_tokens': 533, 'completion_time': 0.218181818, 'prompt_time': 0.030079495, 'queue_time': 0.27875611499999997, 'total_time': 0.248261313}, 'model_name': 'deepseek-r1-distill-llama-70b', 'system_fingerprint': 'fp_87ec4d1ec3', 'finish_reason': 'tool_calls', 'logprobs': None}, id='run--961c530c-5e0a-49a2-b87b-c9412522f8ce-0', tool_calls=[{'name': 'search', 'args': {'query': 'New Delhi weather'}, 'id': 'jsmdqb41c', 'type': 'tool_call'}], usage_metadata={'input_tokens': 473, 'output_tokens': 60, 'total_tokens': 533}),\n",
       "   ToolMessage(content='the temp is 45 degree and sunny', name='search', id='28645225-9498-4af1-9aa7-d471cf9cb159', tool_call_id='jsmdqb41c'),\n",
       "   AIMessage(content='', additional_kwargs={'tool_calls': [{'id': '1xxyjd8sc', 'function': {'arguments': '{\"query\":\"New Delhi weather\"}', 'name': 'search'}, 'type': 'function'}]}, response_metadata={'token_usage': {'completion_tokens': 56, 'prompt_tokens': 530, 'total_tokens': 586, 'completion_time': 0.203636364, 'prompt_time': 0.034245807, 'queue_time': 0.282366173, 'total_time': 0.237882171}, 'model_name': 'deepseek-r1-distill-llama-70b', 'system_fingerprint': 'fp_87ec4d1ec3', 'finish_reason': 'tool_calls', 'logprobs': None}, id='run--11535008-1519-4cb8-9675-44d82d5ea765-0', tool_calls=[{'name': 'search', 'args': {'query': 'New Delhi weather'}, 'id': '1xxyjd8sc', 'type': 'tool_call'}], usage_metadata={'input_tokens': 530, 'output_tokens': 56, 'total_tokens': 586}),\n",
       "   ToolMessage(content='the temp is 45 degree and sunny', name='search', id='2499f6dd-2910-4ae2-a524-5f5c049584df', tool_call_id='1xxyjd8sc'),\n",
       "   AIMessage(content='', additional_kwargs={}, response_metadata={'token_usage': {'completion_tokens': 16, 'prompt_tokens': 588, 'total_tokens': 604, 'completion_time': 0.079214915, 'prompt_time': 0.037532045, 'queue_time': 0.279249845, 'total_time': 0.11674696}, 'model_name': 'deepseek-r1-distill-llama-70b', 'system_fingerprint': 'fp_9009120237', 'finish_reason': 'stop', 'logprobs': None}, id='run--8f769edc-db57-461a-bc69-634d5b643359-0', usage_metadata={'input_tokens': 588, 'output_tokens': 16, 'total_tokens': 604}),\n",
       "   HumanMessage(content='what is a weather in new delhi?', additional_kwargs={}, response_metadata={}, id='2f246bde-f43e-4a56-bd72-3e63745c0f9f'),\n",
       "   AIMessage(content='', additional_kwargs={'tool_calls': [{'id': 'zgwgcn9jt', 'function': {'arguments': '{\"query\":\"New Delhi weather\"}', 'name': 'search'}, 'type': 'function'}]}, response_metadata={'token_usage': {'completion_tokens': 60, 'prompt_tokens': 600, 'total_tokens': 660, 'completion_time': 0.218181818, 'prompt_time': 0.039213156, 'queue_time': 0.061751954, 'total_time': 0.257394974}, 'model_name': 'deepseek-r1-distill-llama-70b', 'system_fingerprint': 'fp_1bbe7845ec', 'finish_reason': 'tool_calls', 'logprobs': None}, id='run--6e2e258a-8e62-4bf6-8c4d-3e6cb359030b-0', tool_calls=[{'name': 'search', 'args': {'query': 'New Delhi weather'}, 'id': 'zgwgcn9jt', 'type': 'tool_call'}], usage_metadata={'input_tokens': 600, 'output_tokens': 60, 'total_tokens': 660}),\n",
       "   ToolMessage(content='the temp is 45 degree and sunny', name='search', id='f4886ff7-b42c-4918-9ac8-653f9cd56176', tool_call_id='zgwgcn9jt'),\n",
       "   AIMessage(content='', additional_kwargs={'tool_calls': [{'id': 'kdjqsdkr4', 'function': {'arguments': '{\"query\":\"New Delhi weather\"}', 'name': 'search'}, 'type': 'function'}]}, response_metadata={'token_usage': {'completion_tokens': 92, 'prompt_tokens': 658, 'total_tokens': 750, 'completion_time': 0.444635386, 'prompt_time': 0.05067533, 'queue_time': 0.0540121, 'total_time': 0.495310716}, 'model_name': 'deepseek-r1-distill-llama-70b', 'system_fingerprint': 'fp_1bbe7845ec', 'finish_reason': 'tool_calls', 'logprobs': None}, id='run--0efb230a-bb0b-444d-8b2a-cb48c25ffc3c-0', tool_calls=[{'name': 'search', 'args': {'query': 'New Delhi weather'}, 'id': 'kdjqsdkr4', 'type': 'tool_call'}], usage_metadata={'input_tokens': 658, 'output_tokens': 92, 'total_tokens': 750}),\n",
       "   ToolMessage(content='the temp is 45 degree and sunny', name='search', id='ec61dcec-5276-4e6e-8296-52598620b1f4', tool_call_id='kdjqsdkr4'),\n",
       "   AIMessage(content='', additional_kwargs={}, response_metadata={'token_usage': {'completion_tokens': 19, 'prompt_tokens': 716, 'total_tokens': 735, 'completion_time': 0.069090909, 'prompt_time': 0.053825863, 'queue_time': 0.054233197, 'total_time': 0.122916772}, 'model_name': 'deepseek-r1-distill-llama-70b', 'system_fingerprint': 'fp_1bbe7845ec', 'finish_reason': 'stop', 'logprobs': None}, id='run--773d4823-3643-49d3-8473-ebd43da68dc5-0', usage_metadata={'input_tokens': 716, 'output_tokens': 19, 'total_tokens': 735}),\n",
       "   HumanMessage(content='what is a weather in new delhi?', additional_kwargs={}, response_metadata={}, id='b189513e-87af-4457-bf09-2ff50db65ce9'),\n",
       "   AIMessage(content='', additional_kwargs={'tool_calls': [{'id': 'sg03pck4d', 'function': {'arguments': '{\"query\":\"New Delhi weather\"}', 'name': 'search'}, 'type': 'function'}]}, response_metadata={'token_usage': {'completion_tokens': 66, 'prompt_tokens': 728, 'total_tokens': 794, 'completion_time': 0.266380245, 'prompt_time': 0.054432663, 'queue_time': 0.056513317, 'total_time': 0.320812908}, 'model_name': 'deepseek-r1-distill-llama-70b', 'system_fingerprint': 'fp_1bbe7845ec', 'finish_reason': 'tool_calls', 'logprobs': None}, id='run--4ec44db6-f6e7-435f-b842-a1b2e068a796-0', tool_calls=[{'name': 'search', 'args': {'query': 'New Delhi weather'}, 'id': 'sg03pck4d', 'type': 'tool_call'}], usage_metadata={'input_tokens': 728, 'output_tokens': 66, 'total_tokens': 794}),\n",
       "   ToolMessage(content='the temp is 45 degree and sunny', name='search', id='a6758c20-7fb9-45f2-a3d3-7b483007ba58', tool_call_id='sg03pck4d'),\n",
       "   AIMessage(content='', additional_kwargs={'tool_calls': [{'id': 'enr1rk2er', 'function': {'arguments': '{\"query\":\"New Delhi weather\"}', 'name': 'search'}, 'type': 'function'}]}, response_metadata={'token_usage': {'completion_tokens': 47, 'prompt_tokens': 786, 'total_tokens': 833, 'completion_time': 0.239607217, 'prompt_time': 0.058649406, 'queue_time': 0.054228043000000004, 'total_time': 0.298256623}, 'model_name': 'deepseek-r1-distill-llama-70b', 'system_fingerprint': 'fp_1bbe7845ec', 'finish_reason': 'tool_calls', 'logprobs': None}, id='run--f7cbe182-e2fd-441b-8013-d20926034b3b-0', tool_calls=[{'name': 'search', 'args': {'query': 'New Delhi weather'}, 'id': 'enr1rk2er', 'type': 'tool_call'}], usage_metadata={'input_tokens': 786, 'output_tokens': 47, 'total_tokens': 833}),\n",
       "   ToolMessage(content='the temp is 45 degree and sunny', name='search', id='6a08689d-9206-4cc3-a483-e9a2d2cf55af', tool_call_id='enr1rk2er'),\n",
       "   AIMessage(content='', additional_kwargs={'tool_calls': [{'id': '9sfm6zp2h', 'function': {'arguments': '{\"query\":\"New Delhi weather\"}', 'name': 'search'}, 'type': 'function'}]}, response_metadata={'token_usage': {'completion_tokens': 67, 'prompt_tokens': 844, 'total_tokens': 911, 'completion_time': 0.243636364, 'prompt_time': 0.06623308, 'queue_time': 0.05391467, 'total_time': 0.309869444}, 'model_name': 'deepseek-r1-distill-llama-70b', 'system_fingerprint': 'fp_1bbe7845ec', 'finish_reason': 'tool_calls', 'logprobs': None}, id='run--1f182b9a-45d6-4011-81b5-f90f62f24870-0', tool_calls=[{'name': 'search', 'args': {'query': 'New Delhi weather'}, 'id': '9sfm6zp2h', 'type': 'tool_call'}], usage_metadata={'input_tokens': 844, 'output_tokens': 67, 'total_tokens': 911}),\n",
       "   ToolMessage(content='the temp is 45 degree and sunny', name='search', id='aeba6358-673a-47b6-9bbf-3bf6b093e274', tool_call_id='9sfm6zp2h'),\n",
       "   AIMessage(content='', additional_kwargs={'tool_calls': [{'id': '687appgnq', 'function': {'arguments': '{\"query\":\"New Delhi weather\"}', 'name': 'search'}, 'type': 'function'}]}, response_metadata={'token_usage': {'completion_tokens': 225, 'prompt_tokens': 903, 'total_tokens': 1128, 'completion_time': 1.041795368, 'prompt_time': 0.070510764, 'queue_time': 0.054368984999999995, 'total_time': 1.112306132}, 'model_name': 'deepseek-r1-distill-llama-70b', 'system_fingerprint': 'fp_1bbe7845ec', 'finish_reason': 'tool_calls', 'logprobs': None}, id='run--2edd0c34-9a53-45d7-b36c-ea109750d392-0', tool_calls=[{'name': 'search', 'args': {'query': 'New Delhi weather'}, 'id': '687appgnq', 'type': 'tool_call'}], usage_metadata={'input_tokens': 903, 'output_tokens': 225, 'total_tokens': 1128}),\n",
       "   ToolMessage(content='the temp is 45 degree and sunny', name='search', id='d89da180-8f70-424c-be1f-d980f842b565', tool_call_id='687appgnq'),\n",
       "   AIMessage(content='', additional_kwargs={'tool_calls': [{'id': '3ys3r1rbq', 'function': {'arguments': '{\"query\":\"New Delhi weather\"}', 'name': 'search'}, 'type': 'function'}]}, response_metadata={'token_usage': {'completion_tokens': 60, 'prompt_tokens': 959, 'total_tokens': 1019, 'completion_time': 0.218181818, 'prompt_time': 0.063156656, 'queue_time': 0.060392004, 'total_time': 0.281338474}, 'model_name': 'deepseek-r1-distill-llama-70b', 'system_fingerprint': 'fp_1bbe7845ec', 'finish_reason': 'tool_calls', 'logprobs': None}, id='run--56eb7b75-2cea-4225-bae7-945d3560e47c-0', tool_calls=[{'name': 'search', 'args': {'query': 'New Delhi weather'}, 'id': '3ys3r1rbq', 'type': 'tool_call'}], usage_metadata={'input_tokens': 959, 'output_tokens': 60, 'total_tokens': 1019}),\n",
       "   ToolMessage(content='the temp is 45 degree and sunny', name='search', id='14824a7c-352a-4aef-b657-912b29d8c935', tool_call_id='3ys3r1rbq'),\n",
       "   AIMessage(content='', additional_kwargs={'tool_calls': [{'id': 'm31109y4k', 'function': {'arguments': '{\"query\":\"New Delhi weather\"}', 'name': 'search'}, 'type': 'function'}]}, response_metadata={'token_usage': {'completion_tokens': 34, 'prompt_tokens': 1018, 'total_tokens': 1052, 'completion_time': 0.147268775, 'prompt_time': 0.073065917, 'queue_time': 0.054679513, 'total_time': 0.220334692}, 'model_name': 'deepseek-r1-distill-llama-70b', 'system_fingerprint': 'fp_1bbe7845ec', 'finish_reason': 'tool_calls', 'logprobs': None}, id='run--409e0c25-9925-4622-8c25-95a5b7f0e47b-0', tool_calls=[{'name': 'search', 'args': {'query': 'New Delhi weather'}, 'id': 'm31109y4k', 'type': 'tool_call'}], usage_metadata={'input_tokens': 1018, 'output_tokens': 34, 'total_tokens': 1052}),\n",
       "   ToolMessage(content='the temp is 45 degree and sunny', name='search', id='92e0da03-9e89-4c36-a263-5de94919b9fc', tool_call_id='m31109y4k'),\n",
       "   AIMessage(content='', additional_kwargs={'tool_calls': [{'id': '9rkrsxvsg', 'function': {'arguments': '{\"query\":\"New Delhi weather\"}', 'name': 'search'}, 'type': 'function'}]}, response_metadata={'token_usage': {'completion_tokens': 384, 'prompt_tokens': 1076, 'total_tokens': 1460, 'completion_time': 1.529850557, 'prompt_time': 0.084587771, 'queue_time': 0.054715019000000004, 'total_time': 1.6144383279999999}, 'model_name': 'deepseek-r1-distill-llama-70b', 'system_fingerprint': 'fp_1bbe7845ec', 'finish_reason': 'tool_calls', 'logprobs': None}, id='run--b0925581-0659-4ed9-acb7-966faf072bbd-0', tool_calls=[{'name': 'search', 'args': {'query': 'New Delhi weather'}, 'id': '9rkrsxvsg', 'type': 'tool_call'}], usage_metadata={'input_tokens': 1076, 'output_tokens': 384, 'total_tokens': 1460}),\n",
       "   ToolMessage(content='the temp is 45 degree and sunny', name='search', id='c411d953-a365-49dc-81e0-48b96cc4aad4', tool_call_id='9rkrsxvsg'),\n",
       "   AIMessage(content='', additional_kwargs={'tool_calls': [{'id': 'httg21e19', 'function': {'arguments': '{\"query\":\"New Delhi weather\"}', 'name': 'search'}, 'type': 'function'}]}, response_metadata={'token_usage': {'completion_tokens': 102, 'prompt_tokens': 1134, 'total_tokens': 1236, 'completion_time': 0.533933856, 'prompt_time': 0.081898098, 'queue_time': 0.057682981999999994, 'total_time': 0.615831954}, 'model_name': 'deepseek-r1-distill-llama-70b', 'system_fingerprint': 'fp_1bbe7845ec', 'finish_reason': 'tool_calls', 'logprobs': None}, id='run--58f915c5-9554-44eb-b2dd-4d6bde253c41-0', tool_calls=[{'name': 'search', 'args': {'query': 'New Delhi weather'}, 'id': 'httg21e19', 'type': 'tool_call'}], usage_metadata={'input_tokens': 1134, 'output_tokens': 102, 'total_tokens': 1236}),\n",
       "   ToolMessage(content='the temp is 45 degree and sunny', name='search', id='6267743e-789b-4aaa-ad25-1b8a97bba894', tool_call_id='httg21e19'),\n",
       "   AIMessage(content='', additional_kwargs={'tool_calls': [{'id': 'v2fk5k8hv', 'function': {'arguments': '{\"query\":\"New Delhi weather\"}', 'name': 'search'}, 'type': 'function'}]}, response_metadata={'token_usage': {'completion_tokens': 131, 'prompt_tokens': 1191, 'total_tokens': 1322, 'completion_time': 0.596688355, 'prompt_time': 0.085835707, 'queue_time': 0.05442382, 'total_time': 0.682524062}, 'model_name': 'deepseek-r1-distill-llama-70b', 'system_fingerprint': 'fp_1bbe7845ec', 'finish_reason': 'tool_calls', 'logprobs': None}, id='run--c924eb65-7eb2-41f8-9e84-2914ed392e70-0', tool_calls=[{'name': 'search', 'args': {'query': 'New Delhi weather'}, 'id': 'v2fk5k8hv', 'type': 'tool_call'}], usage_metadata={'input_tokens': 1191, 'output_tokens': 131, 'total_tokens': 1322}),\n",
       "   ToolMessage(content='the temp is 45 degree and sunny', name='search', id='bf3c0fbe-ceb0-4c62-b808-b6a8f268e7bd', tool_call_id='v2fk5k8hv'),\n",
       "   AIMessage(content='', additional_kwargs={'tool_calls': [{'id': 'g4nhadx56', 'function': {'arguments': '{\"query\":\"New Delhi weather\"}', 'name': 'search'}, 'type': 'function'}]}, response_metadata={'token_usage': {'completion_tokens': 217, 'prompt_tokens': 1250, 'total_tokens': 1467, 'completion_time': 0.901194268, 'prompt_time': 0.089836654, 'queue_time': 0.05369837200000001, 'total_time': 0.991030922}, 'model_name': 'deepseek-r1-distill-llama-70b', 'system_fingerprint': 'fp_1bbe7845ec', 'finish_reason': 'tool_calls', 'logprobs': None}, id='run--2f2c36d2-c9b9-4342-9604-568a22df7fd1-0', tool_calls=[{'name': 'search', 'args': {'query': 'New Delhi weather'}, 'id': 'g4nhadx56', 'type': 'tool_call'}], usage_metadata={'input_tokens': 1250, 'output_tokens': 217, 'total_tokens': 1467}),\n",
       "   ToolMessage(content='the temp is 45 degree and sunny', name='search', id='77cf3373-8cd7-485e-b844-fcab59b5f6e1', tool_call_id='g4nhadx56'),\n",
       "   AIMessage(content='', additional_kwargs={'tool_calls': [{'id': 'tmgm68bgt', 'function': {'arguments': '{\"query\":\"New Delhi weather\"}', 'name': 'search'}, 'type': 'function'}]}, response_metadata={'token_usage': {'completion_tokens': 192, 'prompt_tokens': 1307, 'total_tokens': 1499, 'completion_time': 1.008176829, 'prompt_time': 0.093162465, 'queue_time': 0.05403567100000001, 'total_time': 1.101339294}, 'model_name': 'deepseek-r1-distill-llama-70b', 'system_fingerprint': 'fp_1bbe7845ec', 'finish_reason': 'tool_calls', 'logprobs': None}, id='run--4108cfa0-b845-4d55-ac56-168d5b2660f8-0', tool_calls=[{'name': 'search', 'args': {'query': 'New Delhi weather'}, 'id': 'tmgm68bgt', 'type': 'tool_call'}], usage_metadata={'input_tokens': 1307, 'output_tokens': 192, 'total_tokens': 1499}),\n",
       "   ToolMessage(content='the temp is 45 degree and sunny', name='search', id='c2c62540-9b2a-492b-ad63-5a7cffdda8a8', tool_call_id='tmgm68bgt'),\n",
       "   AIMessage(content='', additional_kwargs={'tool_calls': [{'id': '76x4g9faq', 'function': {'arguments': '{\"query\":\"New Delhi weather\"}', 'name': 'search'}, 'type': 'function'}]}, response_metadata={'token_usage': {'completion_tokens': 378, 'prompt_tokens': 1365, 'total_tokens': 1743, 'completion_time': 1.712596593, 'prompt_time': 0.097168573, 'queue_time': 0.063098582, 'total_time': 1.809765166}, 'model_name': 'deepseek-r1-distill-llama-70b', 'system_fingerprint': 'fp_1bbe7845ec', 'finish_reason': 'tool_calls', 'logprobs': None}, id='run--e28db522-f313-46d5-acbe-cf96ef5702c4-0', tool_calls=[{'name': 'search', 'args': {'query': 'New Delhi weather'}, 'id': '76x4g9faq', 'type': 'tool_call'}], usage_metadata={'input_tokens': 1365, 'output_tokens': 378, 'total_tokens': 1743}),\n",
       "   ToolMessage(content='the temp is 45 degree and sunny', name='search', id='21c27bb5-f131-4399-80d8-e729dbb824e9', tool_call_id='76x4g9faq'),\n",
       "   AIMessage(content='', additional_kwargs={'tool_calls': [{'id': 'pdb8yjxxg', 'function': {'arguments': '{\"query\":\"New Delhi weather\"}', 'name': 'search'}, 'type': 'function'}]}, response_metadata={'token_usage': {'completion_tokens': 210, 'prompt_tokens': 1423, 'total_tokens': 1633, 'completion_time': 0.964912468, 'prompt_time': 0.100973953, 'queue_time': 0.062132520999999996, 'total_time': 1.065886421}, 'model_name': 'deepseek-r1-distill-llama-70b', 'system_fingerprint': 'fp_1bbe7845ec', 'finish_reason': 'tool_calls', 'logprobs': None}, id='run--7db0b1fd-2ed1-4754-a4a7-4ce6f09fd144-0', tool_calls=[{'name': 'search', 'args': {'query': 'New Delhi weather'}, 'id': 'pdb8yjxxg', 'type': 'tool_call'}], usage_metadata={'input_tokens': 1423, 'output_tokens': 210, 'total_tokens': 1633}),\n",
       "   HumanMessage(content='what is a weather in new delhi?', additional_kwargs={}, response_metadata={}, id='b458893f-7c28-4d31-a6e7-c1a3de05b334'),\n",
       "   AIMessage(content='', additional_kwargs={'tool_calls': [{'id': 'j1s5n2ef8', 'function': {'arguments': '{\"query\":\"New Delhi weather\"}', 'name': 'search'}, 'type': 'function'}]}, response_metadata={'token_usage': {'completion_tokens': 314, 'prompt_tokens': 1461, 'total_tokens': 1775, 'completion_time': 1.489960433, 'prompt_time': 0.102728801, 'queue_time': 0.05778472899999999, 'total_time': 1.5926892339999998}, 'model_name': 'deepseek-r1-distill-llama-70b', 'system_fingerprint': 'fp_1bbe7845ec', 'finish_reason': 'tool_calls', 'logprobs': None}, id='run--993ff557-67e6-4740-a346-c24d3402885d-0', tool_calls=[{'name': 'search', 'args': {'query': 'New Delhi weather'}, 'id': 'j1s5n2ef8', 'type': 'tool_call'}], usage_metadata={'input_tokens': 1461, 'output_tokens': 314, 'total_tokens': 1775}),\n",
       "   ToolMessage(content='the temp is 45 degree and sunny', name='search', id='7a932aec-c150-48ce-b69f-3044d97fcf4a', tool_call_id='j1s5n2ef8'),\n",
       "   AIMessage(content='', additional_kwargs={}, response_metadata={'token_usage': {'completion_tokens': 19, 'prompt_tokens': 1521, 'total_tokens': 1540, 'completion_time': 0.093572735, 'prompt_time': 0.105843915, 'queue_time': 0.05425598499999999, 'total_time': 0.19941665}, 'model_name': 'deepseek-r1-distill-llama-70b', 'system_fingerprint': 'fp_1bbe7845ec', 'finish_reason': 'stop', 'logprobs': None}, id='run--3da97896-e020-4ec7-bde8-b6d79475e236-0', usage_metadata={'input_tokens': 1521, 'output_tokens': 19, 'total_tokens': 1540}),\n",
       "   HumanMessage(content='what is a weather in new indor?', additional_kwargs={}, response_metadata={}, id='489b7998-9515-4677-b2ae-a4de2fe13346'),\n",
       "   AIMessage(content='', additional_kwargs={'tool_calls': [{'id': 'vnjshshra', 'function': {'arguments': '{\"query\":\"Indore weather\"}', 'name': 'search'}, 'type': 'function'}]}, response_metadata={'token_usage': {'completion_tokens': 141, 'prompt_tokens': 1533, 'total_tokens': 1674, 'completion_time': 0.606336823, 'prompt_time': 0.114919968, 'queue_time': 0.054054242000000016, 'total_time': 0.721256791}, 'model_name': 'deepseek-r1-distill-llama-70b', 'system_fingerprint': 'fp_1bbe7845ec', 'finish_reason': 'tool_calls', 'logprobs': None}, id='run--b0743d12-b1b5-4c6a-885d-38eed4d8da00-0', tool_calls=[{'name': 'search', 'args': {'query': 'Indore weather'}, 'id': 'vnjshshra', 'type': 'tool_call'}], usage_metadata={'input_tokens': 1533, 'output_tokens': 141, 'total_tokens': 1674}),\n",
       "   ToolMessage(content='the temp is 25 degree and cloudy', name='search', id='24f5b699-c2f4-4fb0-93b0-bbf618ddbe19', tool_call_id='vnjshshra'),\n",
       "   AIMessage(content='The weather in New Delhi is characterized by a subtropical climate, with distinct seasons:\\n\\n1. **Summer (April to June)**: Hot with high temperatures.\\n2. **Monsoon (July to September)**: Experiences heavy rainfall.\\n3. **Winter (December to February)**: Cooler temperatures, sometimes with fog.\\n\\nFor the most current and precise weather information, consulting a reliable weather service or news source is recommended. Additionally, air pollution can affect weather perceptions, particularly in winter.', additional_kwargs={}, response_metadata={'token_usage': {'completion_tokens': 419, 'prompt_tokens': 1590, 'total_tokens': 2009, 'completion_time': 1.733531942, 'prompt_time': 0.117703287, 'queue_time': 0.057032333000000004, 'total_time': 1.851235229}, 'model_name': 'deepseek-r1-distill-llama-70b', 'system_fingerprint': 'fp_1bbe7845ec', 'finish_reason': 'stop', 'logprobs': None}, id='run--407af082-06c6-4031-9400-b710e089ff4d-0', usage_metadata={'input_tokens': 1590, 'output_tokens': 419, 'total_tokens': 2009}),\n",
       "   HumanMessage(content='in which city the temp was 25 degree?', additional_kwargs={}, response_metadata={}, id='712f7aa7-e7a3-4045-8e9b-616a7f380ae8'),\n",
       "   AIMessage(content='The temperature of 25 degrees was in **Indore**, and it was cloudy.', additional_kwargs={}, response_metadata={'token_usage': {'completion_tokens': 186, 'prompt_tokens': 1603, 'total_tokens': 1789, 'completion_time': 0.891607151, 'prompt_time': 0.113377501, 'queue_time': 0.063148039, 'total_time': 1.004984652}, 'model_name': 'deepseek-r1-distill-llama-70b', 'system_fingerprint': 'fp_1bbe7845ec', 'finish_reason': 'stop', 'logprobs': None}, id='run--147bca54-1df2-4186-bd20-8df0d1a2e547-0', usage_metadata={'input_tokens': 1603, 'output_tokens': 186, 'total_tokens': 1789}),\n",
       "   HumanMessage(content='in which city the temp was 25 degree?', additional_kwargs={}, response_metadata={}, id='8223ff16-dcbc-48fb-a447-baaaea05b2a1'),\n",
       "   AIMessage(content='The temperature of 25 degrees was recorded in **Indore**.', additional_kwargs={}, response_metadata={'token_usage': {'completion_tokens': 181, 'prompt_tokens': 1616, 'total_tokens': 1797, 'completion_time': 0.808859827, 'prompt_time': 0.12113458, 'queue_time': 0.05509482, 'total_time': 0.929994407}, 'model_name': 'deepseek-r1-distill-llama-70b', 'system_fingerprint': 'fp_1bbe7845ec', 'finish_reason': 'stop', 'logprobs': None}, id='run--64b6e738-0aa3-47e0-9427-ef8a746a9978-0', usage_metadata={'input_tokens': 1616, 'output_tokens': 181, 'total_tokens': 1797})]},\n",
       " 'pending_sends': []}"
      ]
     },
     "execution_count": 292,
     "metadata": {},
     "output_type": "execute_result"
    }
   ],
   "source": [
    "memory.get(config)"
   ]
  }
 ],
 "metadata": {
  "kernelspec": {
   "display_name": "Python 3",
   "language": "python",
   "name": "python3"
  },
  "language_info": {
   "codemirror_mode": {
    "name": "ipython",
    "version": 3
   },
   "file_extension": ".py",
   "mimetype": "text/x-python",
   "name": "python",
   "nbconvert_exporter": "python",
   "pygments_lexer": "ipython3",
   "version": "3.13.2"
  }
 },
 "nbformat": 4,
 "nbformat_minor": 5
}
