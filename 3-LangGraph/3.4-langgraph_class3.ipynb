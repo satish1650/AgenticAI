{
 "cells": [
  {
   "cell_type": "code",
   "execution_count": 7,
   "id": "f151b4f2",
   "metadata": {},
   "outputs": [],
   "source": [
    "# Groq API Configuration\n",
    "\n",
    "import os \n",
    "from dotenv import load_dotenv\n",
    "load_dotenv()\n",
    "\n",
    "GROQ_API_KEY = os.getenv(\"GROQ_API_KEY\")"
   ]
  },
  {
   "cell_type": "markdown",
   "id": "7797c9b3",
   "metadata": {},
   "source": [
    "#### Load the model"
   ]
  },
  {
   "cell_type": "code",
   "execution_count": 12,
   "id": "6c84745a",
   "metadata": {},
   "outputs": [],
   "source": [
    "from langchain_groq import ChatGroq\n",
    "\n",
    "model=\"deepseek-r1-distill-llama-70b\"\n",
    "llm= ChatGroq(model=model)"
   ]
  },
  {
   "cell_type": "code",
   "execution_count": 13,
   "id": "20cd7fbb",
   "metadata": {},
   "outputs": [
    {
     "data": {
      "text/plain": [
       "AIMessage(content='<think>\\n\\n</think>\\n\\nHello! How can I assist you today? 😊', additional_kwargs={}, response_metadata={'token_usage': {'completion_tokens': 16, 'prompt_tokens': 4, 'total_tokens': 20, 'completion_time': 0.074164628, 'prompt_time': 5.6739e-05, 'queue_time': 0.053678621, 'total_time': 0.074221367}, 'model_name': 'deepseek-r1-distill-llama-70b', 'system_fingerprint': 'fp_1bbe7845ec', 'finish_reason': 'stop', 'logprobs': None}, id='run--3a3e522f-7240-4cd6-9809-1ba3ac92f692-0', usage_metadata={'input_tokens': 4, 'output_tokens': 16, 'total_tokens': 20})"
      ]
     },
     "execution_count": 13,
     "metadata": {},
     "output_type": "execute_result"
    }
   ],
   "source": [
    "llm.invoke(\"Hi\")"
   ]
  },
  {
   "cell_type": "code",
   "execution_count": 14,
   "id": "bcd90c9c",
   "metadata": {},
   "outputs": [
    {
     "data": {
      "text/plain": [
       "'<think>\\n\\n</think>\\n\\nHello! How can I assist you today?'"
      ]
     },
     "execution_count": 14,
     "metadata": {},
     "output_type": "execute_result"
    }
   ],
   "source": [
    "llm.invoke(\"Hi\").content"
   ]
  },
  {
   "cell_type": "code",
   "execution_count": 15,
   "id": "ce03ecc3",
   "metadata": {},
   "outputs": [
    {
     "name": "stdout",
     "output_type": "stream",
     "text": [
      "<think>\n",
      "\n",
      "</think>\n",
      "\n",
      "Hello! How can I assist you today?\n"
     ]
    }
   ],
   "source": [
    "print(llm.invoke(\"Hi\").content)"
   ]
  },
  {
   "cell_type": "markdown",
   "id": "cc788af9",
   "metadata": {},
   "source": [
    "#### import all module"
   ]
  },
  {
   "cell_type": "code",
   "execution_count": 123,
   "id": "bda87091",
   "metadata": {},
   "outputs": [],
   "source": [
    "from langchain_core.tools import tool\n",
    "from langchain_core.messages import HumanMessage, AIMessage\n",
    "from langgraph.graph import StateGraph, MessagesState, START, END\n",
    "from langgraph.prebuilt import ToolNode"
   ]
  },
  {
   "cell_type": "code",
   "execution_count": 23,
   "id": "2dd57480",
   "metadata": {},
   "outputs": [],
   "source": [
    "def call_model(state: MessagesState):\n",
    "    messages = state['messages']\n",
    "    response = llm.invoke(messages)\n",
    "    return {\"messages\": [response]}"
   ]
  },
  {
   "cell_type": "code",
   "execution_count": 29,
   "id": "3f0d5bfa",
   "metadata": {},
   "outputs": [
    {
     "data": {
      "text/plain": [
       "HumanMessage(content='Hi, How are you?', additional_kwargs={}, response_metadata={})"
      ]
     },
     "execution_count": 29,
     "metadata": {},
     "output_type": "execute_result"
    }
   ],
   "source": [
    "# messages passes as string\n",
    "HumanMessage(\"Hi, How are you?\")"
   ]
  },
  {
   "cell_type": "code",
   "execution_count": 43,
   "id": "a581188e",
   "metadata": {},
   "outputs": [
    {
     "data": {
      "text/plain": [
       "HumanMessage(content=['Hi, How are you?'], additional_kwargs={}, response_metadata={})"
      ]
     },
     "execution_count": 43,
     "metadata": {},
     "output_type": "execute_result"
    }
   ],
   "source": [
    "# messages passes as list\n",
    "\n",
    "HumanMessage([\"Hi, How are you?\"])"
   ]
  },
  {
   "cell_type": "markdown",
   "id": "c10402b3",
   "metadata": {},
   "source": [
    "#### This code is only for the testing"
   ]
  },
  {
   "cell_type": "code",
   "execution_count": 44,
   "id": "0bd16b40",
   "metadata": {},
   "outputs": [
    {
     "data": {
      "text/plain": [
       "{'messages': ['Hi, How are you?']}"
      ]
     },
     "execution_count": 44,
     "metadata": {},
     "output_type": "execute_result"
    }
   ],
   "source": [
    "state= {\"messages\": [\"Hi, How are you?\"]}\n",
    "state"
   ]
  },
  {
   "cell_type": "code",
   "execution_count": 45,
   "id": "21aad74c",
   "metadata": {},
   "outputs": [
    {
     "data": {
      "text/plain": [
       "{'messages': [AIMessage(content=\"<think>\\n\\n</think>\\n\\nHi! I'm just a virtual assistant, so I don't have feelings, but I'm here and ready to help you with whatever you need. How are you doing? 😊\", additional_kwargs={}, response_metadata={'token_usage': {'completion_tokens': 42, 'prompt_tokens': 9, 'total_tokens': 51, 'completion_time': 0.216688977, 'prompt_time': 0.000387163, 'queue_time': 0.057833896999999995, 'total_time': 0.21707614}, 'model_name': 'deepseek-r1-distill-llama-70b', 'system_fingerprint': 'fp_1bbe7845ec', 'finish_reason': 'stop', 'logprobs': None}, id='run--1d905b43-8049-413c-8788-69c49d76a57a-0', usage_metadata={'input_tokens': 9, 'output_tokens': 42, 'total_tokens': 51})]}"
      ]
     },
     "execution_count": 45,
     "metadata": {},
     "output_type": "execute_result"
    }
   ],
   "source": [
    "call_model(state)"
   ]
  },
  {
   "cell_type": "code",
   "execution_count": 40,
   "id": "4cf15e76",
   "metadata": {},
   "outputs": [],
   "source": [
    "# from langchain_core.messages import AnyMessage\n",
    "# # class MessagesState(TypedDict):\n",
    "# #     messages: Annotated[list[AnyMessage], add_messages]\n",
    "\n",
    "\n",
    "# class AgentState(TypedDict):\n",
    "#     messages: Annotated[Sequence[BaseMessage], operator.add]"
   ]
  },
  {
   "cell_type": "code",
   "execution_count": 63,
   "id": "e02b2670",
   "metadata": {},
   "outputs": [],
   "source": [
    "from langgraph.graph import StateGraph, MessagesState, START, END"
   ]
  },
  {
   "cell_type": "code",
   "execution_count": 82,
   "id": "e6309299",
   "metadata": {},
   "outputs": [],
   "source": [
    "workflow= StateGraph(MessagesState)"
   ]
  },
  {
   "cell_type": "code",
   "execution_count": 83,
   "id": "0faa30ff",
   "metadata": {},
   "outputs": [
    {
     "data": {
      "text/plain": [
       "<langgraph.graph.state.StateGraph at 0x27d3ca9df90>"
      ]
     },
     "execution_count": 83,
     "metadata": {},
     "output_type": "execute_result"
    }
   ],
   "source": [
    "workflow.add_node(\"mybot\", call_model)"
   ]
  },
  {
   "cell_type": "code",
   "execution_count": 86,
   "id": "14101cc4",
   "metadata": {},
   "outputs": [
    {
     "data": {
      "text/plain": [
       "<langgraph.graph.state.StateGraph at 0x27d3ca9df90>"
      ]
     },
     "execution_count": 86,
     "metadata": {},
     "output_type": "execute_result"
    }
   ],
   "source": [
    "workflow.add_edge(START, \"mybot\")"
   ]
  },
  {
   "cell_type": "code",
   "execution_count": 87,
   "id": "dc82304d",
   "metadata": {},
   "outputs": [
    {
     "data": {
      "text/plain": [
       "<langgraph.graph.state.StateGraph at 0x27d3ca9df90>"
      ]
     },
     "execution_count": 87,
     "metadata": {},
     "output_type": "execute_result"
    }
   ],
   "source": [
    "workflow.add_edge(\"mybot\", END)"
   ]
  },
  {
   "cell_type": "code",
   "execution_count": 88,
   "id": "c1168311",
   "metadata": {},
   "outputs": [
    {
     "data": {
      "image/png": "[encoded data removed]",
      "text/plain": [
       "<langgraph.graph.state.CompiledStateGraph object at 0x0000027D3CA9E5D0>"
      ]
     },
     "execution_count": 88,
     "metadata": {},
     "output_type": "execute_result"
    }
   ],
   "source": [
    "workflow.compile()"
   ]
  },
  {
   "cell_type": "code",
   "execution_count": 89,
   "id": "33b0b90c",
   "metadata": {},
   "outputs": [],
   "source": [
    "app= workflow.compile()"
   ]
  },
  {
   "cell_type": "code",
   "execution_count": 91,
   "id": "e94792a9",
   "metadata": {},
   "outputs": [
    {
     "data": {
      "image/png": "[encoded data removed]",
      "text/plain": [
       "<IPython.core.display.Image object>"
      ]
     },
     "metadata": {},
     "output_type": "display_data"
    }
   ],
   "source": [
    "from IPython.display import Image, display\n",
    "\n",
    "display(Image(app.get_graph().draw_mermaid_png()))"
   ]
  },
  {
   "cell_type": "code",
   "execution_count": 93,
   "id": "5c7e2141",
   "metadata": {},
   "outputs": [],
   "source": [
    "input= {\"messages\": [\"Hi, How are you?\"]}"
   ]
  },
  {
   "cell_type": "code",
   "execution_count": 94,
   "id": "96076aeb",
   "metadata": {},
   "outputs": [
    {
     "data": {
      "text/plain": [
       "{'messages': [HumanMessage(content='Hi, How are you?', additional_kwargs={}, response_metadata={}, id='c570a6ca-6668-4122-a20e-5f80588006ac'),\n",
       "  AIMessage(content=\"<think>\\n\\n</think>\\n\\nHi! I'm just a virtual assistant, so I don't have feelings, but I'm here and ready to help you with whatever you need. How are you doing? 😊\", additional_kwargs={}, response_metadata={'token_usage': {'completion_tokens': 42, 'prompt_tokens': 9, 'total_tokens': 51, 'completion_time': 0.196257664, 'prompt_time': 0.000189157, 'queue_time': 0.056589982999999996, 'total_time': 0.196446821}, 'model_name': 'deepseek-r1-distill-llama-70b', 'system_fingerprint': 'fp_1bbe7845ec', 'finish_reason': 'stop', 'logprobs': None}, id='run--ea66d843-8878-4d67-a2cd-2146513e1fda-0', usage_metadata={'input_tokens': 9, 'output_tokens': 42, 'total_tokens': 51})]}"
      ]
     },
     "execution_count": 94,
     "metadata": {},
     "output_type": "execute_result"
    }
   ],
   "source": [
    "app.invoke(input)"
   ]
  },
  {
   "cell_type": "code",
   "execution_count": 105,
   "id": "7e0282a7",
   "metadata": {},
   "outputs": [
    {
     "name": "stdout",
     "output_type": "stream",
     "text": [
      "Output from mybot Node\n",
      "___________\n",
      "{'messages': [AIMessage(content=\"<think>\\n\\n</think>\\n\\nHi! I'm just a virtual assistant, so I don't have feelings, but I'm here and ready to help you with whatever you need. How are *you* doing? 😊\", additional_kwargs={}, response_metadata={'token_usage': {'completion_tokens': 44, 'prompt_tokens': 9, 'total_tokens': 53, 'completion_time': 0.208920032, 'prompt_time': 0.000522312, 'queue_time': 0.055930538, 'total_time': 0.209442344}, 'model_name': 'deepseek-r1-distill-llama-70b', 'system_fingerprint': 'fp_1bbe7845ec', 'finish_reason': 'stop', 'logprobs': None}, id='run--36595e09-7927-4dfc-a9f9-d8a1c36f44b9-0', usage_metadata={'input_tokens': 9, 'output_tokens': 44, 'total_tokens': 53})]}\n"
     ]
    }
   ],
   "source": [
    "for output in app.stream(input):\n",
    "    for key, value in output.items():\n",
    "        print(f\"Output from {key} Node\")\n",
    "        print(\"___________\")\n",
    "        print(value)"
   ]
  },
  {
   "cell_type": "code",
   "execution_count": 100,
   "id": "8359ab61",
   "metadata": {},
   "outputs": [
    {
     "name": "stdout",
     "output_type": "stream",
     "text": [
      "Output from mybot Node\n",
      "_______\n",
      "{'messages': [AIMessage(content=\"<think>\\n\\n</think>\\n\\nHi! I'm just a virtual assistant, so I don't have feelings, but I'm here and ready to help you with whatever you need. How are you doing? 😊\", additional_kwargs={}, response_metadata={'token_usage': {'completion_tokens': 42, 'prompt_tokens': 9, 'total_tokens': 51, 'completion_time': 0.204652875, 'prompt_time': 0.000214887, 'queue_time': 0.057381708000000003, 'total_time': 0.204867762}, 'model_name': 'deepseek-r1-distill-llama-70b', 'system_fingerprint': 'fp_1bbe7845ec', 'finish_reason': 'stop', 'logprobs': None}, id='run--fb6d1710-1505-4278-a227-5414707ec7a4-0', usage_metadata={'input_tokens': 9, 'output_tokens': 42, 'total_tokens': 51})]}\n",
      "\n",
      "\n"
     ]
    }
   ],
   "source": [
    "for output in app.stream(input):\n",
    "    for key,value in output.items():\n",
    "        print(f\"Output from {key} Node\")\n",
    "        print(\"_______\")\n",
    "        print(value)\n",
    "        print(\"\\n\")"
   ]
  },
  {
   "cell_type": "code",
   "execution_count": 95,
   "id": "4b30c3d2",
   "metadata": {},
   "outputs": [
    {
     "data": {
      "text/plain": [
       "{'messages': [HumanMessage(content='What is AgenticAI?', additional_kwargs={}, response_metadata={}, id='372df89a-76f4-41f9-85e1-b18b24b152e7'),\n",
       "  AIMessage(content=\"<think>\\n\\n</think>\\n\\nAgenticAI is a company that specializes in developing AI-driven solutions to help organizations manage and optimize their supply chains. The company uses advanced algorithms and machine learning techniques to provide predictive analytics, demand forecasting, and inventory optimization. AgenticAI's platform is designed to help businesses make data-driven decisions, reduce costs, and improve operational efficiency.\", additional_kwargs={}, response_metadata={'token_usage': {'completion_tokens': 72, 'prompt_tokens': 9, 'total_tokens': 81, 'completion_time': 0.326203122, 'prompt_time': 0.001403236, 'queue_time': 0.056493324, 'total_time': 0.327606358}, 'model_name': 'deepseek-r1-distill-llama-70b', 'system_fingerprint': 'fp_1bbe7845ec', 'finish_reason': 'stop', 'logprobs': None}, id='run--f3cced25-5378-4cb1-9a4f-603d0578c272-0', usage_metadata={'input_tokens': 9, 'output_tokens': 72, 'total_tokens': 81})]}"
      ]
     },
     "execution_count": 95,
     "metadata": {},
     "output_type": "execute_result"
    }
   ],
   "source": [
    "app.invoke({\"messages\": [\"What is AgenticAI?\"]})"
   ]
  },
  {
   "cell_type": "markdown",
   "id": "97e09a5a",
   "metadata": {},
   "source": [
    "#### This is a workflow with tool calling"
   ]
  },
  {
   "cell_type": "code",
   "execution_count": 106,
   "id": "954fb949",
   "metadata": {},
   "outputs": [],
   "source": [
    "@tool\n",
    "def search(query:str):\n",
    "    \"\"\"This is my custom tool for searching a weather\"\"\"\n",
    "    if \"delhi\" in query.lower():\n",
    "        return \"the temp is 45 degree and sunny\"\n",
    "    return \"the temp is 25 degree and cloudy\""
   ]
  },
  {
   "cell_type": "code",
   "execution_count": 113,
   "id": "f661e821",
   "metadata": {},
   "outputs": [
    {
     "data": {
      "text/plain": [
       "StructuredTool(name='search', description='This is my custom tool for searching a weather', args_schema=<class 'langchain_core.utils.pydantic.search'>, func=<function search at 0x0000027D434FA700>)"
      ]
     },
     "execution_count": 113,
     "metadata": {},
     "output_type": "execute_result"
    }
   ],
   "source": [
    "search"
   ]
  },
  {
   "cell_type": "code",
   "execution_count": 114,
   "id": "cfe51e07",
   "metadata": {},
   "outputs": [
    {
     "data": {
      "text/plain": [
       "'search'"
      ]
     },
     "execution_count": 114,
     "metadata": {},
     "output_type": "execute_result"
    }
   ],
   "source": [
    "search.name"
   ]
  },
  {
   "cell_type": "code",
   "execution_count": 115,
   "id": "008064d8",
   "metadata": {},
   "outputs": [
    {
     "data": {
      "text/plain": [
       "'This is my custom tool for searching a weather'"
      ]
     },
     "execution_count": 115,
     "metadata": {},
     "output_type": "execute_result"
    }
   ],
   "source": [
    "search.description"
   ]
  },
  {
   "cell_type": "code",
   "execution_count": 118,
   "id": "f99bfab7",
   "metadata": {},
   "outputs": [
    {
     "data": {
      "text/plain": [
       "{'query': {'title': 'Query', 'type': 'string'}}"
      ]
     },
     "execution_count": 118,
     "metadata": {},
     "output_type": "execute_result"
    }
   ],
   "source": [
    "search.args"
   ]
  },
  {
   "cell_type": "markdown",
   "id": "a808aeda",
   "metadata": {},
   "source": [
    "#### Testing a tool"
   ]
  },
  {
   "cell_type": "code",
   "execution_count": 108,
   "id": "bb6b3439",
   "metadata": {},
   "outputs": [
    {
     "data": {
      "text/plain": [
       "'the temp is 25 degree and cloudy'"
      ]
     },
     "execution_count": 108,
     "metadata": {},
     "output_type": "execute_result"
    }
   ],
   "source": [
    "search.invoke(\"what is a tempurature in kashmir?\")"
   ]
  },
  {
   "cell_type": "code",
   "execution_count": 109,
   "id": "4e4ba244",
   "metadata": {},
   "outputs": [
    {
     "data": {
      "text/plain": [
       "'the temp is 45 degree and sunny'"
      ]
     },
     "execution_count": 109,
     "metadata": {},
     "output_type": "execute_result"
    }
   ],
   "source": [
    "search.invoke(\"what is a tempurature in delhi?\")"
   ]
  },
  {
   "cell_type": "code",
   "execution_count": 119,
   "id": "ce4f2454",
   "metadata": {},
   "outputs": [
    {
     "data": {
      "text/plain": [
       "AIMessage(content='<think>\\n\\n</think>\\n\\nAs of my last update in July 2024, I cannot provide real-time temperature data. However, you can easily check the current temperature in Delhi using reliable weather websites, apps, or services like:\\n\\n- **AccuWeather**  \\n- **Weather.com**  \\n- **The Weather Channel**  \\n- **Google Weather** (search \"temperature in Delhi\" on Google)  \\n\\nFor the most accurate and up-to-date information, enable location services on your device or search for Delhi specifically. Let me know if you\\'d like help with anything else!', additional_kwargs={}, response_metadata={'token_usage': {'completion_tokens': 116, 'prompt_tokens': 13, 'total_tokens': 129, 'completion_time': 0.447504819, 'prompt_time': 0.000421683, 'queue_time': 0.057553932, 'total_time': 0.447926502}, 'model_name': 'deepseek-r1-distill-llama-70b', 'system_fingerprint': 'fp_1bbe7845ec', 'finish_reason': 'stop', 'logprobs': None}, id='run--54d28c3a-9227-43b4-b637-5acd3e9fb0fa-0', usage_metadata={'input_tokens': 13, 'output_tokens': 116, 'total_tokens': 129})"
      ]
     },
     "execution_count": 119,
     "metadata": {},
     "output_type": "execute_result"
    }
   ],
   "source": [
    "llm.invoke(\"what is a tempurature in delhi?\")"
   ]
  },
  {
   "cell_type": "markdown",
   "id": "0dea67e5",
   "metadata": {},
   "source": [
    "#### Binding a tool to the LLM\n",
    "**Special Note:** use some good for agentic workflow model, since opensource model might not give you the correct output"
   ]
  },
  {
   "cell_type": "code",
   "execution_count": 124,
   "id": "75dcface",
   "metadata": {},
   "outputs": [],
   "source": [
    "tools= [search]"
   ]
  },
  {
   "cell_type": "code",
   "execution_count": 127,
   "id": "b73e6449",
   "metadata": {},
   "outputs": [],
   "source": [
    "llm_with_tool= llm.bind_tools(tools)"
   ]
  },
  {
   "cell_type": "code",
   "execution_count": 133,
   "id": "00960bf1",
   "metadata": {},
   "outputs": [
    {
     "name": "stdout",
     "output_type": "stream",
     "text": [
      "<think>\n",
      "\n",
      "</think>\n",
      "\n",
      "As of my last update in July 2024, I cannot provide real-time weather information. To find the current temperature in Delhi, you can check a reliable weather website, app, or service like Weather.com, AccuWeather, or the Indian Meteorological Department's official website. Let me know if you'd like help with anything else!\n"
     ]
    }
   ],
   "source": [
    "print(llm.invoke(\"what is a tempurature in delhi?\").content)"
   ]
  },
  {
   "cell_type": "markdown",
   "id": "e25a9351",
   "metadata": {},
   "source": [
    "#### Testig my llm_with_tool"
   ]
  },
  {
   "cell_type": "code",
   "execution_count": 134,
   "id": "2de374c6",
   "metadata": {},
   "outputs": [],
   "source": [
    "response= llm_with_tool.invoke(\"what is a tempurature in delhi?\")"
   ]
  },
  {
   "cell_type": "code",
   "execution_count": 135,
   "id": "2cfb45c1",
   "metadata": {},
   "outputs": [
    {
     "data": {
      "text/plain": [
       "AIMessage(content='', additional_kwargs={'tool_calls': [{'id': 'cbq0hham7', 'function': {'arguments': '{\"query\":\"temperature in Delhi\"}', 'name': 'search'}, 'type': 'function'}]}, response_metadata={'token_usage': {'completion_tokens': 87, 'prompt_tokens': 135, 'total_tokens': 222, 'completion_time': 0.382207095, 'prompt_time': 0.008702728, 'queue_time': 0.056279907, 'total_time': 0.390909823}, 'model_name': 'deepseek-r1-distill-llama-70b', 'system_fingerprint': 'fp_1bbe7845ec', 'finish_reason': 'tool_calls', 'logprobs': None}, id='run--8bc303e1-872b-44f9-bf15-e0017ccefb3f-0', tool_calls=[{'name': 'search', 'args': {'query': 'temperature in Delhi'}, 'id': 'cbq0hham7', 'type': 'tool_call'}], usage_metadata={'input_tokens': 135, 'output_tokens': 87, 'total_tokens': 222})"
      ]
     },
     "execution_count": 135,
     "metadata": {},
     "output_type": "execute_result"
    }
   ],
   "source": [
    "response"
   ]
  },
  {
   "cell_type": "code",
   "execution_count": 130,
   "id": "d64511fe",
   "metadata": {},
   "outputs": [
    {
     "data": {
      "text/plain": [
       "''"
      ]
     },
     "execution_count": 130,
     "metadata": {},
     "output_type": "execute_result"
    }
   ],
   "source": [
    "response.content"
   ]
  },
  {
   "cell_type": "code",
   "execution_count": 136,
   "id": "c0f5478e",
   "metadata": {},
   "outputs": [
    {
     "data": {
      "text/plain": [
       "[{'name': 'search',\n",
       "  'args': {'query': 'temperature in Delhi'},\n",
       "  'id': 'cbq0hham7',\n",
       "  'type': 'tool_call'}]"
      ]
     },
     "execution_count": 136,
     "metadata": {},
     "output_type": "execute_result"
    }
   ],
   "source": [
    "response.tool_calls"
   ]
  },
  {
   "cell_type": "code",
   "execution_count": 147,
   "id": "56b1e92c",
   "metadata": {},
   "outputs": [],
   "source": [
    "def call_model(state: MessagesState):\n",
    "    messages = state['messages']\n",
    "    response = llm_with_tool.invoke(messages)\n",
    "    return {\"messages\": [response]}"
   ]
  },
  {
   "cell_type": "markdown",
   "id": "a3019a5c",
   "metadata": {},
   "source": [
    "#### Testing Code"
   ]
  },
  {
   "cell_type": "code",
   "execution_count": 148,
   "id": "2d5b18f1",
   "metadata": {},
   "outputs": [],
   "source": [
    "input= {\"messages\": [\"what is a weather in delhi?\"]}"
   ]
  },
  {
   "cell_type": "code",
   "execution_count": 149,
   "id": "0daa85bc",
   "metadata": {},
   "outputs": [
    {
     "data": {
      "text/plain": [
       "{'messages': [AIMessage(content='', additional_kwargs={'tool_calls': [{'id': 'sb6gz6hfv', 'function': {'arguments': '{\"query\":\"weather in Delhi\"}', 'name': 'search'}, 'type': 'function'}]}, response_metadata={'token_usage': {'completion_tokens': 64, 'prompt_tokens': 133, 'total_tokens': 197, 'completion_time': 0.310037773, 'prompt_time': 0.008570407, 'queue_time': 0.053796832999999995, 'total_time': 0.31860818}, 'model_name': 'deepseek-r1-distill-llama-70b', 'system_fingerprint': 'fp_1bbe7845ec', 'finish_reason': 'tool_calls', 'logprobs': None}, id='run--853253af-448c-4d9b-aeaa-5c7907b8a843-0', tool_calls=[{'name': 'search', 'args': {'query': 'weather in Delhi'}, 'id': 'sb6gz6hfv', 'type': 'tool_call'}], usage_metadata={'input_tokens': 133, 'output_tokens': 64, 'total_tokens': 197})]}"
      ]
     },
     "execution_count": 149,
     "metadata": {},
     "output_type": "execute_result"
    }
   ],
   "source": [
    "call_model(input)"
   ]
  },
  {
   "cell_type": "code",
   "execution_count": 150,
   "id": "af46775a",
   "metadata": {},
   "outputs": [],
   "source": [
    "response= call_model(input)"
   ]
  },
  {
   "cell_type": "code",
   "execution_count": 151,
   "id": "74c7b7db",
   "metadata": {},
   "outputs": [
    {
     "data": {
      "text/plain": [
       "''"
      ]
     },
     "execution_count": 151,
     "metadata": {},
     "output_type": "execute_result"
    }
   ],
   "source": [
    "response[\"messages\"][-1].content"
   ]
  },
  {
   "cell_type": "code",
   "execution_count": 152,
   "id": "832af92e",
   "metadata": {},
   "outputs": [
    {
     "data": {
      "text/plain": [
       "[{'name': 'search',\n",
       "  'args': {'query': 'Delhi weather'},\n",
       "  'id': 'chszaq8rp',\n",
       "  'type': 'tool_call'}]"
      ]
     },
     "execution_count": 152,
     "metadata": {},
     "output_type": "execute_result"
    }
   ],
   "source": [
    "response[\"messages\"][-1].tool_calls"
   ]
  },
  {
   "cell_type": "markdown",
   "id": "4361905a",
   "metadata": {},
   "source": [
    "#### Here my router function\n",
    "\n",
    "Now whatever will come from call_model router funtion will redirect this to the appropriate tool"
   ]
  },
  {
   "cell_type": "code",
   "execution_count": 155,
   "id": "544a4036",
   "metadata": {},
   "outputs": [],
   "source": [
    "def router_function(state: MessagesState):\n",
    "    messages= state[\"messages\"]\n",
    "    last_message= messages[-1]\n",
    "    if last_message.tool_calls:\n",
    "        return \"tools\"\n",
    "    return END"
   ]
  },
  {
   "cell_type": "code",
   "execution_count": 156,
   "id": "b5b2519a",
   "metadata": {},
   "outputs": [
    {
     "data": {
      "text/plain": [
       "[StructuredTool(name='search', description='This is my custom tool for searching a weather', args_schema=<class 'langchain_core.utils.pydantic.search'>, func=<function search at 0x0000027D434FA700>)]"
      ]
     },
     "execution_count": 156,
     "metadata": {},
     "output_type": "execute_result"
    }
   ],
   "source": [
    "tools"
   ]
  },
  {
   "cell_type": "markdown",
   "id": "029dcb39",
   "metadata": {},
   "source": [
    "#### Converting tools to Node"
   ]
  },
  {
   "cell_type": "code",
   "execution_count": 159,
   "id": "33384774",
   "metadata": {},
   "outputs": [],
   "source": [
    "from langgraph.prebuilt import ToolNode\n",
    "\n",
    "tool_node= ToolNode(tools)"
   ]
  },
  {
   "cell_type": "code",
   "execution_count": 160,
   "id": "cee9cfb0",
   "metadata": {},
   "outputs": [
    {
     "data": {
      "text/plain": [
       "tools(tags=None, recurse=True, explode_args=False, func_accepts_config=True, func_accepts={'store': ('__pregel_store', None)}, tools_by_name={'search': StructuredTool(name='search', description='This is my custom tool for searching a weather', args_schema=<class 'langchain_core.utils.pydantic.search'>, func=<function search at 0x0000027D434FA700>)}, tool_to_state_args={'search': {}}, tool_to_store_arg={'search': None}, handle_tool_errors=True, messages_key='messages')"
      ]
     },
     "execution_count": 160,
     "metadata": {},
     "output_type": "execute_result"
    }
   ],
   "source": [
    "tool_node"
   ]
  },
  {
   "cell_type": "code",
   "execution_count": 161,
   "id": "5363b6b4",
   "metadata": {},
   "outputs": [],
   "source": [
    "from langgraph.graph import StateGraph, MessagesState, START, END"
   ]
  },
  {
   "cell_type": "code",
   "execution_count": 174,
   "id": "01dd6be5",
   "metadata": {},
   "outputs": [],
   "source": [
    "workflow2= StateGraph(MessagesState)"
   ]
  },
  {
   "cell_type": "code",
   "execution_count": 175,
   "id": "b1a0c32a",
   "metadata": {},
   "outputs": [
    {
     "data": {
      "text/plain": [
       "<langgraph.graph.state.StateGraph at 0x27d43954190>"
      ]
     },
     "execution_count": 175,
     "metadata": {},
     "output_type": "execute_result"
    }
   ],
   "source": [
    "workflow2.add_node(\"llmwithtool\", call_model)"
   ]
  },
  {
   "cell_type": "code",
   "execution_count": 176,
   "id": "0b2a6aaf",
   "metadata": {},
   "outputs": [
    {
     "data": {
      "text/plain": [
       "<langgraph.graph.state.StateGraph at 0x27d43954190>"
      ]
     },
     "execution_count": 176,
     "metadata": {},
     "output_type": "execute_result"
    }
   ],
   "source": [
    "workflow2.add_node(\"mytools\", tool_node)"
   ]
  },
  {
   "cell_type": "code",
   "execution_count": 177,
   "id": "fe4142fb",
   "metadata": {},
   "outputs": [
    {
     "data": {
      "text/plain": [
       "<langgraph.graph.state.StateGraph at 0x27d43954190>"
      ]
     },
     "execution_count": 177,
     "metadata": {},
     "output_type": "execute_result"
    }
   ],
   "source": [
    "workflow2.add_edge(START, \"llmwithtool\")"
   ]
  },
  {
   "cell_type": "code",
   "execution_count": 178,
   "id": "80557a6b",
   "metadata": {},
   "outputs": [
    {
     "data": {
      "text/plain": [
       "<langgraph.graph.state.StateGraph at 0x27d43954190>"
      ]
     },
     "execution_count": 178,
     "metadata": {},
     "output_type": "execute_result"
    }
   ],
   "source": [
    "workflow2.add_conditional_edges(\n",
    "    \"llmwithtool\",\n",
    "    router_function,\n",
    "    {\n",
    "        \"tools\": \"mytools\",\n",
    "        END: END\n",
    "    }\n",
    ")"
   ]
  },
  {
   "cell_type": "code",
   "execution_count": 179,
   "id": "6fa94555",
   "metadata": {},
   "outputs": [
    {
     "data": {
      "image/png": "[encoded data removed]",
      "text/plain": [
       "<langgraph.graph.state.CompiledStateGraph object at 0x0000027D435802B0>"
      ]
     },
     "execution_count": 179,
     "metadata": {},
     "output_type": "execute_result"
    }
   ],
   "source": [
    "workflow2.compile()"
   ]
  },
  {
   "cell_type": "code",
   "execution_count": 190,
   "id": "aae1b328",
   "metadata": {},
   "outputs": [],
   "source": [
    "app2= workflow2.compile()"
   ]
  },
  {
   "cell_type": "code",
   "execution_count": 195,
   "id": "f0378d22",
   "metadata": {},
   "outputs": [
    {
     "data": {
      "image/png": "[encoded data removed]",
      "text/plain": [
       "<IPython.core.display.Image object>"
      ]
     },
     "metadata": {},
     "output_type": "display_data"
    }
   ],
   "source": [
    "from IPython.display import Image, display\n",
    "\n",
    "display(Image(app2.get_graph().draw_mermaid_png()))"
   ]
  },
  {
   "cell_type": "code",
   "execution_count": 196,
   "id": "7e60b3e1",
   "metadata": {},
   "outputs": [
    {
     "data": {
      "text/plain": [
       "{'messages': [HumanMessage(content='what is a weather in bengraluru?', additional_kwargs={}, response_metadata={}, id='bcff9e1d-a946-4ae2-b6c4-5425750c2926'),\n",
       "  AIMessage(content='', additional_kwargs={'tool_calls': [{'id': '20d5vyqf5', 'function': {'arguments': '{\"query\":\"Bengaluru weather\"}', 'name': 'search'}, 'type': 'function'}]}, response_metadata={'token_usage': {'completion_tokens': 71, 'prompt_tokens': 135, 'total_tokens': 206, 'completion_time': 0.295431159, 'prompt_time': 0.008688254, 'queue_time': 0.059123519000000006, 'total_time': 0.304119413}, 'model_name': 'deepseek-r1-distill-llama-70b', 'system_fingerprint': 'fp_1bbe7845ec', 'finish_reason': 'tool_calls', 'logprobs': None}, id='run--7c3a01c2-3bf5-42c4-bdc1-654103fcc156-0', tool_calls=[{'name': 'search', 'args': {'query': 'Bengaluru weather'}, 'id': '20d5vyqf5', 'type': 'tool_call'}], usage_metadata={'input_tokens': 135, 'output_tokens': 71, 'total_tokens': 206}),\n",
       "  ToolMessage(content='the temp is 25 degree and cloudy', name='search', id='2dfb125e-a0c2-4ae0-a966-01507203366d', tool_call_id='20d5vyqf5')]}"
      ]
     },
     "execution_count": 196,
     "metadata": {},
     "output_type": "execute_result"
    }
   ],
   "source": [
    "app2.invoke({\"messages\": [\"what is a weather in bengraluru?\"]})"
   ]
  },
  {
   "cell_type": "code",
   "execution_count": 198,
   "id": "6a09771c",
   "metadata": {},
   "outputs": [
    {
     "data": {
      "text/plain": [
       "ToolMessage(content='the temp is 25 degree and cloudy', name='search', id='66adc024-b66d-496f-9c4c-4d90c9559fed', tool_call_id='r591v9rye')"
      ]
     },
     "execution_count": 198,
     "metadata": {},
     "output_type": "execute_result"
    }
   ],
   "source": [
    "response= app2.invoke({\"messages\": [\"what is a weather in bengraluru?\"]})\n",
    "response[\"messages\"][-1]"
   ]
  },
  {
   "cell_type": "code",
   "execution_count": 199,
   "id": "7c03346f",
   "metadata": {},
   "outputs": [
    {
     "data": {
      "text/plain": [
       "'the temp is 25 degree and cloudy'"
      ]
     },
     "execution_count": 199,
     "metadata": {},
     "output_type": "execute_result"
    }
   ],
   "source": [
    "response[\"messages\"][-1].content"
   ]
  },
  {
   "cell_type": "code",
   "execution_count": 200,
   "id": "79845721",
   "metadata": {},
   "outputs": [
    {
     "data": {
      "text/plain": [
       "{'messages': [HumanMessage(content='what is a weather in delhi?', additional_kwargs={}, response_metadata={}, id='f4f9cc7d-3393-48fa-91d4-a04cca183522'),\n",
       "  AIMessage(content='', additional_kwargs={'tool_calls': [{'id': 'szmzxf36x', 'function': {'arguments': '{\"query\":\"weather in Delhi\"}', 'name': 'search'}, 'type': 'function'}]}, response_metadata={'token_usage': {'completion_tokens': 107, 'prompt_tokens': 133, 'total_tokens': 240, 'completion_time': 0.441092534, 'prompt_time': 0.008566867, 'queue_time': 0.056393256999999995, 'total_time': 0.449659401}, 'model_name': 'deepseek-r1-distill-llama-70b', 'system_fingerprint': 'fp_1bbe7845ec', 'finish_reason': 'tool_calls', 'logprobs': None}, id='run--7fda8efa-ede5-478d-84c9-e418080ba8c1-0', tool_calls=[{'name': 'search', 'args': {'query': 'weather in Delhi'}, 'id': 'szmzxf36x', 'type': 'tool_call'}], usage_metadata={'input_tokens': 133, 'output_tokens': 107, 'total_tokens': 240}),\n",
       "  ToolMessage(content='the temp is 45 degree and sunny', name='search', id='fea6ec13-c683-40dc-a538-fd1b02acdd6d', tool_call_id='szmzxf36x')]}"
      ]
     },
     "execution_count": 200,
     "metadata": {},
     "output_type": "execute_result"
    }
   ],
   "source": [
    "app2.invoke({\"messages\":[\"what is a weather in delhi?\"]})"
   ]
  },
  {
   "cell_type": "code",
   "execution_count": 201,
   "id": "743387b6",
   "metadata": {},
   "outputs": [
    {
     "data": {
      "text/plain": [
       "'the temp is 45 degree and sunny'"
      ]
     },
     "execution_count": 201,
     "metadata": {},
     "output_type": "execute_result"
    }
   ],
   "source": [
    "response= app2.invoke({\"messages\":[\"what is a weather in delhi?\"]})\n",
    "response[\"messages\"][-1].content"
   ]
  },
  {
   "cell_type": "code",
   "execution_count": 204,
   "id": "3a3479bb",
   "metadata": {},
   "outputs": [
    {
     "data": {
      "text/plain": [
       "HumanMessage(content='what is a weather in delhi?', additional_kwargs={}, response_metadata={}, id='690ea3c0-7d18-4baf-99e5-e8a87f89c0a3')"
      ]
     },
     "execution_count": 204,
     "metadata": {},
     "output_type": "execute_result"
    }
   ],
   "source": [
    "response[\"messages\"][0]"
   ]
  },
  {
   "cell_type": "code",
   "execution_count": 205,
   "id": "b0c09bcb",
   "metadata": {},
   "outputs": [
    {
     "data": {
      "text/plain": [
       "AIMessage(content='', additional_kwargs={'tool_calls': [{'id': 'wt0s999qn', 'function': {'arguments': '{\"query\":\"weather in Delhi\"}', 'name': 'search'}, 'type': 'function'}]}, response_metadata={'token_usage': {'completion_tokens': 94, 'prompt_tokens': 133, 'total_tokens': 227, 'completion_time': 0.405395487, 'prompt_time': 0.008572307, 'queue_time': 0.053738957, 'total_time': 0.413967794}, 'model_name': 'deepseek-r1-distill-llama-70b', 'system_fingerprint': 'fp_1bbe7845ec', 'finish_reason': 'tool_calls', 'logprobs': None}, id='run--1db97253-d3ae-459c-9fc0-64058da97c6c-0', tool_calls=[{'name': 'search', 'args': {'query': 'weather in Delhi'}, 'id': 'wt0s999qn', 'type': 'tool_call'}], usage_metadata={'input_tokens': 133, 'output_tokens': 94, 'total_tokens': 227})"
      ]
     },
     "execution_count": 205,
     "metadata": {},
     "output_type": "execute_result"
    }
   ],
   "source": [
    "response[\"messages\"][1]"
   ]
  },
  {
   "cell_type": "code",
   "execution_count": 206,
   "id": "c0611b88",
   "metadata": {},
   "outputs": [],
   "source": [
    "#### Use good resoning based model"
   ]
  },
  {
   "cell_type": "code",
   "execution_count": 209,
   "id": "e906e9fd",
   "metadata": {},
   "outputs": [
    {
     "data": {
      "text/plain": [
       "{'messages': [HumanMessage(content='Hi, how are you?', additional_kwargs={}, response_metadata={}, id='4c2870d3-d7f7-4012-be92-0cf9bf88082c'),\n",
       "  AIMessage(content=\"Hello! I'm just a virtual assistant, so I don't have feelings, but I'm here and ready to help you. How can I assist you today?\", additional_kwargs={}, response_metadata={'token_usage': {'completion_tokens': 98, 'prompt_tokens': 131, 'total_tokens': 229, 'completion_time': 0.457745967, 'prompt_time': 0.008457969, 'queue_time': 0.05627093100000001, 'total_time': 0.466203936}, 'model_name': 'deepseek-r1-distill-llama-70b', 'system_fingerprint': 'fp_1bbe7845ec', 'finish_reason': 'stop', 'logprobs': None}, id='run--46481609-c866-4493-8d6f-8051061b24f4-0', usage_metadata={'input_tokens': 131, 'output_tokens': 98, 'total_tokens': 229})]}"
      ]
     },
     "execution_count": 209,
     "metadata": {},
     "output_type": "execute_result"
    }
   ],
   "source": [
    "app2.invoke({\"messages\": [\"Hi, how are you?\"]})"
   ]
  },
  {
   "cell_type": "code",
   "execution_count": 210,
   "id": "0a8475e9",
   "metadata": {},
   "outputs": [],
   "source": [
    "response= app2.invoke({\"messages\": [\"Hi, how are you?\"]})"
   ]
  },
  {
   "cell_type": "code",
   "execution_count": 211,
   "id": "f2842207",
   "metadata": {},
   "outputs": [
    {
     "data": {
      "text/plain": [
       "AIMessage(content=\"Hello! How can I assist you today? If you're looking for weather information, could you please let me know the location you're interested in?\", additional_kwargs={}, response_metadata={'token_usage': {'completion_tokens': 404, 'prompt_tokens': 131, 'total_tokens': 535, 'completion_time': 1.7942621650000001, 'prompt_time': 0.00845468, 'queue_time': 0.05635652, 'total_time': 1.802716845}, 'model_name': 'deepseek-r1-distill-llama-70b', 'system_fingerprint': 'fp_1bbe7845ec', 'finish_reason': 'stop', 'logprobs': None}, id='run--726cd96d-9275-44af-9226-b98d94847697-0', usage_metadata={'input_tokens': 131, 'output_tokens': 404, 'total_tokens': 535})"
      ]
     },
     "execution_count": 211,
     "metadata": {},
     "output_type": "execute_result"
    }
   ],
   "source": [
    "response[\"messages\"][-1]"
   ]
  },
  {
   "cell_type": "code",
   "execution_count": 212,
   "id": "f5ff0520",
   "metadata": {},
   "outputs": [],
   "source": [
    "response= app2.invoke({\"messages\": [\"What is agentic AI\"]})"
   ]
  },
  {
   "cell_type": "code",
   "execution_count": 213,
   "id": "ca330ba7",
   "metadata": {},
   "outputs": [
    {
     "data": {
      "text/plain": [
       "'Agentic AI refers to artificial intelligence systems that possess autonomy, the ability to act independently and make decisions based on their environment, goals, and interactions. These systems can perform tasks without explicit human instruction, adapting their behavior to achieve specific objectives. Agentic AI integrates various AI technologies, including machine learning, natural language processing, and decision-making algorithms, to enable proactive and interactive capabilities. It has applications in robotics, autonomous vehicles, smart systems, and personalized assistants, but also raises important considerations around ethics, safety, and control.'"
      ]
     },
     "execution_count": 213,
     "metadata": {},
     "output_type": "execute_result"
    }
   ],
   "source": [
    "response[\"messages\"][-1].content"
   ]
  },
  {
   "cell_type": "code",
   "execution_count": 214,
   "id": "bc6c274e",
   "metadata": {},
   "outputs": [],
   "source": [
    "response= app2.invoke({\"messages\": [\"What is the weather of sikkim\"]})"
   ]
  },
  {
   "cell_type": "code",
   "execution_count": 215,
   "id": "f4045a84",
   "metadata": {},
   "outputs": [
    {
     "data": {
      "text/plain": [
       "'the temp is 25 degree and cloudy'"
      ]
     },
     "execution_count": 215,
     "metadata": {},
     "output_type": "execute_result"
    }
   ],
   "source": [
    "response[\"messages\"][-1].content"
   ]
  },
  {
   "cell_type": "code",
   "execution_count": 216,
   "id": "93819e77",
   "metadata": {},
   "outputs": [
    {
     "name": "stderr",
     "output_type": "stream",
     "text": [
      "Adding an edge to a graph that has already been compiled. This will not be reflected in the compiled graph.\n"
     ]
    },
    {
     "data": {
      "text/plain": [
       "<langgraph.graph.state.StateGraph at 0x27d43954190>"
      ]
     },
     "execution_count": 216,
     "metadata": {},
     "output_type": "execute_result"
    }
   ],
   "source": [
    "workflow2.add_edge(\"mytools\", \"llmwithtool\")"
   ]
  },
  {
   "cell_type": "code",
   "execution_count": 217,
   "id": "b0144bde",
   "metadata": {},
   "outputs": [],
   "source": [
    "app3= workflow2.compile()"
   ]
  },
  {
   "cell_type": "code",
   "execution_count": 220,
   "id": "5ac78a19",
   "metadata": {},
   "outputs": [
    {
     "data": {
      "image/png": "[encoded data removed]",
      "text/plain": [
       "<IPython.core.display.Image object>"
      ]
     },
     "metadata": {},
     "output_type": "display_data"
    }
   ],
   "source": [
    "from IPython.display import display, Image\n",
    "\n",
    "display(Image(app3.get_graph().draw_mermaid_png()))"
   ]
  },
  {
   "cell_type": "code",
   "execution_count": 224,
   "id": "568ac2a7",
   "metadata": {},
   "outputs": [
    {
     "name": "stdout",
     "output_type": "stream",
     "text": [
      "her is output from llmwithtool node\n",
      "________\n",
      "{'messages': [AIMessage(content='', additional_kwargs={'tool_calls': [{'id': 'q26xar5mt', 'function': {'arguments': '{\"query\":\"weather in New Delhi\"}', 'name': 'search'}, 'type': 'function'}]}, response_metadata={'token_usage': {'completion_tokens': 110, 'prompt_tokens': 134, 'total_tokens': 244, 'completion_time': 0.538183051, 'prompt_time': 0.00860927, 'queue_time': 0.056222549999999996, 'total_time': 0.546792321}, 'model_name': 'deepseek-r1-distill-llama-70b', 'system_fingerprint': 'fp_1bbe7845ec', 'finish_reason': 'tool_calls', 'logprobs': None}, id='run--29017232-3c0d-4abd-ae99-89bdca26b4ee-0', tool_calls=[{'name': 'search', 'args': {'query': 'weather in New Delhi'}, 'id': 'q26xar5mt', 'type': 'tool_call'}], usage_metadata={'input_tokens': 134, 'output_tokens': 110, 'total_tokens': 244})]}\n",
      "\n",
      "\n",
      "her is output from mytools node\n",
      "________\n",
      "{'messages': [ToolMessage(content='the temp is 45 degree and sunny', name='search', id='22811ac3-63c1-4f43-8ebd-76c37a6fa42f', tool_call_id='q26xar5mt')]}\n",
      "\n",
      "\n",
      "her is output from llmwithtool node\n",
      "________\n",
      "{'messages': [AIMessage(content='Yes, 45 degrees is quite hot! Make sure to stay hydrated, wear light and breathable clothing, and try to stay in the shade or cool environments if possible.', additional_kwargs={}, response_metadata={'token_usage': {'completion_tokens': 285, 'prompt_tokens': 193, 'total_tokens': 478, 'completion_time': 1.768077408, 'prompt_time': 0.01856611, 'queue_time': 0.053823443, 'total_time': 1.786643518}, 'model_name': 'deepseek-r1-distill-llama-70b', 'system_fingerprint': 'fp_1bbe7845ec', 'finish_reason': 'stop', 'logprobs': None}, id='run--81d2153e-ea01-4ea9-b917-4d518287d1e3-0', usage_metadata={'input_tokens': 193, 'output_tokens': 285, 'total_tokens': 478})]}\n",
      "\n",
      "\n"
     ]
    }
   ],
   "source": [
    "for output in app3.stream({\"messages\": [\"what is a weather in new delhi?\"]}):\n",
    "    for key,value in output.items():\n",
    "        print(f\"her is output from {key} node\")\n",
    "        print(\"________\")\n",
    "        print(value)\n",
    "        print(\"\\n\")"
   ]
  },
  {
   "cell_type": "code",
   "execution_count": 225,
   "id": "cbe5a1d9",
   "metadata": {},
   "outputs": [
    {
     "name": "stdout",
     "output_type": "stream",
     "text": [
      "her is output from llmwithtool node\n",
      "________\n",
      "{'messages': [AIMessage(content='', additional_kwargs={'tool_calls': [{'id': '33cydazm9', 'function': {'arguments': '{\"query\":\"weather in Delhi\"}', 'name': 'search'}, 'type': 'function'}]}, response_metadata={'token_usage': {'completion_tokens': 876, 'prompt_tokens': 145, 'total_tokens': 1021, 'completion_time': 3.924284619, 'prompt_time': 0.009856906, 'queue_time': 0.053941008, 'total_time': 3.9341415250000003}, 'model_name': 'deepseek-r1-distill-llama-70b', 'system_fingerprint': 'fp_1bbe7845ec', 'finish_reason': 'tool_calls', 'logprobs': None}, id='run--b0821d4c-33e4-45c4-93f9-6167ac520543-0', tool_calls=[{'name': 'search', 'args': {'query': 'weather in Delhi'}, 'id': '33cydazm9', 'type': 'tool_call'}], usage_metadata={'input_tokens': 145, 'output_tokens': 876, 'total_tokens': 1021})]}\n",
      "\n",
      "\n",
      "her is output from mytools node\n",
      "________\n",
      "{'messages': [ToolMessage(content='the temp is 45 degree and sunny', name='search', id='3534ace1-17c4-4409-b6a3-6d32b0bef1a2', tool_call_id='33cydazm9')]}\n",
      "\n",
      "\n",
      "her is output from llmwithtool node\n",
      "________\n",
      "{'messages': [AIMessage(content=\"Here’s the weather information for Delhi:\\n\\n**Current Weather in Delhi:**  \\nTemperature: 45°C (113°F)  \\nConditions: Sunny  \\n\\nIf you're looking for hotels in North Delhi, here are some recommendations based on different budgets:\\n\\n### Luxury Hotels:\\n1. **The Oberoi, New Delhi**  \\n   - A 5-star hotel offering world-class amenities and excellent service.\\n   - Location: Dr. Zakir Hussain Marg, near India Gate.\\n\\n2. **The Leela Palace New Delhi**  \\n   - A luxurious option with elegant rooms and top-notch facilities.\\n   - Location: Diplomatic Enclave, Chanakyapuri.\\n\\n### Mid-Range Hotels:\\n1. **Hotel City Star**  \\n   - A comfortable and well-rated hotel in Karol Bagh.\\n   - Location: Karol Bagh, one of the most vibrant areas in North Delhi.\\n\\n2. **Hotel Regent Continental**  \\n   - A cozy and centrally located hotel with good reviews.\\n   - Location: Near Karol Bagh Metro Station.\\n\\n### Budget-Friendly Options:\\n1. **Hotel SPB 87**  \\n   - A budget-friendly option with clean and comfortable rooms.\\n   - Location: Karol Bagh.\\n\\n2. **Hotel Metro View**  \\n   - A simple yet convenient hotel for travelers on a budget.\\n   - Location: Near Karol Bagh Metro Station.\\n\\nIf you're staying in North Delhi, you might want to explore nearby attractions like the Red Fort, Jama Masjid, and Chandni Chowk. Let me know if you'd like more details about any of these hotels or recommendations for dining and sightseeing!\", additional_kwargs={}, response_metadata={'token_usage': {'completion_tokens': 540, 'prompt_tokens': 203, 'total_tokens': 743, 'completion_time': 2.227472892, 'prompt_time': 0.013959818, 'queue_time': 0.057717411999999996, 'total_time': 2.2414327099999998}, 'model_name': 'deepseek-r1-distill-llama-70b', 'system_fingerprint': 'fp_1bbe7845ec', 'finish_reason': 'stop', 'logprobs': None}, id='run--c7d0c46a-4f6d-4ed9-ace9-deef9135fcb9-0', usage_metadata={'input_tokens': 203, 'output_tokens': 540, 'total_tokens': 743})]}\n",
      "\n",
      "\n"
     ]
    }
   ],
   "source": [
    "for output in app3.stream({\"messages\": [\"what is a weather in delhi can you tell me some good hotel for staying in north delhi\"]}):\n",
    "    for key,value in output.items():\n",
    "        print(f\"her is output from {key} node\")\n",
    "        print(\"________\")\n",
    "        print(value)\n",
    "        print(\"\\n\")"
   ]
  }
 ],
 "metadata": {
  "kernelspec": {
   "display_name": "Python 3",
   "language": "python",
   "name": "python3"
  },
  "language_info": {
   "codemirror_mode": {
    "name": "ipython",
    "version": 3
   },
   "file_extension": ".py",
   "mimetype": "text/x-python",
   "name": "python",
   "nbconvert_exporter": "python",
   "pygments_lexer": "ipython3",
   "version": "3.13.2"
  }
 },
 "nbformat": 4,
 "nbformat_minor": 5
}
