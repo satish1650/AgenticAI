{
 "cells": [
  {
   "cell_type": "markdown",
   "id": "bfc153b5",
   "metadata": {},
   "source": [
    "### LangGraph"
   ]
  },
  {
   "cell_type": "markdown",
   "id": "e38c465c",
   "metadata": {},
   "source": [
    "#### Config the model"
   ]
  },
  {
   "cell_type": "code",
   "execution_count": 5,
   "id": "f8aeb4f5",
   "metadata": {},
   "outputs": [
    {
     "name": "stdout",
     "output_type": "stream",
     "text": [
      "Hi there! How can I help you today?\n"
     ]
    }
   ],
   "source": [
    "from langchain_google_genai import ChatGoogleGenerativeAI\n",
    "\n",
    "model= ChatGoogleGenerativeAI(model=\"gemini-1.5-flash\")\n",
    "output= model.invoke(\"Hi\")\n",
    "print(output.content)"
   ]
  },
  {
   "cell_type": "markdown",
   "id": "b7f5a4f7",
   "metadata": {},
   "source": [
    "#### Config the Embedding Model"
   ]
  },
  {
   "cell_type": "code",
   "execution_count": 39,
   "id": "8d10dd86",
   "metadata": {},
   "outputs": [],
   "source": [
    "from langchain_huggingface import HuggingFaceEmbeddings\n",
    "\n",
    "embeddings= HuggingFaceEmbeddings(model_name=\"BAAI/bge-small-en\")"
   ]
  },
  {
   "cell_type": "code",
   "execution_count": 40,
   "id": "fb1f7d28",
   "metadata": {},
   "outputs": [
    {
     "data": {
      "text/plain": [
       "HuggingFaceEmbeddings(model_name='BAAI/bge-small-en', cache_folder=None, model_kwargs={}, encode_kwargs={}, query_encode_kwargs={}, multi_process=False, show_progress=False)"
      ]
     },
     "execution_count": 40,
     "metadata": {},
     "output_type": "execute_result"
    }
   ],
   "source": [
    "embeddings"
   ]
  },
  {
   "cell_type": "code",
   "execution_count": 41,
   "id": "4bc7d905",
   "metadata": {},
   "outputs": [
    {
     "data": {
      "text/plain": [
       "[-0.07908844202756882,\n",
       " -0.04442884773015976,\n",
       " 0.05409764125943184,\n",
       " -0.044667042791843414,\n",
       " -0.004612544551491737,\n",
       " 0.02221708931028843,\n",
       " 0.059072185307741165,\n",
       " 0.04883622005581856,\n",
       " 0.028120674192905426,\n",
       " 0.0176496971398592,\n",
       " 0.0028322997968643904,\n",
       " -0.08215256780385971,\n",
       " 0.034488774836063385,\n",
       " 0.015403807163238525,\n",
       " 0.028747456148266792,\n",
       " -0.007119529414921999,\n",
       " 0.029838014394044876,\n",
       " -0.018075022846460342,\n",
       " -0.09786265343427658,\n",
       " 0.021732240915298462,\n",
       " 0.019262226298451424,\n",
       " -0.01266544871032238,\n",
       " -0.043377310037612915,\n",
       " -0.032973047345876694,\n",
       " 0.008817197754979134,\n",
       " 0.008439965546131134,\n",
       " -0.041041988879442215,\n",
       " -0.01432439312338829,\n",
       " -0.024374419823288918,\n",
       " -0.07668082416057587,\n",
       " -0.035451490432024,\n",
       " 0.005375921260565519,\n",
       " 0.04354889690876007,\n",
       " 0.006629592273384333,\n",
       " 0.03401279076933861,\n",
       " -0.025910746306180954,\n",
       " 0.0015285558765754104,\n",
       " 0.00927803386002779,\n",
       " -0.04985249787569046,\n",
       " 0.01580633781850338,\n",
       " 0.04987366124987602,\n",
       " -0.029326140880584717,\n",
       " -0.02101047709584236,\n",
       " -0.047738123685121536,\n",
       " 0.02954971045255661,\n",
       " -0.023181067779660225,\n",
       " -0.004339942242950201,\n",
       " 0.020532116293907166,\n",
       " 0.06766890734434128,\n",
       " -0.033421311527490616,\n",
       " -0.023943815380334854,\n",
       " -0.013880165293812752,\n",
       " 0.00514563824981451,\n",
       " 0.01831546053290367,\n",
       " 1.1506735972943716e-05,\n",
       " 0.07891945540904999,\n",
       " 0.0679648220539093,\n",
       " 0.005302470177412033,\n",
       " 0.01507952343672514,\n",
       " 0.007900540716946125,\n",
       " 0.020173627883195877,\n",
       " 0.02221660129725933,\n",
       " -0.16903184354305267,\n",
       " 0.05650186166167259,\n",
       " 0.011024540290236473,\n",
       " 0.013744850642979145,\n",
       " -0.003605733858421445,\n",
       " -0.011070845648646355,\n",
       " 0.019297292456030846,\n",
       " 0.030095430091023445,\n",
       " 0.006795777939260006,\n",
       " -0.023954374715685844,\n",
       " 0.007374791894108057,\n",
       " 0.0593295693397522,\n",
       " 0.008326484821736813,\n",
       " -0.00959223136305809,\n",
       " 0.031443238258361816,\n",
       " -0.035627931356430054,\n",
       " 0.015997961163520813,\n",
       " -0.052516527473926544,\n",
       " -0.026418454945087433,\n",
       " -0.02672995999455452,\n",
       " -0.034054383635520935,\n",
       " -0.0007759659201838076,\n",
       " 0.012878017500042915,\n",
       " -0.03920946270227432,\n",
       " 0.014817402698099613,\n",
       " 0.025908630341291428,\n",
       " -0.014665702357888222,\n",
       " 0.010291104204952717,\n",
       " -0.02750660665333271,\n",
       " -0.01949908398091793,\n",
       " 0.007516192737966776,\n",
       " 0.035389408469200134,\n",
       " -0.040493618696928024,\n",
       " -0.0028356215916574,\n",
       " 0.009619669057428837,\n",
       " 0.023866571485996246,\n",
       " -0.060134243220090866,\n",
       " 0.479011207818985,\n",
       " -0.05063440278172493,\n",
       " -0.004992618691176176,\n",
       " 0.034755297005176544,\n",
       " -0.04206056147813797,\n",
       " 0.008581810630857944,\n",
       " 0.007647186052054167,\n",
       " -0.01869889721274376,\n",
       " -0.025039024651050568,\n",
       " -0.01366467960178852,\n",
       " -0.010560109280049801,\n",
       " 0.010782559402287006,\n",
       " -0.0409841425716877,\n",
       " 0.03603671118617058,\n",
       " -0.007965944707393646,\n",
       " 0.018222855404019356,\n",
       " -0.013025190681219101,\n",
       " 0.04352913424372673,\n",
       " 0.01504649966955185,\n",
       " 0.02994609624147415,\n",
       " -0.04121045023202896,\n",
       " -0.021300647407770157,\n",
       " 0.026300856843590736,\n",
       " -0.021646253764629364,\n",
       " -0.007428097538650036,\n",
       " 0.05885772034525871,\n",
       " -0.08066146075725555,\n",
       " 0.04103619605302811,\n",
       " 0.10502365976572037,\n",
       " 0.01650911197066307,\n",
       " 0.04040420055389404,\n",
       " 0.017909320071339607,\n",
       " -0.01708136685192585,\n",
       " -0.05261574685573578,\n",
       " -0.03861159086227417,\n",
       " -0.01132203359156847,\n",
       " 0.0011532270582392812,\n",
       " 0.005072115920484066,\n",
       " -0.003273212816566229,\n",
       " 0.010071244090795517,\n",
       " -0.038589250296354294,\n",
       " -0.06681248545646667,\n",
       " -0.12623777985572815,\n",
       " -0.03436881676316261,\n",
       " -0.09998427331447601,\n",
       " 0.001517227734439075,\n",
       " 0.035158224403858185,\n",
       " -0.024405179545283318,\n",
       " 0.03347674384713173,\n",
       " -0.015473192557692528,\n",
       " -0.01862066052854061,\n",
       " -0.01169865857809782,\n",
       " 0.01956862024962902,\n",
       " 0.003239129902794957,\n",
       " -0.03811301290988922,\n",
       " 0.0033215421717613935,\n",
       " 0.013473491184413433,\n",
       " 0.05024225264787674,\n",
       " 0.018066314980387688,\n",
       " 0.0016396244755014777,\n",
       " 0.01593000814318657,\n",
       " -0.02272144891321659,\n",
       " -0.04006458818912506,\n",
       " -0.0315120629966259,\n",
       " 0.02378210797905922,\n",
       " -0.02345958910882473,\n",
       " -0.11130783706903458,\n",
       " -0.026976818218827248,\n",
       " 0.0379614494740963,\n",
       " 0.04547111317515373,\n",
       " 0.03482833504676819,\n",
       " 0.056131746619939804,\n",
       " 0.05406569316983223,\n",
       " -0.03996160253882408,\n",
       " 0.05864236131310463,\n",
       " 0.0742821916937828,\n",
       " 0.021890509873628616,\n",
       " 0.008434641174972057,\n",
       " 0.013104855082929134,\n",
       " -0.016849417239427567,\n",
       " 0.003975376952439547,\n",
       " 0.02084595337510109,\n",
       " -0.025737851858139038,\n",
       " -0.02174498327076435,\n",
       " 0.008515792898833752,\n",
       " 0.04541560262441635,\n",
       " -0.010894089937210083,\n",
       " -0.014237867668271065,\n",
       " 0.027843855321407318,\n",
       " 0.02180677279829979,\n",
       " 0.03686782717704773,\n",
       " -0.008486572653055191,\n",
       " 0.012398641556501389,\n",
       " 0.006997850723564625,\n",
       " 0.02495718002319336,\n",
       " -0.03508183732628822,\n",
       " -0.016135184094309807,\n",
       " 0.0322890467941761,\n",
       " -0.021557241678237915,\n",
       " -0.014241006225347519,\n",
       " -0.0005028118030168116,\n",
       " 0.05817694962024689,\n",
       " 0.01563085988163948,\n",
       " 0.012002917006611824,\n",
       " 0.059722356498241425,\n",
       " 0.03853257745504379,\n",
       " 0.030582236126065254,\n",
       " 0.002449629595503211,\n",
       " -0.008574224077165127,\n",
       " 0.020884616300463676,\n",
       " 0.00027376835350878537,\n",
       " -0.029879815876483917,\n",
       " -0.0077658165246248245,\n",
       " 0.04993171989917755,\n",
       " 0.0011582367587834597,\n",
       " 0.002076338743790984,\n",
       " -0.058814968913793564,\n",
       " -1.338046058663167e-05,\n",
       " 0.027675379067659378,\n",
       " -0.03775937110185623,\n",
       " 0.03381099924445152,\n",
       " 0.011264494620263577,\n",
       " -0.0514337383210659,\n",
       " -0.06030106917023659,\n",
       " -0.24711008369922638,\n",
       " 0.031905438750982285,\n",
       " -0.006870851386338472,\n",
       " -0.04242599010467529,\n",
       " 0.04653506726026535,\n",
       " -0.048517707735300064,\n",
       " 0.0693516880273819,\n",
       " -0.020998744294047356,\n",
       " 0.06298445910215378,\n",
       " 0.04706904664635658,\n",
       " 0.044465210288763046,\n",
       " -0.06075819209218025,\n",
       " -0.0296074990183115,\n",
       " -0.006924051325768232,\n",
       " 0.00743970088660717,\n",
       " 0.024351805448532104,\n",
       " 0.0082771647721529,\n",
       " -0.007694598753005266,\n",
       " 0.025263486430048943,\n",
       " -0.04818427562713623,\n",
       " 0.02187994308769703,\n",
       " 0.021170087158679962,\n",
       " 0.024236079305410385,\n",
       " -0.03685811534523964,\n",
       " 0.03138113021850586,\n",
       " -0.04149831458926201,\n",
       " 0.1827498972415924,\n",
       " 0.09590748697519302,\n",
       " 0.029745420441031456,\n",
       " 0.006691761314868927,\n",
       " 0.03585738316178322,\n",
       " -0.03622668981552124,\n",
       " 0.007964874617755413,\n",
       " -0.1636047661304474,\n",
       " 0.02729562111198902,\n",
       " 0.049428582191467285,\n",
       " -0.012646530754864216,\n",
       " -0.05852849408984184,\n",
       " -0.061042360961437225,\n",
       " -0.05819438025355339,\n",
       " -0.06133582442998886,\n",
       " -0.004917283076792955,\n",
       " -0.022193308919668198,\n",
       " -0.060259003192186356,\n",
       " -0.004859462846070528,\n",
       " -0.0461808517575264,\n",
       " -0.04464858025312424,\n",
       " 0.004078390076756477,\n",
       " -0.06207895651459694,\n",
       " 0.043106935918331146,\n",
       " 0.03182953968644142,\n",
       " -0.0213774386793375,\n",
       " 0.029758010059595108,\n",
       " 0.049405407160520554,\n",
       " -0.03480987995862961,\n",
       " -0.02051762118935585,\n",
       " -0.05862057954072952,\n",
       " -0.006150332745164633,\n",
       " -0.018226079642772675,\n",
       " 0.026692764833569527,\n",
       " -0.0030815876089036465,\n",
       " 0.03177190572023392,\n",
       " 0.00037966942181810737,\n",
       " -0.019342277199029922,\n",
       " 0.002229324309155345,\n",
       " 0.05148422345519066,\n",
       " -0.02013244479894638,\n",
       " -0.014172973111271858,\n",
       " 0.021996276453137398,\n",
       " -0.044235505163669586,\n",
       " -0.030027415603399277,\n",
       " -0.007158088032156229,\n",
       " -0.014429202303290367,\n",
       " 0.0002974581439048052,\n",
       " 0.03242654353380203,\n",
       " 0.04386087507009506,\n",
       " -0.007109707221388817,\n",
       " -0.012875350192189217,\n",
       " -0.04111793637275696,\n",
       " -0.01800246722996235,\n",
       " 0.047900233417749405,\n",
       " 0.003191988682374358,\n",
       " 0.02935187891125679,\n",
       " 0.016723742708563805,\n",
       " 0.03043689765036106,\n",
       " 0.026940688490867615,\n",
       " 0.05279375985264778,\n",
       " -0.016862723976373672,\n",
       " 0.04483463615179062,\n",
       " -0.051409028470516205,\n",
       " -0.012425505556166172,\n",
       " 0.0394488126039505,\n",
       " -0.02161421626806259,\n",
       " -0.09307602047920227,\n",
       " 0.01367515604943037,\n",
       " -0.04264898598194122,\n",
       " -0.30619317293167114,\n",
       " 0.034019339829683304,\n",
       " 0.014542635530233383,\n",
       " 0.03519310802221298,\n",
       " -0.05439160019159317,\n",
       " 0.049322787672281265,\n",
       " 0.011805705726146698,\n",
       " 0.03944576904177666,\n",
       " -0.07414709031581879,\n",
       " 0.015188857913017273,\n",
       " 0.011595850810408592,\n",
       " 0.08685079216957092,\n",
       " 0.01808321103453636,\n",
       " 0.03907671198248863,\n",
       " -0.005238115321844816,\n",
       " 0.011145034804940224,\n",
       " 0.055036235600709915,\n",
       " -0.053516797721385956,\n",
       " 0.025624578818678856,\n",
       " -0.004501740448176861,\n",
       " -0.019988462328910828,\n",
       " 0.022604983299970627,\n",
       " 0.20670822262763977,\n",
       " -0.0323968343436718,\n",
       " 0.067336805164814,\n",
       " 0.03647489845752716,\n",
       " -0.023568956181406975,\n",
       " 0.04077624902129173,\n",
       " -0.002522054361179471,\n",
       " -0.018019430339336395,\n",
       " 0.002640389371663332,\n",
       " 0.020820874720811844,\n",
       " 0.028254950419068336,\n",
       " -0.019730260595679283,\n",
       " 0.03466714173555374,\n",
       " 0.0005933467764407396,\n",
       " -0.04941932111978531,\n",
       " 0.003897221526131034,\n",
       " 0.027934307232499123,\n",
       " -0.002904300345107913,\n",
       " -0.046007800847291946,\n",
       " 0.008476097136735916,\n",
       " -0.053172215819358826,\n",
       " 0.009357074275612831,\n",
       " 0.08151888102293015,\n",
       " -0.04578976333141327,\n",
       " -0.03517906740307808,\n",
       " -0.02774805948138237,\n",
       " -0.006551878992468119,\n",
       " -0.00434906966984272,\n",
       " -0.0013397956499829888,\n",
       " -0.015247134491801262,\n",
       " 0.00939412135630846,\n",
       " 0.04751032218337059,\n",
       " 0.008502842858433723,\n",
       " 0.004568065982311964,\n",
       " -0.011247067712247372,\n",
       " -0.02038717456161976,\n",
       " -0.029767096042633057,\n",
       " -0.03089851886034012,\n",
       " -0.022861521691083908,\n",
       " -0.03012222796678543,\n",
       " 0.038897186517715454,\n",
       " 0.02636386640369892,\n",
       " 0.01288149319589138]"
      ]
     },
     "execution_count": 41,
     "metadata": {},
     "output_type": "execute_result"
    }
   ],
   "source": [
    "embeddings.embed_query(\"Hi\")"
   ]
  },
  {
   "cell_type": "code",
   "execution_count": 42,
   "id": "b8826039",
   "metadata": {},
   "outputs": [
    {
     "data": {
      "text/plain": [
       "384"
      ]
     },
     "execution_count": 42,
     "metadata": {},
     "output_type": "execute_result"
    }
   ],
   "source": [
    "len(embeddings.embed_query(\"Hi\"))"
   ]
  },
  {
   "cell_type": "markdown",
   "id": "63e1c343",
   "metadata": {},
   "source": [
    "#### Lets take a data embed it and store in VDB (Vector Database)"
   ]
  },
  {
   "cell_type": "code",
   "execution_count": 37,
   "id": "58775fed",
   "metadata": {},
   "outputs": [],
   "source": [
    "from langchain_community.document_loaders import TextLoader, DirectoryLoader\n",
    "from langchain_community.vectorstores import Chroma\n",
    "from langchain_text_splitters import RecursiveCharacterTextSplitter"
   ]
  },
  {
   "cell_type": "code",
   "execution_count": 17,
   "id": "7a6f61b4",
   "metadata": {},
   "outputs": [],
   "source": [
    "loader= DirectoryLoader(\"../data2\", glob=\"./*.txt\", loader_cls=TextLoader)"
   ]
  },
  {
   "cell_type": "code",
   "execution_count": 20,
   "id": "16c59e48",
   "metadata": {},
   "outputs": [],
   "source": [
    "docs= loader.load()"
   ]
  },
  {
   "cell_type": "code",
   "execution_count": 21,
   "id": "3373a53f",
   "metadata": {},
   "outputs": [
    {
     "data": {
      "text/plain": [
       "[Document(metadata={'source': '..\\\\data2\\\\usa.txt'}, page_content=\"🇺🇸 Overview of the U.S. Economy\\nThe United States of America possesses the largest economy in the world in terms of nominal GDP, making it the most powerful economic force globally. It operates under a capitalist mixed economy, where the private sector dominates, but the government plays a significant regulatory and fiscal role. With a population of over 335 million people and a high level of technological advancement, the U.S. economy thrives on a foundation of consumer spending, innovation, global trade, and financial services. It has a highly diversified structure with strong sectors in technology, healthcare, finance, real estate, defense, and agriculture.\\n\\nU.S. GDP – Size, Composition, and Global Share\\nAs of 2024, the United States’ nominal GDP is estimated to be around $28 trillion USD, accounting for approximately 25% of the global economy. It ranks #1 in the world by nominal GDP, far ahead of China (which ranks 2nd). The U.S. GDP per capita is also among the highest, hovering around $83,000, which indicates a high standard of living and productivity. In terms of Purchasing Power Parity (PPP), the U.S. ranks second, but nominal GDP is considered more reflective of actual economic size and financial influence.\\n\\nThe GDP is predominantly driven by the services sector, which contributes more than 77% to the total GDP. This includes industries such as finance, insurance, real estate, healthcare, education, and information technology. The industrial sector (manufacturing, construction, mining) makes up around 19%, while agriculture, although technologically advanced and export-oriented, contributes only about 1%. Despite its small share in GDP, U.S. agriculture is globally significant in terms of productivity and exports.\\n\\nGDP Growth Trends and Dynamics\\nHistorically, the U.S. economy has enjoyed consistent long-term growth, averaging around 2-3% annually. Post-pandemic, the economy bounced back strongly, but 2022 and 2023 saw rising inflation due to supply chain issues and stimulus-driven demand. In 2024, the U.S. GDP grew at a modest pace of around 2.1%, as the Federal Reserve’s interest rate hikes aimed at controlling inflation also moderated economic expansion. Consumer spending, which makes up nearly 70% of GDP, remains a dominant force in economic stability.\\n\\nThe U.S. maintains its GDP growth through strong innovation, entrepreneurship, and investment in R&D. With companies like Apple, Google, Amazon, Microsoft, and Tesla leading global markets, the U.S. consistently produces high value across sectors, especially in technology and advanced services. Additionally, the economy benefits from intellectual property exports, financial services, and higher education, all of which contribute significantly to GDP through both domestic and international markets.\\n\\nRole in the Global Economy\\nThe U.S. Dollar (USD) is the global reserve currency, held by over 60% of the world’s central bank reserves. This gives the U.S. an enormous advantage in global trade and borrowing. The U.S. is a key member of international institutions like the World Bank, IMF, G7, G20, and WTO, and plays a central role in setting global economic policy.\\n\\nAs a global innovation hub, the U.S. attracts billions in foreign investment and hosts many of the world's largest and most valuable companies. Its exports include high-tech machinery, aircraft, pharmaceuticals, semiconductors, and financial services, while its imports cover consumer goods, electronics, automobiles, and industrial materials. The trade deficit remains large (around $900 billion in 2024), primarily because the U.S. consumes more than it exports, but its ability to finance this through capital inflows and reserve currency status sustains balance.\\n\\nKey Economic Strengths\\nThe core strength of the U.S. economy lies in its flexible labor market, deep capital markets, technological superiority, and legal system that encourages innovation and property rights. It has a large, highly educated workforce, a diverse immigration pipeline, and access to vast natural resources including oil, gas, coal, and farmland. The presence of top-tier universities and research institutions fuels the knowledge economy, with billions spent annually on R&D—over $700 billion USD, more than any other country.\\n\\nThe U.S. leads in many critical sectors, including software, biotechnology, aerospace, defense, financial services, and media. Its startup ecosystem, especially in Silicon Valley, produces unicorns and tech giants at a scale unmatched globally. Its financial markets—particularly Wall Street—are the most liquid and globally integrated in the world.\\n\\nChallenges and Structural Issues\\nDespite its strength, the U.S. economy faces several serious long-term issues. The national debt has surpassed $34 trillion USD, raising concerns about fiscal sustainability, especially as interest payments alone are growing rapidly. The income and wealth inequality gap has widened, with a small percentage of Americans owning a disproportionate share of wealth. Access to affordable healthcare, housing shortages, and a declining labor force participation in some sectors are additional structural issues.\\n\\nAnother growing concern is political polarization, which often stalls crucial economic reforms and budget agreements, as seen in recurrent debt ceiling crises. The U.S. also faces challenges from global competition, especially from China in areas like AI, semiconductors, and green technology. Moreover, climate change, cybersecurity threats, and geopolitical risks (like Ukraine and Taiwan conflicts) add layers of vulnerability to economic planning.\\n\\nFuture Outlook (2025–2030)\\nLooking forward, the U.S. economy is expected to grow at a moderate pace, powered by innovation in AI, green energy, robotics, biotech, and quantum computing. The Biden administration’s Inflation Reduction Act and CHIPS Act are pumping massive investments into semiconductors, clean energy, and infrastructure. There is a strong push for reshoring of manufacturing, especially in critical sectors like chips, pharmaceuticals, and batteries.\\n\\nHowever, economic leadership will depend on managing the national debt, reforming entitlement programs, upgrading infrastructure, and ensuring the next generation is equipped with digital-age skills. If the U.S. can handle these challenges, it is well-positioned to remain a global economic powerhouse through 2030 and beyond.\\n\\nFinal Summary\\nThe U.S. economy remains the engine of global growth, backed by unmatched innovation, financial dominance, and a strong institutional framework. Its $28 trillion GDP and influence over global finance, trade, and technology make it the centerpiece of the modern economic system. Yet, rising debt, inequality, political gridlock, and competition from emerging powers demand careful policy navigation. If successfully addressed, the U.S. will continue to dominate the global economy well into the future.\")]"
      ]
     },
     "execution_count": 21,
     "metadata": {},
     "output_type": "execute_result"
    }
   ],
   "source": [
    "docs"
   ]
  },
  {
   "cell_type": "code",
   "execution_count": 23,
   "id": "e19a5093",
   "metadata": {},
   "outputs": [
    {
     "data": {
      "text/plain": [
       "1"
      ]
     },
     "execution_count": 23,
     "metadata": {},
     "output_type": "execute_result"
    }
   ],
   "source": [
    "len(docs)"
   ]
  },
  {
   "cell_type": "code",
   "execution_count": 22,
   "id": "5c201542",
   "metadata": {},
   "outputs": [
    {
     "data": {
      "text/plain": [
       "\"🇺🇸 Overview of the U.S. Economy\\nThe United States of America possesses the largest economy in the world in terms of nominal GDP, making it the most powerful economic force globally. It operates under a capitalist mixed economy, where the private sector dominates, but the government plays a significant regulatory and fiscal role. With a population of over 335 million people and a high level of technological advancement, the U.S. economy thrives on a foundation of consumer spending, innovation, global trade, and financial services. It has a highly diversified structure with strong sectors in technology, healthcare, finance, real estate, defense, and agriculture.\\n\\nU.S. GDP – Size, Composition, and Global Share\\nAs of 2024, the United States’ nominal GDP is estimated to be around $28 trillion USD, accounting for approximately 25% of the global economy. It ranks #1 in the world by nominal GDP, far ahead of China (which ranks 2nd). The U.S. GDP per capita is also among the highest, hovering around $83,000, which indicates a high standard of living and productivity. In terms of Purchasing Power Parity (PPP), the U.S. ranks second, but nominal GDP is considered more reflective of actual economic size and financial influence.\\n\\nThe GDP is predominantly driven by the services sector, which contributes more than 77% to the total GDP. This includes industries such as finance, insurance, real estate, healthcare, education, and information technology. The industrial sector (manufacturing, construction, mining) makes up around 19%, while agriculture, although technologically advanced and export-oriented, contributes only about 1%. Despite its small share in GDP, U.S. agriculture is globally significant in terms of productivity and exports.\\n\\nGDP Growth Trends and Dynamics\\nHistorically, the U.S. economy has enjoyed consistent long-term growth, averaging around 2-3% annually. Post-pandemic, the economy bounced back strongly, but 2022 and 2023 saw rising inflation due to supply chain issues and stimulus-driven demand. In 2024, the U.S. GDP grew at a modest pace of around 2.1%, as the Federal Reserve’s interest rate hikes aimed at controlling inflation also moderated economic expansion. Consumer spending, which makes up nearly 70% of GDP, remains a dominant force in economic stability.\\n\\nThe U.S. maintains its GDP growth through strong innovation, entrepreneurship, and investment in R&D. With companies like Apple, Google, Amazon, Microsoft, and Tesla leading global markets, the U.S. consistently produces high value across sectors, especially in technology and advanced services. Additionally, the economy benefits from intellectual property exports, financial services, and higher education, all of which contribute significantly to GDP through both domestic and international markets.\\n\\nRole in the Global Economy\\nThe U.S. Dollar (USD) is the global reserve currency, held by over 60% of the world’s central bank reserves. This gives the U.S. an enormous advantage in global trade and borrowing. The U.S. is a key member of international institutions like the World Bank, IMF, G7, G20, and WTO, and plays a central role in setting global economic policy.\\n\\nAs a global innovation hub, the U.S. attracts billions in foreign investment and hosts many of the world's largest and most valuable companies. Its exports include high-tech machinery, aircraft, pharmaceuticals, semiconductors, and financial services, while its imports cover consumer goods, electronics, automobiles, and industrial materials. The trade deficit remains large (around $900 billion in 2024), primarily because the U.S. consumes more than it exports, but its ability to finance this through capital inflows and reserve currency status sustains balance.\\n\\nKey Economic Strengths\\nThe core strength of the U.S. economy lies in its flexible labor market, deep capital markets, technological superiority, and legal system that encourages innovation and property rights. It has a large, highly educated workforce, a diverse immigration pipeline, and access to vast natural resources including oil, gas, coal, and farmland. The presence of top-tier universities and research institutions fuels the knowledge economy, with billions spent annually on R&D—over $700 billion USD, more than any other country.\\n\\nThe U.S. leads in many critical sectors, including software, biotechnology, aerospace, defense, financial services, and media. Its startup ecosystem, especially in Silicon Valley, produces unicorns and tech giants at a scale unmatched globally. Its financial markets—particularly Wall Street—are the most liquid and globally integrated in the world.\\n\\nChallenges and Structural Issues\\nDespite its strength, the U.S. economy faces several serious long-term issues. The national debt has surpassed $34 trillion USD, raising concerns about fiscal sustainability, especially as interest payments alone are growing rapidly. The income and wealth inequality gap has widened, with a small percentage of Americans owning a disproportionate share of wealth. Access to affordable healthcare, housing shortages, and a declining labor force participation in some sectors are additional structural issues.\\n\\nAnother growing concern is political polarization, which often stalls crucial economic reforms and budget agreements, as seen in recurrent debt ceiling crises. The U.S. also faces challenges from global competition, especially from China in areas like AI, semiconductors, and green technology. Moreover, climate change, cybersecurity threats, and geopolitical risks (like Ukraine and Taiwan conflicts) add layers of vulnerability to economic planning.\\n\\nFuture Outlook (2025–2030)\\nLooking forward, the U.S. economy is expected to grow at a moderate pace, powered by innovation in AI, green energy, robotics, biotech, and quantum computing. The Biden administration’s Inflation Reduction Act and CHIPS Act are pumping massive investments into semiconductors, clean energy, and infrastructure. There is a strong push for reshoring of manufacturing, especially in critical sectors like chips, pharmaceuticals, and batteries.\\n\\nHowever, economic leadership will depend on managing the national debt, reforming entitlement programs, upgrading infrastructure, and ensuring the next generation is equipped with digital-age skills. If the U.S. can handle these challenges, it is well-positioned to remain a global economic powerhouse through 2030 and beyond.\\n\\nFinal Summary\\nThe U.S. economy remains the engine of global growth, backed by unmatched innovation, financial dominance, and a strong institutional framework. Its $28 trillion GDP and influence over global finance, trade, and technology make it the centerpiece of the modern economic system. Yet, rising debt, inequality, political gridlock, and competition from emerging powers demand careful policy navigation. If successfully addressed, the U.S. will continue to dominate the global economy well into the future.\""
      ]
     },
     "execution_count": 22,
     "metadata": {},
     "output_type": "execute_result"
    }
   ],
   "source": [
    "docs[0].page_content"
   ]
  },
  {
   "cell_type": "code",
   "execution_count": 24,
   "id": "3c0751a9",
   "metadata": {},
   "outputs": [],
   "source": [
    "text_splitter= RecursiveCharacterTextSplitter(\n",
    "    chunk_size=200,\n",
    "    chunk_overlap=50\n",
    ")"
   ]
  },
  {
   "cell_type": "code",
   "execution_count": 25,
   "id": "581d7c1d",
   "metadata": {},
   "outputs": [
    {
     "data": {
      "text/plain": [
       "<langchain_text_splitters.character.RecursiveCharacterTextSplitter at 0x2bdd0bd9d30>"
      ]
     },
     "execution_count": 25,
     "metadata": {},
     "output_type": "execute_result"
    }
   ],
   "source": [
    "text_splitter"
   ]
  },
  {
   "cell_type": "code",
   "execution_count": 27,
   "id": "d7be5700",
   "metadata": {},
   "outputs": [],
   "source": [
    "new_docs= text_splitter.split_documents(documents= docs)"
   ]
  },
  {
   "cell_type": "code",
   "execution_count": 28,
   "id": "69895ab8",
   "metadata": {},
   "outputs": [
    {
     "data": {
      "text/plain": [
       "[Document(metadata={'source': '..\\\\data2\\\\usa.txt'}, page_content='🇺🇸 Overview of the U.S. Economy'),\n",
       " Document(metadata={'source': '..\\\\data2\\\\usa.txt'}, page_content='The United States of America possesses the largest economy in the world in terms of nominal GDP, making it the most powerful economic force globally. It operates under a capitalist mixed economy,'),\n",
       " Document(metadata={'source': '..\\\\data2\\\\usa.txt'}, page_content='It operates under a capitalist mixed economy, where the private sector dominates, but the government plays a significant regulatory and fiscal role. With a population of over 335 million people and a'),\n",
       " Document(metadata={'source': '..\\\\data2\\\\usa.txt'}, page_content='a population of over 335 million people and a high level of technological advancement, the U.S. economy thrives on a foundation of consumer spending, innovation, global trade, and financial services.'),\n",
       " Document(metadata={'source': '..\\\\data2\\\\usa.txt'}, page_content='innovation, global trade, and financial services. It has a highly diversified structure with strong sectors in technology, healthcare, finance, real estate, defense, and agriculture.'),\n",
       " Document(metadata={'source': '..\\\\data2\\\\usa.txt'}, page_content='U.S. GDP – Size, Composition, and Global Share'),\n",
       " Document(metadata={'source': '..\\\\data2\\\\usa.txt'}, page_content='As of 2024, the United States’ nominal GDP is estimated to be around $28 trillion USD, accounting for approximately 25% of the global economy. It ranks #1 in the world by nominal GDP, far ahead of'),\n",
       " Document(metadata={'source': '..\\\\data2\\\\usa.txt'}, page_content='#1 in the world by nominal GDP, far ahead of China (which ranks 2nd). The U.S. GDP per capita is also among the highest, hovering around $83,000, which indicates a high standard of living and'),\n",
       " Document(metadata={'source': '..\\\\data2\\\\usa.txt'}, page_content='which indicates a high standard of living and productivity. In terms of Purchasing Power Parity (PPP), the U.S. ranks second, but nominal GDP is considered more reflective of actual economic size and'),\n",
       " Document(metadata={'source': '..\\\\data2\\\\usa.txt'}, page_content='more reflective of actual economic size and financial influence.'),\n",
       " Document(metadata={'source': '..\\\\data2\\\\usa.txt'}, page_content='The GDP is predominantly driven by the services sector, which contributes more than 77% to the total GDP. This includes industries such as finance, insurance, real estate, healthcare, education, and'),\n",
       " Document(metadata={'source': '..\\\\data2\\\\usa.txt'}, page_content='real estate, healthcare, education, and information technology. The industrial sector (manufacturing, construction, mining) makes up around 19%, while agriculture, although technologically advanced'),\n",
       " Document(metadata={'source': '..\\\\data2\\\\usa.txt'}, page_content='agriculture, although technologically advanced and export-oriented, contributes only about 1%. Despite its small share in GDP, U.S. agriculture is globally significant in terms of productivity and'),\n",
       " Document(metadata={'source': '..\\\\data2\\\\usa.txt'}, page_content='globally significant in terms of productivity and exports.'),\n",
       " Document(metadata={'source': '..\\\\data2\\\\usa.txt'}, page_content='GDP Growth Trends and Dynamics'),\n",
       " Document(metadata={'source': '..\\\\data2\\\\usa.txt'}, page_content='Historically, the U.S. economy has enjoyed consistent long-term growth, averaging around 2-3% annually. Post-pandemic, the economy bounced back strongly, but 2022 and 2023 saw rising inflation due to'),\n",
       " Document(metadata={'source': '..\\\\data2\\\\usa.txt'}, page_content='but 2022 and 2023 saw rising inflation due to supply chain issues and stimulus-driven demand. In 2024, the U.S. GDP grew at a modest pace of around 2.1%, as the Federal Reserve’s interest rate hikes'),\n",
       " Document(metadata={'source': '..\\\\data2\\\\usa.txt'}, page_content='as the Federal Reserve’s interest rate hikes aimed at controlling inflation also moderated economic expansion. Consumer spending, which makes up nearly 70% of GDP, remains a dominant force in'),\n",
       " Document(metadata={'source': '..\\\\data2\\\\usa.txt'}, page_content='up nearly 70% of GDP, remains a dominant force in economic stability.'),\n",
       " Document(metadata={'source': '..\\\\data2\\\\usa.txt'}, page_content='The U.S. maintains its GDP growth through strong innovation, entrepreneurship, and investment in R&D. With companies like Apple, Google, Amazon, Microsoft, and Tesla leading global markets, the U.S.'),\n",
       " Document(metadata={'source': '..\\\\data2\\\\usa.txt'}, page_content='and Tesla leading global markets, the U.S. consistently produces high value across sectors, especially in technology and advanced services. Additionally, the economy benefits from intellectual'),\n",
       " Document(metadata={'source': '..\\\\data2\\\\usa.txt'}, page_content='the economy benefits from intellectual property exports, financial services, and higher education, all of which contribute significantly to GDP through both domestic and international markets.'),\n",
       " Document(metadata={'source': '..\\\\data2\\\\usa.txt'}, page_content='Role in the Global Economy'),\n",
       " Document(metadata={'source': '..\\\\data2\\\\usa.txt'}, page_content='The U.S. Dollar (USD) is the global reserve currency, held by over 60% of the world’s central bank reserves. This gives the U.S. an enormous advantage in global trade and borrowing. The U.S. is a key'),\n",
       " Document(metadata={'source': '..\\\\data2\\\\usa.txt'}, page_content='in global trade and borrowing. The U.S. is a key member of international institutions like the World Bank, IMF, G7, G20, and WTO, and plays a central role in setting global economic policy.'),\n",
       " Document(metadata={'source': '..\\\\data2\\\\usa.txt'}, page_content=\"As a global innovation hub, the U.S. attracts billions in foreign investment and hosts many of the world's largest and most valuable companies. Its exports include high-tech machinery, aircraft,\"),\n",
       " Document(metadata={'source': '..\\\\data2\\\\usa.txt'}, page_content='exports include high-tech machinery, aircraft, pharmaceuticals, semiconductors, and financial services, while its imports cover consumer goods, electronics, automobiles, and industrial materials. The'),\n",
       " Document(metadata={'source': '..\\\\data2\\\\usa.txt'}, page_content='automobiles, and industrial materials. The trade deficit remains large (around $900 billion in 2024), primarily because the U.S. consumes more than it exports, but its ability to finance this through'),\n",
       " Document(metadata={'source': '..\\\\data2\\\\usa.txt'}, page_content='exports, but its ability to finance this through capital inflows and reserve currency status sustains balance.'),\n",
       " Document(metadata={'source': '..\\\\data2\\\\usa.txt'}, page_content='Key Economic Strengths'),\n",
       " Document(metadata={'source': '..\\\\data2\\\\usa.txt'}, page_content='The core strength of the U.S. economy lies in its flexible labor market, deep capital markets, technological superiority, and legal system that encourages innovation and property rights. It has a'),\n",
       " Document(metadata={'source': '..\\\\data2\\\\usa.txt'}, page_content='innovation and property rights. It has a large, highly educated workforce, a diverse immigration pipeline, and access to vast natural resources including oil, gas, coal, and farmland. The presence of'),\n",
       " Document(metadata={'source': '..\\\\data2\\\\usa.txt'}, page_content='oil, gas, coal, and farmland. The presence of top-tier universities and research institutions fuels the knowledge economy, with billions spent annually on R&D—over $700 billion USD, more than any'),\n",
       " Document(metadata={'source': '..\\\\data2\\\\usa.txt'}, page_content='on R&D—over $700 billion USD, more than any other country.'),\n",
       " Document(metadata={'source': '..\\\\data2\\\\usa.txt'}, page_content='The U.S. leads in many critical sectors, including software, biotechnology, aerospace, defense, financial services, and media. Its startup ecosystem, especially in Silicon Valley, produces unicorns'),\n",
       " Document(metadata={'source': '..\\\\data2\\\\usa.txt'}, page_content='especially in Silicon Valley, produces unicorns and tech giants at a scale unmatched globally. Its financial markets—particularly Wall Street—are the most liquid and globally integrated in the world.'),\n",
       " Document(metadata={'source': '..\\\\data2\\\\usa.txt'}, page_content='Challenges and Structural Issues'),\n",
       " Document(metadata={'source': '..\\\\data2\\\\usa.txt'}, page_content='Despite its strength, the U.S. economy faces several serious long-term issues. The national debt has surpassed $34 trillion USD, raising concerns about fiscal sustainability, especially as interest'),\n",
       " Document(metadata={'source': '..\\\\data2\\\\usa.txt'}, page_content='fiscal sustainability, especially as interest payments alone are growing rapidly. The income and wealth inequality gap has widened, with a small percentage of Americans owning a disproportionate'),\n",
       " Document(metadata={'source': '..\\\\data2\\\\usa.txt'}, page_content='percentage of Americans owning a disproportionate share of wealth. Access to affordable healthcare, housing shortages, and a declining labor force participation in some sectors are additional'),\n",
       " Document(metadata={'source': '..\\\\data2\\\\usa.txt'}, page_content='participation in some sectors are additional structural issues.'),\n",
       " Document(metadata={'source': '..\\\\data2\\\\usa.txt'}, page_content='Another growing concern is political polarization, which often stalls crucial economic reforms and budget agreements, as seen in recurrent debt ceiling crises. The U.S. also faces challenges from'),\n",
       " Document(metadata={'source': '..\\\\data2\\\\usa.txt'}, page_content='crises. The U.S. also faces challenges from global competition, especially from China in areas like AI, semiconductors, and green technology. Moreover, climate change, cybersecurity threats, and'),\n",
       " Document(metadata={'source': '..\\\\data2\\\\usa.txt'}, page_content='climate change, cybersecurity threats, and geopolitical risks (like Ukraine and Taiwan conflicts) add layers of vulnerability to economic planning.'),\n",
       " Document(metadata={'source': '..\\\\data2\\\\usa.txt'}, page_content='Future Outlook (2025–2030)'),\n",
       " Document(metadata={'source': '..\\\\data2\\\\usa.txt'}, page_content='Looking forward, the U.S. economy is expected to grow at a moderate pace, powered by innovation in AI, green energy, robotics, biotech, and quantum computing. The Biden administration’s Inflation'),\n",
       " Document(metadata={'source': '..\\\\data2\\\\usa.txt'}, page_content='computing. The Biden administration’s Inflation Reduction Act and CHIPS Act are pumping massive investments into semiconductors, clean energy, and infrastructure. There is a strong push for reshoring'),\n",
       " Document(metadata={'source': '..\\\\data2\\\\usa.txt'}, page_content='There is a strong push for reshoring of manufacturing, especially in critical sectors like chips, pharmaceuticals, and batteries.'),\n",
       " Document(metadata={'source': '..\\\\data2\\\\usa.txt'}, page_content='However, economic leadership will depend on managing the national debt, reforming entitlement programs, upgrading infrastructure, and ensuring the next generation is equipped with digital-age skills.'),\n",
       " Document(metadata={'source': '..\\\\data2\\\\usa.txt'}, page_content='generation is equipped with digital-age skills. If the U.S. can handle these challenges, it is well-positioned to remain a global economic powerhouse through 2030 and beyond.'),\n",
       " Document(metadata={'source': '..\\\\data2\\\\usa.txt'}, page_content='Final Summary'),\n",
       " Document(metadata={'source': '..\\\\data2\\\\usa.txt'}, page_content='The U.S. economy remains the engine of global growth, backed by unmatched innovation, financial dominance, and a strong institutional framework. Its $28 trillion GDP and influence over global'),\n",
       " Document(metadata={'source': '..\\\\data2\\\\usa.txt'}, page_content='Its $28 trillion GDP and influence over global finance, trade, and technology make it the centerpiece of the modern economic system. Yet, rising debt, inequality, political gridlock, and competition'),\n",
       " Document(metadata={'source': '..\\\\data2\\\\usa.txt'}, page_content='inequality, political gridlock, and competition from emerging powers demand careful policy navigation. If successfully addressed, the U.S. will continue to dominate the global economy well into the'),\n",
       " Document(metadata={'source': '..\\\\data2\\\\usa.txt'}, page_content='to dominate the global economy well into the future.')]"
      ]
     },
     "execution_count": 28,
     "metadata": {},
     "output_type": "execute_result"
    }
   ],
   "source": [
    "new_docs"
   ]
  },
  {
   "cell_type": "code",
   "execution_count": 29,
   "id": "88061486",
   "metadata": {},
   "outputs": [
    {
     "data": {
      "text/plain": [
       "55"
      ]
     },
     "execution_count": 29,
     "metadata": {},
     "output_type": "execute_result"
    }
   ],
   "source": [
    "len(new_docs)"
   ]
  },
  {
   "cell_type": "code",
   "execution_count": 30,
   "id": "c8f1bed5",
   "metadata": {},
   "outputs": [
    {
     "data": {
      "text/plain": [
       "'🇺🇸 Overview of the U.S. Economy'"
      ]
     },
     "execution_count": 30,
     "metadata": {},
     "output_type": "execute_result"
    }
   ],
   "source": [
    "new_docs[0].page_content"
   ]
  },
  {
   "cell_type": "code",
   "execution_count": 33,
   "id": "cd696345",
   "metadata": {},
   "outputs": [],
   "source": [
    "doc_string= [doc.page_content for doc in new_docs]"
   ]
  },
  {
   "cell_type": "code",
   "execution_count": 34,
   "id": "3213d0c5",
   "metadata": {},
   "outputs": [
    {
     "data": {
      "text/plain": [
       "['🇺🇸 Overview of the U.S. Economy',\n",
       " 'The United States of America possesses the largest economy in the world in terms of nominal GDP, making it the most powerful economic force globally. It operates under a capitalist mixed economy,',\n",
       " 'It operates under a capitalist mixed economy, where the private sector dominates, but the government plays a significant regulatory and fiscal role. With a population of over 335 million people and a',\n",
       " 'a population of over 335 million people and a high level of technological advancement, the U.S. economy thrives on a foundation of consumer spending, innovation, global trade, and financial services.',\n",
       " 'innovation, global trade, and financial services. It has a highly diversified structure with strong sectors in technology, healthcare, finance, real estate, defense, and agriculture.',\n",
       " 'U.S. GDP – Size, Composition, and Global Share',\n",
       " 'As of 2024, the United States’ nominal GDP is estimated to be around $28 trillion USD, accounting for approximately 25% of the global economy. It ranks #1 in the world by nominal GDP, far ahead of',\n",
       " '#1 in the world by nominal GDP, far ahead of China (which ranks 2nd). The U.S. GDP per capita is also among the highest, hovering around $83,000, which indicates a high standard of living and',\n",
       " 'which indicates a high standard of living and productivity. In terms of Purchasing Power Parity (PPP), the U.S. ranks second, but nominal GDP is considered more reflective of actual economic size and',\n",
       " 'more reflective of actual economic size and financial influence.',\n",
       " 'The GDP is predominantly driven by the services sector, which contributes more than 77% to the total GDP. This includes industries such as finance, insurance, real estate, healthcare, education, and',\n",
       " 'real estate, healthcare, education, and information technology. The industrial sector (manufacturing, construction, mining) makes up around 19%, while agriculture, although technologically advanced',\n",
       " 'agriculture, although technologically advanced and export-oriented, contributes only about 1%. Despite its small share in GDP, U.S. agriculture is globally significant in terms of productivity and',\n",
       " 'globally significant in terms of productivity and exports.',\n",
       " 'GDP Growth Trends and Dynamics',\n",
       " 'Historically, the U.S. economy has enjoyed consistent long-term growth, averaging around 2-3% annually. Post-pandemic, the economy bounced back strongly, but 2022 and 2023 saw rising inflation due to',\n",
       " 'but 2022 and 2023 saw rising inflation due to supply chain issues and stimulus-driven demand. In 2024, the U.S. GDP grew at a modest pace of around 2.1%, as the Federal Reserve’s interest rate hikes',\n",
       " 'as the Federal Reserve’s interest rate hikes aimed at controlling inflation also moderated economic expansion. Consumer spending, which makes up nearly 70% of GDP, remains a dominant force in',\n",
       " 'up nearly 70% of GDP, remains a dominant force in economic stability.',\n",
       " 'The U.S. maintains its GDP growth through strong innovation, entrepreneurship, and investment in R&D. With companies like Apple, Google, Amazon, Microsoft, and Tesla leading global markets, the U.S.',\n",
       " 'and Tesla leading global markets, the U.S. consistently produces high value across sectors, especially in technology and advanced services. Additionally, the economy benefits from intellectual',\n",
       " 'the economy benefits from intellectual property exports, financial services, and higher education, all of which contribute significantly to GDP through both domestic and international markets.',\n",
       " 'Role in the Global Economy',\n",
       " 'The U.S. Dollar (USD) is the global reserve currency, held by over 60% of the world’s central bank reserves. This gives the U.S. an enormous advantage in global trade and borrowing. The U.S. is a key',\n",
       " 'in global trade and borrowing. The U.S. is a key member of international institutions like the World Bank, IMF, G7, G20, and WTO, and plays a central role in setting global economic policy.',\n",
       " \"As a global innovation hub, the U.S. attracts billions in foreign investment and hosts many of the world's largest and most valuable companies. Its exports include high-tech machinery, aircraft,\",\n",
       " 'exports include high-tech machinery, aircraft, pharmaceuticals, semiconductors, and financial services, while its imports cover consumer goods, electronics, automobiles, and industrial materials. The',\n",
       " 'automobiles, and industrial materials. The trade deficit remains large (around $900 billion in 2024), primarily because the U.S. consumes more than it exports, but its ability to finance this through',\n",
       " 'exports, but its ability to finance this through capital inflows and reserve currency status sustains balance.',\n",
       " 'Key Economic Strengths',\n",
       " 'The core strength of the U.S. economy lies in its flexible labor market, deep capital markets, technological superiority, and legal system that encourages innovation and property rights. It has a',\n",
       " 'innovation and property rights. It has a large, highly educated workforce, a diverse immigration pipeline, and access to vast natural resources including oil, gas, coal, and farmland. The presence of',\n",
       " 'oil, gas, coal, and farmland. The presence of top-tier universities and research institutions fuels the knowledge economy, with billions spent annually on R&D—over $700 billion USD, more than any',\n",
       " 'on R&D—over $700 billion USD, more than any other country.',\n",
       " 'The U.S. leads in many critical sectors, including software, biotechnology, aerospace, defense, financial services, and media. Its startup ecosystem, especially in Silicon Valley, produces unicorns',\n",
       " 'especially in Silicon Valley, produces unicorns and tech giants at a scale unmatched globally. Its financial markets—particularly Wall Street—are the most liquid and globally integrated in the world.',\n",
       " 'Challenges and Structural Issues',\n",
       " 'Despite its strength, the U.S. economy faces several serious long-term issues. The national debt has surpassed $34 trillion USD, raising concerns about fiscal sustainability, especially as interest',\n",
       " 'fiscal sustainability, especially as interest payments alone are growing rapidly. The income and wealth inequality gap has widened, with a small percentage of Americans owning a disproportionate',\n",
       " 'percentage of Americans owning a disproportionate share of wealth. Access to affordable healthcare, housing shortages, and a declining labor force participation in some sectors are additional',\n",
       " 'participation in some sectors are additional structural issues.',\n",
       " 'Another growing concern is political polarization, which often stalls crucial economic reforms and budget agreements, as seen in recurrent debt ceiling crises. The U.S. also faces challenges from',\n",
       " 'crises. The U.S. also faces challenges from global competition, especially from China in areas like AI, semiconductors, and green technology. Moreover, climate change, cybersecurity threats, and',\n",
       " 'climate change, cybersecurity threats, and geopolitical risks (like Ukraine and Taiwan conflicts) add layers of vulnerability to economic planning.',\n",
       " 'Future Outlook (2025–2030)',\n",
       " 'Looking forward, the U.S. economy is expected to grow at a moderate pace, powered by innovation in AI, green energy, robotics, biotech, and quantum computing. The Biden administration’s Inflation',\n",
       " 'computing. The Biden administration’s Inflation Reduction Act and CHIPS Act are pumping massive investments into semiconductors, clean energy, and infrastructure. There is a strong push for reshoring',\n",
       " 'There is a strong push for reshoring of manufacturing, especially in critical sectors like chips, pharmaceuticals, and batteries.',\n",
       " 'However, economic leadership will depend on managing the national debt, reforming entitlement programs, upgrading infrastructure, and ensuring the next generation is equipped with digital-age skills.',\n",
       " 'generation is equipped with digital-age skills. If the U.S. can handle these challenges, it is well-positioned to remain a global economic powerhouse through 2030 and beyond.',\n",
       " 'Final Summary',\n",
       " 'The U.S. economy remains the engine of global growth, backed by unmatched innovation, financial dominance, and a strong institutional framework. Its $28 trillion GDP and influence over global',\n",
       " 'Its $28 trillion GDP and influence over global finance, trade, and technology make it the centerpiece of the modern economic system. Yet, rising debt, inequality, political gridlock, and competition',\n",
       " 'inequality, political gridlock, and competition from emerging powers demand careful policy navigation. If successfully addressed, the U.S. will continue to dominate the global economy well into the',\n",
       " 'to dominate the global economy well into the future.']"
      ]
     },
     "execution_count": 34,
     "metadata": {},
     "output_type": "execute_result"
    }
   ],
   "source": [
    "doc_string"
   ]
  },
  {
   "cell_type": "code",
   "execution_count": 35,
   "id": "06e5c125",
   "metadata": {},
   "outputs": [
    {
     "data": {
      "text/plain": [
       "55"
      ]
     },
     "execution_count": 35,
     "metadata": {},
     "output_type": "execute_result"
    }
   ],
   "source": [
    "len(doc_string)"
   ]
  },
  {
   "cell_type": "code",
   "execution_count": 44,
   "id": "1d9268a9",
   "metadata": {},
   "outputs": [],
   "source": [
    "db= Chroma.from_documents(new_docs, embeddings)"
   ]
  },
  {
   "cell_type": "code",
   "execution_count": 47,
   "id": "c4451245",
   "metadata": {},
   "outputs": [
    {
     "data": {
      "text/plain": [
       "VectorStoreRetriever(tags=['Chroma', 'HuggingFaceEmbeddings'], vectorstore=<langchain_community.vectorstores.chroma.Chroma object at 0x000002BDD1335090>, search_kwargs={'k': 3})"
      ]
     },
     "execution_count": 47,
     "metadata": {},
     "output_type": "execute_result"
    }
   ],
   "source": [
    "db.as_retriever(search_kwargs={\"k\": 3})"
   ]
  },
  {
   "cell_type": "code",
   "execution_count": 49,
   "id": "c2af46bd",
   "metadata": {},
   "outputs": [],
   "source": [
    "retriever= db.as_retriever(search_kwargs={\"k\": 3})"
   ]
  },
  {
   "cell_type": "code",
   "execution_count": 50,
   "id": "1a4c0cd9",
   "metadata": {},
   "outputs": [
    {
     "data": {
      "text/plain": [
       "[Document(metadata={'source': '..\\\\data2\\\\usa.txt'}, page_content='Looking forward, the U.S. economy is expected to grow at a moderate pace, powered by innovation in AI, green energy, robotics, biotech, and quantum computing. The Biden administration’s Inflation'),\n",
       " Document(metadata={'source': '..\\\\data2\\\\usa.txt'}, page_content='🇺🇸 Overview of the U.S. Economy'),\n",
       " Document(metadata={'source': '..\\\\data2\\\\usa.txt'}, page_content='The U.S. economy remains the engine of global growth, backed by unmatched innovation, financial dominance, and a strong institutional framework. Its $28 trillion GDP and influence over global')]"
      ]
     },
     "execution_count": 50,
     "metadata": {},
     "output_type": "execute_result"
    }
   ],
   "source": [
    "retriever.invoke(\"industrial growth of usa?\")"
   ]
  }
 ],
 "metadata": {
  "kernelspec": {
   "display_name": "Python 3",
   "language": "python",
   "name": "python3"
  },
  "language_info": {
   "codemirror_mode": {
    "name": "ipython",
    "version": 3
   },
   "file_extension": ".py",
   "mimetype": "text/x-python",
   "name": "python",
   "nbconvert_exporter": "python",
   "pygments_lexer": "ipython3",
   "version": "3.13.2"
  }
 },
 "nbformat": 4,
 "nbformat_minor": 5
}
