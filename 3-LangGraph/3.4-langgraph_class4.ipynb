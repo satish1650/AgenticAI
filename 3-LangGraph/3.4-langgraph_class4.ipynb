{
 "cells": [
  {
   "cell_type": "code",
   "execution_count": 153,
   "id": "b3565259",
   "metadata": {},
   "outputs": [
    {
     "name": "stdout",
     "output_type": "stream",
     "text": [
      "<think>\n",
      "\n",
      "</think>\n",
      "\n",
      "Hello! How can I assist you today? 😊\n"
     ]
    }
   ],
   "source": [
    "from langchain_groq import ChatGroq \n",
    "\n",
    "llm= ChatGroq(\n",
    "    model=\"deepseek-r1-distill-llama-70b\",\n",
    "    temperature=0\n",
    ")\n",
    "\n",
    "response= llm.invoke(\"Hi\")\n",
    "print(response.content)"
   ]
  },
  {
   "cell_type": "code",
   "execution_count": 154,
   "id": "4b27d99e",
   "metadata": {},
   "outputs": [],
   "source": [
    "response= llm.invoke(\"what is length of wall of china?\")"
   ]
  },
  {
   "cell_type": "code",
   "execution_count": 155,
   "id": "fcc5a8ac",
   "metadata": {},
   "outputs": [
    {
     "name": "stdout",
     "output_type": "stream",
     "text": [
      "<think>\n",
      "Okay, so I need to figure out the length of the Great Wall of China. I remember hearing that it's really long, but I'm not exactly sure how long. I think it's somewhere in the thousands of miles, but I'm not certain. Let me try to break this down.\n",
      "\n",
      "First, I know the Great Wall is a series of fortifications built across several Chinese dynasties. It wasn't built all at once, so maybe that's why the length can vary. I've heard different numbers before, like 13,000 miles or 21,000 kilometers. But I'm not sure which one is accurate.\n",
      "\n",
      "I should consider the sources of this information. Maybe some people measure it differently. For example, if you include all the branches and sections, it might add up to a longer distance. But if you just take the main wall, it might be shorter. I think the Chinese government did a survey a while back, so that might be a reliable source.\n",
      "\n",
      "Wait, I think they used advanced technology like GPS and satellites to measure it more accurately. That would make sense because older measurements might have been estimates. So, if the official measurement is around 13,171 miles, that's probably the most accurate number now.\n",
      "\n",
      "But I also remember hearing that some sources say it's longer, like 21,000 kilometers. That's about 13,000 miles, so maybe that's just a conversion from kilometers to miles. So, 21,000 kilometers is roughly 13,000 miles. That makes sense because 1 kilometer is about 0.62 miles, so multiplying 21,000 by 0.62 gives around 13,000 miles.\n",
      "\n",
      "I should also think about why there's confusion. Maybe some people include all the watchtowers, beacon towers, and other structures, which could add to the total length. Or perhaps they count each segment separately, even if they're not all connected in a straight line.\n",
      "\n",
      "Another thing is that the wall was built in different sections over time, so it's not a single continuous structure. It has parts that are more touristy, like the sections near Beijing, and other parts that are more remote and maybe not as well-maintained. This could affect how people measure it.\n",
      "\n",
      "I also wonder how they actually measured it. Using satellites would give a more precise measurement because they can track the wall's path more accurately than manual surveys. So, the 13,171-mile figure is likely the most precise one we have now.\n",
      "\n",
      "In summary, the Great Wall of China is approximately 13,171 miles long, according to the most recent and accurate measurements. This number accounts for all the sections, including the branches and spurs, making it a bit longer than some earlier estimates.\n",
      "</think>\n",
      "\n",
      "The Great Wall of China is approximately 13,171 miles (21,196 kilometers) long, as determined by a recent survey using advanced technology like GPS and satellites. This measurement includes all sections, branches, and spurs, providing a more accurate and comprehensive figure than earlier estimates.\n"
     ]
    }
   ],
   "source": [
    "print(response.content)"
   ]
  },
  {
   "cell_type": "markdown",
   "id": "212286e0",
   "metadata": {},
   "source": [
    "#### This is my custom tools"
   ]
  },
  {
   "cell_type": "code",
   "execution_count": 17,
   "id": "a20ac4f6",
   "metadata": {},
   "outputs": [],
   "source": [
    "from langchain.tools import tool"
   ]
  },
  {
   "cell_type": "code",
   "execution_count": 25,
   "id": "0b9c0a09",
   "metadata": {},
   "outputs": [],
   "source": [
    "@tool \n",
    "def multiply(a:int, b:int) -> int:\n",
    "    \"\"\"\n",
    "    Multiply two integers.\n",
    "\n",
    "    Args:\n",
    "        a (int): The first integer.\n",
    "        b (int): The second integer.\n",
    "\n",
    "    Returns:\n",
    "        int: The product of a and b.\n",
    "    \"\"\"\n",
    "    return a * b\n",
    "\n",
    "@tool\n",
    "def add(a:int, b:int) -> int:\n",
    "    \"\"\" \n",
    "     Add two integers.\n",
    "\n",
    "    Args:\n",
    "        a (int): The first integer.\n",
    "        b (int): The second integer.\n",
    "\n",
    "    Returns:\n",
    "        int: The sum of a and b.\n",
    "    \"\"\"\n",
    "    return a + b\n",
    "\n",
    "@tool\n",
    "def divide(a:int, b:int) -> float:\n",
    "    \"\"\" \n",
    "    Divide two integers.\n",
    "\n",
    "    Args:\n",
    "        a (int): The numerator.\n",
    "        b (int): The denominator (must not be 0).\n",
    "\n",
    "    Returns:\n",
    "        float: The result of division.\n",
    "    \"\"\"\n",
    "    if b==0:\n",
    "        raise ValueError(\"Denominator cannot be zero.\")\n",
    "    return a / b"
   ]
  },
  {
   "cell_type": "markdown",
   "id": "7f190d2e",
   "metadata": {},
   "source": [
    "Importing the inbuilt tool"
   ]
  },
  {
   "cell_type": "code",
   "execution_count": 37,
   "id": "19e316f4",
   "metadata": {},
   "outputs": [],
   "source": [
    "# !pip install duckduckgo_search"
   ]
  },
  {
   "cell_type": "code",
   "execution_count": 33,
   "id": "34249289",
   "metadata": {},
   "outputs": [],
   "source": [
    "from langchain_community.tools import DuckDuckGoSearchRun\n",
    "\n",
    "search= DuckDuckGoSearchRun()"
   ]
  },
  {
   "cell_type": "code",
   "execution_count": 36,
   "id": "1adad215",
   "metadata": {},
   "outputs": [
    {
     "data": {
      "text/plain": [
       "'Learn how to greet people in different situations with various expressions, from formal to funny. Discover the origin, meaning and usage of the word \"hi\" and its alternatives in English. The HI Guys: Steezy & Pu\\'unui; Meilin; Pu\\'unui; Shannon Scott; Phat Joe; Dr. Roots; MUSIC. Listen Live; Recently Played; Request a Song; Submit Music; FEATURES. Hawaii Matters; Be Hurricane Ready; Career Link Oahu; Galleries; Hawaii Home Experts; Storm Center; What A Deal Wednesday; Contest. Hi93\\'s Listen and Chill; It\\'s our 2025 ... Hey, howdy, hi! How is it going? What\\'s kicking, little chicken? Howdy-doody! Tell me what\\'s new! Hey there, freshman! Wassup? (While at high school or university). My name is (your name), and I think we can be great friends! Hi, mister! What is going on? I come in peace! Chow chow. Ahoy, matey! Hiya! Hi! Hello, governor! Top of the morning ... 36 Ways to Say Hello | Context & Examples. Published on June 13, 2025 by Kate Santoro, BS There are many ways to say hello in English, with the most common greetings being \"hello\" and \"hi.\". Ways to say hello examples Hi, Mary!. Good morning, Mr. Nguyen.How are you? The best way to meet is to start with a greeting. And the most accurate way is by saying a simple \\'Hi!\". However, it might get a bit boring to start a conversation with a hi. So, to make you sound more interesting, I have written other ways to say hi to anyone. Enjoy reading through them! 1. Hello . 2. How are things? 3. How\\'s your day ...'"
      ]
     },
     "execution_count": 36,
     "metadata": {},
     "output_type": "execute_result"
    }
   ],
   "source": [
    "search.invoke(\"Hi\")"
   ]
  },
  {
   "cell_type": "code",
   "execution_count": 35,
   "id": "5073b549",
   "metadata": {},
   "outputs": [
    {
     "data": {
      "text/plain": [
       "\"Some iPhone 17 models (maybe even all of them) will have a new camera bump, a wide rectangular raised area that stretches across the phone similar in style to Google's Pixel line. According to a ... Planned for September 2025, the iPhone 17 models could feature larger display sizes, ProMotion across the lineup, Wi-Fi 7, and more. We're still in the middle of the iPhone 16 release cycle, but ... The iPhone 17 is already shaping up to be one of its biggest updates in years. From the ultra-slim iPhone 17 Air to a new matte finish, upgraded front cameras, a possible sky blue model and more ... • The iPhone 17's display may not match what the Pro model offers. • iOS 26, Apple's iPhone software update for later this year, got a preview at WWDC. • The iPhone 17 could support a new ... The iPhone 17 lineup brings significant technological improvements across design, performance, and functionality. Apple's latest innovations focus on enhanced displays, powerful processing capabilities, and advanced camera systems.. Innovative Design and Display. The iPhone 17 Pro Max features a larger 6.86-inch display, marking a notable size increase.\""
      ]
     },
     "execution_count": 35,
     "metadata": {},
     "output_type": "execute_result"
    }
   ],
   "source": [
    "search.invoke(\"what is the latest update on iphone17 release?\")"
   ]
  },
  {
   "cell_type": "code",
   "execution_count": 38,
   "id": "9bc7f6c2",
   "metadata": {},
   "outputs": [],
   "source": [
    "tools= [multiply, add, divide, search]"
   ]
  },
  {
   "cell_type": "code",
   "execution_count": 39,
   "id": "62e5e557",
   "metadata": {},
   "outputs": [
    {
     "data": {
      "text/plain": [
       "[StructuredTool(name='multiply', description='Multiply two integers.\\n\\nArgs:\\n    a (int): The first integer.\\n    b (int): The second integer.\\n\\nReturns:\\n    int: The product of a and b.', args_schema=<class 'langchain_core.utils.pydantic.multiply'>, func=<function multiply at 0x0000026AA9F88C20>),\n",
       " StructuredTool(name='add', description='Add two integers.\\n\\nArgs:\\n    a (int): The first integer.\\n    b (int): The second integer.\\n\\nReturns:\\n    int: The sum of a and b.', args_schema=<class 'langchain_core.utils.pydantic.add'>, func=<function add at 0x0000026AA9F885E0>),\n",
       " StructuredTool(name='divide', description='Divide two integers.\\n\\nArgs:\\n    a (int): The numerator.\\n    b (int): The denominator (must not be 0).\\n\\nReturns:\\n    float: The result of division.', args_schema=<class 'langchain_core.utils.pydantic.divide'>, func=<function divide at 0x0000026AA9F88CC0>),\n",
       " DuckDuckGoSearchRun(api_wrapper=DuckDuckGoSearchAPIWrapper(region='wt-wt', safesearch='moderate', time='y', max_results=5, backend='auto', source='text'))]"
      ]
     },
     "execution_count": 39,
     "metadata": {},
     "output_type": "execute_result"
    }
   ],
   "source": [
    "tools"
   ]
  },
  {
   "cell_type": "code",
   "execution_count": 40,
   "id": "e005d6d1",
   "metadata": {},
   "outputs": [
    {
     "data": {
      "text/plain": [
       "RunnableBinding(bound=ChatGroq(client=<groq.resources.chat.completions.Completions object at 0x0000026AA5725A70>, async_client=<groq.resources.chat.completions.AsyncCompletions object at 0x0000026AA57263F0>, model_name='deepseek-r1-distill-llama-70b', temperature=1e-08, model_kwargs={}, groq_api_key=SecretStr('**********')), kwargs={'tools': [{'type': 'function', 'function': {'name': 'multiply', 'description': 'Multiply two integers.\\n\\nArgs:\\n    a (int): The first integer.\\n    b (int): The second integer.\\n\\nReturns:\\n    int: The product of a and b.', 'parameters': {'properties': {'a': {'type': 'integer'}, 'b': {'type': 'integer'}}, 'required': ['a', 'b'], 'type': 'object'}}}, {'type': 'function', 'function': {'name': 'add', 'description': 'Add two integers.\\n\\nArgs:\\n    a (int): The first integer.\\n    b (int): The second integer.\\n\\nReturns:\\n    int: The sum of a and b.', 'parameters': {'properties': {'a': {'type': 'integer'}, 'b': {'type': 'integer'}}, 'required': ['a', 'b'], 'type': 'object'}}}, {'type': 'function', 'function': {'name': 'divide', 'description': 'Divide two integers.\\n\\nArgs:\\n    a (int): The numerator.\\n    b (int): The denominator (must not be 0).\\n\\nReturns:\\n    float: The result of division.', 'parameters': {'properties': {'a': {'type': 'integer'}, 'b': {'type': 'integer'}}, 'required': ['a', 'b'], 'type': 'object'}}}, {'type': 'function', 'function': {'name': 'duckduckgo_search', 'description': 'A wrapper around DuckDuckGo Search. Useful for when you need to answer questions about current events. Input should be a search query.', 'parameters': {'properties': {'query': {'description': 'search query to look up', 'type': 'string'}}, 'required': ['query'], 'type': 'object'}}}]}, config={}, config_factories=[])"
      ]
     },
     "execution_count": 40,
     "metadata": {},
     "output_type": "execute_result"
    }
   ],
   "source": [
    "# Binding tools with llm\n",
    "\n",
    "llm.bind_tools(tools)"
   ]
  },
  {
   "cell_type": "code",
   "execution_count": 41,
   "id": "c3de1ab6",
   "metadata": {},
   "outputs": [],
   "source": [
    "llm_with_tools= llm.bind_tools(tools)"
   ]
  },
  {
   "cell_type": "code",
   "execution_count": 44,
   "id": "286510a2",
   "metadata": {},
   "outputs": [
    {
     "data": {
      "text/plain": [
       "AIMessage(content='Hello! How can I assist you today?', additional_kwargs={}, response_metadata={'token_usage': {'completion_tokens': 64, 'prompt_tokens': 392, 'total_tokens': 456, 'completion_time': 0.356160807, 'prompt_time': 0.025281554, 'queue_time': 0.057922985999999996, 'total_time': 0.381442361}, 'model_name': 'deepseek-r1-distill-llama-70b', 'system_fingerprint': 'fp_1bbe7845ec', 'finish_reason': 'stop', 'logprobs': None}, id='run--e9ccc521-b932-4ce5-b798-564c285830cc-0', usage_metadata={'input_tokens': 392, 'output_tokens': 64, 'total_tokens': 456})"
      ]
     },
     "execution_count": 44,
     "metadata": {},
     "output_type": "execute_result"
    }
   ],
   "source": [
    "llm_with_tools.invoke(\"Hi\")"
   ]
  },
  {
   "cell_type": "code",
   "execution_count": 45,
   "id": "fa959e3d",
   "metadata": {},
   "outputs": [],
   "source": [
    "response= llm_with_tools.invoke(\"Hi\")"
   ]
  },
  {
   "cell_type": "code",
   "execution_count": 46,
   "id": "715e495a",
   "metadata": {},
   "outputs": [
    {
     "data": {
      "text/plain": [
       "'Hello! How can I assist you today?'"
      ]
     },
     "execution_count": 46,
     "metadata": {},
     "output_type": "execute_result"
    }
   ],
   "source": [
    "response.content"
   ]
  },
  {
   "cell_type": "code",
   "execution_count": 47,
   "id": "26e08cb8",
   "metadata": {},
   "outputs": [
    {
     "data": {
      "text/plain": [
       "[]"
      ]
     },
     "execution_count": 47,
     "metadata": {},
     "output_type": "execute_result"
    }
   ],
   "source": [
    "response.tool_calls"
   ]
  },
  {
   "cell_type": "code",
   "execution_count": 48,
   "id": "2c4309c4",
   "metadata": {},
   "outputs": [
    {
     "data": {
      "text/plain": [
       "AIMessage(content='', additional_kwargs={'tool_calls': [{'id': 'rn6p7gh5j', 'function': {'arguments': '{\"a\":2,\"b\":2}', 'name': 'add'}, 'type': 'function'}]}, response_metadata={'token_usage': {'completion_tokens': 164, 'prompt_tokens': 398, 'total_tokens': 562, 'completion_time': 0.651534903, 'prompt_time': 0.025637578, 'queue_time': 0.053987961999999994, 'total_time': 0.677172481}, 'model_name': 'deepseek-r1-distill-llama-70b', 'system_fingerprint': 'fp_1bbe7845ec', 'finish_reason': 'tool_calls', 'logprobs': None}, id='run--3e771e56-628c-41b3-a779-c5c4b72edb22-0', tool_calls=[{'name': 'add', 'args': {'a': 2, 'b': 2}, 'id': 'rn6p7gh5j', 'type': 'tool_call'}], usage_metadata={'input_tokens': 398, 'output_tokens': 164, 'total_tokens': 562})"
      ]
     },
     "execution_count": 48,
     "metadata": {},
     "output_type": "execute_result"
    }
   ],
   "source": [
    "llm_with_tools.invoke(\"what is 2+2?\")"
   ]
  },
  {
   "cell_type": "code",
   "execution_count": 49,
   "id": "59828eb3",
   "metadata": {},
   "outputs": [],
   "source": [
    "response= llm_with_tools.invoke(\"what is 2+2?\")"
   ]
  },
  {
   "cell_type": "code",
   "execution_count": 50,
   "id": "48271c88",
   "metadata": {},
   "outputs": [
    {
     "data": {
      "text/plain": [
       "''"
      ]
     },
     "execution_count": 50,
     "metadata": {},
     "output_type": "execute_result"
    }
   ],
   "source": [
    "response.content"
   ]
  },
  {
   "cell_type": "code",
   "execution_count": 51,
   "id": "818376ca",
   "metadata": {},
   "outputs": [
    {
     "data": {
      "text/plain": [
       "[{'name': 'add',\n",
       "  'args': {'a': 2, 'b': 2},\n",
       "  'id': 'xa622dfwk',\n",
       "  'type': 'tool_call'}]"
      ]
     },
     "execution_count": 51,
     "metadata": {},
     "output_type": "execute_result"
    }
   ],
   "source": [
    "response.tool_calls"
   ]
  },
  {
   "cell_type": "code",
   "execution_count": 54,
   "id": "ffef9ff8",
   "metadata": {},
   "outputs": [],
   "source": [
    "response= llm_with_tools.invoke(\"what is 10/2?\")"
   ]
  },
  {
   "cell_type": "code",
   "execution_count": 55,
   "id": "d5d7ad8e",
   "metadata": {},
   "outputs": [
    {
     "data": {
      "text/plain": [
       "''"
      ]
     },
     "execution_count": 55,
     "metadata": {},
     "output_type": "execute_result"
    }
   ],
   "source": [
    "response.content"
   ]
  },
  {
   "cell_type": "code",
   "execution_count": 56,
   "id": "9a4126fa",
   "metadata": {},
   "outputs": [
    {
     "data": {
      "text/plain": [
       "[{'name': 'divide',\n",
       "  'args': {'a': 10, 'b': 2},\n",
       "  'id': 'rwfbfgycr',\n",
       "  'type': 'tool_call'}]"
      ]
     },
     "execution_count": 56,
     "metadata": {},
     "output_type": "execute_result"
    }
   ],
   "source": [
    "response.tool_calls"
   ]
  },
  {
   "cell_type": "code",
   "execution_count": 57,
   "id": "161f7ce3",
   "metadata": {},
   "outputs": [],
   "source": [
    "response= llm_with_tools.invoke(\"what is a current age of the TATA Group?\")"
   ]
  },
  {
   "cell_type": "code",
   "execution_count": 58,
   "id": "42204e70",
   "metadata": {},
   "outputs": [
    {
     "data": {
      "text/plain": [
       "''"
      ]
     },
     "execution_count": 58,
     "metadata": {},
     "output_type": "execute_result"
    }
   ],
   "source": [
    "response.content"
   ]
  },
  {
   "cell_type": "code",
   "execution_count": 59,
   "id": "8c7f583a",
   "metadata": {},
   "outputs": [
    {
     "data": {
      "text/plain": [
       "[{'name': 'duckduckgo_search',\n",
       "  'args': {'query': 'TATA Group founding year'},\n",
       "  'id': 'b8whp6ny9',\n",
       "  'type': 'tool_call'}]"
      ]
     },
     "execution_count": 59,
     "metadata": {},
     "output_type": "execute_result"
    }
   ],
   "source": [
    "response.tool_calls"
   ]
  },
  {
   "cell_type": "code",
   "execution_count": 60,
   "id": "66752134",
   "metadata": {},
   "outputs": [],
   "source": [
    "response= llm_with_tools.invoke(\"Hi\")"
   ]
  },
  {
   "cell_type": "code",
   "execution_count": 62,
   "id": "50914e82",
   "metadata": {},
   "outputs": [
    {
     "data": {
      "text/plain": [
       "'Hello! How can I assist you today?'"
      ]
     },
     "execution_count": 62,
     "metadata": {},
     "output_type": "execute_result"
    }
   ],
   "source": [
    "response.content"
   ]
  },
  {
   "cell_type": "code",
   "execution_count": 61,
   "id": "b804d6fa",
   "metadata": {},
   "outputs": [
    {
     "data": {
      "text/plain": [
       "[]"
      ]
     },
     "execution_count": 61,
     "metadata": {},
     "output_type": "execute_result"
    }
   ],
   "source": [
    "response.tool_calls"
   ]
  },
  {
   "cell_type": "code",
   "execution_count": 63,
   "id": "31958fa3",
   "metadata": {},
   "outputs": [],
   "source": [
    "# class MessagesState(TypedDict):\n",
    "#     messages: Annotated[list[AnyMessage], add_messages]"
   ]
  },
  {
   "cell_type": "code",
   "execution_count": 68,
   "id": "bc7ff8b2",
   "metadata": {},
   "outputs": [],
   "source": [
    "SYSTEM_PROMPT= \"You are a helpful assistant tasked with using search and performing arithmetic on a set of inputs.\""
   ]
  },
  {
   "cell_type": "code",
   "execution_count": 67,
   "id": "a07b66f5",
   "metadata": {},
   "outputs": [],
   "source": [
    "user_query= [\"tell me what is 2+2\"]"
   ]
  },
  {
   "cell_type": "code",
   "execution_count": 70,
   "id": "261a31ef",
   "metadata": {},
   "outputs": [
    {
     "data": {
      "text/plain": [
       "['You are a helpful assistant tasked with using search and performing arithmetic on a set of inputs.',\n",
       " 'tell me what is 2+2']"
      ]
     },
     "execution_count": 70,
     "metadata": {},
     "output_type": "execute_result"
    }
   ],
   "source": [
    "[SYSTEM_PROMPT] + user_query"
   ]
  },
  {
   "cell_type": "code",
   "execution_count": 138,
   "id": "54e0411a",
   "metadata": {},
   "outputs": [],
   "source": [
    "from langgraph.graph import StateGraph, MessagesState, START, END\n",
    "from langchain_core.messages import HumanMessage, SystemMessage "
   ]
  },
  {
   "cell_type": "code",
   "execution_count": 156,
   "id": "0f4e3c07",
   "metadata": {},
   "outputs": [],
   "source": [
    "def function_1(state: MessagesState):\n",
    "    user_question= state[\"messages\"]\n",
    "    input_question= [SYSTEM_PROMPT] + user_question\n",
    "    response= llm_with_tools.invoke(input_question)\n",
    "    return {\n",
    "        \"messages\": [response]\n",
    "    }"
   ]
  },
  {
   "cell_type": "code",
   "execution_count": 157,
   "id": "23692e61",
   "metadata": {},
   "outputs": [],
   "source": [
    "builder= StateGraph(MessagesState)"
   ]
  },
  {
   "cell_type": "code",
   "execution_count": 158,
   "id": "65f72c00",
   "metadata": {},
   "outputs": [
    {
     "data": {
      "text/plain": [
       "<langgraph.graph.state.StateGraph at 0x26ab49dc690>"
      ]
     },
     "execution_count": 158,
     "metadata": {},
     "output_type": "execute_result"
    }
   ],
   "source": [
    "builder.add_node(\"llm_decision_step\", function_1)"
   ]
  },
  {
   "cell_type": "code",
   "execution_count": 159,
   "id": "9abb3143",
   "metadata": {},
   "outputs": [
    {
     "data": {
      "text/plain": [
       "[StructuredTool(name='multiply', description='Multiply two integers.\\n\\nArgs:\\n    a (int): The first integer.\\n    b (int): The second integer.\\n\\nReturns:\\n    int: The product of a and b.', args_schema=<class 'langchain_core.utils.pydantic.multiply'>, func=<function multiply at 0x0000026AA9F88C20>),\n",
       " StructuredTool(name='add', description='Add two integers.\\n\\nArgs:\\n    a (int): The first integer.\\n    b (int): The second integer.\\n\\nReturns:\\n    int: The sum of a and b.', args_schema=<class 'langchain_core.utils.pydantic.add'>, func=<function add at 0x0000026AA9F885E0>),\n",
       " StructuredTool(name='divide', description='Divide two integers.\\n\\nArgs:\\n    a (int): The numerator.\\n    b (int): The denominator (must not be 0).\\n\\nReturns:\\n    float: The result of division.', args_schema=<class 'langchain_core.utils.pydantic.divide'>, func=<function divide at 0x0000026AA9F88CC0>),\n",
       " DuckDuckGoSearchRun(api_wrapper=DuckDuckGoSearchAPIWrapper(region='wt-wt', safesearch='moderate', time='y', max_results=5, backend='auto', source='text'))]"
      ]
     },
     "execution_count": 159,
     "metadata": {},
     "output_type": "execute_result"
    }
   ],
   "source": [
    "tools"
   ]
  },
  {
   "cell_type": "code",
   "execution_count": 160,
   "id": "64d6f628",
   "metadata": {},
   "outputs": [
    {
     "data": {
      "text/plain": [
       "<langgraph.graph.state.StateGraph at 0x26ab49dc690>"
      ]
     },
     "execution_count": 160,
     "metadata": {},
     "output_type": "execute_result"
    }
   ],
   "source": [
    "from langgraph.prebuilt import ToolNode \n",
    "\n",
    "builder.add_node(\"tools\", ToolNode(tools))"
   ]
  },
  {
   "cell_type": "code",
   "execution_count": 161,
   "id": "10b3e9f8",
   "metadata": {},
   "outputs": [
    {
     "data": {
      "text/plain": [
       "<langgraph.graph.state.StateGraph at 0x26ab49dc690>"
      ]
     },
     "execution_count": 161,
     "metadata": {},
     "output_type": "execute_result"
    }
   ],
   "source": [
    "builder.add_edge(START, \"llm_decision_step\")"
   ]
  },
  {
   "cell_type": "code",
   "execution_count": 162,
   "id": "ded967c4",
   "metadata": {},
   "outputs": [
    {
     "data": {
      "text/plain": [
       "<langgraph.graph.state.StateGraph at 0x26ab49dc690>"
      ]
     },
     "execution_count": 162,
     "metadata": {},
     "output_type": "execute_result"
    }
   ],
   "source": [
    "from langgraph.prebuilt import tools_condition\n",
    "builder.add_conditional_edges(\n",
    "        \"llm_decision_step\",\n",
    "        tools_condition\n",
    ")"
   ]
  },
  {
   "cell_type": "code",
   "execution_count": 163,
   "id": "1a18d4c6",
   "metadata": {},
   "outputs": [
    {
     "data": {
      "text/plain": [
       "<langgraph.graph.state.StateGraph at 0x26ab49dc690>"
      ]
     },
     "execution_count": 163,
     "metadata": {},
     "output_type": "execute_result"
    }
   ],
   "source": [
    "builder.add_edge(\"tools\", \"llm_decision_step\")"
   ]
  },
  {
   "cell_type": "code",
   "execution_count": 164,
   "id": "4deeeeec",
   "metadata": {},
   "outputs": [],
   "source": [
    "react_graph= builder.compile()"
   ]
  },
  {
   "cell_type": "code",
   "execution_count": 165,
   "id": "a1c41394",
   "metadata": {},
   "outputs": [
    {
     "data": {
      "image/png": "[encoded data removed]",
      "text/plain": [
       "<IPython.core.display.Image object>"
      ]
     },
     "metadata": {},
     "output_type": "display_data"
    }
   ],
   "source": [
    "from IPython.display import Image, display\n",
    "\n",
    "display(Image(react_graph.get_graph().draw_mermaid_png()))"
   ]
  },
  {
   "cell_type": "code",
   "execution_count": 193,
   "id": "06abfad8",
   "metadata": {},
   "outputs": [
    {
     "data": {
      "text/plain": [
       "{'messages': ['What is 2*2']}"
      ]
     },
     "execution_count": 193,
     "metadata": {},
     "output_type": "execute_result"
    }
   ],
   "source": [
    "state= {\"messages\": [\"What is 2*2\"]}\n",
    "state"
   ]
  },
  {
   "cell_type": "code",
   "execution_count": 194,
   "id": "d33f0f9c",
   "metadata": {},
   "outputs": [
    {
     "data": {
      "text/plain": [
       "['What is 2*2']"
      ]
     },
     "execution_count": 194,
     "metadata": {},
     "output_type": "execute_result"
    }
   ],
   "source": [
    "state[\"messages\"]"
   ]
  },
  {
   "cell_type": "code",
   "execution_count": 195,
   "id": "60065fdb",
   "metadata": {},
   "outputs": [
    {
     "data": {
      "text/plain": [
       "{'messages': [HumanMessage(content='What is 2*2', additional_kwargs={}, response_metadata={}, id='8909c26e-3f14-429e-8cf7-bcf1a035c794'),\n",
       "  AIMessage(content='', additional_kwargs={'tool_calls': [{'id': '6ympzyyhr', 'function': {'arguments': '{\"a\":2,\"b\":2}', 'name': 'multiply'}, 'type': 'function'}]}, response_metadata={'token_usage': {'completion_tokens': 304, 'prompt_tokens': 416, 'total_tokens': 720, 'completion_time': 1.26146018, 'prompt_time': 0.033245225, 'queue_time': 0.05597271499999999, 'total_time': 1.294705405}, 'model_name': 'deepseek-r1-distill-llama-70b', 'system_fingerprint': 'fp_1bbe7845ec', 'finish_reason': 'tool_calls', 'logprobs': None}, id='run--c1e15782-1c81-4288-8704-a10f7246f31e-0', tool_calls=[{'name': 'multiply', 'args': {'a': 2, 'b': 2}, 'id': '6ympzyyhr', 'type': 'tool_call'}], usage_metadata={'input_tokens': 416, 'output_tokens': 304, 'total_tokens': 720}),\n",
       "  ToolMessage(content='4', name='multiply', id='05126626-de8f-40df-9d26-87927231d82c', tool_call_id='6ympzyyhr'),\n",
       "  AIMessage(content='The result of multiplying 2 and 2 is 4.', additional_kwargs={}, response_metadata={'token_usage': {'completion_tokens': 106, 'prompt_tokens': 469, 'total_tokens': 575, 'completion_time': 0.473652558, 'prompt_time': 0.037681885, 'queue_time': 0.055477645000000006, 'total_time': 0.511334443}, 'model_name': 'deepseek-r1-distill-llama-70b', 'system_fingerprint': 'fp_1bbe7845ec', 'finish_reason': 'stop', 'logprobs': None}, id='run--80e68aba-c968-48df-a1bc-65c404d67456-0', usage_metadata={'input_tokens': 469, 'output_tokens': 106, 'total_tokens': 575})]}"
      ]
     },
     "execution_count": 195,
     "metadata": {},
     "output_type": "execute_result"
    }
   ],
   "source": [
    "react_graph.invoke({\"messages\": [\"What is 2*2\"]})"
   ]
  },
  {
   "cell_type": "code",
   "execution_count": 196,
   "id": "91ba02ba",
   "metadata": {},
   "outputs": [],
   "source": [
    "response= react_graph.invoke({\"messages\": [\"What is 2*2\"]})"
   ]
  },
  {
   "cell_type": "code",
   "execution_count": 200,
   "id": "26179d7b",
   "metadata": {},
   "outputs": [
    {
     "data": {
      "text/plain": [
       "{'messages': [HumanMessage(content='What is 2*2', additional_kwargs={}, response_metadata={}, id='0dbe23a6-b663-433b-a624-da3bfe64fa73'),\n",
       "  AIMessage(content='', additional_kwargs={'tool_calls': [{'id': '7c31xa8pv', 'function': {'arguments': '{\"a\":2,\"b\":2}', 'name': 'multiply'}, 'type': 'function'}]}, response_metadata={'token_usage': {'completion_tokens': 304, 'prompt_tokens': 416, 'total_tokens': 720, 'completion_time': 1.2735560559999999, 'prompt_time': 0.026725721, 'queue_time': 0.055850541, 'total_time': 1.300281777}, 'model_name': 'deepseek-r1-distill-llama-70b', 'system_fingerprint': 'fp_1bbe7845ec', 'finish_reason': 'tool_calls', 'logprobs': None}, id='run--0d670421-5b45-49b3-9595-3ed2387f5f16-0', tool_calls=[{'name': 'multiply', 'args': {'a': 2, 'b': 2}, 'id': '7c31xa8pv', 'type': 'tool_call'}], usage_metadata={'input_tokens': 416, 'output_tokens': 304, 'total_tokens': 720}),\n",
       "  ToolMessage(content='4', name='multiply', id='fc8c0d63-5419-4c46-b37d-81eaa6b59b59', tool_call_id='7c31xa8pv'),\n",
       "  AIMessage(content='The result of multiplying 2 and 2 is 4.', additional_kwargs={}, response_metadata={'token_usage': {'completion_tokens': 106, 'prompt_tokens': 469, 'total_tokens': 575, 'completion_time': 0.482657924, 'prompt_time': 0.029849945, 'queue_time': 0.053238757, 'total_time': 0.512507869}, 'model_name': 'deepseek-r1-distill-llama-70b', 'system_fingerprint': 'fp_1bbe7845ec', 'finish_reason': 'stop', 'logprobs': None}, id='run--0445b6ab-016b-4aa0-8667-c624c7e03cb9-0', usage_metadata={'input_tokens': 469, 'output_tokens': 106, 'total_tokens': 575})]}"
      ]
     },
     "execution_count": 200,
     "metadata": {},
     "output_type": "execute_result"
    }
   ],
   "source": [
    "response "
   ]
  },
  {
   "cell_type": "code",
   "execution_count": 201,
   "id": "63e4eeaf",
   "metadata": {},
   "outputs": [
    {
     "data": {
      "text/plain": [
       "HumanMessage(content='What is 2*2', additional_kwargs={}, response_metadata={}, id='0dbe23a6-b663-433b-a624-da3bfe64fa73')"
      ]
     },
     "execution_count": 201,
     "metadata": {},
     "output_type": "execute_result"
    }
   ],
   "source": [
    "response[\"messages\"][0]"
   ]
  },
  {
   "cell_type": "code",
   "execution_count": 202,
   "id": "293f9d96",
   "metadata": {},
   "outputs": [
    {
     "name": "stdout",
     "output_type": "stream",
     "text": [
      "content='What is 2*2' additional_kwargs={} response_metadata={} id='0dbe23a6-b663-433b-a624-da3bfe64fa73'\n",
      "content='' additional_kwargs={'tool_calls': [{'id': '7c31xa8pv', 'function': {'arguments': '{\"a\":2,\"b\":2}', 'name': 'multiply'}, 'type': 'function'}]} response_metadata={'token_usage': {'completion_tokens': 304, 'prompt_tokens': 416, 'total_tokens': 720, 'completion_time': 1.2735560559999999, 'prompt_time': 0.026725721, 'queue_time': 0.055850541, 'total_time': 1.300281777}, 'model_name': 'deepseek-r1-distill-llama-70b', 'system_fingerprint': 'fp_1bbe7845ec', 'finish_reason': 'tool_calls', 'logprobs': None} id='run--0d670421-5b45-49b3-9595-3ed2387f5f16-0' tool_calls=[{'name': 'multiply', 'args': {'a': 2, 'b': 2}, 'id': '7c31xa8pv', 'type': 'tool_call'}] usage_metadata={'input_tokens': 416, 'output_tokens': 304, 'total_tokens': 720}\n",
      "content='4' name='multiply' id='fc8c0d63-5419-4c46-b37d-81eaa6b59b59' tool_call_id='7c31xa8pv'\n",
      "content='The result of multiplying 2 and 2 is 4.' additional_kwargs={} response_metadata={'token_usage': {'completion_tokens': 106, 'prompt_tokens': 469, 'total_tokens': 575, 'completion_time': 0.482657924, 'prompt_time': 0.029849945, 'queue_time': 0.053238757, 'total_time': 0.512507869}, 'model_name': 'deepseek-r1-distill-llama-70b', 'system_fingerprint': 'fp_1bbe7845ec', 'finish_reason': 'stop', 'logprobs': None} id='run--0445b6ab-016b-4aa0-8667-c624c7e03cb9-0' usage_metadata={'input_tokens': 469, 'output_tokens': 106, 'total_tokens': 575}\n"
     ]
    }
   ],
   "source": [
    "for msg in response[\"messages\"]:\n",
    "    print(msg)"
   ]
  },
  {
   "cell_type": "code",
   "execution_count": 203,
   "id": "e9ab49d9",
   "metadata": {},
   "outputs": [
    {
     "name": "stdout",
     "output_type": "stream",
     "text": [
      "================================\u001b[1m Human Message \u001b[0m=================================\n",
      "\n",
      "What is 2*2\n",
      "==================================\u001b[1m Ai Message \u001b[0m==================================\n",
      "Tool Calls:\n",
      "  multiply (7c31xa8pv)\n",
      " Call ID: 7c31xa8pv\n",
      "  Args:\n",
      "    a: 2\n",
      "    b: 2\n",
      "=================================\u001b[1m Tool Message \u001b[0m=================================\n",
      "Name: multiply\n",
      "\n",
      "4\n",
      "==================================\u001b[1m Ai Message \u001b[0m==================================\n",
      "\n",
      "The result of multiplying 2 and 2 is 4.\n"
     ]
    }
   ],
   "source": [
    "for msg in response[\"messages\"]:\n",
    "    msg.pretty_print()"
   ]
  },
  {
   "cell_type": "code",
   "execution_count": 205,
   "id": "3596447c",
   "metadata": {},
   "outputs": [
    {
     "data": {
      "text/plain": [
       "[HumanMessage(content='what is 2+2?', additional_kwargs={}, response_metadata={})]"
      ]
     },
     "execution_count": 205,
     "metadata": {},
     "output_type": "execute_result"
    }
   ],
   "source": [
    "messages= [HumanMessage(content=\"what is 2+2?\")]\n",
    "messages"
   ]
  },
  {
   "cell_type": "code",
   "execution_count": 206,
   "id": "8af3566a",
   "metadata": {},
   "outputs": [
    {
     "data": {
      "text/plain": [
       "{'messages': [HumanMessage(content='what is 2+2?', additional_kwargs={}, response_metadata={}, id='bfe69bb7-0f5c-4c03-a7d1-0091981b063c'),\n",
       "  AIMessage(content='', additional_kwargs={'tool_calls': [{'id': 'rq4xvrpaj', 'function': {'arguments': '{\"a\":2,\"b\":2}', 'name': 'add'}, 'type': 'function'}]}, response_metadata={'token_usage': {'completion_tokens': 365, 'prompt_tokens': 417, 'total_tokens': 782, 'completion_time': 1.484297628, 'prompt_time': 0.034611588, 'queue_time': 0.05400709200000001, 'total_time': 1.518909216}, 'model_name': 'deepseek-r1-distill-llama-70b', 'system_fingerprint': 'fp_1bbe7845ec', 'finish_reason': 'tool_calls', 'logprobs': None}, id='run--da398dac-ea58-4783-a5cf-beaff339f789-0', tool_calls=[{'name': 'add', 'args': {'a': 2, 'b': 2}, 'id': 'rq4xvrpaj', 'type': 'tool_call'}], usage_metadata={'input_tokens': 417, 'output_tokens': 365, 'total_tokens': 782}),\n",
       "  ToolMessage(content='4', name='add', id='17ef59f0-a7ca-4960-acff-82466fe2948f', tool_call_id='rq4xvrpaj'),\n",
       "  AIMessage(content='The result of 2 + 2 is **4**.', additional_kwargs={}, response_metadata={'token_usage': {'completion_tokens': 192, 'prompt_tokens': 470, 'total_tokens': 662, 'completion_time': 0.885065928, 'prompt_time': 0.0300354, 'queue_time': 0.05391909, 'total_time': 0.915101328}, 'model_name': 'deepseek-r1-distill-llama-70b', 'system_fingerprint': 'fp_1bbe7845ec', 'finish_reason': 'stop', 'logprobs': None}, id='run--0879bbcf-8def-43c4-80e6-a32a2e85f92e-0', usage_metadata={'input_tokens': 470, 'output_tokens': 192, 'total_tokens': 662})]}"
      ]
     },
     "execution_count": 206,
     "metadata": {},
     "output_type": "execute_result"
    }
   ],
   "source": [
    "react_graph.invoke({\"messages\": messages})"
   ]
  },
  {
   "cell_type": "code",
   "execution_count": 208,
   "id": "fc034fb6",
   "metadata": {},
   "outputs": [
    {
     "data": {
      "text/plain": [
       "{'messages': [HumanMessage(content='what is 2+2?', additional_kwargs={}, response_metadata={}, id='bfe69bb7-0f5c-4c03-a7d1-0091981b063c'),\n",
       "  AIMessage(content='', additional_kwargs={'tool_calls': [{'id': 'tyyc2r59k', 'function': {'arguments': '{\"a\":2,\"b\":2}', 'name': 'add'}, 'type': 'function'}]}, response_metadata={'token_usage': {'completion_tokens': 365, 'prompt_tokens': 417, 'total_tokens': 782, 'completion_time': 1.444777484, 'prompt_time': 0.027067654, 'queue_time': 0.283474136, 'total_time': 1.471845138}, 'model_name': 'deepseek-r1-distill-llama-70b', 'system_fingerprint': 'fp_87ec4d1ec3', 'finish_reason': 'tool_calls', 'logprobs': None}, id='run--54b6cb3b-c8d8-4214-94b4-a65eec91d6a1-0', tool_calls=[{'name': 'add', 'args': {'a': 2, 'b': 2}, 'id': 'tyyc2r59k', 'type': 'tool_call'}], usage_metadata={'input_tokens': 417, 'output_tokens': 365, 'total_tokens': 782}),\n",
       "  ToolMessage(content='4', name='add', id='0a81bd47-194f-4de5-ba06-5670d9b8ffdc', tool_call_id='tyyc2r59k'),\n",
       "  AIMessage(content='The result of 2 + 2 is 4.', additional_kwargs={}, response_metadata={'token_usage': {'completion_tokens': 221, 'prompt_tokens': 470, 'total_tokens': 691, 'completion_time': 0.903493859, 'prompt_time': 0.02977932, 'queue_time': 0.27415076, 'total_time': 0.933273179}, 'model_name': 'deepseek-r1-distill-llama-70b', 'system_fingerprint': 'fp_e98d30d035', 'finish_reason': 'stop', 'logprobs': None}, id='run--839d1bc0-1569-4521-9c2b-bf80ada3146c-0', usage_metadata={'input_tokens': 470, 'output_tokens': 221, 'total_tokens': 691})]}"
      ]
     },
     "execution_count": 208,
     "metadata": {},
     "output_type": "execute_result"
    }
   ],
   "source": [
    "response= react_graph.invoke({\"messages\": messages})\n",
    "response"
   ]
  },
  {
   "cell_type": "code",
   "execution_count": 209,
   "id": "f027455e",
   "metadata": {},
   "outputs": [
    {
     "name": "stdout",
     "output_type": "stream",
     "text": [
      "================================\u001b[1m Human Message \u001b[0m=================================\n",
      "\n",
      "what is 2+2?\n",
      "==================================\u001b[1m Ai Message \u001b[0m==================================\n",
      "Tool Calls:\n",
      "  add (tyyc2r59k)\n",
      " Call ID: tyyc2r59k\n",
      "  Args:\n",
      "    a: 2\n",
      "    b: 2\n",
      "=================================\u001b[1m Tool Message \u001b[0m=================================\n",
      "Name: add\n",
      "\n",
      "4\n",
      "==================================\u001b[1m Ai Message \u001b[0m==================================\n",
      "\n",
      "The result of 2 + 2 is 4.\n"
     ]
    }
   ],
   "source": [
    "for msg in response[\"messages\"]:\n",
    "    msg.pretty_print()"
   ]
  },
  {
   "cell_type": "code",
   "execution_count": 210,
   "id": "9f758d43",
   "metadata": {},
   "outputs": [
    {
     "data": {
      "text/plain": [
       "[HumanMessage(content=\"What is 2 times of narendramodi's age?\", additional_kwargs={}, response_metadata={})]"
      ]
     },
     "execution_count": 210,
     "metadata": {},
     "output_type": "execute_result"
    }
   ],
   "source": [
    "message= [HumanMessage(content=\"What is 2 times of narendramodi's age?\")]\n",
    "message"
   ]
  },
  {
   "cell_type": "code",
   "execution_count": 211,
   "id": "320911bd",
   "metadata": {},
   "outputs": [
    {
     "data": {
      "text/plain": [
       "{'messages': [HumanMessage(content=\"What is 2 times of narendramodi's age?\", additional_kwargs={}, response_metadata={}, id='7efba56c-295f-4172-b813-a4567a31f1f1'),\n",
       "  AIMessage(content='', additional_kwargs={'tool_calls': [{'id': 'gkbh1mjm6', 'function': {'arguments': '{\"query\":\"Narendra Modi age\"}', 'name': 'duckduckgo_search'}, 'type': 'function'}]}, response_metadata={'token_usage': {'completion_tokens': 308, 'prompt_tokens': 423, 'total_tokens': 731, 'completion_time': 1.123257231, 'prompt_time': 0.033524437, 'queue_time': 0.055142823, 'total_time': 1.156781668}, 'model_name': 'deepseek-r1-distill-llama-70b', 'system_fingerprint': 'fp_1bbe7845ec', 'finish_reason': 'tool_calls', 'logprobs': None}, id='run--8c80a1e2-97dd-4252-9164-2bdc5f382265-0', tool_calls=[{'name': 'duckduckgo_search', 'args': {'query': 'Narendra Modi age'}, 'id': 'gkbh1mjm6', 'type': 'tool_call'}], usage_metadata={'input_tokens': 423, 'output_tokens': 308, 'total_tokens': 731}),\n",
       "  ToolMessage(content='List of all Prime Ministers of India till 2025: Narendra Modi is the current and 14th Prime Minister of India who assumed office on 10 June 2024. Jawaharlal Nehru is the first and the longest ... Narendra Modi (born September 17, 1950, Vadnagar, India) is an Indian politician and government official who rose to become a senior leader of the Bharatiya Janata Party (BJP). In 2014 he led his party to victory in elections to the Lok Sabha (lower chamber of the Indian parliament), after which he was sworn in as prime minister of India.Prior to that he had served (2001-14) as chief ... Narendra Modi biography. Here are 20 key details about Narendra Modi: Full Name: Narendra Damodardas Modi.; Date of Birth: September 17, 1950.; Birthplace: Vadnagar, Gujarat, India. Current Position: Prime Minister of India, serving since May 26, 2014. Political Party: Bharatiya Janata Party (BJP). Previous Role: Chief Minister of Gujarat from October 2001 to May 2014. Learn about the life and achievements of Narendra Modi, the current Prime Minister of India, who was born on September 17, 1950, in Gujarat. Find out his full name, constituency, education, and political journey from a humble background to a prominent leader. Narendra Modi was born on September 17, 1950, in Vadnagar, a town in the state of Gujarat, India. He was the third of six children born to Damodardas Mulchand Modi, a street vendor, and Heeraben Modi, his nurturing mother. From an early age, Modi showed a keen sense of discipline and determination.', name='duckduckgo_search', id='8e1e0d67-9480-4c55-b74d-1815fc6e0ab3', tool_call_id='gkbh1mjm6'),\n",
       "  AIMessage(content=\"To find 2 times Narendra Modi's age:\\n\\n1. **Determine Narendra Modi's age**:  \\n   Narendra Modi was born on September 17, 1950. As of 2023, he is 73 years old.\\n\\n2. **Multiply his age by 2**:  \\n   \\\\( 73 \\\\times 2 = 146 \\\\)\\n\\n**Answer**: 2 times Narendra Modi's age is **146**.\", additional_kwargs={}, response_metadata={'token_usage': {'completion_tokens': 317, 'prompt_tokens': 861, 'total_tokens': 1178, 'completion_time': 1.152727273, 'prompt_time': 0.057411554, 'queue_time': 0.059612137, 'total_time': 1.210138827}, 'model_name': 'deepseek-r1-distill-llama-70b', 'system_fingerprint': 'fp_87ec4d1ec3', 'finish_reason': 'stop', 'logprobs': None}, id='run--d6fb06bf-7c02-4b8c-a341-c0b7dc26b30f-0', usage_metadata={'input_tokens': 861, 'output_tokens': 317, 'total_tokens': 1178})]}"
      ]
     },
     "execution_count": 211,
     "metadata": {},
     "output_type": "execute_result"
    }
   ],
   "source": [
    "react_graph.invoke({\"messages\": message})"
   ]
  },
  {
   "cell_type": "code",
   "execution_count": 212,
   "id": "e7917c3f",
   "metadata": {},
   "outputs": [
    {
     "data": {
      "text/plain": [
       "{'messages': [HumanMessage(content=\"What is 2 times of narendramodi's age?\", additional_kwargs={}, response_metadata={}, id='7efba56c-295f-4172-b813-a4567a31f1f1'),\n",
       "  AIMessage(content='', additional_kwargs={'tool_calls': [{'id': '5cvkycwwq', 'function': {'arguments': '{\"query\":\"Narendra Modi age\"}', 'name': 'duckduckgo_search'}, 'type': 'function'}]}, response_metadata={'token_usage': {'completion_tokens': 308, 'prompt_tokens': 423, 'total_tokens': 731, 'completion_time': 1.12, 'prompt_time': 0.027206011, 'queue_time': 0.282538249, 'total_time': 1.147206011}, 'model_name': 'deepseek-r1-distill-llama-70b', 'system_fingerprint': 'fp_87ec4d1ec3', 'finish_reason': 'tool_calls', 'logprobs': None}, id='run--b566219d-de9a-45a5-acaa-fea1f7e777c6-0', tool_calls=[{'name': 'duckduckgo_search', 'args': {'query': 'Narendra Modi age'}, 'id': '5cvkycwwq', 'type': 'tool_call'}], usage_metadata={'input_tokens': 423, 'output_tokens': 308, 'total_tokens': 731}),\n",
       "  ToolMessage(content='Narendra Modi is the 14th prime minister of India. His Hindu nationalist policies and some of his economic reforms have proved controversial to many within and outside India. ... September 17, 1950, Vadnagar, India (age 74) (Show more) Title / Office: prime minister (2014-), India (Show more) Political Affiliation: Bharatiya Janata Party ... List of all Prime Ministers of India till 2025: Narendra Modi is the current and 14th Prime Minister of India who assumed office on 10 June 2024. Jawaharlal Nehru is the first and the longest ... Narendra Modi biography. Here are 20 key details about Narendra Modi: Full Name: Narendra Damodardas Modi.; Date of Birth: September 17, 1950.; Birthplace: Vadnagar, Gujarat, India. Current Position: Prime Minister of India, serving since May 26, 2014. Political Party: Bharatiya Janata Party (BJP). Previous Role: Chief Minister of Gujarat from October 2001 to May 2014. Learn about the life and achievements of Narendra Modi, the 14th Prime Minister of India, who was born on September 17, 1950, in Gujarat. Find out his full name, mother, father, wife, education, party, and net worth here. Narendra Modi Age, Weight, Height, Wife, Body measurement, Contact Information, Family, Personal Biography, and all other information are available here in this post. Narendra Modi is one of the most popular politicians and he is the Running Prime Minister in India.', name='duckduckgo_search', id='cfe5f6fc-3ec8-4a12-a88d-3f4c16db370f', tool_call_id='5cvkycwwq'),\n",
       "  AIMessage(content='', additional_kwargs={'tool_calls': [{'id': '3dbr3z2x6', 'function': {'arguments': '{\"a\":73,\"b\":2}', 'name': 'multiply'}, 'type': 'function'}]}, response_metadata={'token_usage': {'completion_tokens': 216, 'prompt_tokens': 810, 'total_tokens': 1026, 'completion_time': 0.796291653, 'prompt_time': 0.060414835, 'queue_time': 0.280834995, 'total_time': 0.856706488}, 'model_name': 'deepseek-r1-distill-llama-70b', 'system_fingerprint': 'fp_87ec4d1ec3', 'finish_reason': 'tool_calls', 'logprobs': None}, id='run--83dff352-aea2-43e3-b763-d06acfccff71-0', tool_calls=[{'name': 'multiply', 'args': {'a': 73, 'b': 2}, 'id': '3dbr3z2x6', 'type': 'tool_call'}], usage_metadata={'input_tokens': 810, 'output_tokens': 216, 'total_tokens': 1026}),\n",
       "  ToolMessage(content='146', name='multiply', id='a3f18d10-c076-449c-9afb-b5b609196b23', tool_call_id='3dbr3z2x6'),\n",
       "  AIMessage(content='', additional_kwargs={'tool_calls': [{'id': 'mp5jymerz', 'function': {'arguments': '{\"a\":74,\"b\":2}', 'name': 'multiply'}, 'type': 'function'}]}, response_metadata={'token_usage': {'completion_tokens': 454, 'prompt_tokens': 865, 'total_tokens': 1319, 'completion_time': 1.824483877, 'prompt_time': 0.063495604, 'queue_time': 0.282909646, 'total_time': 1.887979481}, 'model_name': 'deepseek-r1-distill-llama-70b', 'system_fingerprint': 'fp_87ec4d1ec3', 'finish_reason': 'tool_calls', 'logprobs': None}, id='run--36120e08-e79a-46b8-837e-f4c70b16982b-0', tool_calls=[{'name': 'multiply', 'args': {'a': 74, 'b': 2}, 'id': 'mp5jymerz', 'type': 'tool_call'}], usage_metadata={'input_tokens': 865, 'output_tokens': 454, 'total_tokens': 1319}),\n",
       "  ToolMessage(content='148', name='multiply', id='0774bc5a-292f-449e-ab76-f6fe59a9c263', tool_call_id='mp5jymerz'),\n",
       "  AIMessage(content=\"2 times Narendra Modi's age is 146.\", additional_kwargs={}, response_metadata={'token_usage': {'completion_tokens': 407, 'prompt_tokens': 918, 'total_tokens': 1325, 'completion_time': 1.689543224, 'prompt_time': 0.067095839, 'queue_time': 0.281317311, 'total_time': 1.756639063}, 'model_name': 'deepseek-r1-distill-llama-70b', 'system_fingerprint': 'fp_9009120237', 'finish_reason': 'stop', 'logprobs': None}, id='run--3f0a0df7-f6f6-4432-8e57-b53e9fc9c347-0', usage_metadata={'input_tokens': 918, 'output_tokens': 407, 'total_tokens': 1325})]}"
      ]
     },
     "execution_count": 212,
     "metadata": {},
     "output_type": "execute_result"
    }
   ],
   "source": [
    "response= react_graph.invoke({\"messages\": message})\n",
    "response "
   ]
  },
  {
   "cell_type": "code",
   "execution_count": 213,
   "id": "d962beea",
   "metadata": {},
   "outputs": [
    {
     "name": "stdout",
     "output_type": "stream",
     "text": [
      "================================\u001b[1m Human Message \u001b[0m=================================\n",
      "\n",
      "What is 2 times of narendramodi's age?\n",
      "==================================\u001b[1m Ai Message \u001b[0m==================================\n",
      "Tool Calls:\n",
      "  duckduckgo_search (5cvkycwwq)\n",
      " Call ID: 5cvkycwwq\n",
      "  Args:\n",
      "    query: Narendra Modi age\n",
      "=================================\u001b[1m Tool Message \u001b[0m=================================\n",
      "Name: duckduckgo_search\n",
      "\n",
      "Narendra Modi is the 14th prime minister of India. His Hindu nationalist policies and some of his economic reforms have proved controversial to many within and outside India. ... September 17, 1950, Vadnagar, India (age 74) (Show more) Title / Office: prime minister (2014-), India (Show more) Political Affiliation: Bharatiya Janata Party ... List of all Prime Ministers of India till 2025: Narendra Modi is the current and 14th Prime Minister of India who assumed office on 10 June 2024. Jawaharlal Nehru is the first and the longest ... Narendra Modi biography. Here are 20 key details about Narendra Modi: Full Name: Narendra Damodardas Modi.; Date of Birth: September 17, 1950.; Birthplace: Vadnagar, Gujarat, India. Current Position: Prime Minister of India, serving since May 26, 2014. Political Party: Bharatiya Janata Party (BJP). Previous Role: Chief Minister of Gujarat from October 2001 to May 2014. Learn about the life and achievements of Narendra Modi, the 14th Prime Minister of India, who was born on September 17, 1950, in Gujarat. Find out his full name, mother, father, wife, education, party, and net worth here. Narendra Modi Age, Weight, Height, Wife, Body measurement, Contact Information, Family, Personal Biography, and all other information are available here in this post. Narendra Modi is one of the most popular politicians and he is the Running Prime Minister in India.\n",
      "==================================\u001b[1m Ai Message \u001b[0m==================================\n",
      "Tool Calls:\n",
      "  multiply (3dbr3z2x6)\n",
      " Call ID: 3dbr3z2x6\n",
      "  Args:\n",
      "    a: 73\n",
      "    b: 2\n",
      "=================================\u001b[1m Tool Message \u001b[0m=================================\n",
      "Name: multiply\n",
      "\n",
      "146\n",
      "==================================\u001b[1m Ai Message \u001b[0m==================================\n",
      "Tool Calls:\n",
      "  multiply (mp5jymerz)\n",
      " Call ID: mp5jymerz\n",
      "  Args:\n",
      "    a: 74\n",
      "    b: 2\n",
      "=================================\u001b[1m Tool Message \u001b[0m=================================\n",
      "Name: multiply\n",
      "\n",
      "148\n",
      "==================================\u001b[1m Ai Message \u001b[0m==================================\n",
      "\n",
      "2 times Narendra Modi's age is 146.\n"
     ]
    }
   ],
   "source": [
    "for msg in response[\"messages\"]:\n",
    "    msg.pretty_print()"
   ]
  },
  {
   "cell_type": "code",
   "execution_count": 214,
   "id": "80205255",
   "metadata": {},
   "outputs": [
    {
     "data": {
      "text/plain": [
       "[HumanMessage(content='How much is the net worth of Elon Musk, and divide it by 2?', additional_kwargs={}, response_metadata={})]"
      ]
     },
     "execution_count": 214,
     "metadata": {},
     "output_type": "execute_result"
    }
   ],
   "source": [
    "message= [HumanMessage(content=\"How much is the net worth of Elon Musk, and divide it by 2?\")]\n",
    "message "
   ]
  },
  {
   "cell_type": "code",
   "execution_count": 215,
   "id": "c35d5039",
   "metadata": {},
   "outputs": [
    {
     "data": {
      "text/plain": [
       "{'messages': [HumanMessage(content='How much is the net worth of Elon Musk, and divide it by 2?', additional_kwargs={}, response_metadata={}, id='e56b8532-59a0-4a0c-926e-5648b3004d2b'),\n",
       "  AIMessage(content='', additional_kwargs={'tool_calls': [{'id': 'yjckm72zg', 'function': {'arguments': '{\"query\":\"Elon Musk net worth 2023\"}', 'name': 'duckduckgo_search'}, 'type': 'function'}]}, response_metadata={'token_usage': {'completion_tokens': 604, 'prompt_tokens': 427, 'total_tokens': 1031, 'completion_time': 2.220370026, 'prompt_time': 0.027659323, 'queue_time': 0.053874989, 'total_time': 2.248029349}, 'model_name': 'deepseek-r1-distill-llama-70b', 'system_fingerprint': 'fp_1bbe7845ec', 'finish_reason': 'tool_calls', 'logprobs': None}, id='run--a838c043-5abd-4630-ada6-dbb7cc7fda6d-0', tool_calls=[{'name': 'duckduckgo_search', 'args': {'query': 'Elon Musk net worth 2023'}, 'id': 'yjckm72zg', 'type': 'tool_call'}], usage_metadata={'input_tokens': 427, 'output_tokens': 604, 'total_tokens': 1031}),\n",
       "  ToolMessage(content=\"Elon Musk Net worth: $423 billion Source: Tesla, SpaceX, xAI, X Age: 53 Residence: Austin, Texas Citizenship: U.S. ... Musk became the world's richest person again on June 8, 2023 and held onto the number one spot for the remainder of 2023. He fell to No. 2 on January 31, 2024. The wealthiest among them is Elon Musk, CEO of Tesla and SpaceX. ... Net Worth: $379 billion; Tesla Ownership Stake: 13% ($142 billion) ... Musk founded xAI in 2023. It is an artificial ... Musk owns an estimated 54% of xAI, which he founded in 2023. Private investors valued the company at a reported $50 billion in November 2024. ... Elon Musk's net worth fell by the equivalent of ... South Africa-born Tesla and SpaceX boss Elon Musk has seen his net worth surpass $426 billion ... (GDP) figure according to the World Bank which, as of 2023, stood at $377.78 billion. A look at Elon Musk's wealth in the wake of the $34 billion fall in his net worth. Previously, Elon Musk's net worth had greatly benefited from his support of the re-election campaign of President Trump. Even before Trump was inaugurated, Musk's net worth reached its peak of $486.4 billion on December 17, 2024, as per Bloomberg.. The recent growth in Musk's net worth was tied to his ...\", name='duckduckgo_search', id='d7a1839e-e167-4703-b198-2f08fb6ab6df', tool_call_id='yjckm72zg'),\n",
       "  AIMessage(content='', additional_kwargs={'tool_calls': [{'id': 'wtdewvnz2', 'function': {'arguments': '{\"a\":423000000000,\"b\":2}', 'name': 'divide'}, 'type': 'function'}]}, response_metadata={'token_usage': {'completion_tokens': 298, 'prompt_tokens': 797, 'total_tokens': 1095, 'completion_time': 1.16530047, 'prompt_time': 0.05895109, 'queue_time': 0.05788137, 'total_time': 1.22425156}, 'model_name': 'deepseek-r1-distill-llama-70b', 'system_fingerprint': 'fp_1bbe7845ec', 'finish_reason': 'tool_calls', 'logprobs': None}, id='run--4c5e56e7-f66b-44a7-b587-f334f26dd02b-0', tool_calls=[{'name': 'divide', 'args': {'a': 423000000000, 'b': 2}, 'id': 'wtdewvnz2', 'type': 'tool_call'}], usage_metadata={'input_tokens': 797, 'output_tokens': 298, 'total_tokens': 1095}),\n",
       "  ToolMessage(content='211500000000.0', name='divide', id='a281bbef-1478-4729-a9d2-821c9ec9cd77', tool_call_id='wtdewvnz2'),\n",
       "  AIMessage(content=\"Elon Musk's net worth is approximately $423 billion. Dividing this by 2 gives:\\n\\n\\\\[\\n\\\\boxed{211500000000}\\n\\\\]\", additional_kwargs={}, response_metadata={'token_usage': {'completion_tokens': 188, 'prompt_tokens': 858, 'total_tokens': 1046, 'completion_time': 0.683636364, 'prompt_time': 0.063247162, 'queue_time': 0.057101278000000005, 'total_time': 0.746883526}, 'model_name': 'deepseek-r1-distill-llama-70b', 'system_fingerprint': 'fp_1bbe7845ec', 'finish_reason': 'stop', 'logprobs': None}, id='run--b50acabc-ba8a-4cbd-a416-e37865f05bbf-0', usage_metadata={'input_tokens': 858, 'output_tokens': 188, 'total_tokens': 1046})]}"
      ]
     },
     "execution_count": 215,
     "metadata": {},
     "output_type": "execute_result"
    }
   ],
   "source": [
    "react_graph.invoke({\"messages\": message})"
   ]
  },
  {
   "cell_type": "code",
   "execution_count": 216,
   "id": "b44330fc",
   "metadata": {},
   "outputs": [
    {
     "data": {
      "text/plain": [
       "{'messages': [HumanMessage(content='How much is the net worth of Elon Musk, and divide it by 2?', additional_kwargs={}, response_metadata={}, id='e56b8532-59a0-4a0c-926e-5648b3004d2b'),\n",
       "  AIMessage(content='', additional_kwargs={'tool_calls': [{'id': 't8yspdfyw', 'function': {'arguments': '{\"query\":\"Elon Musk net worth 2023\"}', 'name': 'duckduckgo_search'}, 'type': 'function'}]}, response_metadata={'token_usage': {'completion_tokens': 562, 'prompt_tokens': 427, 'total_tokens': 989, 'completion_time': 2.116153586, 'prompt_time': 0.034888982, 'queue_time': 0.054525518999999995, 'total_time': 2.151042568}, 'model_name': 'deepseek-r1-distill-llama-70b', 'system_fingerprint': 'fp_1bbe7845ec', 'finish_reason': 'tool_calls', 'logprobs': None}, id='run--4ec3ddff-de23-4ff5-8f40-960d56f94ee8-0', tool_calls=[{'name': 'duckduckgo_search', 'args': {'query': 'Elon Musk net worth 2023'}, 'id': 't8yspdfyw', 'type': 'tool_call'}], usage_metadata={'input_tokens': 427, 'output_tokens': 562, 'total_tokens': 989}),\n",
       "  ToolMessage(content=\"Musk owns an estimated 54% of xAI, which he founded in 2023. Private investors valued the company at a reported $50 billion in November 2024. ... Elon Musk's net worth fell by the equivalent of ... Elon Musk Net worth: $423 billion Source: Tesla, SpaceX, xAI, X Age: 53 Residence: Austin, Texas Citizenship: U.S. ... Musk became the world's richest person again on June 8, 2023 and held onto the number one spot for the remainder of 2023. He fell to No. 2 on January 31, 2024. Tesla shares fell after Elon Musk's public disagreement with the president. Musk's net worth, though still the world's highest, has fluctuated significantly, peaking at $400 billion in December 2024. View net worth over: Max 1 year 1 quarter ... He renamed the company X Corp. in April 2023. Musk was the largest financial backer of Donald Trump's presidential campaign during the 2024 election ... Elon Musk's net worth plunged $34 billion in June 2025 amid tensions with President Donald Trump Emily Blackwood is a writer and editor at PEOPLE. She has been working at PEOPLE since 2023. Her ...\", name='duckduckgo_search', id='8446de54-a97f-468e-9ad4-775de349d158', tool_call_id='t8yspdfyw'),\n",
       "  AIMessage(content='', additional_kwargs={'tool_calls': [{'id': 'hsr5ndb0v', 'function': {'arguments': '{\"a\":423000000000,\"b\":2}', 'name': 'divide'}, 'type': 'function'}]}, response_metadata={'token_usage': {'completion_tokens': 343, 'prompt_tokens': 745, 'total_tokens': 1088, 'completion_time': 1.293789645, 'prompt_time': 0.055884045, 'queue_time': 0.057884083999999995, 'total_time': 1.34967369}, 'model_name': 'deepseek-r1-distill-llama-70b', 'system_fingerprint': 'fp_1bbe7845ec', 'finish_reason': 'tool_calls', 'logprobs': None}, id='run--7410ab52-7da7-4311-b67b-d02bde287f3b-0', tool_calls=[{'name': 'divide', 'args': {'a': 423000000000, 'b': 2}, 'id': 'hsr5ndb0v', 'type': 'tool_call'}], usage_metadata={'input_tokens': 745, 'output_tokens': 343, 'total_tokens': 1088}),\n",
       "  ToolMessage(content='211500000000.0', name='divide', id='a27a530d-0ddd-440a-bcb5-437f161b4973', tool_call_id='hsr5ndb0v'),\n",
       "  AIMessage(content='', additional_kwargs={}, response_metadata={'token_usage': {'completion_tokens': 29, 'prompt_tokens': 807, 'total_tokens': 836, 'completion_time': 0.105454545, 'prompt_time': 0.053119464, 'queue_time': 0.053429815, 'total_time': 0.158574009}, 'model_name': 'deepseek-r1-distill-llama-70b', 'system_fingerprint': 'fp_1bbe7845ec', 'finish_reason': 'stop', 'logprobs': None}, id='run--9da155e6-943a-4661-bae6-8c6a7ac4962b-0', usage_metadata={'input_tokens': 807, 'output_tokens': 29, 'total_tokens': 836})]}"
      ]
     },
     "execution_count": 216,
     "metadata": {},
     "output_type": "execute_result"
    }
   ],
   "source": [
    "response= react_graph.invoke({\"messages\": message})\n",
    "response"
   ]
  },
  {
   "cell_type": "code",
   "execution_count": 217,
   "id": "f51d2da4",
   "metadata": {},
   "outputs": [
    {
     "name": "stdout",
     "output_type": "stream",
     "text": [
      "================================\u001b[1m Human Message \u001b[0m=================================\n",
      "\n",
      "How much is the net worth of Elon Musk, and divide it by 2?\n",
      "==================================\u001b[1m Ai Message \u001b[0m==================================\n",
      "Tool Calls:\n",
      "  duckduckgo_search (t8yspdfyw)\n",
      " Call ID: t8yspdfyw\n",
      "  Args:\n",
      "    query: Elon Musk net worth 2023\n",
      "=================================\u001b[1m Tool Message \u001b[0m=================================\n",
      "Name: duckduckgo_search\n",
      "\n",
      "Musk owns an estimated 54% of xAI, which he founded in 2023. Private investors valued the company at a reported $50 billion in November 2024. ... Elon Musk's net worth fell by the equivalent of ... Elon Musk Net worth: $423 billion Source: Tesla, SpaceX, xAI, X Age: 53 Residence: Austin, Texas Citizenship: U.S. ... Musk became the world's richest person again on June 8, 2023 and held onto the number one spot for the remainder of 2023. He fell to No. 2 on January 31, 2024. Tesla shares fell after Elon Musk's public disagreement with the president. Musk's net worth, though still the world's highest, has fluctuated significantly, peaking at $400 billion in December 2024. View net worth over: Max 1 year 1 quarter ... He renamed the company X Corp. in April 2023. Musk was the largest financial backer of Donald Trump's presidential campaign during the 2024 election ... Elon Musk's net worth plunged $34 billion in June 2025 amid tensions with President Donald Trump Emily Blackwood is a writer and editor at PEOPLE. She has been working at PEOPLE since 2023. Her ...\n",
      "==================================\u001b[1m Ai Message \u001b[0m==================================\n",
      "Tool Calls:\n",
      "  divide (hsr5ndb0v)\n",
      " Call ID: hsr5ndb0v\n",
      "  Args:\n",
      "    a: 423000000000\n",
      "    b: 2\n",
      "=================================\u001b[1m Tool Message \u001b[0m=================================\n",
      "Name: divide\n",
      "\n",
      "211500000000.0\n",
      "==================================\u001b[1m Ai Message \u001b[0m==================================\n"
     ]
    }
   ],
   "source": [
    "for msg in response[\"messages\"]:\n",
    "    msg.pretty_print()"
   ]
  },
  {
   "cell_type": "code",
   "execution_count": 223,
   "id": "0a2c85e5",
   "metadata": {},
   "outputs": [
    {
     "data": {
      "text/plain": [
       "[HumanMessage(content='What is the speed of light in m/s and multiply it by 10?', additional_kwargs={}, response_metadata={})]"
      ]
     },
     "execution_count": 223,
     "metadata": {},
     "output_type": "execute_result"
    }
   ],
   "source": [
    "message= [HumanMessage(content=\"What is the speed of light in m/s and multiply it by 10?\")]\n",
    "message"
   ]
  },
  {
   "cell_type": "code",
   "execution_count": 230,
   "id": "04f7e252",
   "metadata": {},
   "outputs": [
    {
     "data": {
      "text/plain": [
       "{'messages': [HumanMessage(content='What is the speed of light in m/s and multiply it by 10?', additional_kwargs={}, response_metadata={}, id='15a9d689-4d37-42a9-9416-6a6a8276d35b'),\n",
       "  AIMessage(content='', additional_kwargs={'tool_calls': [{'id': '5nzdy293r', 'function': {'arguments': '{\"a\":299792000,\"b\":10}', 'name': 'multiply'}, 'type': 'function'}]}, response_metadata={'token_usage': {'completion_tokens': 424, 'prompt_tokens': 426, 'total_tokens': 850, 'completion_time': 1.541818182, 'prompt_time': 0.034013558, 'queue_time': 0.05485148100000001, 'total_time': 1.57583174}, 'model_name': 'deepseek-r1-distill-llama-70b', 'system_fingerprint': 'fp_1bbe7845ec', 'finish_reason': 'tool_calls', 'logprobs': None}, id='run--182cc555-c6c5-44d3-880e-bedac384fc29-0', tool_calls=[{'name': 'multiply', 'args': {'a': 299792000, 'b': 10}, 'id': '5nzdy293r', 'type': 'tool_call'}], usage_metadata={'input_tokens': 426, 'output_tokens': 424, 'total_tokens': 850}),\n",
       "  ToolMessage(content='2997920000', name='multiply', id='6e8faef7-f42a-46c3-b522-90710976034d', tool_call_id='5nzdy293r'),\n",
       "  AIMessage(content='The speed of light is approximately 299,792,000 meters per second. When multiplied by 10, the result is 2,997,920,000 meters per second. \\n\\n**Step-by-Step Explanation:**\\n\\n1. **Identify the Speed of Light:** The speed of light in a vacuum is a well-known constant, approximately 299,792 kilometers per second.\\n\\n2. **Convert Kilometers to Meters:** Since 1 kilometer equals 1,000 meters, multiply the speed by 1,000 to convert it to meters per second.\\n   \\\\[\\n   299,792 \\\\, \\\\text{km/s} \\\\times 1,000 = 299,792,000 \\\\, \\\\text{m/s}\\n   \\\\]\\n\\n3. **Multiply by 10:** To find the speed of light multiplied by 10:\\n   \\\\[\\n   299,792,000 \\\\, \\\\text{m/s} \\\\times 10 = 2,997,920,000 \\\\, \\\\text{m/s}\\n   \\\\]\\n\\n**Final Answer:** The speed of light is 299,792,000 meters per second, and when multiplied by 10, it equals 2,997,920,000 meters per second.', additional_kwargs={}, response_metadata={'token_usage': {'completion_tokens': 610, 'prompt_tokens': 483, 'total_tokens': 1093, 'completion_time': 2.218181818, 'prompt_time': 0.031572683, 'queue_time': 0.055037807, 'total_time': 2.249754501}, 'model_name': 'deepseek-r1-distill-llama-70b', 'system_fingerprint': 'fp_1bbe7845ec', 'finish_reason': 'stop', 'logprobs': None}, id='run--26966252-9bfd-4bcb-a217-513f52870e82-0', usage_metadata={'input_tokens': 483, 'output_tokens': 610, 'total_tokens': 1093})]}"
      ]
     },
     "execution_count": 230,
     "metadata": {},
     "output_type": "execute_result"
    }
   ],
   "source": [
    "react_graph.invoke({\"messages\": message})"
   ]
  },
  {
   "cell_type": "code",
   "execution_count": 232,
   "id": "3142f235",
   "metadata": {},
   "outputs": [
    {
     "data": {
      "text/plain": [
       "{'messages': [HumanMessage(content='What is the speed of light in m/s and multiply it by 10?', additional_kwargs={}, response_metadata={}, id='15a9d689-4d37-42a9-9416-6a6a8276d35b'),\n",
       "  AIMessage(content='', additional_kwargs={'tool_calls': [{'id': 'sbt24ya3x', 'function': {'arguments': '{\"a\":299792000,\"b\":10}', 'name': 'multiply'}, 'type': 'function'}]}, response_metadata={'token_usage': {'completion_tokens': 454, 'prompt_tokens': 426, 'total_tokens': 880, 'completion_time': 1.650909091, 'prompt_time': 0.027319682, 'queue_time': 0.056442478000000004, 'total_time': 1.6782287729999998}, 'model_name': 'deepseek-r1-distill-llama-70b', 'system_fingerprint': 'fp_1bbe7845ec', 'finish_reason': 'tool_calls', 'logprobs': None}, id='run--5a572068-21f9-471c-9567-6dea2e74a1a4-0', tool_calls=[{'name': 'multiply', 'args': {'a': 299792000, 'b': 10}, 'id': 'sbt24ya3x', 'type': 'tool_call'}], usage_metadata={'input_tokens': 426, 'output_tokens': 454, 'total_tokens': 880}),\n",
       "  ToolMessage(content='2997920000', name='multiply', id='5924fdba-0d75-46d9-a811-68905c1ade93', tool_call_id='sbt24ya3x'),\n",
       "  AIMessage(content='', additional_kwargs={'tool_calls': [{'id': 'jda20p8yr', 'function': {'arguments': '{\"a\":299792000,\"b\":10}', 'name': 'multiply'}, 'type': 'function'}]}, response_metadata={'token_usage': {'completion_tokens': 318, 'prompt_tokens': 484, 'total_tokens': 802, 'completion_time': 1.156363636, 'prompt_time': 0.031561604, 'queue_time': 0.054067536000000006, 'total_time': 1.18792524}, 'model_name': 'deepseek-r1-distill-llama-70b', 'system_fingerprint': 'fp_1bbe7845ec', 'finish_reason': 'tool_calls', 'logprobs': None}, id='run--6ccbb108-e1c0-4cf3-b979-3607cd940ed1-0', tool_calls=[{'name': 'multiply', 'args': {'a': 299792000, 'b': 10}, 'id': 'jda20p8yr', 'type': 'tool_call'}], usage_metadata={'input_tokens': 484, 'output_tokens': 318, 'total_tokens': 802}),\n",
       "  ToolMessage(content='2997920000', name='multiply', id='46ae17bf-9db9-4feb-aebd-3089a19256f3', tool_call_id='jda20p8yr'),\n",
       "  AIMessage(content='The speed of light is approximately 299,792,000 meters per second. When multiplied by 10, the result is:\\n\\n299,792,000 m/s * 10 = 2,997,920,000 m/s.\\n\\n**Answer:** 2,997,920,000 m/s.', additional_kwargs={}, response_metadata={'token_usage': {'completion_tokens': 342, 'prompt_tokens': 542, 'total_tokens': 884, 'completion_time': 1.293653208, 'prompt_time': 0.035402933, 'queue_time': 0.056980117999999996, 'total_time': 1.3290561410000001}, 'model_name': 'deepseek-r1-distill-llama-70b', 'system_fingerprint': 'fp_1bbe7845ec', 'finish_reason': 'stop', 'logprobs': None}, id='run--5ef7d530-a006-4c33-b49c-4a3e0badcea3-0', usage_metadata={'input_tokens': 542, 'output_tokens': 342, 'total_tokens': 884})]}"
      ]
     },
     "execution_count": 232,
     "metadata": {},
     "output_type": "execute_result"
    }
   ],
   "source": [
    "response= react_graph.invoke({\"messages\": message})\n",
    "response"
   ]
  },
  {
   "cell_type": "code",
   "execution_count": 233,
   "id": "9a07c680",
   "metadata": {},
   "outputs": [
    {
     "data": {
      "text/plain": [
       "AIMessage(content='The speed of light is approximately 299,792,000 meters per second. When multiplied by 10, the result is:\\n\\n299,792,000 m/s * 10 = 2,997,920,000 m/s.\\n\\n**Answer:** 2,997,920,000 m/s.', additional_kwargs={}, response_metadata={'token_usage': {'completion_tokens': 342, 'prompt_tokens': 542, 'total_tokens': 884, 'completion_time': 1.293653208, 'prompt_time': 0.035402933, 'queue_time': 0.056980117999999996, 'total_time': 1.3290561410000001}, 'model_name': 'deepseek-r1-distill-llama-70b', 'system_fingerprint': 'fp_1bbe7845ec', 'finish_reason': 'stop', 'logprobs': None}, id='run--5ef7d530-a006-4c33-b49c-4a3e0badcea3-0', usage_metadata={'input_tokens': 542, 'output_tokens': 342, 'total_tokens': 884})"
      ]
     },
     "execution_count": 233,
     "metadata": {},
     "output_type": "execute_result"
    }
   ],
   "source": [
    "response[\"messages\"][-1]"
   ]
  },
  {
   "cell_type": "code",
   "execution_count": 234,
   "id": "2de013f2",
   "metadata": {},
   "outputs": [
    {
     "name": "stdout",
     "output_type": "stream",
     "text": [
      "================================\u001b[1m Human Message \u001b[0m=================================\n",
      "\n",
      "What is the speed of light in m/s and multiply it by 10?\n",
      "==================================\u001b[1m Ai Message \u001b[0m==================================\n",
      "Tool Calls:\n",
      "  multiply (sbt24ya3x)\n",
      " Call ID: sbt24ya3x\n",
      "  Args:\n",
      "    a: 299792000\n",
      "    b: 10\n",
      "=================================\u001b[1m Tool Message \u001b[0m=================================\n",
      "Name: multiply\n",
      "\n",
      "2997920000\n",
      "==================================\u001b[1m Ai Message \u001b[0m==================================\n",
      "Tool Calls:\n",
      "  multiply (jda20p8yr)\n",
      " Call ID: jda20p8yr\n",
      "  Args:\n",
      "    a: 299792000\n",
      "    b: 10\n",
      "=================================\u001b[1m Tool Message \u001b[0m=================================\n",
      "Name: multiply\n",
      "\n",
      "2997920000\n",
      "==================================\u001b[1m Ai Message \u001b[0m==================================\n",
      "\n",
      "The speed of light is approximately 299,792,000 meters per second. When multiplied by 10, the result is:\n",
      "\n",
      "299,792,000 m/s * 10 = 2,997,920,000 m/s.\n",
      "\n",
      "**Answer:** 2,997,920,000 m/s.\n"
     ]
    }
   ],
   "source": [
    "for msg in response[\"messages\"]:\n",
    "    msg.pretty_print()"
   ]
  }
 ],
 "metadata": {
  "kernelspec": {
   "display_name": "Python 3",
   "language": "python",
   "name": "python3"
  },
  "language_info": {
   "codemirror_mode": {
    "name": "ipython",
    "version": 3
   },
   "file_extension": ".py",
   "mimetype": "text/x-python",
   "name": "python",
   "nbconvert_exporter": "python",
   "pygments_lexer": "ipython3",
   "version": "3.13.2"
  }
 },
 "nbformat": 4,
 "nbformat_minor": 5
}
