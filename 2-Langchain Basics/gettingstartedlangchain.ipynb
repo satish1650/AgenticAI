{
 "cells": [
  {
   "cell_type": "code",
   "execution_count": 2,
   "id": "bd5732b6",
   "metadata": {},
   "outputs": [
    {
     "data": {
      "text/plain": [
       "True"
      ]
     },
     "execution_count": 2,
     "metadata": {},
     "output_type": "execute_result"
    }
   ],
   "source": [
    "import os\n",
    "from dotenv import load_dotenv\n",
    "\n",
    "load_dotenv()"
   ]
  },
  {
   "cell_type": "code",
   "execution_count": 3,
   "id": "44dfcc0b",
   "metadata": {},
   "outputs": [
    {
     "data": {
      "text/plain": [
       "'Agentic2.0_1'"
      ]
     },
     "execution_count": 3,
     "metadata": {},
     "output_type": "execute_result"
    }
   ],
   "source": [
    "os.getenv(\"LANGCHAIN_PROJECT\")"
   ]
  },
  {
   "cell_type": "code",
   "execution_count": 1,
   "id": "c9331606",
   "metadata": {},
   "outputs": [],
   "source": [
    "# os.getenv(\"LANGCHAIN_API_KEY\")"
   ]
  },
  {
   "cell_type": "code",
   "execution_count": 5,
   "id": "2f996e81",
   "metadata": {},
   "outputs": [],
   "source": [
    "os.environ[\"OPENAI_API_KEY\"] = os.getenv(\"OPENAI_API_KEY\")\n",
    "os.environ[\"GROQ_API_KEY\"] = os.getenv(\"GROQ_API_KEY\")\n",
    "\n",
    "## Langsmith Tracking And Tracing\n",
    "os.environ[\"LANGCHAIN_API_KEY\"]=os.getenv(\"LANGCHAIN_API_KEY\")\n",
    "os.environ[\"LANGCHAIN_PROJECT\"]=os.getenv(\"LANGCHAIN_PROJECT\")\n",
    "os.environ[\"LANGCHAIN_TRACING_V2\"]=\"true\""
   ]
  },
  {
   "cell_type": "code",
   "execution_count": 8,
   "id": "73c45c9d",
   "metadata": {},
   "outputs": [
    {
     "data": {
      "text/plain": [
       "AIMessage(content=\"Agentic AI refers to artificial intelligence systems designed with a degree of agency, allowing them to act autonomously, make decisions, and pursue goals without constant human oversight. The concept emphasizes the AI's ability to perceive its environment, evaluate options, and take actions based on its programming, learning, or predefined objectives. Here's a breakdown of what constitutes agentic AI:\\n\\n### **Key Characteristics**\\n\\n1. **Autonomy**: Agentic AI can operate independently, making decisions and taking actions without the need for continuous human intervention.\\n   \\n2. **Adaptability**: These systems can learn from interactions and experiences, allowing them to adjust their behavior in response to changing environments or objectives.\\n   \\n3. **Goal-Oriented Behavior**: Agentic AI is designed to pursue specific objectives, which can be predefined by developers or learned through machine learning techniques.\\n   \\n4. **Proactiveness**: Unlike reactive systems that simply respond to inputs, agentic AI can anticipate needs or challenges and take initiative to address them.\\n\\n### **Examples**\\n\\n- **Autonomous Vehicles**: Self-driving cars navigate roads, make real-time decisions about speed, direction, and reactions to obstacles without human drivers.\\n\\n- **Virtual Assistants**: Advanced AI like Siri or Alexa not only respond to commands but can also anticipate user needs, schedule appointments, and manage other tasks proactively.\\n\\n- **Robotics in Manufacturing**: Robots that adjust their operations based on real-time data to optimize production processes without direct human control.\\n\\n### **Implications and Considerations**\\n\\nWhile agentic AI offers significant advantages in efficiency, scalability, and the ability to handle complex tasks, it also raises important ethical and practical considerations:\\n\\n- **Responsibility and Accountability**: Determining who is responsible for the actions of an autonomous AI can be challenging.\\n  \\n- **Ethical Decision-Making**: Ensuring that AI systems make decisions that align with human values and ethical standards.\\n  \\n- **Control and Oversight**: Balancing autonomy with the need for human oversight to prevent unintended consequences.\\n\\n### **Conclusion**\\n\\nAgentic AI represents a significant advancement in the field of artificial intelligence, enabling machines to perform tasks with a level of independence that was previously unattainable. As these systems become more integrated into various aspects of society, it's crucial to address the accompanying ethical, legal, and societal challenges to ensure their responsible and beneficial deployment.\", additional_kwargs={'refusal': None}, response_metadata={'token_usage': {'completion_tokens': 933, 'prompt_tokens': 13, 'total_tokens': 946, 'completion_tokens_details': {'accepted_prediction_tokens': 0, 'audio_tokens': 0, 'reasoning_tokens': 448, 'rejected_prediction_tokens': 0}, 'prompt_tokens_details': {'audio_tokens': 0, 'cached_tokens': 0}}, 'model_name': 'o1-mini-2024-09-12', 'system_fingerprint': 'fp_3da8b0b088', 'id': 'chatcmpl-BdvuQq1XzNuXiSnQVlHP0EqhZ5NcR', 'service_tier': 'default', 'finish_reason': 'stop', 'logprobs': None}, id='run--5d78e6e8-1f2b-4909-8b48-4fcc69b9fbcd-0', usage_metadata={'input_tokens': 13, 'output_tokens': 933, 'total_tokens': 946, 'input_token_details': {'audio': 0, 'cache_read': 0}, 'output_token_details': {'audio': 0, 'reasoning': 448}})"
      ]
     },
     "execution_count": 8,
     "metadata": {},
     "output_type": "execute_result"
    }
   ],
   "source": [
    "from langchain_openai import ChatOpenAI\n",
    "\n",
    "llm= ChatOpenAI(model=\"o1-mini\")\n",
    "\n",
    "response= llm.invoke(\"What is Agentic AI?\")\n",
    "response"
   ]
  },
  {
   "cell_type": "code",
   "execution_count": 9,
   "id": "2a3e9277",
   "metadata": {},
   "outputs": [
    {
     "name": "stdout",
     "output_type": "stream",
     "text": [
      "Agentic AI refers to artificial intelligence systems designed with a degree of agency, allowing them to act autonomously, make decisions, and pursue goals without constant human oversight. The concept emphasizes the AI's ability to perceive its environment, evaluate options, and take actions based on its programming, learning, or predefined objectives. Here's a breakdown of what constitutes agentic AI:\n",
      "\n",
      "### **Key Characteristics**\n",
      "\n",
      "1. **Autonomy**: Agentic AI can operate independently, making decisions and taking actions without the need for continuous human intervention.\n",
      "   \n",
      "2. **Adaptability**: These systems can learn from interactions and experiences, allowing them to adjust their behavior in response to changing environments or objectives.\n",
      "   \n",
      "3. **Goal-Oriented Behavior**: Agentic AI is designed to pursue specific objectives, which can be predefined by developers or learned through machine learning techniques.\n",
      "   \n",
      "4. **Proactiveness**: Unlike reactive systems that simply respond to inputs, agentic AI can anticipate needs or challenges and take initiative to address them.\n",
      "\n",
      "### **Examples**\n",
      "\n",
      "- **Autonomous Vehicles**: Self-driving cars navigate roads, make real-time decisions about speed, direction, and reactions to obstacles without human drivers.\n",
      "\n",
      "- **Virtual Assistants**: Advanced AI like Siri or Alexa not only respond to commands but can also anticipate user needs, schedule appointments, and manage other tasks proactively.\n",
      "\n",
      "- **Robotics in Manufacturing**: Robots that adjust their operations based on real-time data to optimize production processes without direct human control.\n",
      "\n",
      "### **Implications and Considerations**\n",
      "\n",
      "While agentic AI offers significant advantages in efficiency, scalability, and the ability to handle complex tasks, it also raises important ethical and practical considerations:\n",
      "\n",
      "- **Responsibility and Accountability**: Determining who is responsible for the actions of an autonomous AI can be challenging.\n",
      "  \n",
      "- **Ethical Decision-Making**: Ensuring that AI systems make decisions that align with human values and ethical standards.\n",
      "  \n",
      "- **Control and Oversight**: Balancing autonomy with the need for human oversight to prevent unintended consequences.\n",
      "\n",
      "### **Conclusion**\n",
      "\n",
      "Agentic AI represents a significant advancement in the field of artificial intelligence, enabling machines to perform tasks with a level of independence that was previously unattainable. As these systems become more integrated into various aspects of society, it's crucial to address the accompanying ethical, legal, and societal challenges to ensure their responsible and beneficial deployment.\n"
     ]
    }
   ],
   "source": [
    "print(response.content)"
   ]
  },
  {
   "cell_type": "code",
   "execution_count": 12,
   "id": "7521e654",
   "metadata": {},
   "outputs": [
    {
     "data": {
      "text/plain": [
       "AIMessage(content='\\n<think>\\nOkay, so I need to figure out the difference between AI agents and Agentic AI. Let me start by recalling what I know about AI agents first. From what I remember, AI agents are basically programs designed to perform tasks autonomously. They can sense their environment and take actions to achieve some goal. They might use machine learning, but not necessarily. Like, a chatbot that helps with customer service is an AI agent because it interacts with users and tries to help based on its programming.\\n\\nNow, Agentic AI... Hmm, that term sounds less familiar. Maybe it\\'s a specific type or a new concept? Wait, I think I\\'ve heard it in the context of more advanced or self-aware systems. Maybe Agentic AI refers to AI that can act more independently or has some level of self-awareness? Or perhaps it\\'s part of a framework or a specific company\\'s terminology? I should check if there\\'s a standard definition for Agentic AI.\\n\\nLet me think of examples. If an AI agent is something like Siri or Alexa, then Agentic AI might be something more complex. Maybe it\\'s about AI that can work in teams or has social capabilities? Or perhaps it\\'s about AI that can modify its own code or learning processes, making it more autonomous. I\\'ve heard terms like \"autonomous AI\" or \"self-improving AI,\" which might be related.\\n\\nWait, there\\'s also the concept of \"agent-based systems\" where multiple agents interact. Could Agentic AI be referring to systems where multiple agents collaborate, making the whole more than the sum of parts? Or maybe it\\'s a specific project or product name. Maybe I should consider if Agentic AI is a proprietary term used by a particular company or research group. For instance, sometimes companies like OpenAI or Google have their own terms for their technologies. \\n\\nAnother angle: \"agentic\" as an adjective might mean having the capacity to act on one\\'s own. So Agentic AI would emphasize the capability of the AI to act independently, make decisions, and perhaps even plan over time. So maybe the difference is that Agentic AI is a subset of AI agents that have higher levels of autonomy, decision-making, and maybe even self-awareness or self-modification.\\n\\nWait, but I should be careful not to confuse with terms like \"autonomous systems\" or \"general AI.\" Maybe Agentic AI is more about the design pattern where the AI operates as an agent with specific agency. Let me see if I can find any references or definitions.\\n\\nAlternatively, perhaps the user is referring to a specific framework or concept. Let me try to break down the terms. \"AI agents\" is a broad category, while \"Agentic AI\" might be a more specific concept. Maybe Agentic AI refers to a particular approach where the AI has a certain level of self-direction, awareness of its goals, and the ability to adapt its strategies without human intervention. That could make it different from traditional AI agents which might be more task-specific and have fixed behaviors unless reprogrammed.\\n\\nAnother thought: in some contexts, Agentic AI might be part of a multi-agent system where each agent has its own goals and can interact with others, leading to emergent behaviors. In that case, Agentic AI would be part of a larger system where individual agents work together, each with their own agency. But that\\'s similar to agent-based models in computer science, which are used in simulations.\\n\\nAlternatively, maybe Agentic AI is a newer term coined in recent discussions about advanced AI capabilities, such as those that can form intentions or have a sense of agency. For example, systems that can learn and adapt their objectives over time, or have some form of internal motivation beyond their initial programming.\\n\\nWait, also, there\\'s something called \"autonomous AI agents\" which are designed to operate without human intervention. So maybe Agentic AI is another term for that. Or perhaps it\\'s a marketing term used by a company to describe their AI\\'s capabilities.\\n\\nAlternatively, I might be overcomplicating this. Maybe the user is referring to \"Agentic AI\" as a specific project or technology. A quick search in my mind—since I can\\'t actually browse the internet—reminds me that sometimes \"Agentic AI\" isn\\'t a standard term, so the user might be conflating it with other concepts. Alternatively, maybe it\\'s a term from a specific paper or a recent development.\\n\\nHmm, perhaps the key difference is that AI agents are the broader category, while Agentic AI is a more advanced subset that emphasizes self-directedness, adaptability, and possibly even social interaction or collaboration with other agents. So, while all Agentic AI would be AI agents, not all AI agents are Agentic. It\\'s about the level of autonomy and the nature of their agency.\\n\\nWait, but I should also consider if there\\'s a distinction in technical terms. For instance, in reinforcement learning, agents learn through interaction, but that\\'s still within the AI agent framework. Maybe Agentic AI refers to agents that can set their own goals or have a more complex decision-making process. Or perhaps it\\'s about the AI\\'s ability to act as an independent entity in a system, like in decentralized systems.\\n\\nAlternatively, maybe \"Agentic AI\" is a term used in certain academic circles to describe AI systems that exhibit goal-directed behavior and can plan and act to achieve those goals, which would actually be similar to standard AI agents. Hmm, maybe there\\'s confusion here. \\n\\nAlternatively, perhaps the user is referring to a specific framework like Agentic AI being a particular implementation or architecture, such as using neural networks in a certain way. \\n\\nAlternatively, perhaps the term \"Agentic AI\" is being used in the context of the recent \"AGI\" (Artificial General Intelligence) discussions, where AGI refers to systems with general intelligence. But then the spelling is different—Agentic vs. AGI. Maybe it\\'s a typo, but the user specified \"AgenticAI\" so probably not.\\n\\nWait, maybe \"Agentic AI\" refers to AI that operates with agency, meaning it has the capacity to act independently to achieve goals, which is similar to AI agents. But then why the different term? Maybe it\\'s emphasizing the concept of agency more strongly, perhaps in a way that differentiates from traditional rule-based agents. For example, if an AI can not only follow rules but also adapt and make decisions in unforeseen situations, that\\'s Agentic AI. \\n\\nAlternatively, maybe Agentic AI is a term used in a specific paper or a book. For example, if I recall, in philosophy of AI, agency refers to the capacity to act intentionally. So Agentic AI would be AI systems with a stronger sense of agency, perhaps with the ability to set subgoals, plan over time, and adapt their strategies in complex environments. In that case, the difference is that AI agents are general, while Agentic AI is a more advanced form with higher agency.\\n\\nAlternatively, maybe Agentic AI is a specific company\\'s product. Let me think—maybe there\\'s a company named Agentic AI? I\\'m not sure, but assuming that the user is asking about the general concept, perhaps the key distinction is the level of autonomy and the scope of their operation.\\n\\nAlternatively, maybe \"Agentic AI\" is a mishearing or misspelling of \"agent-based AI,\" which would refer to AI systems composed of multiple agents. But even then, agent-based systems are a type of AI framework.\\n\\nAlternatively, maybe the term comes from the field of AI ethics, where \"agentic\" implies that the AI has moral agency or accountability, but that\\'s more of an ethical distinction.\\n\\nAlternatively, I might need to structure the answer by explaining that AI agents are a broad category, and Agentic AI is a more specific type, perhaps emphasizing certain features like autonomy, adaptability, or collaborative decision-making. Alternatively, maybe Agentic AI is a term used to describe AI that can act as independent entities in a system, coordinating with others, which would fall under multi-agent systems.\\n\\nAlternatively, perhaps the user is thinking of \"Agentic\" as a noun form, like Agentic AI being AI that possesses agency, so it\\'s a subset of AI agents. So the difference would be that all Agentic AI are AI agents, but not all AI agents are Agentic unless they meet certain criteria for agency.\\n\\nWait, but I need to be precise. Since I can\\'t look it up, I have to go with what I know. Let me try to structure the answer step by step:\\n\\n1. Define AI agents: Any artificial intelligence that can perceive its environment and act to achieve goals. They can be rule-based, learning-based, etc.\\n\\n2. Define Agentic AI: If it\\'s a subset, perhaps emphasizing higher-level agency, like self-directedness, adaptability, maybe even social or collaborative behaviors.\\n\\nAlternatively, maybe Agentic AI is a specific architecture where agents are designed to function in a decentralized, autonomous way, perhaps in a network or swarm intelligence setup.\\n\\nAlternatively, maybe the term is used in a particular context where \"Agentic\" refers to the ability to act as an independent agent with some form of consciousness or self-awareness, which would be more advanced.\\n\\nAlternatively, perhaps the user is referring to Agentic AI as a term used to describe AI systems that can operate in an agentic way, meaning they can make decisions and take actions as an agent would, perhaps more akin to human agency.\\n\\nSo, to sum up, the main difference might be that Agentic AI is a more advanced form of AI agent with enhanced autonomy, adaptability, and decision-making capabilities, possibly in complex, dynamic environments where traditional AI agents might follow predefined rules or models.\\n\\nAlternatively, Agentic AI might be a term used to describe AI systems that can act in an agentic manner, meaning they can set their own objectives, adapt their strategies, and perhaps even learn from interactions in a more self-driven way.\\n\\nAnother angle: In some contexts, \"agency\" in AI refers to the ability to act, so Agentic AI just emphasizes that aspect. But since the user is asking for the difference, I need to highlight that Agentic AI could be a more advanced or specific type of AI agent with enhanced agency features.\\n\\nAlternatively, maybe Agentic AI refers to systems where the AI is designed to have more human-like agency, such as forming intentions, planning, and executing complex tasks in unstructured environments. \\n\\nIn summary, without a specific established definition for \"Agentic AI,\" the safest approach is to present AI agents as the general category and describe Agentic AI as a more advanced or specialized type within that category, possibly emphasizing autonomy, adaptability, or self-directedness. Alternatively, note that Agentic AI might not be a standard term and could be a specific term used in a particular context, requiring clarification. But since the user is asking for the difference, I\\'ll have to make an educated guess based on common terminology.\\n\\nAlternatively, maybe \"AgenticAI\" is a company or a specific project. For instance, if I recall correctly, there is a company called Agentic AI, but I\\'m not sure. If that\\'s the case, then AgenticAI would be a specific implementation or platform for AI agents, but the user might be asking for the conceptual difference rather than a company comparison.\\n\\nAlternatively, perhaps the user is referring to \"Agentic\" as in \"agent-centric\" AI, focusing on the agent\\'s perspective, but that\\'s speculative.\\n\\nAlternatively, maybe Agentic AI is a term used in some recent literature to describe AI systems that have a form of agency, like the ability to act purposefully, making decisions based on their goals, which is actually a basic feature of AI agents. So maybe the term is redundant, or emphasizes a particular aspect.\\n\\nHmm, this is a bit tricky since the exact definition might not be standard. To proceed, I\\'ll structure the answer by first explaining AI agents, then discussing possible interpretations of Agentic AI as a more advanced or specific form of AI agents, possibly with examples like autonomous decision-making, self-improvement, or multi-agent collaboration. Alternatively, if Agentic AI is a specific term from a paper or company, I can mention that the term might be context-dependent.\\n</think>\\n\\nThe distinction between **AI Agents** and **Agentic AI** can vary depending on context, but here\\'s a structured breakdown based on common usage and conceptual understanding:\\n\\n---\\n\\n### **1. AI Agents**\\n- **Definition**: AI agents are systems designed to perceive their environment, process information, and take actions to achieve specific goals. They operate based on predefined rules, algorithms, or learning models (e.g., machine learning, reinforcement learning).\\n- **Key Characteristics**:\\n  - **Autonomy**: Can act independently within defined parameters.\\n  - **Goal-oriented**: Directed by objectives set by developers (e.g., maximizing user engagement, solving a problem).\\n  - **Variety**: Includes chatbots, recommendation systems, and self-driving cars.\\n  - **Scope**: Typically task-specific or domain-specific, though some can adapt through learning.\\n\\n---\\n\\n### **2. Agentic AI**\\nThis term is less commonly used in standard literature and may refer to either:\\n#### **a. A Subset of Advanced AI Agents**\\n- **Definition**: Refers to AI systems that exhibit heightened **agency**, emphasizing **self-direction, adaptability, and decision-making autonomy** beyond traditional AI agents.\\n- **Key Characteristics**:\\n  - **Self-Driven Goals**: Might set or modify their own objectives (e.g., an AI that evolves its goals based on environmental feedback).\\n  - **Dynamic Adaptation**: Can adjust strategies in novel situations without explicit reprogramming (e.g., an AI that \"learns on the job\").\\n  - **Social/Environmental Interaction**: Operates in collaborative or competitive environments with other agents (e.g., multi-agent systems in decentralized networks).\\n  - **Complex Decision-Making**: Uses advanced techniques like reinforcement learning, generative models, or meta-learning to handle uncertainty.\\n\\n#### **b. A Specific Framework/Technology**\\n  - **Multi-Agent Systems**: Sometimes called \"agentic\" when agents act collectively (e.g., swarm intelligence or decentralized networks like blockchain-based AI).\\n  - **Ethical/Moral Agency**: In academic discussions, \"agency\" might imply systems capable of ethical reasoning or accountability, though this is still theoretical.\\n\\n#### **c. Proprietary/Company-Specific Terminology**\\n  - Could refer to a brand name (e.g., a company named \"Agentic AI\") or a proprietary technology emphasizing autonomous, adaptive AI. For example, an AI platform designed for real-time decision-making in dynamic environments.\\n\\n---\\n\\n### **Key Differences**\\n| **Aspect**                | **AI Agents**                                  | **Agentic AI**                                |\\n|---------------------------|-----------------------------------------------|-----------------------------------------------|\\n| **Scope**                  | Broad category (e.g., chatbots, recommendation systems). | Subset emphasizing **enhanced agency**: self-direction, adaptability, or emergent behavior. |\\n| **Autonomy**               | Operates within predefined rules or models.   | May autonomously redefine goals, adapt strategies, or collaborate with other agents. |\\n| **Learning/Adaptation**    | Can learn (e.g., through ML), but usually within fixed parameters. | Might learn and evolve dynamically, possibly through self-improvement or social interaction. |\\n| **Complexity**             | Ranges from simple (rule-based) to complex (deep learning-driven). | Typically involves advanced techniques like self-supervised learning, multi-agent coordination, or open-ended learning. |\\n| **Use Cases**              | Customer service, data analysis, gaming.       | Complex environments (e.g., robotics, decentralized systems, or real-time problem-solving). |\\n\\n---\\n\\n### **When the Terms Overlap**\\n- Agentic AI could be seen as a **subset of AI agents** that exemplify heightened agency, such as:\\n  - **Autonomous systems** (e.g., self-driving cars adjusting to unexpected scenarios).\\n  - **Swarm robotics** where robots collaborate as independent agents.\\n  - **Ethical AI frameworks** requiring accountability for decisions.\\n\\n---\\n\\n### **Possible Confusions**\\n- **Agentic AI ≠ AGI (Artificial General Intelligence)**: AGI refers to human-like general intelligence, while Agentic AI focuses on agency rather than general capability.\\n- **Terminology Nuance**: \"Agentic\" might emphasize **agency** (the capacity to act purposefully) as a defining feature, making it a way to contrast highly autonomous agents with basic ones.\\n\\n---\\n\\n### **Conclusion**\\n- **AI Agents** are the broader category of systems that act to achieve goals.\\n- **Agentic AI** is a more specific term, likely emphasizing **autonomy, adaptability, and decision-making sophistication**—often in dynamic or multi-agent environments. If used as a proprietary term, it might denote a cutting-edge implementation of these principles.\\n\\nIf you encountered this term in a specific context (e.g., a paper, company, or framework), clarifying that context might be necessary for a precise definition.', additional_kwargs={}, response_metadata={'token_usage': {'completion_tokens': 3493, 'prompt_tokens': 20, 'total_tokens': 3513, 'completion_time': 8.576005421, 'prompt_time': 0.003183108, 'queue_time': 0.241723775, 'total_time': 8.579188529}, 'model_name': 'qwen-qwq-32b', 'system_fingerprint': 'fp_512a3da6bb', 'finish_reason': 'stop', 'logprobs': None}, id='run--83210a41-25c1-46da-8150-433246368878-0', usage_metadata={'input_tokens': 20, 'output_tokens': 3493, 'total_tokens': 3513})"
      ]
     },
     "execution_count": 12,
     "metadata": {},
     "output_type": "execute_result"
    }
   ],
   "source": [
    "from langchain_groq import ChatGroq\n",
    "\n",
    "model= ChatGroq(model=\"qwen-qwq-32b\")\n",
    "response= model.invoke(\"What is difference between AI agents and AgenticAI\")\n",
    "response"
   ]
  },
  {
   "cell_type": "code",
   "execution_count": 13,
   "id": "453edd77",
   "metadata": {},
   "outputs": [
    {
     "name": "stdout",
     "output_type": "stream",
     "text": [
      "\n",
      "<think>\n",
      "Okay, so I need to figure out the difference between AI agents and Agentic AI. Let me start by recalling what I know about AI agents first. From what I remember, AI agents are basically programs designed to perform tasks autonomously. They can sense their environment and take actions to achieve some goal. They might use machine learning, but not necessarily. Like, a chatbot that helps with customer service is an AI agent because it interacts with users and tries to help based on its programming.\n",
      "\n",
      "Now, Agentic AI... Hmm, that term sounds less familiar. Maybe it's a specific type or a new concept? Wait, I think I've heard it in the context of more advanced or self-aware systems. Maybe Agentic AI refers to AI that can act more independently or has some level of self-awareness? Or perhaps it's part of a framework or a specific company's terminology? I should check if there's a standard definition for Agentic AI.\n",
      "\n",
      "Let me think of examples. If an AI agent is something like Siri or Alexa, then Agentic AI might be something more complex. Maybe it's about AI that can work in teams or has social capabilities? Or perhaps it's about AI that can modify its own code or learning processes, making it more autonomous. I've heard terms like \"autonomous AI\" or \"self-improving AI,\" which might be related.\n",
      "\n",
      "Wait, there's also the concept of \"agent-based systems\" where multiple agents interact. Could Agentic AI be referring to systems where multiple agents collaborate, making the whole more than the sum of parts? Or maybe it's a specific project or product name. Maybe I should consider if Agentic AI is a proprietary term used by a particular company or research group. For instance, sometimes companies like OpenAI or Google have their own terms for their technologies. \n",
      "\n",
      "Another angle: \"agentic\" as an adjective might mean having the capacity to act on one's own. So Agentic AI would emphasize the capability of the AI to act independently, make decisions, and perhaps even plan over time. So maybe the difference is that Agentic AI is a subset of AI agents that have higher levels of autonomy, decision-making, and maybe even self-awareness or self-modification.\n",
      "\n",
      "Wait, but I should be careful not to confuse with terms like \"autonomous systems\" or \"general AI.\" Maybe Agentic AI is more about the design pattern where the AI operates as an agent with specific agency. Let me see if I can find any references or definitions.\n",
      "\n",
      "Alternatively, perhaps the user is referring to a specific framework or concept. Let me try to break down the terms. \"AI agents\" is a broad category, while \"Agentic AI\" might be a more specific concept. Maybe Agentic AI refers to a particular approach where the AI has a certain level of self-direction, awareness of its goals, and the ability to adapt its strategies without human intervention. That could make it different from traditional AI agents which might be more task-specific and have fixed behaviors unless reprogrammed.\n",
      "\n",
      "Another thought: in some contexts, Agentic AI might be part of a multi-agent system where each agent has its own goals and can interact with others, leading to emergent behaviors. In that case, Agentic AI would be part of a larger system where individual agents work together, each with their own agency. But that's similar to agent-based models in computer science, which are used in simulations.\n",
      "\n",
      "Alternatively, maybe Agentic AI is a newer term coined in recent discussions about advanced AI capabilities, such as those that can form intentions or have a sense of agency. For example, systems that can learn and adapt their objectives over time, or have some form of internal motivation beyond their initial programming.\n",
      "\n",
      "Wait, also, there's something called \"autonomous AI agents\" which are designed to operate without human intervention. So maybe Agentic AI is another term for that. Or perhaps it's a marketing term used by a company to describe their AI's capabilities.\n",
      "\n",
      "Alternatively, I might be overcomplicating this. Maybe the user is referring to \"Agentic AI\" as a specific project or technology. A quick search in my mind—since I can't actually browse the internet—reminds me that sometimes \"Agentic AI\" isn't a standard term, so the user might be conflating it with other concepts. Alternatively, maybe it's a term from a specific paper or a recent development.\n",
      "\n",
      "Hmm, perhaps the key difference is that AI agents are the broader category, while Agentic AI is a more advanced subset that emphasizes self-directedness, adaptability, and possibly even social interaction or collaboration with other agents. So, while all Agentic AI would be AI agents, not all AI agents are Agentic. It's about the level of autonomy and the nature of their agency.\n",
      "\n",
      "Wait, but I should also consider if there's a distinction in technical terms. For instance, in reinforcement learning, agents learn through interaction, but that's still within the AI agent framework. Maybe Agentic AI refers to agents that can set their own goals or have a more complex decision-making process. Or perhaps it's about the AI's ability to act as an independent entity in a system, like in decentralized systems.\n",
      "\n",
      "Alternatively, maybe \"Agentic AI\" is a term used in certain academic circles to describe AI systems that exhibit goal-directed behavior and can plan and act to achieve those goals, which would actually be similar to standard AI agents. Hmm, maybe there's confusion here. \n",
      "\n",
      "Alternatively, perhaps the user is referring to a specific framework like Agentic AI being a particular implementation or architecture, such as using neural networks in a certain way. \n",
      "\n",
      "Alternatively, perhaps the term \"Agentic AI\" is being used in the context of the recent \"AGI\" (Artificial General Intelligence) discussions, where AGI refers to systems with general intelligence. But then the spelling is different—Agentic vs. AGI. Maybe it's a typo, but the user specified \"AgenticAI\" so probably not.\n",
      "\n",
      "Wait, maybe \"Agentic AI\" refers to AI that operates with agency, meaning it has the capacity to act independently to achieve goals, which is similar to AI agents. But then why the different term? Maybe it's emphasizing the concept of agency more strongly, perhaps in a way that differentiates from traditional rule-based agents. For example, if an AI can not only follow rules but also adapt and make decisions in unforeseen situations, that's Agentic AI. \n",
      "\n",
      "Alternatively, maybe Agentic AI is a term used in a specific paper or a book. For example, if I recall, in philosophy of AI, agency refers to the capacity to act intentionally. So Agentic AI would be AI systems with a stronger sense of agency, perhaps with the ability to set subgoals, plan over time, and adapt their strategies in complex environments. In that case, the difference is that AI agents are general, while Agentic AI is a more advanced form with higher agency.\n",
      "\n",
      "Alternatively, maybe Agentic AI is a specific company's product. Let me think—maybe there's a company named Agentic AI? I'm not sure, but assuming that the user is asking about the general concept, perhaps the key distinction is the level of autonomy and the scope of their operation.\n",
      "\n",
      "Alternatively, maybe \"Agentic AI\" is a mishearing or misspelling of \"agent-based AI,\" which would refer to AI systems composed of multiple agents. But even then, agent-based systems are a type of AI framework.\n",
      "\n",
      "Alternatively, maybe the term comes from the field of AI ethics, where \"agentic\" implies that the AI has moral agency or accountability, but that's more of an ethical distinction.\n",
      "\n",
      "Alternatively, I might need to structure the answer by explaining that AI agents are a broad category, and Agentic AI is a more specific type, perhaps emphasizing certain features like autonomy, adaptability, or collaborative decision-making. Alternatively, maybe Agentic AI is a term used to describe AI that can act as independent entities in a system, coordinating with others, which would fall under multi-agent systems.\n",
      "\n",
      "Alternatively, perhaps the user is thinking of \"Agentic\" as a noun form, like Agentic AI being AI that possesses agency, so it's a subset of AI agents. So the difference would be that all Agentic AI are AI agents, but not all AI agents are Agentic unless they meet certain criteria for agency.\n",
      "\n",
      "Wait, but I need to be precise. Since I can't look it up, I have to go with what I know. Let me try to structure the answer step by step:\n",
      "\n",
      "1. Define AI agents: Any artificial intelligence that can perceive its environment and act to achieve goals. They can be rule-based, learning-based, etc.\n",
      "\n",
      "2. Define Agentic AI: If it's a subset, perhaps emphasizing higher-level agency, like self-directedness, adaptability, maybe even social or collaborative behaviors.\n",
      "\n",
      "Alternatively, maybe Agentic AI is a specific architecture where agents are designed to function in a decentralized, autonomous way, perhaps in a network or swarm intelligence setup.\n",
      "\n",
      "Alternatively, maybe the term is used in a particular context where \"Agentic\" refers to the ability to act as an independent agent with some form of consciousness or self-awareness, which would be more advanced.\n",
      "\n",
      "Alternatively, perhaps the user is referring to Agentic AI as a term used to describe AI systems that can operate in an agentic way, meaning they can make decisions and take actions as an agent would, perhaps more akin to human agency.\n",
      "\n",
      "So, to sum up, the main difference might be that Agentic AI is a more advanced form of AI agent with enhanced autonomy, adaptability, and decision-making capabilities, possibly in complex, dynamic environments where traditional AI agents might follow predefined rules or models.\n",
      "\n",
      "Alternatively, Agentic AI might be a term used to describe AI systems that can act in an agentic manner, meaning they can set their own objectives, adapt their strategies, and perhaps even learn from interactions in a more self-driven way.\n",
      "\n",
      "Another angle: In some contexts, \"agency\" in AI refers to the ability to act, so Agentic AI just emphasizes that aspect. But since the user is asking for the difference, I need to highlight that Agentic AI could be a more advanced or specific type of AI agent with enhanced agency features.\n",
      "\n",
      "Alternatively, maybe Agentic AI refers to systems where the AI is designed to have more human-like agency, such as forming intentions, planning, and executing complex tasks in unstructured environments. \n",
      "\n",
      "In summary, without a specific established definition for \"Agentic AI,\" the safest approach is to present AI agents as the general category and describe Agentic AI as a more advanced or specialized type within that category, possibly emphasizing autonomy, adaptability, or self-directedness. Alternatively, note that Agentic AI might not be a standard term and could be a specific term used in a particular context, requiring clarification. But since the user is asking for the difference, I'll have to make an educated guess based on common terminology.\n",
      "\n",
      "Alternatively, maybe \"AgenticAI\" is a company or a specific project. For instance, if I recall correctly, there is a company called Agentic AI, but I'm not sure. If that's the case, then AgenticAI would be a specific implementation or platform for AI agents, but the user might be asking for the conceptual difference rather than a company comparison.\n",
      "\n",
      "Alternatively, perhaps the user is referring to \"Agentic\" as in \"agent-centric\" AI, focusing on the agent's perspective, but that's speculative.\n",
      "\n",
      "Alternatively, maybe Agentic AI is a term used in some recent literature to describe AI systems that have a form of agency, like the ability to act purposefully, making decisions based on their goals, which is actually a basic feature of AI agents. So maybe the term is redundant, or emphasizes a particular aspect.\n",
      "\n",
      "Hmm, this is a bit tricky since the exact definition might not be standard. To proceed, I'll structure the answer by first explaining AI agents, then discussing possible interpretations of Agentic AI as a more advanced or specific form of AI agents, possibly with examples like autonomous decision-making, self-improvement, or multi-agent collaboration. Alternatively, if Agentic AI is a specific term from a paper or company, I can mention that the term might be context-dependent.\n",
      "</think>\n",
      "\n",
      "The distinction between **AI Agents** and **Agentic AI** can vary depending on context, but here's a structured breakdown based on common usage and conceptual understanding:\n",
      "\n",
      "---\n",
      "\n",
      "### **1. AI Agents**\n",
      "- **Definition**: AI agents are systems designed to perceive their environment, process information, and take actions to achieve specific goals. They operate based on predefined rules, algorithms, or learning models (e.g., machine learning, reinforcement learning).\n",
      "- **Key Characteristics**:\n",
      "  - **Autonomy**: Can act independently within defined parameters.\n",
      "  - **Goal-oriented**: Directed by objectives set by developers (e.g., maximizing user engagement, solving a problem).\n",
      "  - **Variety**: Includes chatbots, recommendation systems, and self-driving cars.\n",
      "  - **Scope**: Typically task-specific or domain-specific, though some can adapt through learning.\n",
      "\n",
      "---\n",
      "\n",
      "### **2. Agentic AI**\n",
      "This term is less commonly used in standard literature and may refer to either:\n",
      "#### **a. A Subset of Advanced AI Agents**\n",
      "- **Definition**: Refers to AI systems that exhibit heightened **agency**, emphasizing **self-direction, adaptability, and decision-making autonomy** beyond traditional AI agents.\n",
      "- **Key Characteristics**:\n",
      "  - **Self-Driven Goals**: Might set or modify their own objectives (e.g., an AI that evolves its goals based on environmental feedback).\n",
      "  - **Dynamic Adaptation**: Can adjust strategies in novel situations without explicit reprogramming (e.g., an AI that \"learns on the job\").\n",
      "  - **Social/Environmental Interaction**: Operates in collaborative or competitive environments with other agents (e.g., multi-agent systems in decentralized networks).\n",
      "  - **Complex Decision-Making**: Uses advanced techniques like reinforcement learning, generative models, or meta-learning to handle uncertainty.\n",
      "\n",
      "#### **b. A Specific Framework/Technology**\n",
      "  - **Multi-Agent Systems**: Sometimes called \"agentic\" when agents act collectively (e.g., swarm intelligence or decentralized networks like blockchain-based AI).\n",
      "  - **Ethical/Moral Agency**: In academic discussions, \"agency\" might imply systems capable of ethical reasoning or accountability, though this is still theoretical.\n",
      "\n",
      "#### **c. Proprietary/Company-Specific Terminology**\n",
      "  - Could refer to a brand name (e.g., a company named \"Agentic AI\") or a proprietary technology emphasizing autonomous, adaptive AI. For example, an AI platform designed for real-time decision-making in dynamic environments.\n",
      "\n",
      "---\n",
      "\n",
      "### **Key Differences**\n",
      "| **Aspect**                | **AI Agents**                                  | **Agentic AI**                                |\n",
      "|---------------------------|-----------------------------------------------|-----------------------------------------------|\n",
      "| **Scope**                  | Broad category (e.g., chatbots, recommendation systems). | Subset emphasizing **enhanced agency**: self-direction, adaptability, or emergent behavior. |\n",
      "| **Autonomy**               | Operates within predefined rules or models.   | May autonomously redefine goals, adapt strategies, or collaborate with other agents. |\n",
      "| **Learning/Adaptation**    | Can learn (e.g., through ML), but usually within fixed parameters. | Might learn and evolve dynamically, possibly through self-improvement or social interaction. |\n",
      "| **Complexity**             | Ranges from simple (rule-based) to complex (deep learning-driven). | Typically involves advanced techniques like self-supervised learning, multi-agent coordination, or open-ended learning. |\n",
      "| **Use Cases**              | Customer service, data analysis, gaming.       | Complex environments (e.g., robotics, decentralized systems, or real-time problem-solving). |\n",
      "\n",
      "---\n",
      "\n",
      "### **When the Terms Overlap**\n",
      "- Agentic AI could be seen as a **subset of AI agents** that exemplify heightened agency, such as:\n",
      "  - **Autonomous systems** (e.g., self-driving cars adjusting to unexpected scenarios).\n",
      "  - **Swarm robotics** where robots collaborate as independent agents.\n",
      "  - **Ethical AI frameworks** requiring accountability for decisions.\n",
      "\n",
      "---\n",
      "\n",
      "### **Possible Confusions**\n",
      "- **Agentic AI ≠ AGI (Artificial General Intelligence)**: AGI refers to human-like general intelligence, while Agentic AI focuses on agency rather than general capability.\n",
      "- **Terminology Nuance**: \"Agentic\" might emphasize **agency** (the capacity to act purposefully) as a defining feature, making it a way to contrast highly autonomous agents with basic ones.\n",
      "\n",
      "---\n",
      "\n",
      "### **Conclusion**\n",
      "- **AI Agents** are the broader category of systems that act to achieve goals.\n",
      "- **Agentic AI** is a more specific term, likely emphasizing **autonomy, adaptability, and decision-making sophistication**—often in dynamic or multi-agent environments. If used as a proprietary term, it might denote a cutting-edge implementation of these principles.\n",
      "\n",
      "If you encountered this term in a specific context (e.g., a paper, company, or framework), clarifying that context might be necessary for a precise definition.\n"
     ]
    }
   ],
   "source": [
    "print(response.content)"
   ]
  },
  {
   "cell_type": "code",
   "execution_count": 22,
   "id": "270b5aac",
   "metadata": {},
   "outputs": [
    {
     "data": {
      "text/plain": [
       "ChatPromptTemplate(input_variables=['input'], input_types={}, partial_variables={}, messages=[SystemMessagePromptTemplate(prompt=PromptTemplate(input_variables=[], input_types={}, partial_variables={}, template='You are an expert AI Engineer. Provide me answer based on the question'), additional_kwargs={}), HumanMessagePromptTemplate(prompt=PromptTemplate(input_variables=['input'], input_types={}, partial_variables={}, template='{input}'), additional_kwargs={})])"
      ]
     },
     "execution_count": 22,
     "metadata": {},
     "output_type": "execute_result"
    }
   ],
   "source": [
    "# Prompt Engineering\n",
    "from langchain_core.prompts import ChatPromptTemplate\n",
    "\n",
    "prompt= ChatPromptTemplate.from_messages(\n",
    "    [\n",
    "        (\"system\", \"You are an expert AI Engineer. Provide me answer based on the question\"),\n",
    "        (\"user\", \"{input}\")\n",
    "    ]\n",
    ")\n",
    "prompt"
   ]
  },
  {
   "cell_type": "code",
   "execution_count": 23,
   "id": "33ecc5f2",
   "metadata": {},
   "outputs": [
    {
     "data": {
      "text/plain": [
       "ChatGroq(client=<groq.resources.chat.completions.Completions object at 0x000001F9CFAD0950>, async_client=<groq.resources.chat.completions.AsyncCompletions object at 0x000001F9D76FED50>, model_name='gemma2-9b-it', model_kwargs={}, groq_api_key=SecretStr('**********'))"
      ]
     },
     "execution_count": 23,
     "metadata": {},
     "output_type": "execute_result"
    }
   ],
   "source": [
    "from langchain_groq import ChatGroq\n",
    "\n",
    "model= ChatGroq(model=\"gemma2-9b-it\")\n",
    "model"
   ]
  },
  {
   "cell_type": "code",
   "execution_count": 24,
   "id": "d2945856",
   "metadata": {},
   "outputs": [
    {
     "data": {
      "text/plain": [
       "ChatPromptTemplate(input_variables=['input'], input_types={}, partial_variables={}, messages=[SystemMessagePromptTemplate(prompt=PromptTemplate(input_variables=[], input_types={}, partial_variables={}, template='You are an expert AI Engineer. Provide me answer based on the question'), additional_kwargs={}), HumanMessagePromptTemplate(prompt=PromptTemplate(input_variables=['input'], input_types={}, partial_variables={}, template='{input}'), additional_kwargs={})])\n",
       "| ChatGroq(client=<groq.resources.chat.completions.Completions object at 0x000001F9CFAD0950>, async_client=<groq.resources.chat.completions.AsyncCompletions object at 0x000001F9D76FED50>, model_name='gemma2-9b-it', model_kwargs={}, groq_api_key=SecretStr('**********'))"
      ]
     },
     "execution_count": 24,
     "metadata": {},
     "output_type": "execute_result"
    }
   ],
   "source": [
    "# Chaining\n",
    "\n",
    "prompt | model"
   ]
  },
  {
   "cell_type": "code",
   "execution_count": 25,
   "id": "485571b9",
   "metadata": {},
   "outputs": [
    {
     "data": {
      "text/plain": [
       "ChatPromptTemplate(input_variables=['input'], input_types={}, partial_variables={}, messages=[SystemMessagePromptTemplate(prompt=PromptTemplate(input_variables=[], input_types={}, partial_variables={}, template='You are an expert AI Engineer. Provide me answer based on the question'), additional_kwargs={}), HumanMessagePromptTemplate(prompt=PromptTemplate(input_variables=['input'], input_types={}, partial_variables={}, template='{input}'), additional_kwargs={})])\n",
       "| ChatGroq(client=<groq.resources.chat.completions.Completions object at 0x000001F9CFAD0950>, async_client=<groq.resources.chat.completions.AsyncCompletions object at 0x000001F9D76FED50>, model_name='gemma2-9b-it', model_kwargs={}, groq_api_key=SecretStr('**********'))"
      ]
     },
     "execution_count": 25,
     "metadata": {},
     "output_type": "execute_result"
    }
   ],
   "source": [
    "chain= prompt | model\n",
    "chain"
   ]
  },
  {
   "cell_type": "code",
   "execution_count": 26,
   "id": "a35a85e6",
   "metadata": {},
   "outputs": [],
   "source": [
    "response= chain.invoke({\"input\": \"Can you tell me something about Langsmith\"})"
   ]
  },
  {
   "cell_type": "code",
   "execution_count": 27,
   "id": "8736b220",
   "metadata": {},
   "outputs": [
    {
     "name": "stdout",
     "output_type": "stream",
     "text": [
      "You're asking about **Langsmith**, and you've come to the right place! As an AI Engineer, I'm familiar with it.\n",
      "\n",
      "Langsmith is an **open-source platform** developed by Google DeepMind that's designed to make it **easier to experiment with and fine-tune large language models (LLMs)**. \n",
      "\n",
      "Here's a breakdown of what makes Langsmith special:\n",
      "\n",
      "* **User-friendly interface:** It provides a web-based interface that simplifies the process of interacting with LLMs, making it more accessible to a wider range of users, even those without extensive coding experience.\n",
      "* **Fine-tuning capabilities:** Langsmith allows you to fine-tune pre-trained LLMs on your own datasets, enabling you to customize their behavior and improve their performance on specific tasks.\n",
      "* **Modular design:** Its modular architecture makes it easy to integrate with other tools and libraries, expanding its functionality and allowing for greater flexibility.\n",
      "* **Collaboration and sharing:** Langsmith fosters a collaborative environment by allowing users to share their fine-tuned models and datasets with the community.\n",
      "\n",
      "**Think of Langsmith as a playground for LLMs.** It provides the tools and resources you need to explore the potential of these powerful models and build custom applications tailored to your specific needs.\n",
      "\n",
      "If you want to learn more about Langsmith, I recommend checking out its official website and documentation. They provide in-depth information about its features, capabilities, and how to get started.\n",
      "\n"
     ]
    }
   ],
   "source": [
    "print(response.content)"
   ]
  },
  {
   "cell_type": "code",
   "execution_count": 29,
   "id": "fb2d23a5",
   "metadata": {},
   "outputs": [
    {
     "data": {
      "text/plain": [
       "\"As an AI Engineer, I can definitely tell you about LangSmith! \\n\\nLangSmith is an open-source tool developed by the **AI21 Labs** team. It's essentially a **framework designed to streamline the process of fine-tuning large language models (LLMs)** like Jurassic-1 Jumbo. \\n\\nHere are some key things to know about LangSmith:\\n\\n* **User-Friendly Interface:** LangSmith boasts a visual, web-based interface that makes fine-tuning LLMs more accessible to users who may not have extensive coding experience.\\n\\n* **Simplified Workflow:** It simplifies the entire fine-tuning process, from data preparation and model selection to training and evaluation. This makes it easier for researchers and developers to experiment with different models and datasets.\\n* **Streamlined Experiment Tracking:** LangSmith helps you keep track of your fine-tuning experiments, allowing you to compare results, analyze performance, and reproduce your work easily.\\n* **Built-in Evaluation Tools:** It provides built-in evaluation tools to assess the performance of your fine-tuned models on various tasks.\\n* **Community Driven:** Being open-source, LangSmith benefits from a vibrant community of developers and researchers who contribute to its development and provide support.\\n\\n**Why is LangSmith important?**\\n\\nFine-tuning LLMs is crucial for adapting their powerful capabilities to specific tasks and domains. LangSmith makes this process more accessible and efficient, fostering innovation and wider adoption of LLMs across various fields.\\n\\n**Where can I learn more?**\\n\\nYou can find more information about LangSmith, including documentation, tutorials, and community discussions, on the official website: [https://www.langsmith.ai/](https://www.langsmith.ai/)\\n\\n\\nLet me know if you have any other questions about LangSmith or anything else related to AI!\\n\""
      ]
     },
     "execution_count": 29,
     "metadata": {},
     "output_type": "execute_result"
    }
   ],
   "source": [
    "# Output Parser --> String output Parser\n",
    "\n",
    "from langchain_core.output_parsers import StrOutputParser\n",
    "\n",
    "output_parser= StrOutputParser()\n",
    "\n",
    "chain= prompt | model| output_parser\n",
    "\n",
    "response= chain.invoke({\"input\": \"Can you tell me something about Langsmith\"})\n",
    "response"
   ]
  },
  {
   "cell_type": "code",
   "execution_count": 31,
   "id": "132132a9",
   "metadata": {},
   "outputs": [
    {
     "name": "stdout",
     "output_type": "stream",
     "text": [
      "As an AI Engineer, I can definitely tell you about LangSmith! \n",
      "\n",
      "LangSmith is an open-source tool developed by the **AI21 Labs** team. It's essentially a **framework designed to streamline the process of fine-tuning large language models (LLMs)** like Jurassic-1 Jumbo. \n",
      "\n",
      "Here are some key things to know about LangSmith:\n",
      "\n",
      "* **User-Friendly Interface:** LangSmith boasts a visual, web-based interface that makes fine-tuning LLMs more accessible to users who may not have extensive coding experience.\n",
      "\n",
      "* **Simplified Workflow:** It simplifies the entire fine-tuning process, from data preparation and model selection to training and evaluation. This makes it easier for researchers and developers to experiment with different models and datasets.\n",
      "* **Streamlined Experiment Tracking:** LangSmith helps you keep track of your fine-tuning experiments, allowing you to compare results, analyze performance, and reproduce your work easily.\n",
      "* **Built-in Evaluation Tools:** It provides built-in evaluation tools to assess the performance of your fine-tuned models on various tasks.\n",
      "* **Community Driven:** Being open-source, LangSmith benefits from a vibrant community of developers and researchers who contribute to its development and provide support.\n",
      "\n",
      "**Why is LangSmith important?**\n",
      "\n",
      "Fine-tuning LLMs is crucial for adapting their powerful capabilities to specific tasks and domains. LangSmith makes this process more accessible and efficient, fostering innovation and wider adoption of LLMs across various fields.\n",
      "\n",
      "**Where can I learn more?**\n",
      "\n",
      "You can find more information about LangSmith, including documentation, tutorials, and community discussions, on the official website: [https://www.langsmith.ai/](https://www.langsmith.ai/)\n",
      "\n",
      "\n",
      "Let me know if you have any other questions about LangSmith or anything else related to AI!\n",
      "\n"
     ]
    }
   ],
   "source": [
    "print(response)"
   ]
  },
  {
   "cell_type": "code",
   "execution_count": 34,
   "id": "61616d65",
   "metadata": {},
   "outputs": [
    {
     "data": {
      "text/plain": [
       "'Return a JSON object.'"
      ]
     },
     "execution_count": 34,
     "metadata": {},
     "output_type": "execute_result"
    }
   ],
   "source": [
    "from langchain_core.output_parsers import JsonOutputParser\n",
    "\n",
    "output_parser= JsonOutputParser()\n",
    "output_parser.get_format_instructions()"
   ]
  },
  {
   "cell_type": "code",
   "execution_count": 43,
   "id": "2e7bc6c6",
   "metadata": {},
   "outputs": [],
   "source": [
    "from langchain_core.output_parsers import JsonOutputParser\n",
    "from langchain_core.prompts import PromptTemplate\n",
    "\n",
    "output_parser= JsonOutputParser()\n",
    "\n",
    "prompt= PromptTemplate(\n",
    "    template= \"Answer the user query\\n {format_instruction} \\n{query}\\n\",\n",
    "    input_variables= [\"query\"],\n",
    "    partial_variables= {\"format_instruction\": output_parser.get_format_instructions()}\n",
    ")"
   ]
  },
  {
   "cell_type": "code",
   "execution_count": 44,
   "id": "bce002f4",
   "metadata": {},
   "outputs": [
    {
     "data": {
      "text/plain": [
       "PromptTemplate(input_variables=['query'], input_types={}, partial_variables={'format_instruction': 'Return a JSON object.'}, template='Answer the user query\\n {format_instruction} \\n{query}\\n')"
      ]
     },
     "execution_count": 44,
     "metadata": {},
     "output_type": "execute_result"
    }
   ],
   "source": [
    "prompt "
   ]
  },
  {
   "cell_type": "code",
   "execution_count": 48,
   "id": "bd4fef49",
   "metadata": {},
   "outputs": [
    {
     "name": "stdout",
     "output_type": "stream",
     "text": [
      "{'name': 'Langsmith', 'description': 'Langsmith is an open-source framework for building and deploying machine learning models, particularly focusing on large language models (LLMs).', 'key_features': ['Modular and extensible design', 'Support for various LLM architectures', 'Streamlined training and deployment pipelines', 'Integration with popular machine learning libraries', 'Community-driven development and support'], 'website': 'https://github.com/langsmith-ai/langsmith', 'purpose': 'To provide a user-friendly and powerful platform for researchers and developers to work with LLMs, enabling them to experiment, build, and deploy cutting-edge AI applications.'}\n"
     ]
    }
   ],
   "source": [
    "chain= prompt | model | output_parser\n",
    "response= chain.invoke({\"query\": \"Can you tell me about Langsmith?\"})\n",
    "print(response)"
   ]
  },
  {
   "cell_type": "code",
   "execution_count": 49,
   "id": "b5c28470",
   "metadata": {},
   "outputs": [
    {
     "data": {
      "text/plain": [
       "ChatPromptTemplate(input_variables=['input'], input_types={}, partial_variables={}, messages=[SystemMessagePromptTemplate(prompt=PromptTemplate(input_variables=[], input_types={}, partial_variables={}, template='You are an expert AI Engineer.Provide the response in json.Provide me answer based on the question'), additional_kwargs={}), HumanMessagePromptTemplate(prompt=PromptTemplate(input_variables=['input'], input_types={}, partial_variables={}, template='{input}'), additional_kwargs={})])"
      ]
     },
     "execution_count": 49,
     "metadata": {},
     "output_type": "execute_result"
    }
   ],
   "source": [
    "### Assisgnment ---Chatprompttemplate\n",
    "\n",
    "### Prompt Engineering\n",
    "from langchain_core.prompts import ChatPromptTemplate\n",
    "\n",
    "prompt= ChatPromptTemplate.from_messages(\n",
    "    [\n",
    "        (\"system\", \"You are an expert AI Engineer.Provide the response in json.Provide me answer based on the question\"),\n",
    "        (\"user\",\"{input}\")\n",
    "    ]\n",
    ")\n",
    "prompt"
   ]
  },
  {
   "cell_type": "code",
   "execution_count": 50,
   "id": "eda9c735",
   "metadata": {},
   "outputs": [
    {
     "name": "stdout",
     "output_type": "stream",
     "text": [
      "{'response': 'Langsmith is an open-source platform designed to simplify the process of building and deploying AI-powered applications. \\n\\n  Here are some key aspects of Langsmith:\\n\\n  * **Focus on Ease of Use:** Langsmith aims to make it accessible for developers with varying levels of AI expertise to create sophisticated applications.\\n\\n  * **Modular Components:** It provides a collection of reusable components and building blocks that streamline the development workflow.\\n\\n  * **Integration with Large Language Models (LLMs):** Langsmith seamlessly integrates with popular LLMs like GPT-3 and other open-source models.\\n\\n  * **Prompt Engineering Tools:** It includes features and tools to help you craft effective prompts for your LLMs, leading to more accurate and relevant responses.\\n\\n  * **Model Management:** Langsmith assists in managing your LLMs, including version control and deployment.\\n\\n  * **Custom Model Training (Optional):** While it supports using pre-trained models, Langsmith also allows you to fine-tune or train your own custom models.\\n\\n  * **Community-Driven:** As an open-source project, Langsmith benefits from a community of developers who contribute to its development and provide support.'}\n"
     ]
    }
   ],
   "source": [
    "chain= prompt | model | output_parser\n",
    "response= chain.invoke({\"input\":\"Can you tell me about Langsmith?\"})\n",
    "print(response)"
   ]
  },
  {
   "cell_type": "markdown",
   "id": "e80c0c21",
   "metadata": {},
   "source": [
    "### Assigments: https://python.langchain.com/docs/how_to/#prompt-templates"
   ]
  },
  {
   "cell_type": "code",
   "execution_count": 51,
   "id": "e1e855f1",
   "metadata": {},
   "outputs": [
    {
     "data": {
      "text/plain": [
       "ChatPromptTemplate(input_variables=['input'], input_types={}, partial_variables={}, messages=[SystemMessagePromptTemplate(prompt=PromptTemplate(input_variables=[], input_types={}, partial_variables={}, template='You are an expert AI Engineer.<response><answer>Your answer here</answer></response>.Provide me answer based on the question'), additional_kwargs={}), HumanMessagePromptTemplate(prompt=PromptTemplate(input_variables=['input'], input_types={}, partial_variables={}, template='{input}'), additional_kwargs={})])"
      ]
     },
     "execution_count": 51,
     "metadata": {},
     "output_type": "execute_result"
    }
   ],
   "source": [
    "### OutputParser\n",
    "from langchain_core.output_parsers import XMLOutputParser\n",
    "output_parser=XMLOutputParser()\n",
    "from langchain_core.prompts import ChatPromptTemplate\n",
    "\n",
    "prompt= ChatPromptTemplate.from_messages(\n",
    "    [\n",
    "        (\"system\",\"You are an expert AI Engineer.<response><answer>Your answer here</answer></response>.Provide me answer based on the question\"),\n",
    "        (\"user\",\"{input}\")\n",
    "    ]\n",
    ")\n",
    "prompt"
   ]
  },
  {
   "cell_type": "code",
   "execution_count": 52,
   "id": "55b46edd",
   "metadata": {},
   "outputs": [
    {
     "data": {
      "text/plain": [
       "PromptTemplate(input_variables=['query'], input_types={}, partial_variables={'format_instruction': 'The output should be formatted as a XML file.\\n1. Output should conform to the tags below.\\n2. If tags are not given, make them on your own.\\n3. Remember to always open and close all the tags.\\n\\nAs an example, for the tags [\"foo\", \"bar\", \"baz\"]:\\n1. String \"<foo>\\n   <bar>\\n      <baz></baz>\\n   </bar>\\n</foo>\" is a well-formatted instance of the schema.\\n2. String \"<foo>\\n   <bar>\\n   </foo>\" is a badly-formatted instance.\\n3. String \"<foo>\\n   <tag>\\n   </tag>\\n</foo>\" is a badly-formatted instance.\\n\\nHere are the output tags:\\n```\\nNone\\n```'}, template='Answer the user query \\n {format_instruction}\\n {query}\\n ')"
      ]
     },
     "execution_count": 52,
     "metadata": {},
     "output_type": "execute_result"
    }
   ],
   "source": [
    "### OutputParser\n",
    "from langchain_core.output_parsers import XMLOutputParser\n",
    "from langchain_core.prompts import PromptTemplate\n",
    "\n",
    "output_parser= XMLOutputParser()\n",
    "\n",
    "prompt= PromptTemplate(\n",
    "    template=\"Answer the user query \\n {format_instruction}\\n {query}\\n \",\n",
    "    input_variables=[\"query\"],\n",
    "    partial_variables={\"format_instruction\":output_parser.get_format_instructions()},\n",
    ")\n",
    "prompt"
   ]
  },
  {
   "cell_type": "code",
   "execution_count": 54,
   "id": "c67eb509",
   "metadata": {},
   "outputs": [
    {
     "name": "stdout",
     "output_type": "stream",
     "text": [
      "content='```xml\\n<response>\\n  <name>Langsmith</name>\\n  <description>Langsmith is an open-source platform developed by Google DeepMind for building and deploying large language models (LLMs). It provides a comprehensive suite of tools and resources for researchers and developers to train, evaluate, and fine-tune LLMs.</description>\\n  <features>\\n    <feature>Modular design</feature>\\n    <feature>Support for various LLM architectures</feature>\\n    <feature>Extensive dataset library</feature>\\n    <feature>Efficient training and evaluation workflows</feature>\\n    <feature>Community-driven development</feature>\\n  </features>\\n  <website>https://github.com/deepmind/langsmith</website>\\n</response>\\n``` \\n' additional_kwargs={} response_metadata={'token_usage': {'completion_tokens': 171, 'prompt_tokens': 195, 'total_tokens': 366, 'completion_time': 0.310909091, 'prompt_time': 0.012141212, 'queue_time': 0.408881647, 'total_time': 0.323050303}, 'model_name': 'gemma2-9b-it', 'system_fingerprint': 'fp_10c08bf97d', 'finish_reason': 'stop', 'logprobs': None} id='run--6669480b-59fd-44fc-911d-a18874d3ef6e-0' usage_metadata={'input_tokens': 195, 'output_tokens': 171, 'total_tokens': 366}\n"
     ]
    }
   ],
   "source": [
    "chain= prompt | model\n",
    "response= chain.invoke({\"query\": \"Can you tell me about Langsmith?\"})\n",
    "print(response)"
   ]
  },
  {
   "cell_type": "code",
   "execution_count": 55,
   "id": "d59f538a",
   "metadata": {},
   "outputs": [
    {
     "name": "stdout",
     "output_type": "stream",
     "text": [
      "content='<response><answer>LangChain is a framework for developing applications powered by large language models (LLMs). It provides tools and building blocks to simplify the process of integrating LLMs into various applications, such as chatbots, question answering systems, and text summarizers.</answer></response>\\n' additional_kwargs={} response_metadata={'token_usage': {'completion_tokens': 61, 'prompt_tokens': 39, 'total_tokens': 100, 'completion_time': 0.110909091, 'prompt_time': 0.002335525, 'queue_time': 0.247579314, 'total_time': 0.113244616}, 'model_name': 'gemma2-9b-it', 'system_fingerprint': 'fp_10c08bf97d', 'finish_reason': 'stop', 'logprobs': None} id='run--e07df792-1250-4126-af5c-4fba4a9f94f8-0' usage_metadata={'input_tokens': 39, 'output_tokens': 61, 'total_tokens': 100}\n"
     ]
    }
   ],
   "source": [
    "##output parser\n",
    "#from langchain_core.output_parsers import XMLOutputParser\n",
    "from langchain.output_parsers.xml import XMLOutputParser\n",
    "\n",
    "# XML Output Parser\n",
    "output_parser= XMLOutputParser()\n",
    "\n",
    "# Prompt that instructs the model to return XML\n",
    "prompt= ChatPromptTemplate.from_messages([\n",
    "    (\"system\", \"You are a helpful assistant. Respond in this XML format: <response><answer>Your answer here</answer></response>\"),\n",
    "    (\"human\", \"{input}\")\n",
    "])\n",
    "\n",
    "# Build the chain\n",
    "chain= prompt | model\n",
    "\n",
    "# Run the chain\n",
    "#response = chain.invoke({\"input\": \"What is LangChain?\"})\n",
    "\n",
    "raw_output= chain.invoke({\"input\": \"What is LangChain?\"})\n",
    "\n",
    "# Print result\n",
    "print(raw_output)\n"
   ]
  },
  {
   "cell_type": "code",
   "execution_count": 56,
   "id": "74dc2666",
   "metadata": {},
   "outputs": [
    {
     "data": {
      "text/plain": [
       "{'setup': \"Why couldn't the bicycle find its way home?\",\n",
       " 'punchline': 'Because it lost its bearings!'}"
      ]
     },
     "execution_count": 56,
     "metadata": {},
     "output_type": "execute_result"
    }
   ],
   "source": [
    "## With Pydantic\n",
    "from langchain_core.output_parsers import JsonOutputParser\n",
    "from langchain_core.prompts import PromptTemplate\n",
    "from langchain_openai import ChatOpenAI\n",
    "from pydantic import BaseModel, Field\n",
    "\n",
    "model = ChatOpenAI(temperature=0.7)\n",
    "\n",
    "\n",
    "# Define your desired data structure.\n",
    "class Joke(BaseModel):\n",
    "    setup: str = Field(description=\"question to set up a joke\")\n",
    "    punchline: str = Field(description=\"answer to resolve the joke\")\n",
    "\n",
    "\n",
    "# And a query intented to prompt a language model to populate the data structure.\n",
    "joke_query = \"Tell me a joke.\"\n",
    "\n",
    "# Set up a parser + inject instructions into the prompt template.\n",
    "parser = JsonOutputParser(pydantic_object=Joke)\n",
    "\n",
    "prompt = PromptTemplate(\n",
    "    template=\"Answer the user query.\\n{format_instructions}\\n{query}\\n\",\n",
    "    input_variables=[\"query\"],\n",
    "    partial_variables={\"format_instructions\": parser.get_format_instructions()},\n",
    ")\n",
    "\n",
    "chain = prompt | model | parser\n",
    "\n",
    "chain.invoke({\"query\": joke_query})"
   ]
  },
  {
   "cell_type": "code",
   "execution_count": 57,
   "id": "14c7b2bd",
   "metadata": {},
   "outputs": [
    {
     "data": {
      "text/plain": [
       "{'joke': 'Why did the scarecrow win an award? Because he was outstanding in his field!'}"
      ]
     },
     "execution_count": 57,
     "metadata": {},
     "output_type": "execute_result"
    }
   ],
   "source": [
    "### Without Pydantic\n",
    "joke_query = \"Tell me a joke .\"\n",
    "\n",
    "parser = JsonOutputParser()\n",
    "\n",
    "prompt = PromptTemplate(\n",
    "    template=\"Answer the user query.\\n{format_instructions}\\n{query}\\n\",\n",
    "    input_variables=[\"query\"],\n",
    "    partial_variables={\"format_instructions\": parser.get_format_instructions()},\n",
    ")\n",
    "\n",
    "chain = prompt | model | parser\n",
    "\n",
    "chain.invoke({\"query\": joke_query})"
   ]
  },
  {
   "cell_type": "code",
   "execution_count": 58,
   "id": "e20fb1e9",
   "metadata": {},
   "outputs": [
    {
     "name": "stdout",
     "output_type": "stream",
     "text": [
      "<movie>Big</movie>\n",
      "<movie>Forrest Gump</movie>\n",
      "<movie>Saving Private Ryan</movie>\n",
      "<movie>Cast Away</movie>\n",
      "<movie>Toy Story</movie>\n",
      "<movie>The Green Mile</movie>\n",
      "<movie>Philadelphia</movie>\n"
     ]
    }
   ],
   "source": [
    "\n",
    "from langchain_core.output_parsers import XMLOutputParser\n",
    "from langchain_core.prompts import PromptTemplate\n",
    "\n",
    "\n",
    "actor_query = \"Generate the shortened filmography for Tom Hanks.\"\n",
    "\n",
    "output = model.invoke(\n",
    "    f\"\"\"{actor_query}\n",
    "Please enclose the movies in <movie></movie> tags\"\"\"\n",
    ")\n",
    "\n",
    "print(output.content)"
   ]
  },
  {
   "cell_type": "code",
   "execution_count": 59,
   "id": "c094133c",
   "metadata": {},
   "outputs": [
    {
     "data": {
      "text/plain": [
       "Joke(setup=\"Why couldn't the bicycle stand up by itself?\", punchline='Because it was two tired!')"
      ]
     },
     "execution_count": 59,
     "metadata": {},
     "output_type": "execute_result"
    }
   ],
   "source": [
    "from langchain.output_parsers import YamlOutputParser\n",
    "from langchain_core.prompts import PromptTemplate\n",
    "from langchain_openai import ChatOpenAI\n",
    "from pydantic import BaseModel, Field\n",
    "\n",
    "\n",
    "# Define your desired data structure.\n",
    "class Joke(BaseModel):\n",
    "    setup: str = Field(description=\"question to set up a joke\")\n",
    "    punchline: str = Field(description=\"answer to resolve the joke\")\n",
    "\n",
    "\n",
    "model = ChatOpenAI(temperature=0.5)\n",
    "\n",
    "# And a query intented to prompt a language model to populate the data structure.\n",
    "joke_query = \"Tell me a joke.\"\n",
    "\n",
    "# Set up a parser + inject instructions into the prompt template.\n",
    "parser = YamlOutputParser(pydantic_object=Joke)\n",
    "\n",
    "prompt = PromptTemplate(\n",
    "    template=\"Answer the user query.\\n{format_instructions}\\n{query}\\n\",\n",
    "    input_variables=[\"query\"],\n",
    "    partial_variables={\"format_instructions\": parser.get_format_instructions()},\n",
    ")\n",
    "\n",
    "chain = prompt | model | parser\n",
    "\n",
    "chain.invoke({\"query\": joke_query})"
   ]
  },
  {
   "cell_type": "markdown",
   "id": "61b55161",
   "metadata": {},
   "source": [
    "### Assisgment:\n",
    "Create a simple assistant that uses any LLM and should be pydantic, when we ask about any product it should give you two information product Name, product details tentative price in USD (integer). use chat Prompt Template.\n"
   ]
  },
  {
   "cell_type": "code",
   "execution_count": 79,
   "id": "a6f93b66",
   "metadata": {},
   "outputs": [
    {
     "name": "stdout",
     "output_type": "stream",
     "text": [
      "Based on the latest information, here are some of the latest Samsung mobile products along with their details and tentative prices in both USD and INR:\n",
      "\n",
      "1. Samsung Galaxy S22 Ultra\n",
      "\t* Details: 6.8-inch Dynamic AMOLED display, Qualcomm Snapdragon 888 processor, up to 16GB RAM, 5000mAh battery, quad-camera setup with 108MP primary sensor, IP67 water-resistant\n",
      "\t* Tentative Price:\n",
      "\t\t+ USD: $899 (128GB), $1,099 (256GB), $1,299 (512GB)\n",
      "\t\t+ INR: ₹74,900 (128GB), ₹89,900 (256GB), ₹109,900 (512GB)\n",
      "2. Samsung Galaxy Z Fold3 5G\n",
      "\t* Details: 7.6-inch Dynamic AMOLED display, Qualcomm Snapdragon 888 processor, up to 16GB RAM, 4300mAh battery, triple-camera setup with 12MP primary sensor, IP67 water-resistant\n",
      "\t* Tentative Price:\n",
      "\t\t+ USD: $1,799 (128GB), $1,999 (256GB)\n",
      "\t\t+ INR: ₹1,49,900 (128GB), ₹1,69,900 (256GB)\n",
      "3. Samsung Galaxy Note20 Ultra\n",
      "\t* Details: 6.8-inch Dynamic AMOLED display, Qualcomm Snapdragon 865+ processor, up to 16GB RAM, 4500mAh battery, quad-camera setup with 108MP primary sensor, IP67 water-resistant\n",
      "\t* Tentative Price:\n",
      "\t\t+ USD: $899 (128GB), $1,099 (256GB), $1,299 (512GB)\n",
      "\t\t+ INR: ₹74,900 (128GB), ₹89,900 (256GB), ₹109,900 (512GB)\n",
      "\n",
      "Please note that prices may vary depending on the region, retailer, and availability. These prices are subject to change and may not include any additional costs such as taxes or accessories.\n"
     ]
    }
   ],
   "source": [
    "from pydantic import BaseModel, Field\n",
    "from langchain_groq import ChatGroq\n",
    "from langchain_core.prompts import ChatPromptTemplate\n",
    "from langchain_core.output_parsers import StrOutputParser, JsonOutputParser, PydanticOutputParser \n",
    "\n",
    "import os\n",
    "from dotenv import load_dotenv\n",
    "load_dotenv()\n",
    "\n",
    "os.environ[\"GROQ_API_KEY\"]=os.getenv(\"GROQ_API_KEY\")\n",
    "\n",
    "groq_llm= ChatGroq(model=\"llama3-8b-8192\")\n",
    "# response= groq_llm.invoke(\"What is the capital of India?\")\n",
    "# print(response.content)\n",
    "\n",
    "class Product(BaseModel):\n",
    "    product_name: str = Field('...', description=\"Product Name\")\n",
    "    product_details: str = Field('...', description=\"Product Details\")\n",
    "\n",
    "\n",
    "# output_parser= PydanticOutputParser(pydantic_object=Product)\n",
    "# output_parser = JsonOutputParser(pydantic_object=Product)\n",
    "output_parser= StrOutputParser(pydantic_object=Product)\n",
    "\n",
    "prompt= ChatPromptTemplate.from_messages(\n",
    "    [\n",
    "        (\"system\", \n",
    "        ''' \n",
    "            You are an expert AI, provide the latest product name, product details along with tentative price in both\n",
    "            \"USD\" and \"INR\", Based on input received from user \\n {user_input}\n",
    "        '''),\n",
    "        (\"user\", \"{user_input}\")\n",
    "    ]\n",
    ")\n",
    "\n",
    "chain= prompt | groq_llm | output_parser\n",
    "response= chain.invoke({\"user_input\": \"Samsung Mobile\"})\n",
    "# print(response.content)\n",
    "print(response)"
   ]
  }
 ],
 "metadata": {
  "kernelspec": {
   "display_name": "Python 3",
   "language": "python",
   "name": "python3"
  },
  "language_info": {
   "codemirror_mode": {
    "name": "ipython",
    "version": 3
   },
   "file_extension": ".py",
   "mimetype": "text/x-python",
   "name": "python",
   "nbconvert_exporter": "python",
   "pygments_lexer": "ipython3",
   "version": "3.13.2"
  }
 },
 "nbformat": 4,
 "nbformat_minor": 5
}
